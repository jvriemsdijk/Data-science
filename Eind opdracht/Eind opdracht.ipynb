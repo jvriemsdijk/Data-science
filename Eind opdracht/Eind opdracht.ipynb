{
 "metadata": {
  "name": "",
  "signature": "sha256:66a1b6c1b2ec93c54308396cf9fc80382565cdefb25dcf763dd10e93e4477e82"
 },
 "nbformat": 3,
 "nbformat_minor": 0,
 "worksheets": [
  {
   "cells": [
    {
     "cell_type": "markdown",
     "metadata": {},
     "source": [
      "#Big Data project\n",
      ">Joey van Riemsdijk (10441913)\n",
      "\n",
      ">Thomas Parmentier (10430121)\n"
     ]
    },
    {
     "cell_type": "markdown",
     "metadata": {},
     "source": [
      "[Link naar de data](https://github.com/jrnold/CDB13)\n",
      "\n",
      "[Link naar sqlite3 documentatie voor python](https://docs.python.org/2/library/sqlite3.html)\n"
     ]
    },
    {
     "cell_type": "markdown",
     "metadata": {},
     "source": [
      "##Abstract\n"
     ]
    },
    {
     "cell_type": "code",
     "collapsed": false,
     "input": [],
     "language": "python",
     "metadata": {},
     "outputs": []
    },
    {
     "cell_type": "markdown",
     "metadata": {},
     "source": [
      "#Introduction\n",
      "Bevat onderzoeksvraag"
     ]
    },
    {
     "cell_type": "code",
     "collapsed": false,
     "input": [],
     "language": "python",
     "metadata": {},
     "outputs": []
    },
    {
     "cell_type": "markdown",
     "metadata": {},
     "source": [
      "## Related Work"
     ]
    },
    {
     "cell_type": "code",
     "collapsed": false,
     "input": [],
     "language": "python",
     "metadata": {},
     "outputs": []
    },
    {
     "cell_type": "markdown",
     "metadata": {},
     "source": [
      "## Methodology\n",
      "Data verzameling en beschrijving van data\n",
      "\n",
      "Hoe je je vraag gaat beantwoorden"
     ]
    },
    {
     "cell_type": "code",
     "collapsed": false,
     "input": [],
     "language": "python",
     "metadata": {},
     "outputs": []
    },
    {
     "cell_type": "markdown",
     "metadata": {},
     "source": [
      "## Evaluatie\n",
      "In hoeverre is je vraag beantwoord?"
     ]
    },
    {
     "cell_type": "code",
     "collapsed": false,
     "input": [],
     "language": "python",
     "metadata": {},
     "outputs": []
    },
    {
     "cell_type": "markdown",
     "metadata": {},
     "source": [
      "## Appendix\n",
      "Alle, voor het lopende verhaal niet zo interessante, draaiende code"
     ]
    },
    {
     "cell_type": "code",
     "collapsed": false,
     "input": [],
     "language": "python",
     "metadata": {},
     "outputs": []
    }
   ],
   "metadata": {}
  }
 ]
}