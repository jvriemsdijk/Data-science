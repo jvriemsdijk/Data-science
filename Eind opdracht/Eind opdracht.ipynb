{
 "metadata": {
  "name": "",
  "signature": "sha256:58f024c4865ac6d00e4adeaabb2d6681b0bb6cf882631d221d1d7efdf38c10e0"
 },
 "nbformat": 3,
 "nbformat_minor": 0,
 "worksheets": [
  {
   "cells": [
    {
     "cell_type": "markdown",
     "metadata": {},
     "source": [
      "#Big Data project\n",
      ">Joey van Riemsdijk (10441913)\n",
      "\n",
      ">Thomas Parmentier (10430121)\n"
     ]
    },
    {
     "cell_type": "markdown",
     "metadata": {},
     "source": [
      "[Link naar de data](https://github.com/jrnold/CDB13)\n",
      "\n",
      "[Link naar sqlite3 documentatie voor python](https://docs.python.org/2/library/sqlite3.html)\n"
     ]
    },
    {
     "cell_type": "markdown",
     "metadata": {},
     "source": [
      "##Abstract\n"
     ]
    },
    {
     "cell_type": "code",
     "collapsed": false,
     "input": [],
     "language": "python",
     "metadata": {},
     "outputs": []
    },
    {
     "cell_type": "markdown",
     "metadata": {},
     "source": [
      "#Introduction"
     ]
    },
    {
     "cell_type": "markdown",
     "metadata": {},
     "source": [
      "Door de loop der eeuwen is een groot aantal veldslagen uitgevochten. Bestaansrecht, macht of politieke spanningen zijn allen meerdere malen de oorzaak geweest van een treffen op het slagveld. Wetenschappers zijn, ondanks deze puur menselijke vorm van interactie, nog niet eens wat de oorzaak is van het willen strijden tegen elkaar.\n",
      "\n",
      "Biologen zijn ervan overtuigd dat de mens 'wired for war' is. De mens is geevolueerd tot vechtmachine die dankzij zijn vermogen tot conceptueel denken, zijn uithoudingsvermogen, capaciteit om binoculair te kijken en goede coordinatie zich onderscheid van dieren. Psychologen zijn er echter van overtuigd dat de mens beinvloedbaar is. Oorlog voeren zou vanzelf volgen na voldoende indoctrinatie of stimuli. Er is een drang naar spanning en actie.\n",
      "\n",
      "Op internationale basis lijkt er ook een onderscheid gemaakt te kunnen worden. Er zijn landen die puur defensief handelen, of uberhaupt nooit een grote veldslag hebben uitgevochten. Andere landen lijken echter continu in staat van oorlog te verkeren. Von der Goltz was overtuigd dat oorlog voor naties een onvermijdelijk lot is (1899). Hier sluit bij aan dat oorlog vaak gezien wordt als continuatie is van de politiek en diplomatie (Von Clausewitz, 2004). Het leger is dan ook een instrument om ingezet te worden door de politieke machthebbers. Puur afhankelijk van het politieke cultuur zou een natie dus gedefinieerd kunnen worden als 'war-monging' of pacifistisch.\n",
      "\n",
      "Er zullen naties zijn die veel meer vechten dan andere landen. De vraag is dan echter of deze landen dan niet in een gelijk aantal gevechten defensief moeten handelen. In dit onderzoek zal aan de hand van de volgende onderzoeksvraag een antwoord worden gezocht op de vraag of er specifieke landen zijn die continu oorlogen beginnen:\n",
      "\n",
      "\u201cIn hoeverre is er sprake van 'warmongering' landen?\u201d\n",
      "\n",
      "Deze vraag zal aan de hand van een dataset bestaande uit 660 veldslagen, uitgevochten tussen 1600 en 1975 na Christus. In deze dataset zijn allerlei factoren aanwezig, waaronder de troepensterkte, terreintype en weer-informatie."
     ]
    },
    {
     "cell_type": "markdown",
     "metadata": {},
     "source": [
      "## Related Work"
     ]
    },
    {
     "cell_type": "markdown",
     "metadata": {},
     "source": [
      "* Carl von Clausewitz \u2013 On War\n",
      "Carl van Clausewitz was een Pruissische generaal en militair strategist die onder andere de politieke aspecten van het oorlogvoeren bestudeerde.\n",
      "\n",
      "* Colmar von der Goltz \u2013 Das Volk in Waffen: ein buch \u00fcber heerwesen und kriegf\u00fchrung unserer zeit \n",
      "Colmar von der Goltz was een Pruissische veldmaarschalk en net als Von Clausewitz een militair strategist. \n",
      "\n",
      "* Sun Tzu \u2013 The Art Of War\n",
      "Een 2500 jaar oud werk dat veel basisprincipes van het oorlogvoeren bevat. Veel van de beschreven situaties zijn nog van toepassing op de indeling van legers and uitvoering van tactische manouvres. \n",
      "\n",
      "* Niccolo Machiavelli \u2013 The Seven Books on the Art of War\n",
      "Machiavelli was naast politicus en schrijver ook militair strategist.\n",
      "\n",
      "* Charles Townshend \u2013 The Oxford History of Modern War\n",
      "Een overzicht van de revoluties die plaats hebben gevonden in de oorlogsvoering en de strategische besluitneming daarachter."
     ]
    },
    {
     "cell_type": "markdown",
     "metadata": {},
     "source": [
      "## Methodology\n",
      "De gebruikte dataset in dit onderzoek is een vernieuwde versie van de CDB13 database uit 1993. Deze bestaat uit een set van 660 gevechten tussen 1600 en 1975. Naast de algemene data als het gevecht en de strijdende partijen, wordt data over onder andere het weer, mankracht en tactische omgevingsfactoren meegeleverd. Specifieker zijn dit bijvoorbeeld de breedte van het front en het aantal cavaleristen.\n",
      "\n",
      "[Hoe is de data verzameld]\n",
      "\n",
      "[Informatie over het inladen van de data]\n",
      "\n",
      "[Hoe gaan we de vraag beantwoorden]\n",
      "\n"
     ]
    },
    {
     "cell_type": "code",
     "collapsed": false,
     "input": [],
     "language": "python",
     "metadata": {},
     "outputs": []
    },
    {
     "cell_type": "markdown",
     "metadata": {},
     "source": [
      "## Evaluatie\n",
      "In hoeverre is je vraag beantwoord?"
     ]
    },
    {
     "cell_type": "code",
     "collapsed": false,
     "input": [],
     "language": "python",
     "metadata": {},
     "outputs": []
    },
    {
     "cell_type": "markdown",
     "metadata": {},
     "source": [
      "## Literatuur\n",
      "* Von Clausewitz, C. (2004). On war. Digireads. com Publishing. \n",
      "* Von der Goltz, C. (1899). Das volk in waffen: ein buch \u00fcber heerwesen und kriegf\u00fchrung unserer zeit. "
     ]
    },
    {
     "cell_type": "markdown",
     "metadata": {},
     "source": [
      "## Appendix\n",
      "Alle, voor het lopende verhaal niet zo interessante, draaiende code"
     ]
    },
    {
     "cell_type": "code",
     "collapsed": false,
     "input": [],
     "language": "python",
     "metadata": {},
     "outputs": []
    }
   ],
   "metadata": {}
  }
 ]
}