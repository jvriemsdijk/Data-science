{
 "metadata": {
  "celltoolbar": "Slideshow",
  "name": "",
  "signature": "sha256:935f784172126288517f4ad9c56ccc81b4c1eb93e4d25fd99f5a92c442c82a2e"
 },
 "nbformat": 3,
 "nbformat_minor": 0,
 "worksheets": [
  {
   "cells": [
    {
     "cell_type": "markdown",
     "metadata": {
      "slideshow": {
       "slide_type": "slide"
      }
     },
     "source": [
      "# Warmongering States\n",
      "\n",
      "\n",
      "####Joey van Riemsdijk (10441913) & Thomas Parmentier (10430121)"
     ]
    },
    {
     "cell_type": "markdown",
     "metadata": {
      "slideshow": {
       "slide_type": "slide"
      }
     },
     "source": [
      "## Introduction\n",
      "\n",
      "* Nature versus Nurture\n",
      "* Hoe offensief zijn verschillende landen? Is er sprake van landen die puur defensief handelen?\n"
     ]
    },
    {
     "cell_type": "markdown",
     "metadata": {
      "slideshow": {
       "slide_type": "subslide"
      }
     },
     "source": [
      "* \u201cIn hoeverre is er sprake van 'warmongering' landen?\u201d\n",
      "\n",
      "\n",
      "* H1: \"Er is sprake van 'warmongering' landen.\"\n",
      "* H0: \"Er is geen sprake van 'warmongering' landen.\""
     ]
    },
    {
     "cell_type": "markdown",
     "metadata": {
      "slideshow": {
       "slide_type": "slide"
      }
     },
     "source": [
      "## Related work\n",
      "\n",
      "* Carl von Clausewitz \u2013 On War\n",
      "\n",
      "* Colmar von der Goltz \u2013 Das Volk in Waffen: ein buch \u00fcber heerwesen und kriegf\u00fchrung unserer zeit \n",
      "\n",
      "* Sun Tzu \u2013 The Art Of War\n",
      "\n",
      "* Niccolo Machiavelli \u2013 The Seven Books on the Art of War\n",
      "\n",
      "* Charles Townshend \u2013 The Oxford History of Modern War\n"
     ]
    },
    {
     "cell_type": "markdown",
     "metadata": {
      "slideshow": {
       "slide_type": "slide"
      }
     },
     "source": [
      "## Methodology\n",
      "\n",
      "- CDB13 dataset: Veldslagen van 1600 t/m 1982\n",
      "- Per veldslag kijken welke partij aanvaller, danwel verdediger was\n",
      "- \n",
      "\n",
      "\n"
     ]
    },
    {
     "cell_type": "markdown",
     "metadata": {
      "slideshow": {
       "slide_type": "slide"
      }
     },
     "source": [
      "## Evaluation"
     ]
    },
    {
     "cell_type": "markdown",
     "metadata": {
      "slideshow": {
       "slide_type": "slide"
      }
     },
     "source": [
      "## Conclusion"
     ]
    }
   ],
   "metadata": {}
  }
 ]
}