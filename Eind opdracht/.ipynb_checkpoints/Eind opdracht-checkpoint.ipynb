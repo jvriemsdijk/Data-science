{
 "metadata": {
  "name": "",
  "signature": "sha256:2d632d88259f634f761c5103dc7972453cdbc994c2dcaf812b102be766d77e21"
 },
 "nbformat": 3,
 "nbformat_minor": 0,
 "worksheets": []
}