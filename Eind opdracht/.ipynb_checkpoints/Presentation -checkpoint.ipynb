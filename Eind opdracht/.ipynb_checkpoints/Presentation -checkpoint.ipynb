{
 "metadata": {
  "celltoolbar": "Slideshow",
  "name": "",
  "signature": "sha256:6f191405b24016914014bee2b79455d4f664f59fc9457ccf858eb702c92b10ae"
 },
 "nbformat": 3,
 "nbformat_minor": 0,
 "worksheets": [
  {
   "cells": [
    {
     "cell_type": "markdown",
     "metadata": {
      "slideshow": {
       "slide_type": "slide"
      }
     },
     "source": [
      "# Warmongering States\n",
      "\n",
      "\n",
      "####Joey van Riemsdijk (10441913) & Thomas Parmentier (10430121)"
     ]
    },
    {
     "cell_type": "markdown",
     "metadata": {
      "slideshow": {
       "slide_type": "slide"
      }
     },
     "source": [
      "## Introduction\n",
      "\n",
      "* Nature versus Nurture\n",
      "* Hoe offensief zijn verschillende landen? Is er sprake van landen die puur defensief handelen?\n"
     ]
    },
    {
     "cell_type": "markdown",
     "metadata": {
      "slideshow": {
       "slide_type": "subslide"
      }
     },
     "source": [
      "* \u201cIn hoeverre is er sprake van 'warmongering' landen?\u201d\n",
      "\n",
      "\n",
      "* H1: \"Er is sprake van 'warmongering' landen.\"\n",
      "* H0: \"Er is geen sprake van 'warmongering' landen.\""
     ]
    },
    {
     "cell_type": "markdown",
     "metadata": {
      "slideshow": {
       "slide_type": "slide"
      }
     },
     "source": [
      "## Related work\n",
      "\n",
      "* Carl von Clausewitz \u2013 On War\n",
      "\n",
      "* Colmar von der Goltz \u2013 Das Volk in Waffen: ein buch \u00fcber heerwesen und kriegf\u00fchrung unserer zeit \n",
      "\n",
      "* Sun Tzu \u2013 The Art Of War\n",
      "\n",
      "* Niccolo Machiavelli \u2013 The Seven Books on the Art of War\n",
      "\n",
      "* Charles Townshend \u2013 The Oxford History of Modern War\n"
     ]
    },
    {
     "cell_type": "markdown",
     "metadata": {
      "slideshow": {
       "slide_type": "slide"
      }
     },
     "source": [
      "## Methodology"
     ]
    },
    {
     "cell_type": "markdown",
     "metadata": {
      "slideshow": {
       "slide_type": "slide"
      }
     },
     "source": [
      "## Evaluation"
     ]
    },
    {
     "cell_type": "markdown",
     "metadata": {
      "slideshow": {
       "slide_type": "slide"
      }
     },
     "source": [
      "## Conclusion"
     ]
    }
   ],
   "metadata": {}
  }
 ]
}