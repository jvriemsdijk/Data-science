{
 "metadata": {
  "name": "",
  "signature": "sha256:db36fc62870bf5468b448c6650f5ed1359063d59f468863549b07e8e70cd4de8"
 },
 "nbformat": 3,
 "nbformat_minor": 0,
 "worksheets": [
  {
   "cells": [
    {
     "cell_type": "code",
     "collapsed": false,
     "input": [
      "%matplotlib inline \n",
      "\n",
      "import numpy as np\n",
      "import pandas as pd\n",
      "import matplotlib.pyplot as plt\n",
      "import networkx as nx\n",
      "\n",
      "import urllib2 as urllib\n",
      "from bs4 import BeautifulSoup\n",
      "\n",
      "import requests\n",
      "import StringIO\n",
      "import zipfile\n",
      "import scipy.stats\n",
      "import platform\n",
      "\n",
      "# sets the graphs to a larger size\n",
      "plt.rcParams['figure.figsize'] = (19, 7)"
     ],
     "language": "python",
     "metadata": {},
     "outputs": [],
     "prompt_number": 1
    },
    {
     "cell_type": "code",
     "collapsed": false,
     "input": [
      "# make a Data folder and navigate to it if this has not been done yet\n",
      "folder = \"Data\"\n",
      "%mkdir $folder\n",
      "%cd $folder"
     ],
     "language": "python",
     "metadata": {},
     "outputs": [
      {
       "output_type": "stream",
       "stream": "stdout",
       "text": [
        "/Users/joeyvanriemsdijk/GitHub/Data-science/Opdrachten/week 5/Data\n"
       ]
      }
     ],
     "prompt_number": 2
    },
    {
     "cell_type": "code",
     "collapsed": false,
     "input": [
      "baseUrl = 'http://language.media.mit.edu/data/public/'\n",
      "\n",
      "fileNames = ('dataset_stats_books.tsv', 'unesco_langinfo_20120722_iso639-3.txt', 'unesco_langlang_20120722_iso639-3.txt'\n",
      "             , 'books_nodes.tsv', 'dataset_stats_wikipedia.tsv', 'wikipedia_nodes.tsv', 'wikipedia_edges.tsv'\n",
      "             , 'dataset_stats_twitter.tsv', 'twitter_gln_nodes.tsv', 'twitter_gln_links_with_over_expression.tsv'\n",
      "             , 'centralities_by_language.tsv', 'Famous_wikipedia_by_language.tsv', 'Famous_wikipedia_by_country.tsv'\n",
      "             , 'Famous_murray_by_language.tsv', 'Famous_murray_by_country.tsv', 'gdp_pc_population_by_country.tsv'\n",
      "             , 'gdp_pc_population_by_language.tsv', 'language_conversion_table_iso639-3.tsv'\n",
      "             , 'language_speakers_families_iso639-3.tsv', 'Networks.cys')\n",
      " \n",
      "\n",
      "zipFiles = ('wikipedia_userlang_iso639-3.zip', 'twitter_userlang_iso639-3a.tsv.zip', 'twitter_userlang_iso639-3b.tsv.zip'\n",
      "            , 'twitter_userlang_iso639-3c.tsv.zip', 'twitter_userlang_iso639-3d.tsv.zip')\n",
      "\n",
      "# download all of the files\n",
      "for fileName in fileNames + zipFiles:\n",
      "\n",
      "    try:\n",
      "\n",
      "        downloadedFile = urllib.urlopen(baseUrl + fileName)\n",
      "\n",
      "        with open(fileName, 'wb') as f:           \n",
      "\n",
      "            f.write(downloadedFile.read()) \n",
      "\n",
      "    except Exception as e:\n",
      "\n",
      "        print baseUrl + fileName, e\n",
      "        \n",
      "\n",
      "# extract the zip files\n",
      "for fileName in zipFiles:\n",
      "\n",
      "    try :\n",
      "\n",
      "        with zipfile.ZipFile(fileName) as zip:             \n",
      "\n",
      "            zip.extractall('.')\n",
      "\n",
      "    except Exception as e:\n",
      "\n",
      "        print fileName, e\n",
      "\n",
      "        "
     ],
     "language": "python",
     "metadata": {},
     "outputs": [
      {
       "output_type": "stream",
       "stream": "stdout",
       "text": [
        "http://language.media.mit.edu/data/public/dataset_stats_books.tsv HTTP Error 404: Not Found\n",
        "http://language.media.mit.edu/data/public/dataset_stats_wikipedia.tsv"
       ]
      },
      {
       "output_type": "stream",
       "stream": "stdout",
       "text": [
        " HTTP Error 404: Not Found\n"
       ]
      }
     ],
     "prompt_number": 3
    },
    {
     "cell_type": "markdown",
     "metadata": {},
     "source": [
      "#Deel 0 Even inkomen\n",
      "Reproduceer de tabellen B tot en met F uit Figuur 4, gebruik makend van de datasets op http://language.media.mit.edu/data."
     ]
    },
    {
     "cell_type": "code",
     "collapsed": false,
     "input": [],
     "language": "python",
     "metadata": {},
     "outputs": []
    },
    {
     "cell_type": "markdown",
     "metadata": {},
     "source": [
      "#Deel 1 Wikipedia en Twitter\n",
      "Maak zowel voor de Twitter als voor de Wikipedia raw dataset de drie andere datasets die op http://language.media.mit.edu/data beschreven staan. Dus 1. De metadata/stats per language 2. het netwerk: de knopen, de gewogen lijnen, en een networkx netwerk compleet met mooi plaatje."
     ]
    },
    {
     "cell_type": "code",
     "collapsed": false,
     "input": [],
     "language": "python",
     "metadata": {},
     "outputs": []
    },
    {
     "cell_type": "markdown",
     "metadata": {},
     "source": [
      "#Deel 2 Correlaties\n",
      "Reproduceer de 6 scatterplots uit Figuur 2 en bereken ook alle 6 de correlaties."
     ]
    },
    {
     "cell_type": "code",
     "collapsed": false,
     "input": [],
     "language": "python",
     "metadata": {},
     "outputs": []
    },
    {
     "cell_type": "markdown",
     "metadata": {},
     "source": [
      "# Deel 3 Nog meer correlaties\n",
      "Reproduceer de scatterplots van Figuur 3 en bereken de correlaties. Je hoeft de grootte van de punten niet aan te passen zoals gedaan in het artikel, maar als het lukt krijg je een bonus."
     ]
    },
    {
     "cell_type": "code",
     "collapsed": false,
     "input": [],
     "language": "python",
     "metadata": {},
     "outputs": [],
     "prompt_number": 0
    },
    {
     "cell_type": "markdown",
     "metadata": {},
     "source": [
      "# Deel 4 Reflectie\n",
      "Je hebt getracht een deel van het artikel te reproduceren. Ook hebben we gedacht over het artikel en de mate van herhaalbaarheid van de vermelde gegevens.\n",
      "\n",
      "Geef nu in hooguit 1 A4 je eigen mening. Behandel deze twee punten: 1. Wat was al goed gedaan? 2. Wat kon beter en hoe dan?"
     ]
    },
    {
     "cell_type": "code",
     "collapsed": false,
     "input": [],
     "language": "python",
     "metadata": {},
     "outputs": []
    }
   ],
   "metadata": {}
  }
 ]
}