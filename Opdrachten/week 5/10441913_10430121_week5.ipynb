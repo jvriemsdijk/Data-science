{
 "metadata": {
  "name": "",
  "signature": "sha256:50e1f37b3f7cf974bbb351e0efd54fa6588663bef23d7a847cc5d5ff63fb93b5"
 },
 "nbformat": 3,
 "nbformat_minor": 0,
 "worksheets": [
  {
   "cells": [
    {
     "cell_type": "markdown",
     "metadata": {},
     "source": [
      "#Deel 0 Even inkomen\n",
      "Reproduceer de tabellen B tot en met F uit Figuur 4, gebruik makend van de datasets op http://language.media.mit.edu/data."
     ]
    },
    {
     "cell_type": "code",
     "collapsed": false,
     "input": [],
     "language": "python",
     "metadata": {},
     "outputs": []
    },
    {
     "cell_type": "markdown",
     "metadata": {},
     "source": [
      "#Deel 1 Wikipedia en Twitter\n",
      "Maak zowel voor de Twitter als voor de Wikipedia raw dataset de drie andere datasets die op http://language.media.mit.edu/data beschreven staan. Dus 1. De metadata/stats per language 2. het netwerk: de knopen, de gewogen lijnen, en een networkx netwerk compleet met mooi plaatje."
     ]
    },
    {
     "cell_type": "code",
     "collapsed": false,
     "input": [],
     "language": "python",
     "metadata": {},
     "outputs": []
    },
    {
     "cell_type": "markdown",
     "metadata": {},
     "source": [
      "#Deel 2 Correlaties\n",
      "Reproduceer de 6 scatterplots uit Figuur 2 en bereken ook alle 6 de correlaties."
     ]
    },
    {
     "cell_type": "code",
     "collapsed": false,
     "input": [],
     "language": "python",
     "metadata": {},
     "outputs": []
    },
    {
     "cell_type": "markdown",
     "metadata": {},
     "source": [
      "# Deel 3 Nog meer correlaties\n",
      "Reproduceer de scatterplots van Figuur 3 en bereken de correlaties. Je hoeft de grootte van de punten niet aan te passen zoals gedaan in het artikel, maar als het lukt krijg je een bonus."
     ]
    },
    {
     "cell_type": "code",
     "collapsed": false,
     "input": [],
     "language": "python",
     "metadata": {},
     "outputs": [],
     "prompt_number": 0
    },
    {
     "cell_type": "markdown",
     "metadata": {},
     "source": [
      "# Deel 4 Reflectie\n",
      "Je hebt getracht een deel van het artikel te reproduceren. Ook hebben we gedacht over het artikel en de mate van herhaalbaarheid van de vermelde gegevens.\n",
      "\n",
      "Geef nu in hooguit 1 A4 je eigen mening. Behandel deze twee punten: 1. Wat was al goed gedaan? 2. Wat kon beter en hoe dan?"
     ]
    },
    {
     "cell_type": "code",
     "collapsed": false,
     "input": [],
     "language": "python",
     "metadata": {},
     "outputs": []
    }
   ],
   "metadata": {}
  }
 ]
}