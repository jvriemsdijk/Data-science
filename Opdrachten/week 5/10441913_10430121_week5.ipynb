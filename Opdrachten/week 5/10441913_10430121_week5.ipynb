{
 "metadata": {
  "name": "",
  "signature": "sha256:cbbbc5ade3284ed389a47826d5d72f114d22dcbfb7d7ee414fabea8befb96089"
 },
 "nbformat": 3,
 "nbformat_minor": 0,
 "worksheets": [
  {
   "cells": [
    {
     "cell_type": "code",
     "collapsed": false,
     "input": [
      "import pandas as pd\n",
      "import numpy as np\n",
      "import urllib2\n",
      "import zipfile\n",
      "import networkx as nx"
     ],
     "language": "python",
     "metadata": {},
     "outputs": [],
     "prompt_number": 1
    },
    {
     "cell_type": "code",
     "collapsed": false,
     "input": [
      "# URL from where the files are extracted\n",
      "url = 'http://language.media.mit.edu/data/public/'\n",
      "\n",
      "# Thanks to a 403 Forbidden, all work has to be done manually\n",
      "#'dataset_stats_books.tsv', 'dataset_stats_wikipedia.tsv' do not work.\n",
      "filenames = ('unesco_langinfo_20120722_iso639-3.txt', 'unesco_langlang_20120722_iso639-3.txt', 'books_nodes.tsv'\n",
      "             , 'wikipedia_nodes.tsv', 'wikipedia_edges.tsv', 'dataset_stats_twitter.tsv', 'twitter_gln_nodes.tsv'\n",
      "             , 'twitter_gln_links_with_over_expression.tsv', 'centralities_by_language.tsv', 'Famous_wikipedia_by_language.tsv', 'Famous_wikipedia_by_country.tsv'\n",
      "             , 'Famous_murray_by_language.tsv', 'Famous_murray_by_country.tsv', 'gdp_pc_population_by_country.tsv', 'gdp_pc_population_by_language.tsv', 'language_conversion_table_iso639-3.tsv'\n",
      "             , 'language_speakers_families_iso639-3.tsv', 'Networks.cys')\n",
      "\n",
      "zipfiles = ('wikipedia_userlang_iso639-3.zip', 'twitter_userlang_iso639-3a.tsv.zip', 'twitter_userlang_iso639-3b.tsv.zip', 'twitter_userlang_iso639-3c.tsv.zip', 'twitter_userlang_iso639-3d.tsv.zip')\n",
      "\n",
      "folder = 'data'\n",
      "%mkdir $folder\n",
      "cd = '../data'\n",
      "\n",
      "# Files are already stored in a convenient folder. Python has no trouble identifying files stashed in 1 folder.\n",
      "\n",
      "# Implementation uses tries and exceptions. This way, the program wouldn't crash if the website would become unavailable.    \n",
      "for filename in filenames + zipfiles:\n",
      "    try:\n",
      "        download = urllib2.urlopen(url + filename)\n",
      "        with open(filename, 'wb') as f:           \n",
      "            f.write(download.read()) \n",
      "    except Exception as e:\n",
      "        print url + filename, e\n",
      "\n",
      "        \n",
      "# Extraction might take a while, even though ipython notebook says it is done.\n",
      "for filename in zipfiles:\n",
      "    try :\n",
      "        with zipfile.ZipFile(filename) as zip:             \n",
      "            zip.extractall('.')\n",
      "    except Exception as e:\n",
      "        print filename, e\n"
     ],
     "language": "python",
     "metadata": {},
     "outputs": [],
     "prompt_number": 2
    },
    {
     "cell_type": "markdown",
     "metadata": {},
     "source": [
      "#Deel 0 Even inkomen\n",
      "Reproduceer de tabellen B tot en met F uit Figuur 4, gebruik makend van de datasets op http://language.media.mit.edu/data."
     ]
    },
    {
     "cell_type": "code",
     "collapsed": false,
     "input": [],
     "language": "python",
     "metadata": {},
     "outputs": []
    },
    {
     "cell_type": "markdown",
     "metadata": {},
     "source": [
      "#Deel 1 Wikipedia en Twitter\n",
      "Maak zowel voor de Twitter als voor de Wikipedia raw dataset de drie andere datasets die op http://language.media.mit.edu/data beschreven staan. Dus 1. De metadata/stats per language 2. het netwerk: de knopen, de gewogen lijnen, en een networkx netwerk compleet met mooi plaatje."
     ]
    },
    {
     "cell_type": "code",
     "collapsed": false,
     "input": [],
     "language": "python",
     "metadata": {},
     "outputs": []
    },
    {
     "cell_type": "markdown",
     "metadata": {},
     "source": [
      "#Deel 2 Correlaties\n",
      "Reproduceer de 6 scatterplots uit Figuur 2 en bereken ook alle 6 de correlaties."
     ]
    },
    {
     "cell_type": "code",
     "collapsed": false,
     "input": [],
     "language": "python",
     "metadata": {},
     "outputs": []
    },
    {
     "cell_type": "markdown",
     "metadata": {},
     "source": [
      "# Deel 3 Nog meer correlaties\n",
      "Reproduceer de scatterplots van Figuur 3 en bereken de correlaties. Je hoeft de grootte van de punten niet aan te passen zoals gedaan in het artikel, maar als het lukt krijg je een bonus."
     ]
    },
    {
     "cell_type": "code",
     "collapsed": false,
     "input": [],
     "language": "python",
     "metadata": {},
     "outputs": [],
     "prompt_number": 0
    },
    {
     "cell_type": "markdown",
     "metadata": {},
     "source": [
      "# Deel 4 Reflectie\n",
      "Je hebt getracht een deel van het artikel te reproduceren. Ook hebben we gedacht over het artikel en de mate van herhaalbaarheid van de vermelde gegevens.\n",
      "\n",
      "Geef nu in hooguit 1 A4 je eigen mening. Behandel deze twee punten: 1. Wat was al goed gedaan? 2. Wat kon beter en hoe dan?"
     ]
    },
    {
     "cell_type": "code",
     "collapsed": false,
     "input": [],
     "language": "python",
     "metadata": {},
     "outputs": []
    }
   ],
   "metadata": {}
  }
 ]
}