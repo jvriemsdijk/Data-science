{
 "metadata": {
  "name": "",
  "signature": "sha256:172f55e8fc02ed0bb3ed5657bbf6cd5c4ae8ebbb07dd6a002860fbed9d771ce8"
 },
 "nbformat": 3,
 "nbformat_minor": 0,
 "worksheets": [
  {
   "cells": [
    {
     "cell_type": "code",
     "collapsed": false,
     "input": [
      "%matplotlib inline \n",
      "\n",
      "import numpy as np\n",
      "import pandas as pd\n",
      "import matplotlib.pyplot as plt\n",
      "import networkx as nx\n",
      "\n",
      "import urllib2 as urllib\n",
      "from bs4 import BeautifulSoup\n",
      "\n",
      "import requests\n",
      "import StringIO\n",
      "import zipfile\n",
      "import scipy.stats\n",
      "import platform\n",
      "\n",
      "# sets the graphs to a larger size\n",
      "plt.rcParams['figure.figsize'] = (19, 7)"
     ],
     "language": "python",
     "metadata": {},
     "outputs": [],
     "prompt_number": 1
    },
    {
     "cell_type": "code",
     "collapsed": false,
     "input": [
      "# make a Data folder and navigate to it if this has not been done yet\n",
      "folder = \"Data\"\n",
      "%mkdir $folder\n",
      "%cd $folder"
     ],
     "language": "python",
     "metadata": {},
     "outputs": [
      {
       "output_type": "stream",
       "stream": "stdout",
       "text": [
        "/Users/joeyvanriemsdijk/GitHub/Data-science/Opdrachten/week 5/Data\n"
       ]
      }
     ],
     "prompt_number": 2
    },
    {
     "cell_type": "code",
     "collapsed": false,
     "input": [
      "baseUrl = 'http://language.media.mit.edu/data/public/'\n",
      "\n",
      "fileNames = ('dataset_stats_books.tsv', 'unesco_langinfo_20120722_iso639-3.txt', 'unesco_langlang_20120722_iso639-3.txt'\n",
      "             , 'books_nodes.tsv', 'dataset_stats_wikipedia.tsv', 'wikipedia_nodes.tsv', 'wikipedia_edges.tsv'\n",
      "             , 'dataset_stats_twitter.tsv', 'twitter_gln_nodes.tsv', 'twitter_gln_links_with_over_expression.tsv'\n",
      "             , 'centralities_by_language.tsv', 'Famous_wikipedia_by_language.tsv', 'Famous_wikipedia_by_country.tsv'\n",
      "             , 'Famous_murray_by_language.tsv', 'Famous_murray_by_country.tsv', 'gdp_pc_population_by_country.tsv'\n",
      "             , 'gdp_pc_population_by_language.tsv', 'language_conversion_table_iso639-3.tsv'\n",
      "             , 'language_speakers_families_iso639-3.tsv', 'Networks.cys')\n",
      " \n",
      "\n",
      "zipFiles = ('wikipedia_userlang_iso639-3.zip', 'twitter_userlang_iso639-3a.tsv.zip', 'twitter_userlang_iso639-3b.tsv.zip'\n",
      "            , 'twitter_userlang_iso639-3c.tsv.zip', 'twitter_userlang_iso639-3d.tsv.zip')\n",
      "\n",
      "# download all of the files\n",
      "for fileName in fileNames + zipFiles:\n",
      "\n",
      "    try:\n",
      "\n",
      "        downloadedFile = urllib.urlopen(baseUrl + fileName)\n",
      "\n",
      "        with open(fileName, 'wb') as f:           \n",
      "\n",
      "            f.write(downloadedFile.read()) \n",
      "\n",
      "    except Exception as e:\n",
      "\n",
      "        print baseUrl + fileName, e\n",
      "        \n",
      "\n",
      "# extract the zip files\n",
      "for fileName in zipFiles:\n",
      "\n",
      "    try :\n",
      "\n",
      "        with zipfile.ZipFile(fileName) as zip:             \n",
      "\n",
      "            zip.extractall('.')\n",
      "\n",
      "    except Exception as e:\n",
      "\n",
      "        print fileName, e\n",
      "\n",
      "        "
     ],
     "language": "python",
     "metadata": {},
     "outputs": [
      {
       "output_type": "stream",
       "stream": "stdout",
       "text": [
        "http://language.media.mit.edu/data/public/dataset_stats_books.tsv HTTP Error 404: Not Found\n",
        "http://language.media.mit.edu/data/public/dataset_stats_wikipedia.tsv"
       ]
      },
      {
       "output_type": "stream",
       "stream": "stdout",
       "text": [
        " HTTP Error 404: Not Found\n"
       ]
      }
     ],
     "prompt_number": 3
    },
    {
     "cell_type": "markdown",
     "metadata": {},
     "source": [
      "#Deel 0 Even inkomen\n",
      "Reproduceer de tabellen B tot en met F uit Figuur 4, gebruik makend van de datasets op http://language.media.mit.edu/data."
     ]
    },
    {
     "cell_type": "code",
     "collapsed": false,
     "input": [
      "# Figuur B\n",
      "\n",
      "figBData = pd.DataFrame.from_csv('Famous_wikipedia_by_country.tsv', sep='\\t')\n",
      "\n",
      "figB = figBData[['exports_1800_1950']]\n",
      "\n",
      "figB = figB.sort(columns = 'exports_1800_1950', ascending=False)\n",
      "\n",
      "figB.head(10)"
     ],
     "language": "python",
     "metadata": {},
     "outputs": [
      {
       "html": [
        "<div style=\"max-height:1000px;max-width:1500px;overflow:auto;\">\n",
        "<table border=\"1\" class=\"dataframe\">\n",
        "  <thead>\n",
        "    <tr style=\"text-align: right;\">\n",
        "      <th></th>\n",
        "      <th>exports_1800_1950</th>\n",
        "    </tr>\n",
        "    <tr>\n",
        "      <th>country_code</th>\n",
        "      <th></th>\n",
        "    </tr>\n",
        "  </thead>\n",
        "  <tbody>\n",
        "    <tr>\n",
        "      <th>US</th>\n",
        "      <td> 1221</td>\n",
        "    </tr>\n",
        "    <tr>\n",
        "      <th>GB</th>\n",
        "      <td>  508</td>\n",
        "    </tr>\n",
        "    <tr>\n",
        "      <th>DE</th>\n",
        "      <td>  407</td>\n",
        "    </tr>\n",
        "    <tr>\n",
        "      <th>FR</th>\n",
        "      <td>  397</td>\n",
        "    </tr>\n",
        "    <tr>\n",
        "      <th>RU</th>\n",
        "      <td>  240</td>\n",
        "    </tr>\n",
        "    <tr>\n",
        "      <th>IT</th>\n",
        "      <td>  194</td>\n",
        "    </tr>\n",
        "    <tr>\n",
        "      <th>PL</th>\n",
        "      <td>  114</td>\n",
        "    </tr>\n",
        "    <tr>\n",
        "      <th>AT</th>\n",
        "      <td>   91</td>\n",
        "    </tr>\n",
        "    <tr>\n",
        "      <th>ES</th>\n",
        "      <td>   77</td>\n",
        "    </tr>\n",
        "    <tr>\n",
        "      <th>JP</th>\n",
        "      <td>   75</td>\n",
        "    </tr>\n",
        "  </tbody>\n",
        "</table>\n",
        "</div>"
       ],
       "metadata": {},
       "output_type": "pyout",
       "prompt_number": 12,
       "text": [
        "              exports_1800_1950\n",
        "country_code                   \n",
        "US                         1221\n",
        "GB                          508\n",
        "DE                          407\n",
        "FR                          397\n",
        "RU                          240\n",
        "IT                          194\n",
        "PL                          114\n",
        "AT                           91\n",
        "ES                           77\n",
        "JP                           75"
       ]
      }
     ],
     "prompt_number": 12
    },
    {
     "cell_type": "code",
     "collapsed": false,
     "input": [
      "# Figuur C\n",
      "\n",
      "figCData = pd.DataFrame.from_csv('Famous_wikipedia_by_language.tsv', sep='\\t')\n",
      "\n",
      "figC = figCData[['exports_1800_1950']]\n",
      "\n",
      "figC = figC.sort(columns = 'exports_1800_1950', ascending=False)\n",
      "\n",
      "figC.head(10)"
     ],
     "language": "python",
     "metadata": {},
     "outputs": [
      {
       "html": [
        "<div style=\"max-height:1000px;max-width:1500px;overflow:auto;\">\n",
        "<table border=\"1\" class=\"dataframe\">\n",
        "  <thead>\n",
        "    <tr style=\"text-align: right;\">\n",
        "      <th></th>\n",
        "      <th>exports_1800_1950</th>\n",
        "    </tr>\n",
        "    <tr>\n",
        "      <th>lang</th>\n",
        "      <th></th>\n",
        "    </tr>\n",
        "  </thead>\n",
        "  <tbody>\n",
        "    <tr>\n",
        "      <th>eng</th>\n",
        "      <td> 1617.773</td>\n",
        "    </tr>\n",
        "    <tr>\n",
        "      <th>deu</th>\n",
        "      <td>  524.098</td>\n",
        "    </tr>\n",
        "    <tr>\n",
        "      <th>fra</th>\n",
        "      <td>  455.511</td>\n",
        "    </tr>\n",
        "    <tr>\n",
        "      <th>spa</th>\n",
        "      <td>  305.482</td>\n",
        "    </tr>\n",
        "    <tr>\n",
        "      <th>rus</th>\n",
        "      <td>  272.908</td>\n",
        "    </tr>\n",
        "    <tr>\n",
        "      <th>ita</th>\n",
        "      <td>  198.088</td>\n",
        "    </tr>\n",
        "    <tr>\n",
        "      <th>pol</th>\n",
        "      <td>  112.556</td>\n",
        "    </tr>\n",
        "    <tr>\n",
        "      <th>ara</th>\n",
        "      <td>   94.456</td>\n",
        "    </tr>\n",
        "    <tr>\n",
        "      <th>nld</th>\n",
        "      <td>   81.258</td>\n",
        "    </tr>\n",
        "    <tr>\n",
        "      <th>jpn</th>\n",
        "      <td>   75.000</td>\n",
        "    </tr>\n",
        "  </tbody>\n",
        "</table>\n",
        "</div>"
       ],
       "metadata": {},
       "output_type": "pyout",
       "prompt_number": 13,
       "text": [
        "      exports_1800_1950\n",
        "lang                   \n",
        "eng            1617.773\n",
        "deu             524.098\n",
        "fra             455.511\n",
        "spa             305.482\n",
        "rus             272.908\n",
        "ita             198.088\n",
        "pol             112.556\n",
        "ara              94.456\n",
        "nld              81.258\n",
        "jpn              75.000"
       ]
      }
     ],
     "prompt_number": 13
    },
    {
     "cell_type": "code",
     "collapsed": false,
     "input": [
      "# Figuur D\n",
      "\n",
      "figDEFData = pd.DataFrame.from_csv('centralities_by_language.tsv', sep='\\t')\n",
      "\n",
      "figD = figDEFData[['twitter.eigenvector']]\n",
      "\n",
      "figD = figD.sort(columns = 'twitter.eigenvector', ascending=False)\n",
      "\n",
      "figD.head(7)"
     ],
     "language": "python",
     "metadata": {},
     "outputs": [
      {
       "html": [
        "<div style=\"max-height:1000px;max-width:1500px;overflow:auto;\">\n",
        "<table border=\"1\" class=\"dataframe\">\n",
        "  <thead>\n",
        "    <tr style=\"text-align: right;\">\n",
        "      <th></th>\n",
        "      <th>twitter.eigenvector</th>\n",
        "    </tr>\n",
        "    <tr>\n",
        "      <th>language.name</th>\n",
        "      <th></th>\n",
        "    </tr>\n",
        "  </thead>\n",
        "  <tbody>\n",
        "    <tr>\n",
        "      <th>English</th>\n",
        "      <td> 0.693295</td>\n",
        "    </tr>\n",
        "    <tr>\n",
        "      <th>Malay (macrolanguage)</th>\n",
        "      <td> 0.485596</td>\n",
        "    </tr>\n",
        "    <tr>\n",
        "      <th>Portuguese</th>\n",
        "      <td> 0.352087</td>\n",
        "    </tr>\n",
        "    <tr>\n",
        "      <th>Spanish</th>\n",
        "      <td> 0.348114</td>\n",
        "    </tr>\n",
        "    <tr>\n",
        "      <th>Filipino (macrolanguage)</th>\n",
        "      <td> 0.133164</td>\n",
        "    </tr>\n",
        "    <tr>\n",
        "      <th>Dutch</th>\n",
        "      <td> 0.105830</td>\n",
        "    </tr>\n",
        "    <tr>\n",
        "      <th>Arabic</th>\n",
        "      <td> 0.054226</td>\n",
        "    </tr>\n",
        "  </tbody>\n",
        "</table>\n",
        "</div>"
       ],
       "metadata": {},
       "output_type": "pyout",
       "prompt_number": 16,
       "text": [
        "                          twitter.eigenvector\n",
        "language.name                                \n",
        "English                              0.693295\n",
        "Malay (macrolanguage)                0.485596\n",
        "Portuguese                           0.352087\n",
        "Spanish                              0.348114\n",
        "Filipino (macrolanguage)             0.133164\n",
        "Dutch                                0.105830\n",
        "Arabic                               0.054226"
       ]
      }
     ],
     "prompt_number": 16
    },
    {
     "cell_type": "code",
     "collapsed": false,
     "input": [
      "# Figuur E\n",
      "\n",
      "figE = figDEFData[['wikipedia.eigenvector']]\n",
      "\n",
      "figE = figE.sort(columns = 'wikipedia.eigenvector', ascending=False)\n",
      "\n",
      "figE.head(7)"
     ],
     "language": "python",
     "metadata": {},
     "outputs": [
      {
       "html": [
        "<div style=\"max-height:1000px;max-width:1500px;overflow:auto;\">\n",
        "<table border=\"1\" class=\"dataframe\">\n",
        "  <thead>\n",
        "    <tr style=\"text-align: right;\">\n",
        "      <th></th>\n",
        "      <th>wikipedia.eigenvector</th>\n",
        "    </tr>\n",
        "    <tr>\n",
        "      <th>language.name</th>\n",
        "      <th></th>\n",
        "    </tr>\n",
        "  </thead>\n",
        "  <tbody>\n",
        "    <tr>\n",
        "      <th>English</th>\n",
        "      <td> 0.659298</td>\n",
        "    </tr>\n",
        "    <tr>\n",
        "      <th>German</th>\n",
        "      <td> 0.478721</td>\n",
        "    </tr>\n",
        "    <tr>\n",
        "      <th>French</th>\n",
        "      <td> 0.337834</td>\n",
        "    </tr>\n",
        "    <tr>\n",
        "      <th>Spanish</th>\n",
        "      <td> 0.287463</td>\n",
        "    </tr>\n",
        "    <tr>\n",
        "      <th>Italian</th>\n",
        "      <td> 0.157038</td>\n",
        "    </tr>\n",
        "    <tr>\n",
        "      <th>Russian</th>\n",
        "      <td> 0.151658</td>\n",
        "    </tr>\n",
        "    <tr>\n",
        "      <th>Dutch</th>\n",
        "      <td> 0.134869</td>\n",
        "    </tr>\n",
        "  </tbody>\n",
        "</table>\n",
        "</div>"
       ],
       "metadata": {},
       "output_type": "pyout",
       "prompt_number": 18,
       "text": [
        "               wikipedia.eigenvector\n",
        "language.name                       \n",
        "English                     0.659298\n",
        "German                      0.478721\n",
        "French                      0.337834\n",
        "Spanish                     0.287463\n",
        "Italian                     0.157038\n",
        "Russian                     0.151658\n",
        "Dutch                       0.134869"
       ]
      }
     ],
     "prompt_number": 18
    },
    {
     "cell_type": "code",
     "collapsed": false,
     "input": [
      "# Figuur F\n",
      "\n",
      "figF = figDEFData[['books.eigenvector']]\n",
      "\n",
      "figF = figF.sort(columns = 'books.eigenvector', ascending=False)\n",
      "\n",
      "figF.head(7)"
     ],
     "language": "python",
     "metadata": {},
     "outputs": [
      {
       "ename": "NameError",
       "evalue": "name 'figDEFData' is not defined",
       "output_type": "pyerr",
       "traceback": [
        "\u001b[0;31m---------------------------------------------------------------------------\u001b[0m\n\u001b[0;31mNameError\u001b[0m                                 Traceback (most recent call last)",
        "\u001b[0;32m<ipython-input-1-21276276d9b8>\u001b[0m in \u001b[0;36m<module>\u001b[0;34m()\u001b[0m\n\u001b[1;32m      1\u001b[0m \u001b[0;31m# Figuur F\u001b[0m\u001b[0;34m\u001b[0m\u001b[0;34m\u001b[0m\u001b[0m\n\u001b[1;32m      2\u001b[0m \u001b[0;34m\u001b[0m\u001b[0m\n\u001b[0;32m----> 3\u001b[0;31m \u001b[0mfigF\u001b[0m \u001b[0;34m=\u001b[0m \u001b[0mfigDEFData\u001b[0m\u001b[0;34m[\u001b[0m\u001b[0;34m[\u001b[0m\u001b[0;34m'books.eigenvector'\u001b[0m\u001b[0;34m]\u001b[0m\u001b[0;34m]\u001b[0m\u001b[0;34m\u001b[0m\u001b[0m\n\u001b[0m\u001b[1;32m      4\u001b[0m \u001b[0;34m\u001b[0m\u001b[0m\n\u001b[1;32m      5\u001b[0m \u001b[0mfigF\u001b[0m \u001b[0;34m=\u001b[0m \u001b[0mfigF\u001b[0m\u001b[0;34m.\u001b[0m\u001b[0msort\u001b[0m\u001b[0;34m(\u001b[0m\u001b[0mcolumns\u001b[0m \u001b[0;34m=\u001b[0m \u001b[0;34m'books.eigenvector'\u001b[0m\u001b[0;34m,\u001b[0m \u001b[0mascending\u001b[0m\u001b[0;34m=\u001b[0m\u001b[0mFalse\u001b[0m\u001b[0;34m)\u001b[0m\u001b[0;34m\u001b[0m\u001b[0m\n",
        "\u001b[0;31mNameError\u001b[0m: name 'figDEFData' is not defined"
       ]
      }
     ],
     "prompt_number": 1
    },
    {
     "cell_type": "markdown",
     "metadata": {},
     "source": [
      "#Deel 1 Wikipedia en Twitter\n",
      "Maak zowel voor de Twitter als voor de Wikipedia raw dataset de drie andere datasets die op http://language.media.mit.edu/data beschreven staan. Dus 1. De metadata/stats per language 2. het netwerk: de knopen, de gewogen lijnen, en een networkx netwerk compleet met mooi plaatje.\n",
      "\n",
      "\n",
      "\n",
      "Maak zowel voor de Twitter als voor de Wikipedia raw dataset de netwerk datasets die op http://language.media.mit.edu/data beschreven staan. Dus:\n",
      "\n",
      "- het netwerk: de knopen, de gewogen lijnen, en een networkx netwerk compleet met mooi plaatje.\n",
      "- Je kan als gewicht gewoon het aantal personen nemen die een uiting in beide talen heeft verricht. We berekenen de lijnen dus niet als in het artikel.\n",
      "- In je plaatje kan je het beste een minimum zetten op het gewicht, zodat je een hoop lijnen en knopen niet ziet.\n",
      "- Hint: Loop 1 keer door de datafile heen en sla wat je ziet op in een dict die je bij elke nieuwe regel update.\n"
     ]
    },
    {
     "cell_type": "code",
     "collapsed": false,
     "input": [
      "wikiRaw = open('wikipedia_userlang_iso639-3.tsv', 'r')\n",
      "\n",
      "done = False\n",
      "wikiNodes = {}\n",
      "wikiEdges = {}\n",
      "\n",
      "while not done:\n",
      "    line = wikiRaw.readline()\n",
      "    if len(line) > 0:\n",
      "        \n",
      "        langCounts = [x.strip('\\n').split(',') for x in line.split('\\t')[1:]]\n",
      "\n",
      "        # nodes & population te bepalen\n",
      "        for lang in langCounts:\n",
      "            if lang[0] in wikiNodes.keys():\n",
      "                wikiNodes[lang[0]] += 1\n",
      "            else:\n",
      "                wikiNodes[lang[0]] = 1\n",
      "                \n",
      "                \n",
      "                \n",
      "        # bepalen edges\n",
      "        if len(langCounts) == 14:\n",
      "            for fromLang in langCounts:\n",
      "                \n",
      "                if not fromLang[0] in wikiEdges.keys():\n",
      "                    wikiEdges[fromLang[0]] = {}\n",
      "                    \n",
      "                langDict = wikiEdges[fromLang[0]]\n",
      "     \n",
      "                for toLang in [x for x in langCounts if x != fromLang]:\n",
      "                    if toLang[0] in langDict.keys():\n",
      "                        langDict[toLang[0]] += 1\n",
      "                    else :\n",
      "                        langDict[toLang[0]] = 1\n",
      "            \n",
      "        \n",
      "    else:\n",
      "        done = True\n",
      "        wikiRaw.close()\n",
      "        "
     ],
     "language": "python",
     "metadata": {},
     "outputs": [],
     "prompt_number": 80
    },
    {
     "cell_type": "code",
     "collapsed": false,
     "input": [
      "wikiNodesDF = pd.DataFrame.from_dict(wikiNodes, orient='index')\n",
      "wikiNodesDF.index.name = 'langcode'\n",
      "wikiNodesDF.columns = ['Wikipedia Editors']\n",
      "wikiNodes['nld']\n",
      "wikiNodesDF.head()"
     ],
     "language": "python",
     "metadata": {},
     "outputs": [
      {
       "html": [
        "<div style=\"max-height:1000px;max-width:1500px;overflow:auto;\">\n",
        "<table border=\"1\" class=\"dataframe\">\n",
        "  <thead>\n",
        "    <tr style=\"text-align: right;\">\n",
        "      <th></th>\n",
        "      <th>Wikipedia Editors</th>\n",
        "    </tr>\n",
        "    <tr>\n",
        "      <th>langcode</th>\n",
        "      <th></th>\n",
        "    </tr>\n",
        "  </thead>\n",
        "  <tbody>\n",
        "    <tr>\n",
        "      <th>roh</th>\n",
        "      <td>  727</td>\n",
        "    </tr>\n",
        "    <tr>\n",
        "      <th>zul</th>\n",
        "      <td>  424</td>\n",
        "    </tr>\n",
        "    <tr>\n",
        "      <th>sco</th>\n",
        "      <td> 1433</td>\n",
        "    </tr>\n",
        "    <tr>\n",
        "      <th>scn</th>\n",
        "      <td> 1698</td>\n",
        "    </tr>\n",
        "    <tr>\n",
        "      <th>rom</th>\n",
        "      <td>  401</td>\n",
        "    </tr>\n",
        "  </tbody>\n",
        "</table>\n",
        "</div>"
       ],
       "metadata": {},
       "output_type": "pyout",
       "prompt_number": 97,
       "text": [
        "          Wikipedia Editors\n",
        "langcode                   \n",
        "roh                     727\n",
        "zul                     424\n",
        "sco                    1433\n",
        "scn                    1698\n",
        "rom                     401"
       ]
      }
     ],
     "prompt_number": 97
    },
    {
     "cell_type": "code",
     "collapsed": false,
     "input": [
      "wikiEdges['nld']['eng']"
     ],
     "language": "python",
     "metadata": {},
     "outputs": [
      {
       "metadata": {},
       "output_type": "pyout",
       "prompt_number": 89,
       "text": [
        "490"
       ]
      }
     ],
     "prompt_number": 89
    },
    {
     "cell_type": "code",
     "collapsed": false,
     "input": [
      "twitterFiles = ['twitter_userlang_iso639-3a.tsv', 'twitter_userlang_iso639-3b.tsv'\n",
      "                , 'twitter_userlang_iso639-3c.tsv', 'twitter_userlang_iso639-3d.tsv']\n",
      "\n",
      "for twitterFile in twitterFiles:\n",
      "    twitterRaw = open(twitterFile, 'r')\n",
      "    \n",
      "    done = False\n",
      "    twitterNodes = {}\n",
      "    twitterEdges = {}\n",
      "\n",
      "    while not done:\n",
      "        line = twitterRaw.readline()\n",
      "        if len(line) > 0:\n",
      "\n",
      "            langCounts = [x.strip('\\n').split(',') for x in line.split('\\t')[1:]]\n",
      "\n",
      "            # nodes & population te bepalen\n",
      "            for lang in langCounts:\n",
      "                if lang[0] in twitterNodes.keys():\n",
      "                    twitterNodes[lang[0]] += 1\n",
      "                else:\n",
      "                    twitterNodes[lang[0]] = 1\n",
      "\n",
      "\n",
      "\n",
      "            # bepalen edges\n",
      "            if len(langCounts) == 14:\n",
      "                for fromLang in langCounts:\n",
      "\n",
      "                    if not fromLang[0] in twitterEdges.keys():\n",
      "                        twitterEdges[fromLang[0]] = {}\n",
      "\n",
      "                    langDict = twitterEdges[fromLang[0]]\n",
      "\n",
      "                    for toLang in [x for x in langCounts if x != fromLang]:\n",
      "                        if toLang[0] in langDict.keys():\n",
      "                            langDict[toLang[0]] += 1\n",
      "                        else :\n",
      "                            langDict[toLang[0]] = 1\n",
      "\n",
      "\n",
      "        else:\n",
      "            done = True\n",
      "            twitterRaw.close()"
     ],
     "language": "python",
     "metadata": {},
     "outputs": [],
     "prompt_number": 85
    },
    {
     "cell_type": "code",
     "collapsed": false,
     "input": [
      "twitterNodes['nld']"
     ],
     "language": "python",
     "metadata": {},
     "outputs": [
      {
       "metadata": {},
       "output_type": "pyout",
       "prompt_number": 86,
       "text": [
        "249265"
       ]
      }
     ],
     "prompt_number": 86
    },
    {
     "cell_type": "code",
     "collapsed": false,
     "input": [
      "twitterNodesDF = pd.DataFrame.from_dict(twitterNodes, orient='index')\n",
      "twitterNodesDF.index.name = 'langcode'\n",
      "twitterNodesDF.columns = ['Twitter Users']\n",
      "twitterNodesDF.head()"
     ],
     "language": "python",
     "metadata": {},
     "outputs": [
      {
       "html": [
        "<div style=\"max-height:1000px;max-width:1500px;overflow:auto;\">\n",
        "<table border=\"1\" class=\"dataframe\">\n",
        "  <thead>\n",
        "    <tr style=\"text-align: right;\">\n",
        "      <th></th>\n",
        "      <th>Twitter Users</th>\n",
        "    </tr>\n",
        "    <tr>\n",
        "      <th>langcode</th>\n",
        "      <th></th>\n",
        "    </tr>\n",
        "  </thead>\n",
        "  <tbody>\n",
        "    <tr>\n",
        "      <th>tel</th>\n",
        "      <td>     180</td>\n",
        "    </tr>\n",
        "    <tr>\n",
        "      <th>zho</th>\n",
        "      <td>   23665</td>\n",
        "    </tr>\n",
        "    <tr>\n",
        "      <th>ron</th>\n",
        "      <td>   11169</td>\n",
        "    </tr>\n",
        "    <tr>\n",
        "      <th>jpn</th>\n",
        "      <td> 1408852</td>\n",
        "    </tr>\n",
        "    <tr>\n",
        "      <th>ori</th>\n",
        "      <td>       3</td>\n",
        "    </tr>\n",
        "  </tbody>\n",
        "</table>\n",
        "</div>"
       ],
       "metadata": {},
       "output_type": "pyout",
       "prompt_number": 96,
       "text": [
        "          Twitter Users\n",
        "langcode               \n",
        "tel                 180\n",
        "zho               23665\n",
        "ron               11169\n",
        "jpn             1408852\n",
        "ori                   3"
       ]
      }
     ],
     "prompt_number": 96
    },
    {
     "cell_type": "code",
     "collapsed": false,
     "input": [],
     "language": "python",
     "metadata": {},
     "outputs": []
    },
    {
     "cell_type": "markdown",
     "metadata": {},
     "source": [
      "#Deel 2 Correlaties\n",
      "Reproduceer de 6 scatterplots uit Figuur 2 en bereken ook alle 6 de correlaties."
     ]
    },
    {
     "cell_type": "code",
     "collapsed": false,
     "input": [
      "# Book data inladen\n",
      "langInfo = pd.DataFrame.from_csv('unesco_langinfo_20120722_iso639-3.txt', sep='\\t')\n",
      "bookFromData = langInfo[['translated_from']]\n",
      "\n",
      "bookFromData.head()"
     ],
     "language": "python",
     "metadata": {},
     "outputs": [
      {
       "html": [
        "<div style=\"max-height:1000px;max-width:1500px;overflow:auto;\">\n",
        "<table border=\"1\" class=\"dataframe\">\n",
        "  <thead>\n",
        "    <tr style=\"text-align: right;\">\n",
        "      <th></th>\n",
        "      <th>translated_from</th>\n",
        "    </tr>\n",
        "    <tr>\n",
        "      <th>langcode</th>\n",
        "      <th></th>\n",
        "    </tr>\n",
        "  </thead>\n",
        "  <tbody>\n",
        "    <tr>\n",
        "      <th>roh</th>\n",
        "      <td> 90</td>\n",
        "    </tr>\n",
        "    <tr>\n",
        "      <th>osx</th>\n",
        "      <td>  6</td>\n",
        "    </tr>\n",
        "    <tr>\n",
        "      <th>sco</th>\n",
        "      <td> 29</td>\n",
        "    </tr>\n",
        "    <tr>\n",
        "      <th>scn</th>\n",
        "      <td>  2</td>\n",
        "    </tr>\n",
        "    <tr>\n",
        "      <th>rom</th>\n",
        "      <td> 79</td>\n",
        "    </tr>\n",
        "  </tbody>\n",
        "</table>\n",
        "</div>"
       ],
       "metadata": {},
       "output_type": "pyout",
       "prompt_number": 88,
       "text": [
        "          translated_from\n",
        "langcode                 \n",
        "roh                    90\n",
        "osx                     6\n",
        "sco                    29\n",
        "scn                     2\n",
        "rom                    79"
       ]
      }
     ],
     "prompt_number": 88
    },
    {
     "cell_type": "code",
     "collapsed": false,
     "input": [
      "mergedDf = pd.merge(wikiNodesDF, twitterNodesDF, left_index=True, right_index=True)\n",
      "mergedDf = pd.merge(mergedDf, bookFromData, left_index=True, right_index=True)\n",
      "mergedDf.head()"
     ],
     "language": "python",
     "metadata": {},
     "outputs": [
      {
       "html": [
        "<div style=\"max-height:1000px;max-width:1500px;overflow:auto;\">\n",
        "<table border=\"1\" class=\"dataframe\">\n",
        "  <thead>\n",
        "    <tr style=\"text-align: right;\">\n",
        "      <th></th>\n",
        "      <th>Wikipedia Editors</th>\n",
        "      <th>Twitter Users</th>\n",
        "      <th>translated_from</th>\n",
        "    </tr>\n",
        "    <tr>\n",
        "      <th>langcode</th>\n",
        "      <th></th>\n",
        "      <th></th>\n",
        "      <th></th>\n",
        "    </tr>\n",
        "  </thead>\n",
        "  <tbody>\n",
        "    <tr>\n",
        "      <th>ron</th>\n",
        "      <td> 36137</td>\n",
        "      <td> 11169</td>\n",
        "      <td> 5475</td>\n",
        "    </tr>\n",
        "    <tr>\n",
        "      <th>fas</th>\n",
        "      <td> 41561</td>\n",
        "      <td>  1584</td>\n",
        "      <td> 2837</td>\n",
        "    </tr>\n",
        "    <tr>\n",
        "      <th>hye</th>\n",
        "      <td>  2361</td>\n",
        "      <td>   272</td>\n",
        "      <td> 1100</td>\n",
        "    </tr>\n",
        "    <tr>\n",
        "      <th>guj</th>\n",
        "      <td>  1426</td>\n",
        "      <td>   103</td>\n",
        "      <td>  264</td>\n",
        "    </tr>\n",
        "    <tr>\n",
        "      <th>div</th>\n",
        "      <td>   611</td>\n",
        "      <td>    52</td>\n",
        "      <td>    1</td>\n",
        "    </tr>\n",
        "  </tbody>\n",
        "</table>\n",
        "</div>"
       ],
       "metadata": {},
       "output_type": "pyout",
       "prompt_number": 100,
       "text": [
        "          Wikipedia Editors  Twitter Users  translated_from\n",
        "langcode                                                   \n",
        "ron                   36137          11169             5475\n",
        "fas                   41561           1584             2837\n",
        "hye                    2361            272             1100\n",
        "guj                    1426            103              264\n",
        "div                     611             52                1"
       ]
      }
     ],
     "prompt_number": 100
    },
    {
     "cell_type": "code",
     "collapsed": false,
     "input": [
      "mergedDf.plot(x='translated_from', y='Wikipedia Editors', kind='scatter', loglog=True, title='A')\n",
      "mergedDf.plot(x='translated_from', y='Twitter Users', kind='scatter', loglog=True, title='B')\n",
      "mergedDf.plot(x='Wikipedia Editors', y='Twitter Users', kind='scatter', loglog=True, title='C')"
     ],
     "language": "python",
     "metadata": {},
     "outputs": [
      {
       "metadata": {},
       "output_type": "pyout",
       "prompt_number": 108,
       "text": [
        "<matplotlib.axes.AxesSubplot at 0x1153f1bd0>"
       ]
      },
      {
       "metadata": {},
       "output_type": "display_data",
       "png": "[encoded data removed]",
       "text": [
        "<matplotlib.figure.Figure at 0x115350ed0>"
       ]
      },
      {
       "metadata": {},
       "output_type": "display_data",
       "png": "[encoded data removed]",
       "text": [
        "<matplotlib.figure.Figure at 0x11536bd50>"
       ]
      },
      {
       "metadata": {},
       "output_type": "display_data",
       "png": "[encoded data removed]",
       "text": [
        "<matplotlib.figure.Figure at 0x114bbefd0>"
       ]
      }
     ],
     "prompt_number": 108
    },
    {
     "cell_type": "code",
     "collapsed": false,
     "input": [],
     "language": "python",
     "metadata": {},
     "outputs": []
    },
    {
     "cell_type": "code",
     "collapsed": false,
     "input": [],
     "language": "python",
     "metadata": {},
     "outputs": []
    },
    {
     "cell_type": "code",
     "collapsed": false,
     "input": [],
     "language": "python",
     "metadata": {},
     "outputs": []
    },
    {
     "cell_type": "code",
     "collapsed": false,
     "input": [],
     "language": "python",
     "metadata": {},
     "outputs": [],
     "prompt_number": 0
    },
    {
     "cell_type": "markdown",
     "metadata": {},
     "source": [
      "# Deel 4 Reflectie\n",
      "Je hebt getracht een deel van het artikel te reproduceren. Ook hebben we gedacht over het artikel en de mate van herhaalbaarheid van de vermelde gegevens.\n",
      "\n",
      "Geef nu in hooguit 1 A4 je eigen mening. Behandel deze twee punten: 1. Wat was al goed gedaan? 2. Wat kon beter en hoe dan?"
     ]
    },
    {
     "cell_type": "code",
     "collapsed": false,
     "input": [],
     "language": "python",
     "metadata": {},
     "outputs": []
    }
   ],
   "metadata": {}
  }
 ]
}