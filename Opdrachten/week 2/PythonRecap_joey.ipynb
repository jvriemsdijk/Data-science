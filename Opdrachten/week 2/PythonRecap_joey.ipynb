{
 "metadata": {
  "name": "",
  "signature": "sha256:f45b575e4c0085d0370e1cc3f579e17a02a2ad059bba696a44cfd29d3f48d42e"
 },
 "nbformat": 3,
 "nbformat_minor": 0,
 "worksheets": [
  {
   "cells": [
    {
     "cell_type": "markdown",
     "metadata": {},
     "source": [
      "# Python Recap Exam\n",
      "\n",
      "This exam is meant to test how fluent or how rusty you are in Python. \n",
      "We do some simple things working with lists, counting things, and doing a bit of basic statistics.\n",
      "You may not remember everything at one. That is no problem, if you can reasonably fast find it back using Python's reference.\n",
      "\n",
      "Also, don't forget the great help that IPython can give you: TAB and ?"
     ]
    },
    {
     "cell_type": "heading",
     "level": 4,
     "metadata": {},
     "source": [
      "Start with running the following code."
     ]
    },
    {
     "cell_type": "code",
     "collapsed": false,
     "input": [
      "import re,pprint,nltk\n",
      "\n",
      "# nltk.download()\n",
      "from __future__ import division\n",
      "from nltk.corpus import reuters \n",
      "# make a corpus of all words in the test files\n",
      "testIDs= [w for w in reuters.fileids() if w.startswith('test')]\n",
      "testWords=reuters.words(testIDs)\n",
      "testWords[:5]\n",
      " "
     ],
     "language": "python",
     "metadata": {},
     "outputs": [
      {
       "metadata": {},
       "output_type": "pyout",
       "prompt_number": 1,
       "text": [
        "[u'ASIAN', u'EXPORTERS', u'FEAR', u'DAMAGE', u'FROM']"
       ]
      }
     ],
     "prompt_number": 1
    },
    {
     "cell_type": "heading",
     "level": 3,
     "metadata": {},
     "source": [
      "Questions"
     ]
    },
    {
     "cell_type": "markdown",
     "metadata": {},
     "source": [
      "Make the questions. \n",
      "Answer them  in the code block after the question. \n",
      "\n",
      "Reuse variables that you have defined in earlier questions in later questions."
     ]
    },
    {
     "cell_type": "markdown",
     "metadata": {},
     "source": [
      "\n",
      "\n",
      "(1) How many words/tokens are there in testWords? And how many unique tokens/words? What is the average frequency of a word?\n",
      "Define a variable for each subquestion.\n",
      "Then print out all variables at once. Use this style for the other exercises as well.\n",
      "So something like:\n",
      "```\n",
      "NumWords = ...\n",
      "NumUnique = ...\n",
      "AvgFreq = ....\n",
      "NumWords, NumUnique, AvgFreq\n",
      "```\n",
      "Or even better with a nicely formatted string."
     ]
    },
    {
     "cell_type": "code",
     "collapsed": false,
     "input": [
      "numWords = len(testWords)\n",
      "numUnique = len(set(testWords))\n",
      "avgFreq = numWords/numUnique\n",
      "\n",
      "print \"The total number of words is:\", numWords\n",
      "print \"The number of unique words is:\", numUnique\n",
      "print \"The average nu number of times a word occurs is:\", avgFreq"
     ],
     "language": "python",
     "metadata": {},
     "outputs": [
      {
       "output_type": "stream",
       "stream": "stdout",
       "text": [
        "The total number of words is: 467205\n",
        "The number of unique words is: 22337\n",
        "The average nu number of times a word occurs is: 20.9161928639\n"
       ]
      }
     ],
     "prompt_number": 2
    },
    {
     "cell_type": "markdown",
     "metadata": {},
     "source": [
      "(2) How many bigrams are there in testWords? How many unique ones? What is the average bigram frequency? Explain the difference of the last two numbers with the numbers in the previous question. \n",
      "Make it easy for yourself. Just use the most \"dumb\" definition of bigram."
     ]
    },
    {
     "cell_type": "code",
     "collapsed": false,
     "input": [
      "bigrams = list(nltk.bigrams(testWords))\n",
      "numBigrams = len(bigrams)\n",
      "uniqueBigrams = len(set(bigrams))\n",
      "bigramAvgFreq = numBigrams/uniqueBigrams\n",
      "\n",
      "print numBigrams, uniqueBigrams, bigramAvgFreq\n",
      "print \"\"\"The difference in the number of unique bigrams can be explained by the number of combinations that is possible. Every word can be with another word, thus creating a larger number. The average frequency of bigrams is follows from that. As there are far more possibilities for bigrams, they are likely to come in smaller frequency.\"\"\""
     ],
     "language": "python",
     "metadata": {},
     "outputs": [
      {
       "output_type": "stream",
       "stream": "stdout",
       "text": [
        "467204 155763 2.99945429916\n",
        "The difference in the number of unique bigrams can be explained by the number of combinations that is possible. Every word can be with another word, thus creating a larger number. The average frequency of bigrams is follows from that. As there are far more possibilities for bigrams, they are likely to come in smaller frequency.\n"
       ]
      }
     ],
     "prompt_number": 3
    },
    {
     "cell_type": "markdown",
     "metadata": {},
     "source": [
      "(3)  There are quite some tokens in testWords which are not really \"words\".\n",
      "\n",
      "Use [regular expressions](https://docs.python.org/2/library/re.html) and use the list of english stopwords which can be obtained as follows:\n",
      "\n",
      "```\n",
      "from nltk.corpus import stopwords\n",
      "# test\n",
      "stopwords.words('english')[:20]\n",
      "```\n",
      "\n",
      "Don't display too many digits behind the comma: use the `round()` function to control that.\n",
      "\n",
      "3.1. Create the list of all \"punctuation tokens\" in testWords.\n",
      "\n",
      "3.2. Create the list of all \"stopword tokens\" in testWords. Use NLTK's english stopword list.\n",
      "\n",
      "3.3. Compute the percentage of all tokens in testWords that is a punctuation and the percentage of all tokens in testWords that is a stopword.\n",
      "\n",
      "3.4. How many (as a percentage) of the UNIQUE tokens in testWords is a punctuation? How many a stopword?\n",
      "\n"
     ]
    },
    {
     "cell_type": "code",
     "collapsed": false,
     "input": [
      "from nltk.corpus import stopwords\n",
      "\n",
      "stopWordsEng = stopwords.words(\"english\")\n",
      "\n",
      "punc = []\n",
      "stopWordsToken = []\n",
      "\n",
      "for word in testWords:\n",
      "    punc += re.findall(r'\\W+', word)\n",
      "    if word in stopWordsEng:\n",
      "        stopWordsToken.append(word)\n",
      "\n",
      "numTestWords = len(testWords)\n",
      "percentPunc = round((len(punc) /numTestWords), 4) * 100\n",
      "percentStop = round((len(stopWordsToken) / numTestWords), 4) * 100\n",
      "\n",
      "print \"The percentage of punctuation tokens in testWords:\", percentPunc, \"%\"\n",
      "print \"The percentage of stopwords in testWords:\", percentStop, \"%\"\n",
      "\n",
      "numUniqueTestWords = len(set(testWords))\n",
      "numUniquePunc = len(set(punc))\n",
      "numUniqueStop = len(set(stopWordsToken))\n",
      "percentUniquePunc = round(numUniquePunc / numUniqueTestWords, 4) * 100\n",
      "percentUniqueStop = round(numUniqueStop / numUniqueTestWords, 4) * 100\n",
      "\n",
      "print \"\\n\"\n",
      "print \"The percentage of punctuation in the unique tokens:\", percentUniquePunc, \"%\"\n",
      "print \"The percentage of stopwords in the unique tokens:\", percentUniqueStop, \"%\""
     ],
     "language": "python",
     "metadata": {},
     "outputs": [
      {
       "output_type": "stream",
       "stream": "stdout",
       "text": [
        "The percentage of punctuation tokens in testWords: 14.82\n",
        "The percentage of stopwords in testWords: 22.63\n",
        "\n"
       ]
      },
      {
       "output_type": "stream",
       "stream": "stdout",
       "text": [
        "\n",
        "The percentage of punctuation in the unique tokens: 0.32\n",
        "The percentage of stopwords in the unique tokens: 0.55\n"
       ]
      }
     ],
     "prompt_number": 4
    },
    {
     "cell_type": "markdown",
     "metadata": {},
     "source": [
      "3.5 We will now start counting _how often_ words appear in the list `testWords`. Counting is a very important and often used tool. It is _expensive_ as it involves sorting.\n",
      "\n",
      "There are several ways to do counting, and we look at a few of them:\n",
      "\n",
      "\n"
     ]
    },
    {
     "cell_type": "code",
     "collapsed": false,
     "input": [
      "# The number of times the word \"the\" occurs\n",
      "the = [x for x in testWords if x=='the']\n",
      "len(the), len(set(the)), the[:5]"
     ],
     "language": "python",
     "metadata": {},
     "outputs": [
      {
       "metadata": {},
       "output_type": "pyout",
       "prompt_number": 5,
       "text": [
        "(15048, 1, [u'the', u'the', u'the', u'the', u'the'])"
       ]
      }
     ],
     "prompt_number": 5
    },
    {
     "cell_type": "code",
     "collapsed": false,
     "input": [
      "# Each list has a count method, which is ideal for counting\n",
      "testWords.count('the')"
     ],
     "language": "python",
     "metadata": {},
     "outputs": [
      {
       "metadata": {},
       "output_type": "pyout",
       "prompt_number": 6,
       "text": [
        "15048"
       ]
      }
     ],
     "prompt_number": 6
    },
    {
     "cell_type": "code",
     "collapsed": false,
     "input": [
      "# This trick counts all items in one go and yields a dictionary\n",
      "from collections import Counter\n",
      "z = ['blue', 'red', 'blue', 'yellow', 'blue', 'red']\n",
      "Counter(z), Counter(z)['blue']\n",
      " "
     ],
     "language": "python",
     "metadata": {},
     "outputs": [
      {
       "metadata": {},
       "output_type": "pyout",
       "prompt_number": 7,
       "text": [
        "(Counter({'blue': 3, 'red': 2, 'yellow': 1}), 3)"
       ]
      }
     ],
     "prompt_number": 7
    },
    {
     "cell_type": "code",
     "collapsed": false,
     "input": [
      "# with NLTK we can make a similar datastructure\n",
      "testfd= nltk.FreqDist(testWords)\n",
      "testfd.items()[:5]"
     ],
     "language": "python",
     "metadata": {},
     "outputs": [
      {
       "metadata": {},
       "output_type": "pyout",
       "prompt_number": 8,
       "text": [
        "[(u'Durapipe', 1),\n",
        " (u'Irving', 17),\n",
        " (u'woods', 1),\n",
        " (u'hanging', 1),\n",
        " (u'HARDIE', 1)]"
       ]
      }
     ],
     "prompt_number": 8
    },
    {
     "cell_type": "markdown",
     "metadata": {},
     "source": [
      "3.5.1 Use `set()` and dict comprehension to create a dict like `testfd` using the `.count()` method\n",
      "\n",
      "3.5.2 You now have 3 ways to make a wordcount dictionary. Use the timing functions to see which one is the fastest.\n",
      "\n",
      "3.5.3 Which percentage of the UNIQUE tokens in testWords is a hapax (i.e. occurs only once in testWords)?\n",
      "\n",
      "3.5.4 Which percentage of the   tokens in testWords is a hapax? \n",
      "\n",
      "3.5.5 Explain why the following test returns True: `len(testfd)==len(set(testWords))`"
     ]
    },
    {
     "cell_type": "code",
     "collapsed": false,
     "input": [
      "# 3.5.1\n",
      "# commented out because the code takes WAAAAAAAAAAAAAAAAAAAAAAAAAAAAAAAY too long\n",
      "# testWordsDict = {word: testWords.count(word) for word in set(testWords)}\n",
      "\n",
      "# below is a test case to show that the above code should work\n",
      "\n",
      "# testList = ['asd', 'asd', 'ewq', 'fdds', 1,2,3,4,5,6,7,8,9,0,9,8,7,6,4,6,8,6,4,34,6,8,67,4,4,1,3,2,43,6,23,765,4,4,4,656,456]\n",
      "# testDict = {word: testList.count(word) for word in set(testList)}\n",
      "\n",
      "# print testDict\n",
      "\n",
      "\n",
      "\n",
      "#3.5.2\n",
      "\n",
      "# the dict comp is not taken into account because of the reasons stated above\n",
      "\n",
      "import timeit\n",
      "\n",
      "setup = \"\"\"import re,pprint,nltk\n",
      "from collections import Counter\n",
      "from nltk.corpus import reuters \n",
      "testIDs= [w for w in reuters.fileids() if w.startswith('test')]\n",
      "testWords=reuters.words(testIDs)\"\"\"\n",
      "\n",
      "timeNLTK = timeit.timeit('nltk.FreqDist(testWords)', setup=setup, number=1)\n",
      "timeCounter = timeit.timeit('Counter(testWords)', setup=setup, number=1)\n",
      "\n",
      "print \"NLTK took:\", timeNLTK, \"seconds\"\n",
      "print \"Counter took:\", timeCounter, \"seconds\"\n",
      "print \"\\n\"\n",
      "\n",
      "\n",
      "\n",
      "#3.5.3\n",
      "numUniqueHapax = 0\n",
      "for key in testfd:\n",
      "    if testfd[key] == 1:\n",
      "        numUniqueHapax += 1\n",
      "\n",
      "print \"The percentage of UNIQUE hapax words in testWords is:\", round(numUniqueHapax / len(testfd), 4) * 100, \"%\"\n",
      "print \"\\n\"\n",
      "\n",
      "\n",
      "\n",
      "#3.5.4\n",
      "print \"The percentage of hapax words in testWords is:\", round(numUniqueHapax / len(testWords), 4) * 100, \"%\"\n",
      "print \"\\n\"\n",
      "\n",
      "\n",
      "#3.5.5\n",
      "# Because set(testWords) is all of the unique words in testWords, and testfd contains how often each word occurs in testWords. \n",
      "# Meaning the keyset of testfd is set(testWords)"
     ],
     "language": "python",
     "metadata": {},
     "outputs": [
      {
       "output_type": "stream",
       "stream": "stdout",
       "text": [
        "NLTK took: 1.29966165789 seconds\n",
        "Counter took: 1.28657552251 seconds\n",
        "\n",
        "\n",
        "The percentage of UNIQUE hapax words in testWords is: 40.11 %\n",
        "\n",
        "\n",
        "The percentage of hapax words in testWords is: 1.92 %\n",
        "\n",
        "\n"
       ]
      }
     ],
     "prompt_number": 17
    },
    {
     "cell_type": "markdown",
     "metadata": {},
     "source": [
      "(4) Count the tokens in testWords. Make an estimate of the following probability: given a string t, if we draw an arbitrary  token from testWords, what is the chance that it equals t?\n",
      "\n",
      "Program it as a function prob(str).\n",
      "Give an example of a high and of a low probability word.\n",
      "\n",
      "Does prob work on every input string?\n",
      "\n",
      "Test that 'the probabilities add up to 1'."
     ]
    },
    {
     "cell_type": "code",
     "collapsed": false,
     "input": [
      "# that depends on if t is found in testWords, if so: the chance is equal to: testWords.count(t) / len(testWords)\n",
      "\n",
      "# if not, very, very, very, very low chance, seeing that the number of possible strings is huge\n",
      "\n",
      "import numpy as np\n",
      "\n",
      "mostLikelyWord = \"\"\n",
      "mostLikelyWordCount = 0\n",
      "\n",
      "for key in testfd:\n",
      "    if testfd[key] >= mostLikelyWordCount:\n",
      "        mostLikelyWord = key\n",
      "        mostLikelyWordCount = testfd[key]\n",
      "\n",
      "print \"The most likely token is:\", mostLikelyWord, \"and it occurs:\", mostLikelyWordCount, \"times\"\n",
      "\n",
      "\n",
      "def prob(str):\n",
      "    \"\"\"\n",
      "    Assumes that testWords is initialized\n",
      "    \"\"\"\n",
      "    if str in testWords:\n",
      "        return testWords.count(str) / len(testWords)\n",
      "    else :\n",
      "        return 0\n",
      "      \n",
      "#test\n",
      "print prob(\"the\")\n",
      "print prob(\".\")\n",
      "print prob(\"keyboardfacerollstringdingeswaternietinstaat\")\n",
      "print \"\\n\"\n",
      "\n",
      "\n",
      "# prob test; takes way too long\n",
      "# totalChance = 0.0\n",
      "# for w in set(testWords):\n",
      "#     totalChance += prob(w)\n",
      "\n",
      "# print totalChance\n",
      "\n",
      "# the above should work however since the chance is testWords.count(t) / len(testWords) and the total count of each word is equal to \n",
      "# the length of testWords, this is equal to 1 / 1 = 1, hence 'the probabilities add up to 1'.\n"
     ],
     "language": "python",
     "metadata": {},
     "outputs": [
      {
       "output_type": "stream",
       "stream": "stdout",
       "text": [
        ". 27578\n",
        "0.0322085594118"
       ]
      },
      {
       "output_type": "stream",
       "stream": "stdout",
       "text": [
        "\n",
        "0.0590276217078"
       ]
      },
      {
       "output_type": "stream",
       "stream": "stdout",
       "text": [
        "\n",
        "0"
       ]
      }
     ]
    },
    {
     "cell_type": "markdown",
     "metadata": {},
     "source": [
      "(5) Suppose we have printed out testWords  using exactly one space between each two tokens. Suppose we have covered a wall with this string. Now you throw a dart missile on this wall. Assume that it always hits exactly one character, which is either a space (inserted by our printing process) or a character in a token.\n",
      "\n",
      "5.1 What is the probability that it hits a space?\n",
      "\n",
      "5.2 Define a function prob(n) which for integer n returns the probability that the missile hits a token of length n.\n",
      "\n",
      "5.3 Nicely print out a table of the form \"n,  prob(n)\" which for each n returns   prob(n). Format it well, and truncate numbers. Bonus points for those who make a plot.\n",
      "\n",
      "5.3.1 Write a good test which indicates that prob(n) works correctly.\n",
      "\n",
      "5.4 What is the probability that it hits a stopword?\n"
     ]
    },
    {
     "cell_type": "code",
     "collapsed": false,
     "input": [],
     "language": "python",
     "metadata": {},
     "outputs": []
    },
    {
     "cell_type": "markdown",
     "metadata": {},
     "source": [
      "BONUS (if you have time left or got bored)\n",
      "\n",
      "Show that the  words in testWords have a Zipfian distribution. Count the words, order them by their frequency. Plot the log(frequency) times log(index of the word). \n",
      "\n",
      "Use `% matplotlib inline` to display the figure in the notebook.\n",
      "\n",
      "Is it a straight line?\n",
      "\n",
      "Now do the same for the unigrams and the bigrams together in one list. Is the plot \"better\"? What does 'better' mean here?\n"
     ]
    },
    {
     "cell_type": "code",
     "collapsed": false,
     "input": [],
     "language": "python",
     "metadata": {},
     "outputs": []
    }
   ],
   "metadata": {}
  }
 ]
}