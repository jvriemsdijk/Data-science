{
 "metadata": {
  "name": "",
  "signature": "sha256:e8f4b376a03ff35e341024195fc7d9bd9fe91d7efd8a8e637dfe4080cf8f321c"
 },
 "nbformat": 3,
 "nbformat_minor": 0,
 "worksheets": []
}