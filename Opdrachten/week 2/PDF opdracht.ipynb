{
 "metadata": {
  "name": "",
  "signature": "sha256:6f72e2d59a11d359ff7a918ef1295f0325f8ea5fa934550379a29b356a929e41"
 },
 "nbformat": 3,
 "nbformat_minor": 0,
 "worksheets": [
  {
   "cells": [
    {
     "cell_type": "markdown",
     "metadata": {},
     "source": [
      "##PDF parsing\n",
      "\n",
      "    1. Save a wordfile as PDF, open it in Python, extract all text. Describe the differences, if any. Try the same with a two column PDF file from the web. This exercise gets more interesting if you use difficult PDF. Why not try http://www.stdout.org/~winston/latex/latexsheet.pdf?\n",
      "\n",
      "    2. Is the word order still as it should be?\n",
      "    \n",
      "    3. What about the strange characters?"
     ]
    },
    {
     "cell_type": "markdown",
     "metadata": {},
     "source": [
      "## 1.\n",
      "\n",
      "Since the following python solutions for pdf text extractions continued to result in errors:\n",
      "\n",
      "- [slate](https://pypi.python.org/pypi/slate)\n",
      "- [pdfminer](https://pypi.python.org/pypi/pdfminer/)\n",
      "- [pypdf](https://pypi.python.org/pypi/pyPdf/1.13)\n",
      "\n",
      "We have used the following [website](http://www.onlineocr.net/) to extract the text from the pdf files contained within our Data folder.\n",
      "\n",
      "Here the different markups were lost during the ocr as well as any linebreaks, leaving the text of the sample pdf in a single line. \n",
      "\n",
      "## 2. \n",
      "\n",
      "For latexsheet.pdf the word order was no longer as it should be. The word order was line by line with no regard for the colums.\n",
      "\n",
      "## 3.\n",
      "\n",
      "The special characters were interpreted as legal characters in utf-8, meaning they did not match the actual characters"
     ]
    },
    {
     "cell_type": "code",
     "collapsed": false,
     "input": [
      "# import pdfminer\n",
      "# import slate\n",
      "# import io\n",
      "\n",
      "# # pdfFileName = \"Data/PDF-Word.pdf\"\n",
      "\n",
      "# latexSheetFileName = \"Data/latexsheet.pdf\"\n",
      "\n",
      "# pdfFile = io.FileIO(latexSheetFileName, \"rb\")\n",
      "\n",
      "# print slate.PDF(pdfFile)"
     ],
     "language": "python",
     "metadata": {},
     "outputs": [],
     "prompt_number": 36
    },
    {
     "cell_type": "code",
     "collapsed": false,
     "input": [
      "# from pdfminer.pdfparser import PDFParser\n",
      "# from pdfminer.pdfdocument import PDFDocument\n",
      "# from pdfminer.pdfpage import PDFPage\n",
      "# from pdfminer.pdfpage import PDFTextExtractionNotAllowed\n",
      "# from pdfminer.pdfinterp import PDFResourceManager\n",
      "# from pdfminer.pdfinterp import PDFPageInterpreter\n",
      "# from pdfminer.pdfdevice import PDFDevice\n",
      "# import io\n",
      "\n",
      "# # Open a PDF file.\n",
      "# fp = io.FileIO('Data/simple1.pdf', 'rb')\n",
      "# # Create a PDF parser object associated with the file object.\n",
      "# parser = PDFParser(fp)\n",
      "# # Create a PDF document object that stores the document structure.\n",
      "# # Supply the password for initialization.\n",
      "# document = PDFDocument(parser)\n",
      "# # Check if the document allows text extraction. If not, abort.\n",
      "# if not document.is_extractable:\n",
      "#     raise PDFTextExtractionNotAllowed\n",
      "# # Create a PDF resource manager object that stores shared resources.\n",
      "# rsrcmgr = PDFResourceManager()\n",
      "# # Create a PDF device object.\n",
      "# device = PDFDevice(rsrcmgr)\n",
      "# # Create a PDF interpreter object.\n",
      "# interpreter = PDFPageInterpreter(rsrcmgr, device)\n",
      "# # Process each page contained in the document.\n",
      "\n",
      "\n",
      "# for page in PDFPage.create_pages(document):\n",
      "    \n",
      "    \n",
      "#     interpreter.process_page(page)\n",
      "    \n",
      "# print document.info\n",
      "# # print interpreter.get_current_state()"
     ],
     "language": "python",
     "metadata": {},
     "outputs": [],
     "prompt_number": 37
    }
   ],
   "metadata": {}
  }
 ]
}