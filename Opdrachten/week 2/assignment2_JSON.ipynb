{
 "metadata": {
  "name": "",
  "signature": "sha256:56b5d046bbfe108a7e86a2af16cca166a633f89340bef84acb11f95629574b06"
 },
 "nbformat": 3,
 "nbformat_minor": 0,
 "worksheets": [
  {
   "cells": [
    {
     "cell_type": "code",
     "collapsed": false,
     "input": [
      "import urllib2\n",
      "from bs4 import BeautifulSoup\n",
      "import simplejson as json\n",
      "\n",
      "url = \"http://maartenmarx.nl/teaching/ISatWork/NoteBooks/consuming-json-data-from-a-web-service.ipynb\"\n",
      "jsonfile= urllib2.urlopen(url)\n",
      "jsonfile = jsonfile.read()  # The jsonfile as a Python string\n",
      "json_as_python_object = json.loads(jsonfile) # The jsonfile transformed into a Python dict\n",
      "\n",
      "# test \n",
      "# jsonfile[:80],json_as_python_object.keys(),len(json_as_python_object), len(jsonfile),\n",
      "# jsonCodeless = {}\n",
      "\n",
      "for cell in json_as_python_object[\"worksheets\"][0][\"cells\"]:\n",
      "    print cell[\"cell_type\"] == \"code\"\n",
      "\n",
      "print \"\\n\"    \n",
      "json_as_python_object[\"worksheets\"][0][\"cells\"] = [c for c in json_as_python_object[\"worksheets\"][0][\"cells\"] if c[\"cell_type\"] != \"code\"]\n",
      "\n",
      "\n",
      "print \"\\n\"\n",
      "for cell in json_as_python_object[\"worksheets\"][0][\"cells\"]:\n",
      "    print cell[\"cell_type\"] == \"code\"\n",
      "\n",
      "# with open('consuming-json-data-from-a-web-service.ipynb', 'w') as outfile:\n",
      "#         json.dump(json_as_python_object, outfile)\n",
      "#dict_you_want = { your_key: old_dict[your_key] for your_key in your_keys }\n"
     ],
     "language": "python",
     "metadata": {},
     "outputs": [
      {
       "output_type": "stream",
       "stream": "stdout",
       "text": [
        "False\n",
        "False\n",
        "False\n",
        "False\n",
        "True\n",
        "False\n",
        "True\n",
        "False\n",
        "True\n",
        "False\n",
        "False\n",
        "False\n",
        "False\n",
        "True\n",
        "True\n",
        "True\n",
        "True\n",
        "False\n",
        "True\n",
        "True\n",
        "True\n",
        "\n",
        "\n",
        "\n",
        "\n",
        "False\n",
        "False\n",
        "False\n",
        "False\n",
        "False\n",
        "False\n",
        "False\n",
        "False\n",
        "False\n",
        "False\n",
        "False\n"
       ]
      }
     ],
     "prompt_number": 20
    },
    {
     "cell_type": "code",
     "collapsed": false,
     "input": [],
     "language": "python",
     "metadata": {},
     "outputs": []
    }
   ],
   "metadata": {}
  }
 ]
}