{
 "metadata": {
  "celltoolbar": "Slideshow",
  "name": "",
  "signature": "sha256:00d9af092d954d602d0611dcb7b76c56699570fcc094584528c71c194d6662ab"
 },
 "nbformat": 3,
 "nbformat_minor": 0,
 "worksheets": [
  {
   "cells": [
    {
     "cell_type": "markdown",
     "metadata": {
      "slideshow": {
       "slide_type": "slide"
      }
     },
     "source": [
      "# Lecture notes week 3\n",
      "\n",
      "## Onderwerp: werken met hele grote spreadsheets\n",
      "\n",
      "### Inhoud\n",
      "\n",
      "1. Taken met spreadsheets\n",
      "1. Spreadsheet programmas\n",
      "1. Waarom moet je in dit vak eigenlijk leren werken met spreeadsheets?\n",
      "1. Spreadsheet manipulatie in Python met Pandas"
     ]
    },
    {
     "cell_type": "markdown",
     "metadata": {
      "slideshow": {
       "slide_type": "slide"
      }
     },
     "source": [
      "# Taken met spreadsheets\n",
      "\n",
      "## Jullie beurt:\n",
      "\n",
      "1. Maak een lijstje met taken die je uitvoert met spreadsheets\n",
      "1. Probeer ze _abstract_ te beschrijven, als een taak in het spreadsheet,\n",
      "    * onafhankelijk van een bepaalde instantie van een taak\n",
      "    * Bijvoorbeeld: _rijen toevoegen_ , _gemiddelde berekenen_\n",
      "    \n",
      "1. Probeer de taken ook te groeperen"
     ]
    },
    {
     "cell_type": "markdown",
     "metadata": {
      "slideshow": {
       "slide_type": "subslide"
      }
     },
     "source": [
      "# Taken met spreadsheets\n",
      "\n",
      "## Data insert/delete/update\n",
      "* rijen weghalen/toevoegen/veranderen  : nieuw element\n",
      "* kolom      \"     : nieuwe eigenschap"
     ]
    },
    {
     "cell_type": "markdown",
     "metadata": {
      "slideshow": {
       "slide_type": "fragment"
      }
     },
     "source": [
      "## Ander view\n",
      "* Herordenen, sorteren\n",
      "* slicing/dicing (selecteer alleen bepaalde rijen/kolommen)"
     ]
    },
    {
     "cell_type": "markdown",
     "metadata": {
      "slideshow": {
       "slide_type": "fragment"
      }
     },
     "source": [
      "## combineren van spreadsheets\n",
      "* Twee sheets aan elkaar voegen\n",
      "    * sheet met jullie student ID en cijfers  (uit Blackboard)\n",
      "    * sheet met jullie student ID en aanwezigheid (uit Datanose)\n",
      "* Waarom?\n",
      "    * Kijken of er een verband is $\\ldots$"
     ]
    },
    {
     "cell_type": "markdown",
     "metadata": {
      "slideshow": {
       "slide_type": "subslide"
      }
     },
     "source": [
      "## Aggregaties\n",
      "* nieuw veld is een ingewikkelde finctie van data in een rij, of een kolom\n",
      "    * bijv: som, gemiddelde, mediaan, logaritme\n",
      "* **correlatie**\n",
      "    * bepaal de \"gelijkheid\" van 2 rijen of kolommen\n",
      "    "
     ]
    },
    {
     "cell_type": "markdown",
     "metadata": {
      "slideshow": {
       "slide_type": "subslide"
      }
     },
     "source": [
      "## Groeperen Pivot table\n",
      "\n",
      "* Pivot table is typisch een 3D matrix.\n",
      "    * gebruik bij categoriale eigenschappen\n",
      "* Groepeer rijen op een eigenschap (bijvoorbeeld geslacht)\n",
      "* Kies 1 kolom, maak groepjes voor elke waarde\n",
      "    * bijv. _opleiding_ \n",
      "* Kies een te verklaren _variabele_ (kolom dus), en \n",
      "    * vat die samen voor elke cel (hier geslacht-opleiding combinatie)\n",
      "    * bijvoorbeeld: _gemiddeld inkomen_ \n",
      "* Als je de aantallen in de cellen zet heb je een **kruistabel** (crosstabs).\n",
      "* Vaak eerste stap in data exploratie.\n",
      "\n",
      "### Bij 2 numerieke variabelen kan je een scatterplot maken\n",
      "    * Eg, leeftijd tegen inkomen\n",
      "\n"
     ]
    },
    {
     "cell_type": "markdown",
     "metadata": {
      "slideshow": {
       "slide_type": "subslide"
      }
     },
     "source": [
      "## Presentatie van resultaten\n",
      "\n",
      "* gave grafieken, tabellen, animaties\n",
      "* steeds vaker _interactief_\n",
      "\n"
     ]
    },
    {
     "cell_type": "markdown",
     "metadata": {
      "slideshow": {
       "slide_type": "slide"
      }
     },
     "source": [
      "# Spreadsheet programmas\n",
      "\n",
      "* Excel, openoffice, Google spreadsheets\n",
      "    * allemaal zo'n beetje hetzelfde\n",
      "* Google Fusion tables\n",
      "    * kan echt grote spreadsheets aan\n",
      "    * makkelijk plaatje te maken\n",
      "    * interactief\n",
      "    * op het web\n",
      "    * Je kan _makkelijk_ spreadsheets **combineren** (= fusion)\n",
      "* `awk`, oer Linux spreadsheet/database programma  op de command line (dus iedereen met een Mac heeft het)\n",
      "    * kan hele grote bestanden aan\n",
      "    * doet veel \"regelgebaseerd\", dus zuinig met geheugen\n",
      "    * echt programmeren\n",
      "* `pandas` in Python"
     ]
    },
    {
     "cell_type": "markdown",
     "metadata": {
      "slideshow": {
       "slide_type": "slide"
      }
     },
     "source": [
      "# Waarom moet je in dit vak eigenlijk leren werken met spreeadsheets?\n",
      "\n",
      "## Onderzoeks cyclus\n",
      "\n",
      "1. Kom met een idee/hypothese/vraag/$\\ldots$\n",
      "1. verzamel data \n",
      "1. schoon je data op\n",
      "1. herstructureer je data (meestal in de vorm van _numerieke data_)\n",
      "1. ga rekenen, doe statistiek, toets je hypothese, $\\ldots$\n",
      "1. rapporteer"
     ]
    },
    {
     "cell_type": "markdown",
     "metadata": {
      "slideshow": {
       "slide_type": "fragment"
      }
     },
     "source": [
      "### De laatste twee stappen kunnen vaak prima in een spreadsheet programma.\n",
      "* Als je geluk hebt zijn de data-verzamel/opschoon/herstructureer stappen al voor je gedaan.\n",
      "    * Jullie hebben met de RSS en woordje tel oppdracht gezien wat een gedoe dat kan zijn....\n",
      "    "
     ]
    },
    {
     "cell_type": "markdown",
     "metadata": {
      "slideshow": {
       "slide_type": "fragment"
      }
     },
     "source": [
      "### Waarom mogen we niet lekker blijven Excelen?\n",
      "1. Schaalt niet\n",
      "    1. Niet naar grote datasets (wil ie niet inlezen)\n",
      "    1. Niet naar steeds dezelfde taak uitvoeren (want handmatig via GUI commandos geven)\n",
      "    1. Niet naar echt heavy berekeningen \n",
      "1. Beperkte functionaliteit\n",
      "    1. Bijvoorbeeld niet makkelijk om data op te schonen \n",
      "        * Kan wel handig in Google Refine.\n",
      "1. Integratie met allerlei andere tools\n",
      "    * Kan natuurlijk heerlijk in Python"
     ]
    },
    {
     "cell_type": "markdown",
     "metadata": {
      "slideshow": {
       "slide_type": "slide"
      }
     },
     "source": [
      "# Spreadsheet manipulatie in Python met Pandas\n",
      "\n",
      "## Invoer vanuit andere formaten is vaak kinderlijk eenvoudig\n",
      "* See <http://pandas.pydata.org/pandas-docs/stable/io.html>\n",
      "\n",
      "```\n",
      "import pandas as pd\n",
      "\n",
      "csvfilename= os.path.join(path, 'names2.csv')\n",
      "dataframe=pd.DataFrame(all_vk_items)  # all_vk_items is a list of dicts\n",
      "dataframe.to_csv(csvfilename, encoding='utf-8') # and just write it away\n",
      "```"
     ]
    },
    {
     "cell_type": "markdown",
     "metadata": {},
     "source": [
      "# Pandas in actie\n",
      "\n",
      "## We bekijken 2 hele goede tutorials\n",
      "\n",
      "* <https://github.com/jvns/pandas-cookbook>, \n",
      "    * locally versie (met wat extra code en opgaven) <http://maartenmarx.nl/teaching/ISatWork/NoteBooks/pandas-cookbook/>\n",
      "* <http://pandas.pydata.org/pandas-docs/stable/10min.html>\n",
      "    \n",
      "## En we hebben zelf een notebook met de eerste handige dingetjes\n",
      "\n",
      "* <http://nbviewer.ipython.org/url/maartenmarx.nl/teaching/ISatWork/NoteBooks/Pandas.ipynb>\n",
      "    \n",
      "    "
     ]
    },
    {
     "cell_type": "code",
     "collapsed": false,
     "input": [
      "# Converting this notebook to a slideshow\n",
      "!ipython nbconvert --to slides --reveal-prefix \"http://maartenmarx.nl/reveal.js\" lecture_notes_week_3.ipynb"
     ],
     "language": "python",
     "metadata": {},
     "outputs": [
      {
       "output_type": "stream",
       "stream": "stdout",
       "text": [
        "[NbConvertApp] Using existing profile dir: u'/Users/admin/.ipython/profile_default'\r\n"
       ]
      },
      {
       "output_type": "stream",
       "stream": "stdout",
       "text": [
        "[NbConvertApp] Converting notebook lecture_notes_week_3.ipynb to slides\r\n"
       ]
      },
      {
       "output_type": "stream",
       "stream": "stdout",
       "text": [
        "[NbConvertApp] Support files will be in lecture_notes_week_3_files/\r\n"
       ]
      },
      {
       "output_type": "stream",
       "stream": "stdout",
       "text": [
        "[NbConvertApp] Loaded template slides_reveal.tpl\r\n"
       ]
      },
      {
       "output_type": "stream",
       "stream": "stdout",
       "text": [
        "/Users/admin/Library/Enthought/Canopy_64bit/User/lib/python2.7/site-packages/IPython/nbconvert/filters/markdown.py:78: UserWarning: Node.js 0.9.12 or later wasn't found.\r\n",
        "Nbconvert will try to use Pandoc instead.\r\n",
        "  \"Nbconvert will try to use Pandoc instead.\")\r\n"
       ]
      },
      {
       "output_type": "stream",
       "stream": "stdout",
       "text": [
        "[NbConvertApp] Writing 197665 bytes to lecture_notes_week_3.slides.html\r\n"
       ]
      }
     ],
     "prompt_number": 4
    },
    {
     "cell_type": "code",
     "collapsed": false,
     "input": [
      "!mv lecture_notes_week_3.slides.html ../Slides/"
     ],
     "language": "python",
     "metadata": {},
     "outputs": [],
     "prompt_number": 5
    },
    {
     "cell_type": "code",
     "collapsed": false,
     "input": [
      "from IPython.display import HTML\n",
      "HTML('<iframe src=http://slideviewer.herokuapp.com/url/maartenmarx.nl/teaching/ISatWork/LectureNotes/lecture_notes_week_3.ipynb  width=700 height=350></iframe>')"
     ],
     "language": "python",
     "metadata": {},
     "outputs": [
      {
       "html": [
        "<iframe src=http://slideviewer.herokuapp.com/url/maartenmarx.nl/teaching/ISatWork/LectureNotes/lecture_notes_week_3.ipynb  width=700 height=350></iframe>"
       ],
       "metadata": {},
       "output_type": "pyout",
       "prompt_number": 10,
       "text": [
        "<IPython.core.display.HTML at 0x103691c50>"
       ]
      }
     ],
     "prompt_number": 10
    }
   ],
   "metadata": {}
  }
 ]
}