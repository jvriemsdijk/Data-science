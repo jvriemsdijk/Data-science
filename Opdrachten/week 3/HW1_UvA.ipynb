{
 "metadata": {
  "name": "",
  "signature": "sha256:163b87f54c5231032b2368ba55ddce255a2a20c102560ad8998ca9b3550edff2"
 },
 "nbformat": 3,
 "nbformat_minor": 0,
 "worksheets": [
  {
   "cells": [
    {
     "cell_type": "markdown",
     "metadata": {},
     "source": [
      "# Homework 1. Exploratory Data Analysis\n",
      "\n",
      " "
     ]
    },
    {
     "cell_type": "markdown",
     "metadata": {},
     "source": [
      "## Introduction\n",
      "\n",
      "In this homework we ask you  a question that we expect you to answer using data. We ask you to complete a series of tasks that should help guide you through the data analysis. Complete these tasks and then write a short (100 words or less) answer to the question.\n",
      "\n",
      " \n",
      "#### Data\n",
      " \n",
      "\n",
      "1. The [Sean Lahman's Baseball Database](http://seanlahman.com/baseball-archive/statistics) which contains the \"complete batting and pitching statistics from 1871 to 2013, plus fielding statistics, standings, team stats, managerial records, post-season data, and more. For more details on the latest release, please [read the documentation](http://seanlahman.com/files/database/readme2012.txt).\"\n",
      " \n",
      "\n",
      "#### Purpose\n",
      "\n",
      "In this assignment, you will learn how to: \n",
      "\n",
      "a. Load in CSV files from the web. \n",
      "\n",
      "b. Create functions in python. \n",
      "\n",
      "C. Create plots and summary statistics for exploratory data analysis such as histograms, boxplots and scatter plots. \n",
      "\n",
      "\n",
      "#### Useful libraries for this assignment \n",
      "\n",
      "* [numpy](http://docs.scipy.org/doc/numpy-dev/user/index.html), for arrays\n",
      "* [pandas](http://pandas.pydata.org/), for data frames\n",
      "* [matplotlib](http://matplotlib.org/), for plotting\n",
      "\n",
      "---"
     ]
    },
    {
     "cell_type": "code",
     "collapsed": false,
     "input": [
      "# special IPython command to prepare the notebook for matplotlib\n",
      "%matplotlib inline \n",
      "\n",
      "import numpy as np\n",
      "import pandas as pd\n",
      "import matplotlib.pyplot as plt\n",
      "\n",
      "import requests\n",
      "import StringIO\n",
      "import zipfile\n",
      "import scipy.stats "
     ],
     "language": "python",
     "metadata": {},
     "outputs": [],
     "prompt_number": 1
    },
    {
     "cell_type": "markdown",
     "metadata": {},
     "source": [
      "## Problem 1\n",
      "\n",
      "In 2002 and 2003 Oakland A's, a team that used data science, had a competitive advantage. Since, others teams have started using data science as well. Use exploratory data analysis to determine if the competitive advantage has since disappeared. "
     ]
    },
    {
     "cell_type": "markdown",
     "metadata": {},
     "source": [
      "#### Problem 1(a) \n",
      "Load in [these CSV files](http://seanlahman.com/files/database/lahman-csv_2014-02-14.zip) from the [Sean Lahman's Baseball Database](http://seanlahman.com/baseball-archive/statistics). For this assignment, we will use the 'Salaries.csv' and 'Teams.csv' tables. Read these tables into a pandas `DataFrame` and show the head of each table. \n",
      "\n",
      "**Hint** Use the [requests](http://docs.python-requests.org/en/latest/), [StringIO](http://docs.python.org/2/library/stringio.html) and [zipfile](https://docs.python.org/2/library/zipfile.html) modules to get from the web.  "
     ]
    },
    {
     "cell_type": "code",
     "collapsed": false,
     "input": [
      "def getZIP(zipFile): # Get zipfile function\n",
      "    request = requests.get(zipFile).content # Requests content of zipfiles\n",
      "    string = StringIO.StringIO(request)\n",
      "    zf = zipfile.ZipFile(string, 'r') # Gets a list of zipfiles\n",
      "    return zf\n",
      "\n",
      "zipUrl = 'http://seanlahman.com/files/database/lahman-csv_2014-02-14.zip'\n",
      "zf = getZIP(zipUrl)\n",
      "\n",
      "\n",
      "tables = zf.namelist() # Return a list of file names in the archive.\n",
      "\n",
      "# Unzip specific zip files\n",
      "salaries = pd.read_csv(zf.open(tables[tables.index('Salaries.csv')]))\n",
      "teams = pd.read_csv(zf.open(tables[tables.index('Teams.csv')]))\n",
      "\n",
      "# Print heads\n",
      "print \"Head of player salaries:\"\n",
      "print salaries.head()\n",
      "print \"\\n\"\n",
      "print \"Head of teams:\"\n",
      "print teams.head()\n"
     ],
     "language": "python",
     "metadata": {},
     "outputs": [
      {
       "output_type": "stream",
       "stream": "stdout",
       "text": [
        "Head of player salaries:\n",
        "   yearID teamID lgID   playerID   salary\n",
        "0    1985    BAL   AL  murraed02  1472819\n",
        "1    1985    BAL   AL   lynnfr01  1090000\n",
        "2    1985    BAL   AL  ripkeca01   800000\n",
        "3    1985    BAL   AL   lacyle01   725000\n",
        "4    1985    BAL   AL  flanami01   641667\n",
        "\n",
        "\n",
        "Head of teams:\n",
        "   yearID lgID teamID franchID divID  Rank   G  Ghome   W   L ...  DP    FP  \\\n",
        "0    1871  NaN    PH1      PNA   NaN     1  28    NaN  21   7 ... NaN  0.84   \n",
        "1    1871  NaN    CH1      CNA   NaN     2  28    NaN  19   9 ... NaN  0.82   \n",
        "2    1871  NaN    BS1      BNA   NaN     3  31    NaN  20  10 ... NaN  0.83   \n",
        "3    1871  NaN    WS3      OLY   NaN     4  32    NaN  15  15 ... NaN  0.85   \n",
        "4    1871  NaN    NY2      NNA   NaN     5  33    NaN  16  17 ... NaN  0.83   \n",
        "\n",
        "                      name                      park  attendance  BPF  PPF  \\\n",
        "0   Philadelphia Athletics  Jefferson Street Grounds         NaN  102   98   \n",
        "1  Chicago White Stockings   Union Base-Ball Grounds         NaN  104  102   \n",
        "2     Boston Red Stockings       South End Grounds I         NaN  103   98   \n",
        "3      Washington Olympics          Olympics Grounds         NaN   94   98   \n",
        "4         New York Mutuals  Union Grounds (Brooklyn)         NaN   90   88   \n",
        "\n",
        "   teamIDBR  teamIDlahman45  teamIDretro  \n",
        "0       ATH             PH1          PH1  \n",
        "1       CHI             CH1          CH1  \n",
        "2       BOS             BS1          BS1  \n",
        "3       OLY             WS3          WS3  \n",
        "4       NYU             NY2          NY2  \n",
        "\n",
        "[5 rows x 48 columns]"
       ]
      },
      {
       "output_type": "stream",
       "stream": "stdout",
       "text": [
        "\n"
       ]
      }
     ],
     "prompt_number": 2
    },
    {
     "cell_type": "markdown",
     "metadata": {},
     "source": [
      "#### Problem 1(b)\n",
      "\n",
      "Summarize the Salaries DataFrame to show the total salaries for each team for each year. Show the head of the new summarized DataFrame. "
     ]
    },
    {
     "cell_type": "code",
     "collapsed": false,
     "input": [
      "totalSalaries = salaries.groupby(['yearID','teamID'], as_index=False).sum() # as_index=False makes sure problem1(c) works.\n",
      "print totalSalaries.head()"
     ],
     "language": "python",
     "metadata": {},
     "outputs": [
      {
       "output_type": "stream",
       "stream": "stdout",
       "text": [
        "   yearID teamID    salary\n",
        "0    1985    ATL  14807000\n",
        "1    1985    BAL  11560712\n",
        "2    1985    BOS  10897560\n",
        "3    1985    CAL  14427894\n",
        "4    1985    CHA   9846178\n"
       ]
      }
     ],
     "prompt_number": 11
    },
    {
     "cell_type": "markdown",
     "metadata": {},
     "source": [
      "#### Problem 1(c)\n",
      "\n",
      "Merge the new summarized Salaries DataFrame and Teams DataFrame together to create a new DataFrame\n",
      "showing wins and total salaries for each team for each year year. Show the head of the new merged DataFrame.\n",
      "\n",
      "**Hint**: Merge the DataFrames using `teamID` and `yearID`."
     ]
    },
    {
     "cell_type": "code",
     "collapsed": false,
     "input": [
      "merged = pd.merge(totalSalaries, teams, how=\"inner\", on=['teamID', 'yearID'])\n",
      "merged.head()\n",
      "# Only project wins, total salaries for each team and for each year\n",
      "print merged[['yearID', 'teamID', 'W', 'salary']].head()"
     ],
     "language": "python",
     "metadata": {},
     "outputs": [
      {
       "output_type": "stream",
       "stream": "stdout",
       "text": [
        "   yearID teamID   W    salary\n",
        "0    1985    ATL  66  14807000\n",
        "1    1985    BAL  83  11560712\n",
        "2    1985    BOS  81  10897560\n",
        "3    1985    CAL  90  14427894\n",
        "4    1985    CHA  85   9846178\n"
       ]
      }
     ],
     "prompt_number": 19
    },
    {
     "cell_type": "markdown",
     "metadata": {},
     "source": [
      "#### Problem 1(d)\n",
      "\n",
      "How would you graphically display the relationship between total wins and total salaries for a given year? What kind of plot would be best? Choose a plot to show this relationship and specifically annotate the Oakland baseball team on the on the plot. Show this plot across multiple years. In which years can you detect a competitive advantage from the Oakland baseball team of using data science? When did this end? \n",
      "\n",
      "**Hints**: Use a `for` loop to consider multiple years. Use the `teamID` (three letter representation of the team name) to save space on the plot.  "
     ]
    },
    {
     "cell_type": "code",
     "collapsed": false,
     "input": [
      "#your code here"
     ],
     "language": "python",
     "metadata": {},
     "outputs": [],
     "prompt_number": 5
    },
    {
     "cell_type": "markdown",
     "metadata": {},
     "source": [
      "#### Problem 1(e):\n",
      "\n",
      "Fit a linear regression to the data from each year and obtain the residuals. Plot the residuals against time to detect patterns that support your answer in 1(d). "
     ]
    },
    {
     "cell_type": "code",
     "collapsed": false,
     "input": [
      "#your code here"
     ],
     "language": "python",
     "metadata": {},
     "outputs": [],
     "prompt_number": 6
    },
    {
     "cell_type": "markdown",
     "metadata": {},
     "source": [
      "## Discussion for Problem 1\n",
      "\n",
      "*Write a brief discussion of your conclusions to the questions and tasks above in 100 words or less.*\n",
      "\n",
      "---\n"
     ]
    }
   ],
   "metadata": {}
  }
 ]
}