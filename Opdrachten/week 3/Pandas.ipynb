{
 "metadata": {
  "name": "",
  "signature": "sha256:888bf1ef64ca4ae25e0409e1a44ba27f2dfaec9faad9889afa3cc6f7733f4173"
 },
 "nbformat": 3,
 "nbformat_minor": 0,
 "worksheets": [
  {
   "cells": [
    {
     "cell_type": "markdown",
     "metadata": {},
     "source": [
      "# Pandas\n",
      "\n",
      "In this lesson we will get familiar with [pandas](http://pandas.pydata.org/), the python module for doing data analysis on spreadsheet formatted data.\n",
      "\n",
      "## Literature\n",
      "\n",
      "* all sections called _using pandas_ from Learning IPython\n",
      "* [Pandas cookbook](https://github.com/jvns/pandas-cookbook)\n",
      "\n",
      "### Further literature\n",
      "* Optional : [Python for Data Analysis](http://shop.oreilly.com/product/0636920023784.do)\n",
      "* Pandas manual: <http://pandas.pydata.org/>\n",
      "* [Pandas intro video](http://vimeo.com/59324550)\n",
      "    * [view the notebook](http://nbviewer.ipython.org/urls/gist.github.com/wesm/4757075/raw/a72d3450ad4924d0e74fb57c9f62d1d895ea4574/PandasTour.ipynb)\n",
      "    * [ get the notebook](https://gist.github.com/wesm/4757075/raw/a72d3450ad4924d0e74fb57c9f62d1d895ea4574/PandasTour.ipynb)\n",
      "* [Plotting with Pandas](http://nbviewer.ipython.org/gist/fonnesbeck/5850463)    \n",
      "* Plotly, really cool interactive plots coupled to pandas data. [Example on NYC 301 calls data](http://nbviewer.ipython.org/gist/chriddyp/9827cb5086cfab8da092/Pandas%20Widget%20-%20Time%20Series,%20Search,%20and%20Filtering.ipynb) [Collection of notebooks with examples](http://nbviewer.ipython.org/gist/chriddyp/9827cb5086cfab8da092)"
     ]
    },
    {
     "cell_type": "markdown",
     "metadata": {},
     "source": [
      "# [What problem does pandas solve?](http://pandas.pydata.org/#what-problem-does-pandas-solve)\n",
      "\n",
      "Python has long been great for data munging and preparation, but less so for data analysis and modeling. pandas helps fill this gap, enabling you to carry out your entire data analysis workflow in Python without having to switch to a more domain specific language like R.\n",
      "\n",
      "Combined with the excellent IPython toolkit and other libraries, the environment for doing data analysis in Python excels in performance, productivity, and the ability to collaborate.\n",
      "\n",
      "pandas does not implement significant modeling functionality outside of linear and panel regression; for this, look to statsmodels and scikit-learn. More work is still needed to make Python a first class statistical modeling environment, but we are well on our way toward that goal."
     ]
    },
    {
     "cell_type": "markdown",
     "metadata": {},
     "source": [
      "<a id='as'></a>\n",
      "# Assignment \n",
      "\n",
      "\n",
      "\n",
      "1. Download the cookbook at <https://github.com/jvns/pandas-cookbook>\n",
      "    1. Go through all of the cookbooks.\n",
      "    1. See if you learn new things that you can apply with your speeches data set. If so, apply them.\n",
      "1. Do all applicable  steps in <http://pandas.pydata.org/pandas-docs/stable/10min.html> with the spreadsheet <https://www.google.com/fusiontables/DataSource?docid=1Fvqz160uqX-f7Neow_PZmMfeRH9PA1oKpIB18us#rows:id=1>. Make sure you download all 1000 rows in the spreadsheet. \n",
      "    1.   Record all your steps in a notebook, with a similar structure as the 10 minutes tutorial.    \n",
      "1. **This part will be graded for 5% of your final mark** [Do these exercises](../Assignments/HW1_UvA.ipynb)"
     ]
    },
    {
     "cell_type": "markdown",
     "metadata": {},
     "source": [
      "# Pandas datastructures\n",
      "\n",
      "## Main reference\n",
      "\n",
      "* <http://pandas.pydata.org/pandas-docs/stable/dsintro.html>\n",
      "* Two main structures: Series and Dataframe\n",
      "\n",
      "### [Series](http://pandas.pydata.org/pandas-docs/stable/dsintro.html#series)\n",
      "\n",
      "* Series is a one-dimensional labeled array capable of holding any data type (integers, strings, floating point numbers, Python objects, etc.). The axis labels are collectively referred to as the index. \n",
      "* See [examples](#se)\n",
      "* You can do all kind of vector operations with series: <http://pandas.pydata.org/pandas-docs/stable/dsintro.html#vectorized-operations-and-label-alignment-with-series>\n",
      "\n",
      "\n",
      "### [Dataframe](http://pandas.pydata.org/pandas-docs/stable/dsintro.html#dataframe)\n",
      "\n",
      "* DataFrame is a 2-dimensional labeled data structure with columns of potentially different types. You can think of it like a spreadsheet or SQL table, or a dict of Series objects. It is generally the most commonly used pandas object. \n",
      "* See examples below\n",
      "* You can do all kind of matrix operations on dataframes: <http://pandas.pydata.org/pandas-docs/stable/10min.html#operations>\n",
      "\n",
      "### Selection and projection in Pandas\n",
      "\n",
      "* Taking a subset of the columns and/or the rows\n",
      "* <http://pandas.pydata.org/pandas-docs/stable/dsintro.html#indexing-selection>\n",
      "* Examples below"
     ]
    },
    {
     "cell_type": "code",
     "collapsed": false,
     "input": [
      "%matplotlib inline \n",
      "import pandas as pd\n",
      "import numpy as np\n",
      "randn = np.random.randn\n"
     ],
     "language": "python",
     "metadata": {},
     "outputs": [],
     "prompt_number": 1
    },
    {
     "cell_type": "markdown",
     "metadata": {},
     "source": [
      "## [Series](id:se)"
     ]
    },
    {
     "cell_type": "code",
     "collapsed": false,
     "input": [
      "s = pd.Series(randn(5), index=['a', 'b', 'c', 'd', 'e'])\n",
      "s"
     ],
     "language": "python",
     "metadata": {},
     "outputs": [
      {
       "metadata": {},
       "output_type": "pyout",
       "prompt_number": 2,
       "text": [
        "a   -1.348704\n",
        "b   -1.215396\n",
        "c    0.185940\n",
        "d    2.254364\n",
        "e    0.267668\n",
        "dtype: float64"
       ]
      }
     ],
     "prompt_number": 2
    },
    {
     "cell_type": "code",
     "collapsed": false,
     "input": [
      "s['a']"
     ],
     "language": "python",
     "metadata": {},
     "outputs": [
      {
       "metadata": {},
       "output_type": "pyout",
       "prompt_number": 3,
       "text": [
        "-1.348703972431518"
       ]
      }
     ],
     "prompt_number": 3
    },
    {
     "cell_type": "code",
     "collapsed": false,
     "input": [
      "s[2]"
     ],
     "language": "python",
     "metadata": {},
     "outputs": [
      {
       "metadata": {},
       "output_type": "pyout",
       "prompt_number": 4,
       "text": [
        "0.18594006727610513"
       ]
      }
     ],
     "prompt_number": 4
    },
    {
     "cell_type": "code",
     "collapsed": false,
     "input": [
      "s.index"
     ],
     "language": "python",
     "metadata": {},
     "outputs": [
      {
       "metadata": {},
       "output_type": "pyout",
       "prompt_number": 5,
       "text": [
        "Index([u'a', u'b', u'c', u'd', u'e'], dtype='object')"
       ]
      }
     ],
     "prompt_number": 5
    },
    {
     "cell_type": "code",
     "collapsed": false,
     "input": [
      "# more information:  (do s.TAB for all methods)\n",
      "s?\n"
     ],
     "language": "python",
     "metadata": {},
     "outputs": [],
     "prompt_number": 52
    },
    {
     "cell_type": "code",
     "collapsed": false,
     "input": [
      "s+s"
     ],
     "language": "python",
     "metadata": {},
     "outputs": [
      {
       "metadata": {},
       "output_type": "pyout",
       "prompt_number": 53,
       "text": [
        "a    3.661481\n",
        "b   -5.367172\n",
        "c    2.287219\n",
        "d   -0.291064\n",
        "e   -0.550541\n",
        "dtype: float64"
       ]
      }
     ],
     "prompt_number": 53
    },
    {
     "cell_type": "code",
     "collapsed": false,
     "input": [
      "s*s"
     ],
     "language": "python",
     "metadata": {},
     "outputs": [
      {
       "metadata": {},
       "output_type": "pyout",
       "prompt_number": 54,
       "text": [
        "a    3.351611\n",
        "b    7.201634\n",
        "c    1.307843\n",
        "d    0.021180\n",
        "e    0.075774\n",
        "dtype: float64"
       ]
      }
     ],
     "prompt_number": 54
    },
    {
     "cell_type": "code",
     "collapsed": false,
     "input": [
      "s.dot(s)  # Similarly, the dot method on Series implements dot product:"
     ],
     "language": "python",
     "metadata": {},
     "outputs": [
      {
       "metadata": {},
       "output_type": "pyout",
       "prompt_number": 55,
       "text": [
        "11.958041221866603"
       ]
      }
     ],
     "prompt_number": 55
    },
    {
     "cell_type": "markdown",
     "metadata": {},
     "source": [
      "**Exercise:** Implement the dot product of s with itself using a for loop and the sum function. You get the same answer?"
     ]
    },
    {
     "cell_type": "markdown",
     "metadata": {},
     "source": [
      "## Dataframe"
     ]
    },
    {
     "cell_type": "code",
     "collapsed": false,
     "input": [
      "# reading in a csv file\n",
      "print(open('../Data/foo.csv').read())"
     ],
     "language": "python",
     "metadata": {},
     "outputs": [
      {
       "output_type": "stream",
       "stream": "stdout",
       "text": [
        "date,A,B,C\n",
        "20090101,a,1,2\n",
        "20090102,b,3,4\n",
        "20090103,c,4,5\n",
        "\n"
       ]
      }
     ],
     "prompt_number": 84
    },
    {
     "cell_type": "code",
     "collapsed": false,
     "input": [
      "pd.read_csv('../Data/foo.csv')"
     ],
     "language": "python",
     "metadata": {},
     "outputs": [
      {
       "html": [
        "<div style=\"max-height:1000px;max-width:1500px;overflow:auto;\">\n",
        "<table border=\"1\" class=\"dataframe\">\n",
        "  <thead>\n",
        "    <tr style=\"text-align: right;\">\n",
        "      <th></th>\n",
        "      <th>date</th>\n",
        "      <th>A</th>\n",
        "      <th>B</th>\n",
        "      <th>C</th>\n",
        "    </tr>\n",
        "  </thead>\n",
        "  <tbody>\n",
        "    <tr>\n",
        "      <th>0</th>\n",
        "      <td> 20090101</td>\n",
        "      <td> a</td>\n",
        "      <td> 1</td>\n",
        "      <td> 2</td>\n",
        "    </tr>\n",
        "    <tr>\n",
        "      <th>1</th>\n",
        "      <td> 20090102</td>\n",
        "      <td> b</td>\n",
        "      <td> 3</td>\n",
        "      <td> 4</td>\n",
        "    </tr>\n",
        "    <tr>\n",
        "      <th>2</th>\n",
        "      <td> 20090103</td>\n",
        "      <td> c</td>\n",
        "      <td> 4</td>\n",
        "      <td> 5</td>\n",
        "    </tr>\n",
        "  </tbody>\n",
        "</table>\n",
        "</div>"
       ],
       "metadata": {},
       "output_type": "pyout",
       "prompt_number": 85,
       "text": [
        "       date  A  B  C\n",
        "0  20090101  a  1  2\n",
        "1  20090102  b  3  4\n",
        "2  20090103  c  4  5"
       ]
      }
     ],
     "prompt_number": 85
    },
    {
     "cell_type": "code",
     "collapsed": false,
     "input": [
      "# Make date the index and tell pandas date is of datatype date\n",
      "df = pd.read_csv('../Data/foo.csv',  parse_dates=['date'],   index_col='date')\n",
      "df"
     ],
     "language": "python",
     "metadata": {},
     "outputs": [
      {
       "ename": "IOError",
       "evalue": "File ../Data/foo.csv does not exist",
       "output_type": "pyerr",
       "traceback": [
        "\u001b[1;31m---------------------------------------------------------------------------\u001b[0m\n\u001b[1;31mIOError\u001b[0m                                   Traceback (most recent call last)",
        "\u001b[1;32m<ipython-input-7-927ae1d446b5>\u001b[0m in \u001b[0;36m<module>\u001b[1;34m()\u001b[0m\n\u001b[0;32m      1\u001b[0m \u001b[1;31m# Make date the index and tell pandas date is of datatype date\u001b[0m\u001b[1;33m\u001b[0m\u001b[1;33m\u001b[0m\u001b[0m\n\u001b[1;32m----> 2\u001b[1;33m \u001b[0mdf\u001b[0m \u001b[1;33m=\u001b[0m \u001b[0mpd\u001b[0m\u001b[1;33m.\u001b[0m\u001b[0mread_csv\u001b[0m\u001b[1;33m(\u001b[0m\u001b[1;34m'../Data/foo.csv'\u001b[0m\u001b[1;33m,\u001b[0m  \u001b[0mparse_dates\u001b[0m\u001b[1;33m=\u001b[0m\u001b[1;33m[\u001b[0m\u001b[1;34m'date'\u001b[0m\u001b[1;33m]\u001b[0m\u001b[1;33m,\u001b[0m   \u001b[0mindex_col\u001b[0m\u001b[1;33m=\u001b[0m\u001b[1;34m'date'\u001b[0m\u001b[1;33m)\u001b[0m\u001b[1;33m\u001b[0m\u001b[0m\n\u001b[0m\u001b[0;32m      3\u001b[0m \u001b[0mdf\u001b[0m\u001b[1;33m\u001b[0m\u001b[0m\n",
        "\u001b[1;32mC:\\Users\\Thomas\\Anaconda\\lib\\site-packages\\pandas\\io\\parsers.pyc\u001b[0m in \u001b[0;36mparser_f\u001b[1;34m(filepath_or_buffer, sep, dialect, compression, doublequote, escapechar, quotechar, quoting, skipinitialspace, lineterminator, header, index_col, names, prefix, skiprows, skipfooter, skip_footer, na_values, na_fvalues, true_values, false_values, delimiter, converters, dtype, usecols, engine, delim_whitespace, as_recarray, na_filter, compact_ints, use_unsigned, low_memory, buffer_lines, warn_bad_lines, error_bad_lines, keep_default_na, thousands, comment, decimal, parse_dates, keep_date_col, dayfirst, date_parser, memory_map, nrows, iterator, chunksize, verbose, encoding, squeeze, mangle_dupe_cols, tupleize_cols, infer_datetime_format)\u001b[0m\n\u001b[0;32m    450\u001b[0m                     infer_datetime_format=infer_datetime_format)\n\u001b[0;32m    451\u001b[0m \u001b[1;33m\u001b[0m\u001b[0m\n\u001b[1;32m--> 452\u001b[1;33m         \u001b[1;32mreturn\u001b[0m \u001b[0m_read\u001b[0m\u001b[1;33m(\u001b[0m\u001b[0mfilepath_or_buffer\u001b[0m\u001b[1;33m,\u001b[0m \u001b[0mkwds\u001b[0m\u001b[1;33m)\u001b[0m\u001b[1;33m\u001b[0m\u001b[0m\n\u001b[0m\u001b[0;32m    453\u001b[0m \u001b[1;33m\u001b[0m\u001b[0m\n\u001b[0;32m    454\u001b[0m     \u001b[0mparser_f\u001b[0m\u001b[1;33m.\u001b[0m\u001b[0m__name__\u001b[0m \u001b[1;33m=\u001b[0m \u001b[0mname\u001b[0m\u001b[1;33m\u001b[0m\u001b[0m\n",
        "\u001b[1;32mC:\\Users\\Thomas\\Anaconda\\lib\\site-packages\\pandas\\io\\parsers.pyc\u001b[0m in \u001b[0;36m_read\u001b[1;34m(filepath_or_buffer, kwds)\u001b[0m\n\u001b[0;32m    232\u001b[0m \u001b[1;33m\u001b[0m\u001b[0m\n\u001b[0;32m    233\u001b[0m     \u001b[1;31m# Create the parser.\u001b[0m\u001b[1;33m\u001b[0m\u001b[1;33m\u001b[0m\u001b[0m\n\u001b[1;32m--> 234\u001b[1;33m     \u001b[0mparser\u001b[0m \u001b[1;33m=\u001b[0m \u001b[0mTextFileReader\u001b[0m\u001b[1;33m(\u001b[0m\u001b[0mfilepath_or_buffer\u001b[0m\u001b[1;33m,\u001b[0m \u001b[1;33m**\u001b[0m\u001b[0mkwds\u001b[0m\u001b[1;33m)\u001b[0m\u001b[1;33m\u001b[0m\u001b[0m\n\u001b[0m\u001b[0;32m    235\u001b[0m \u001b[1;33m\u001b[0m\u001b[0m\n\u001b[0;32m    236\u001b[0m     \u001b[1;32mif\u001b[0m \u001b[1;33m(\u001b[0m\u001b[0mnrows\u001b[0m \u001b[1;32mis\u001b[0m \u001b[1;32mnot\u001b[0m \u001b[0mNone\u001b[0m\u001b[1;33m)\u001b[0m \u001b[1;32mand\u001b[0m \u001b[1;33m(\u001b[0m\u001b[0mchunksize\u001b[0m \u001b[1;32mis\u001b[0m \u001b[1;32mnot\u001b[0m \u001b[0mNone\u001b[0m\u001b[1;33m)\u001b[0m\u001b[1;33m:\u001b[0m\u001b[1;33m\u001b[0m\u001b[0m\n",
        "\u001b[1;32mC:\\Users\\Thomas\\Anaconda\\lib\\site-packages\\pandas\\io\\parsers.pyc\u001b[0m in \u001b[0;36m__init__\u001b[1;34m(self, f, engine, **kwds)\u001b[0m\n\u001b[0;32m    540\u001b[0m             \u001b[0mself\u001b[0m\u001b[1;33m.\u001b[0m\u001b[0moptions\u001b[0m\u001b[1;33m[\u001b[0m\u001b[1;34m'has_index_names'\u001b[0m\u001b[1;33m]\u001b[0m \u001b[1;33m=\u001b[0m \u001b[0mkwds\u001b[0m\u001b[1;33m[\u001b[0m\u001b[1;34m'has_index_names'\u001b[0m\u001b[1;33m]\u001b[0m\u001b[1;33m\u001b[0m\u001b[0m\n\u001b[0;32m    541\u001b[0m \u001b[1;33m\u001b[0m\u001b[0m\n\u001b[1;32m--> 542\u001b[1;33m         \u001b[0mself\u001b[0m\u001b[1;33m.\u001b[0m\u001b[0m_make_engine\u001b[0m\u001b[1;33m(\u001b[0m\u001b[0mself\u001b[0m\u001b[1;33m.\u001b[0m\u001b[0mengine\u001b[0m\u001b[1;33m)\u001b[0m\u001b[1;33m\u001b[0m\u001b[0m\n\u001b[0m\u001b[0;32m    543\u001b[0m \u001b[1;33m\u001b[0m\u001b[0m\n\u001b[0;32m    544\u001b[0m     \u001b[1;32mdef\u001b[0m \u001b[0m_get_options_with_defaults\u001b[0m\u001b[1;33m(\u001b[0m\u001b[0mself\u001b[0m\u001b[1;33m,\u001b[0m \u001b[0mengine\u001b[0m\u001b[1;33m)\u001b[0m\u001b[1;33m:\u001b[0m\u001b[1;33m\u001b[0m\u001b[0m\n",
        "\u001b[1;32mC:\\Users\\Thomas\\Anaconda\\lib\\site-packages\\pandas\\io\\parsers.pyc\u001b[0m in \u001b[0;36m_make_engine\u001b[1;34m(self, engine)\u001b[0m\n\u001b[0;32m    677\u001b[0m     \u001b[1;32mdef\u001b[0m \u001b[0m_make_engine\u001b[0m\u001b[1;33m(\u001b[0m\u001b[0mself\u001b[0m\u001b[1;33m,\u001b[0m \u001b[0mengine\u001b[0m\u001b[1;33m=\u001b[0m\u001b[1;34m'c'\u001b[0m\u001b[1;33m)\u001b[0m\u001b[1;33m:\u001b[0m\u001b[1;33m\u001b[0m\u001b[0m\n\u001b[0;32m    678\u001b[0m         \u001b[1;32mif\u001b[0m \u001b[0mengine\u001b[0m \u001b[1;33m==\u001b[0m \u001b[1;34m'c'\u001b[0m\u001b[1;33m:\u001b[0m\u001b[1;33m\u001b[0m\u001b[0m\n\u001b[1;32m--> 679\u001b[1;33m             \u001b[0mself\u001b[0m\u001b[1;33m.\u001b[0m\u001b[0m_engine\u001b[0m \u001b[1;33m=\u001b[0m \u001b[0mCParserWrapper\u001b[0m\u001b[1;33m(\u001b[0m\u001b[0mself\u001b[0m\u001b[1;33m.\u001b[0m\u001b[0mf\u001b[0m\u001b[1;33m,\u001b[0m \u001b[1;33m**\u001b[0m\u001b[0mself\u001b[0m\u001b[1;33m.\u001b[0m\u001b[0moptions\u001b[0m\u001b[1;33m)\u001b[0m\u001b[1;33m\u001b[0m\u001b[0m\n\u001b[0m\u001b[0;32m    680\u001b[0m         \u001b[1;32melse\u001b[0m\u001b[1;33m:\u001b[0m\u001b[1;33m\u001b[0m\u001b[0m\n\u001b[0;32m    681\u001b[0m             \u001b[1;32mif\u001b[0m \u001b[0mengine\u001b[0m \u001b[1;33m==\u001b[0m \u001b[1;34m'python'\u001b[0m\u001b[1;33m:\u001b[0m\u001b[1;33m\u001b[0m\u001b[0m\n",
        "\u001b[1;32mC:\\Users\\Thomas\\Anaconda\\lib\\site-packages\\pandas\\io\\parsers.pyc\u001b[0m in \u001b[0;36m__init__\u001b[1;34m(self, src, **kwds)\u001b[0m\n\u001b[0;32m   1039\u001b[0m         \u001b[0mkwds\u001b[0m\u001b[1;33m[\u001b[0m\u001b[1;34m'allow_leading_cols'\u001b[0m\u001b[1;33m]\u001b[0m \u001b[1;33m=\u001b[0m \u001b[0mself\u001b[0m\u001b[1;33m.\u001b[0m\u001b[0mindex_col\u001b[0m \u001b[1;32mis\u001b[0m \u001b[1;32mnot\u001b[0m \u001b[0mFalse\u001b[0m\u001b[1;33m\u001b[0m\u001b[0m\n\u001b[0;32m   1040\u001b[0m \u001b[1;33m\u001b[0m\u001b[0m\n\u001b[1;32m-> 1041\u001b[1;33m         \u001b[0mself\u001b[0m\u001b[1;33m.\u001b[0m\u001b[0m_reader\u001b[0m \u001b[1;33m=\u001b[0m \u001b[0m_parser\u001b[0m\u001b[1;33m.\u001b[0m\u001b[0mTextReader\u001b[0m\u001b[1;33m(\u001b[0m\u001b[0msrc\u001b[0m\u001b[1;33m,\u001b[0m \u001b[1;33m**\u001b[0m\u001b[0mkwds\u001b[0m\u001b[1;33m)\u001b[0m\u001b[1;33m\u001b[0m\u001b[0m\n\u001b[0m\u001b[0;32m   1042\u001b[0m \u001b[1;33m\u001b[0m\u001b[0m\n\u001b[0;32m   1043\u001b[0m         \u001b[1;31m# XXX\u001b[0m\u001b[1;33m\u001b[0m\u001b[1;33m\u001b[0m\u001b[0m\n",
        "\u001b[1;32mC:\\Users\\Thomas\\Anaconda\\lib\\site-packages\\pandas\\parser.pyd\u001b[0m in \u001b[0;36mpandas.parser.TextReader.__cinit__ (pandas\\parser.c:3218)\u001b[1;34m()\u001b[0m\n",
        "\u001b[1;32mC:\\Users\\Thomas\\Anaconda\\lib\\site-packages\\pandas\\parser.pyd\u001b[0m in \u001b[0;36mpandas.parser.TextReader._setup_parser_source (pandas\\parser.c:5594)\u001b[1;34m()\u001b[0m\n",
        "\u001b[1;31mIOError\u001b[0m: File ../Data/foo.csv does not exist"
       ]
      }
     ],
     "prompt_number": 7
    },
    {
     "cell_type": "code",
     "collapsed": false,
     "input": [
      "## Projection : take a subset of the columns\n",
      "df[['B','A']]"
     ],
     "language": "python",
     "metadata": {},
     "outputs": [
      {
       "html": [
        "<div style=\"max-height:1000px;max-width:1500px;overflow:auto;\">\n",
        "<table border=\"1\" class=\"dataframe\">\n",
        "  <thead>\n",
        "    <tr style=\"text-align: right;\">\n",
        "      <th></th>\n",
        "      <th>B</th>\n",
        "      <th>A</th>\n",
        "    </tr>\n",
        "    <tr>\n",
        "      <th>date</th>\n",
        "      <th></th>\n",
        "      <th></th>\n",
        "    </tr>\n",
        "  </thead>\n",
        "  <tbody>\n",
        "    <tr>\n",
        "      <th>2009-01-01</th>\n",
        "      <td> 1</td>\n",
        "      <td> a</td>\n",
        "    </tr>\n",
        "    <tr>\n",
        "      <th>2009-01-02</th>\n",
        "      <td> 3</td>\n",
        "      <td> b</td>\n",
        "    </tr>\n",
        "    <tr>\n",
        "      <th>2009-01-03</th>\n",
        "      <td> 4</td>\n",
        "      <td> c</td>\n",
        "    </tr>\n",
        "  </tbody>\n",
        "</table>\n",
        "</div>"
       ],
       "metadata": {},
       "output_type": "pyout",
       "prompt_number": 87,
       "text": [
        "            B  A\n",
        "date            \n",
        "2009-01-01  1  a\n",
        "2009-01-02  3  b\n",
        "2009-01-03  4  c"
       ]
      }
     ],
     "prompt_number": 87
    },
    {
     "cell_type": "code",
     "collapsed": false,
     "input": [
      "# Selection: take a subset of the rows\n",
      "df[1:]"
     ],
     "language": "python",
     "metadata": {},
     "outputs": [
      {
       "html": [
        "<div style=\"max-height:1000px;max-width:1500px;overflow:auto;\">\n",
        "<table border=\"1\" class=\"dataframe\">\n",
        "  <thead>\n",
        "    <tr style=\"text-align: right;\">\n",
        "      <th></th>\n",
        "      <th>A</th>\n",
        "      <th>B</th>\n",
        "      <th>C</th>\n",
        "    </tr>\n",
        "    <tr>\n",
        "      <th>date</th>\n",
        "      <th></th>\n",
        "      <th></th>\n",
        "      <th></th>\n",
        "    </tr>\n",
        "  </thead>\n",
        "  <tbody>\n",
        "    <tr>\n",
        "      <th>2009-01-02</th>\n",
        "      <td> b</td>\n",
        "      <td> 3</td>\n",
        "      <td> 4</td>\n",
        "    </tr>\n",
        "    <tr>\n",
        "      <th>2009-01-03</th>\n",
        "      <td> c</td>\n",
        "      <td> 4</td>\n",
        "      <td> 5</td>\n",
        "    </tr>\n",
        "  </tbody>\n",
        "</table>\n",
        "</div>"
       ],
       "metadata": {},
       "output_type": "pyout",
       "prompt_number": 88,
       "text": [
        "            A  B  C\n",
        "date               \n",
        "2009-01-02  b  3  4\n",
        "2009-01-03  c  4  5"
       ]
      }
     ],
     "prompt_number": 88
    },
    {
     "cell_type": "code",
     "collapsed": false,
     "input": [
      "# take one row (use the index name)\n",
      "df.loc['2009-01-02']"
     ],
     "language": "python",
     "metadata": {},
     "outputs": [
      {
       "metadata": {},
       "output_type": "pyout",
       "prompt_number": 89,
       "text": [
        "A    b\n",
        "B    3\n",
        "C    4\n",
        "Name: 2009-01-02 00:00:00, dtype: object"
       ]
      }
     ],
     "prompt_number": 89
    },
    {
     "cell_type": "code",
     "collapsed": false,
     "input": [
      "# The tricky bit: boolean selection: selecting on values\n",
      "df['B'] >= 3"
     ],
     "language": "python",
     "metadata": {},
     "outputs": [
      {
       "metadata": {},
       "output_type": "pyout",
       "prompt_number": 90,
       "text": [
        "date\n",
        "2009-01-01    False\n",
        "2009-01-02     True\n",
        "2009-01-03     True\n",
        "Name: B, dtype: bool"
       ]
      }
     ],
     "prompt_number": 90
    },
    {
     "cell_type": "code",
     "collapsed": false,
     "input": [
      "# Now select only those rows for which the Boolean vector returns True\n",
      "\n",
      "df[df['B'] >= 3]"
     ],
     "language": "python",
     "metadata": {},
     "outputs": [
      {
       "html": [
        "<div style=\"max-height:1000px;max-width:1500px;overflow:auto;\">\n",
        "<table border=\"1\" class=\"dataframe\">\n",
        "  <thead>\n",
        "    <tr style=\"text-align: right;\">\n",
        "      <th></th>\n",
        "      <th>A</th>\n",
        "      <th>B</th>\n",
        "      <th>C</th>\n",
        "    </tr>\n",
        "    <tr>\n",
        "      <th>date</th>\n",
        "      <th></th>\n",
        "      <th></th>\n",
        "      <th></th>\n",
        "    </tr>\n",
        "  </thead>\n",
        "  <tbody>\n",
        "    <tr>\n",
        "      <th>2009-01-02</th>\n",
        "      <td> b</td>\n",
        "      <td> 3</td>\n",
        "      <td> 4</td>\n",
        "    </tr>\n",
        "    <tr>\n",
        "      <th>2009-01-03</th>\n",
        "      <td> c</td>\n",
        "      <td> 4</td>\n",
        "      <td> 5</td>\n",
        "    </tr>\n",
        "  </tbody>\n",
        "</table>\n",
        "</div>"
       ],
       "metadata": {},
       "output_type": "pyout",
       "prompt_number": 91,
       "text": [
        "            A  B  C\n",
        "date               \n",
        "2009-01-02  b  3  4\n",
        "2009-01-03  c  4  5"
       ]
      }
     ],
     "prompt_number": 91
    },
    {
     "cell_type": "code",
     "collapsed": false,
     "input": [
      "df * 5"
     ],
     "language": "python",
     "metadata": {},
     "outputs": [
      {
       "html": [
        "<div style=\"max-height:1000px;max-width:1500px;overflow:auto;\">\n",
        "<table border=\"1\" class=\"dataframe\">\n",
        "  <thead>\n",
        "    <tr style=\"text-align: right;\">\n",
        "      <th></th>\n",
        "      <th>A</th>\n",
        "      <th>B</th>\n",
        "      <th>C</th>\n",
        "    </tr>\n",
        "    <tr>\n",
        "      <th>date</th>\n",
        "      <th></th>\n",
        "      <th></th>\n",
        "      <th></th>\n",
        "    </tr>\n",
        "  </thead>\n",
        "  <tbody>\n",
        "    <tr>\n",
        "      <th>2009-01-01</th>\n",
        "      <td> aaaaa</td>\n",
        "      <td>  5</td>\n",
        "      <td> 10</td>\n",
        "    </tr>\n",
        "    <tr>\n",
        "      <th>2009-01-02</th>\n",
        "      <td> bbbbb</td>\n",
        "      <td> 15</td>\n",
        "      <td> 20</td>\n",
        "    </tr>\n",
        "    <tr>\n",
        "      <th>2009-01-03</th>\n",
        "      <td> ccccc</td>\n",
        "      <td> 20</td>\n",
        "      <td> 25</td>\n",
        "    </tr>\n",
        "  </tbody>\n",
        "</table>\n",
        "</div>"
       ],
       "metadata": {},
       "output_type": "pyout",
       "prompt_number": 64,
       "text": [
        "                A   B   C\n",
        "date                     \n",
        "2009-01-01  aaaaa   5  10\n",
        "2009-01-02  bbbbb  15  20\n",
        "2009-01-03  ccccc  20  25"
       ]
      }
     ],
     "prompt_number": 64
    },
    {
     "cell_type": "code",
     "collapsed": false,
     "input": [
      "#df*df\n",
      "\n",
      "df[['B','C']]* df[['B','C']]"
     ],
     "language": "python",
     "metadata": {},
     "outputs": [
      {
       "html": [
        "<div style=\"max-height:1000px;max-width:1500px;overflow:auto;\">\n",
        "<table border=\"1\" class=\"dataframe\">\n",
        "  <thead>\n",
        "    <tr style=\"text-align: right;\">\n",
        "      <th></th>\n",
        "      <th>B</th>\n",
        "      <th>C</th>\n",
        "    </tr>\n",
        "    <tr>\n",
        "      <th>date</th>\n",
        "      <th></th>\n",
        "      <th></th>\n",
        "    </tr>\n",
        "  </thead>\n",
        "  <tbody>\n",
        "    <tr>\n",
        "      <th>2009-01-01</th>\n",
        "      <td>  1</td>\n",
        "      <td>  4</td>\n",
        "    </tr>\n",
        "    <tr>\n",
        "      <th>2009-01-02</th>\n",
        "      <td>  9</td>\n",
        "      <td> 16</td>\n",
        "    </tr>\n",
        "    <tr>\n",
        "      <th>2009-01-03</th>\n",
        "      <td> 16</td>\n",
        "      <td> 25</td>\n",
        "    </tr>\n",
        "  </tbody>\n",
        "</table>\n",
        "</div>"
       ],
       "metadata": {},
       "output_type": "pyout",
       "prompt_number": 65,
       "text": [
        "             B   C\n",
        "date              \n",
        "2009-01-01   1   4\n",
        "2009-01-02   9  16\n",
        "2009-01-03  16  25"
       ]
      }
     ],
     "prompt_number": 65
    },
    {
     "cell_type": "code",
     "collapsed": false,
     "input": [
      "df[['B']].plot()\n",
      " "
     ],
     "language": "python",
     "metadata": {},
     "outputs": [
      {
       "ename": "NameError",
       "evalue": "name 'df' is not defined",
       "output_type": "pyerr",
       "traceback": [
        "\u001b[1;31m---------------------------------------------------------------------------\u001b[0m\n\u001b[1;31mNameError\u001b[0m                                 Traceback (most recent call last)",
        "\u001b[1;32m<ipython-input-6-ce691f79272f>\u001b[0m in \u001b[0;36m<module>\u001b[1;34m()\u001b[0m\n\u001b[1;32m----> 1\u001b[1;33m \u001b[0mdf\u001b[0m\u001b[1;33m[\u001b[0m\u001b[1;33m[\u001b[0m\u001b[1;34m'B'\u001b[0m\u001b[1;33m]\u001b[0m\u001b[1;33m]\u001b[0m\u001b[1;33m.\u001b[0m\u001b[0mplot\u001b[0m\u001b[1;33m(\u001b[0m\u001b[1;33m)\u001b[0m\u001b[1;33m\u001b[0m\u001b[0m\n\u001b[0m\u001b[0;32m      2\u001b[0m \u001b[1;33m\u001b[0m\u001b[0m\n",
        "\u001b[1;31mNameError\u001b[0m: name 'df' is not defined"
       ]
      }
     ],
     "prompt_number": 6
    },
    {
     "cell_type": "code",
     "collapsed": false,
     "input": [
      "#df.hist()\n",
      "df[['B','C']].hist();"
     ],
     "language": "python",
     "metadata": {},
     "outputs": [
      {
       "metadata": {},
       "output_type": "display_data",
       "png": "[encoded data removed]",
       "text": [
        "<matplotlib.figure.Figure at 0x10d4c5c90>"
       ]
      }
     ],
     "prompt_number": 70
    },
    {
     "cell_type": "markdown",
     "metadata": {},
     "source": [
      "# Pandas in action\n",
      "\n",
      "We will use pandas to see some data about trees in Amsterdam.\n",
      "\n",
      "See <http://www.amsterdamopendata.nl/web/guest/data/?dataset=monumentale_bomen>"
     ]
    },
    {
     "cell_type": "code",
     "collapsed": false,
     "input": [
      "# Render our plots inline\n",
      "%matplotlib inline\n",
      "\n",
      "import pandas as pd\n",
      "import matplotlib.pyplot as plt\n",
      "\n",
      "pd.set_option('display.mpl_style', 'default') # Make the graphs a bit prettier\n",
      "plt.rcParams['figure.figsize'] = (15, 5)"
     ],
     "language": "python",
     "metadata": {},
     "outputs": [],
     "prompt_number": 8
    },
    {
     "cell_type": "code",
     "collapsed": false,
     "input": [
      "bomen_df = pd.read_csv('http://www.amsterdamopendata.nl/web/guest/data/?dataset=monumentale_bomen')\n",
      "bomen_df"
     ],
     "language": "python",
     "metadata": {},
     "outputs": [
      {
       "html": [
        "<div style=\"max-height:1000px;max-width:1500px;overflow:auto;\">\n",
        "<table border=\"1\" class=\"dataframe\">\n",
        "  <thead>\n",
        "    <tr style=\"text-align: right;\">\n",
        "      <th></th>\n",
        "      <th>&lt;!DOCTYPE html&gt; &lt;html class=\"ltr\" dir=\"ltr\" lang=\"nl-NL\"&gt; &lt;head&gt; &lt;title&gt;Data - Amsterdam Open Data&lt;/title&gt; &lt;link rel=stylesheet type=\"text/css\" href=\"/rods2ThemeAmsterdam-1.0-SNAPSHOT/js/colorbox-master/colorbox.css\"&gt; &lt;script type=\"text/javascript\" src=\"https://ajax.googleapis.com/ajax/libs/jquery/1.7.2/jquery.min.js\"&gt;&lt;/script&gt; &lt;!--script type=\"text/javascript\" src=\"//use.typekit.net/aop7lwu.js\"&gt;&lt;/script--&gt; &lt;!--script type=\"text/javascript\"&gt;try{Typekit.load();}catch(e){}&lt;/script--&gt; &lt;meta content=\"text/html; charset=UTF-8\" http-equiv=\"content-type\" /&gt; &lt;meta name=\"robots\" content=\"all\" lang=\"nl-NL\" /&gt; &lt;meta name=\"description\" content=\"In deze website</th>\n",
        "      <th> gemaakt in het kader van het project Amsterdam Open Data</th>\n",
        "      <th> is hetmogelijk om datasets te bekijken en downloaden.\" lang=\"nl-NL\" /&gt; &lt;meta name=\"keywords\" content=\"Amsterdam</th>\n",
        "      <th> open</th>\n",
        "      <th> data</th>\n",
        "      <th> opendata</th>\n",
        "      <th> datastore</th>\n",
        "      <th> datasets</th>\n",
        "      <th> Gemeente</th>\n",
        "      <th> aods</th>\n",
        "      <th>...</th>\n",
        "      <th>columnPos:0.2</th>\n",
        "      <th>isStatic:\"end\".3</th>\n",
        "      <th>namespacedId:\"p_p_id_search_WAR_rods20Portlet_\"</th>\n",
        "      <th>portletId:\"search_WAR_rods20Portlet\"</th>\n",
        "      <th>refreshURL:\"\\x2fc\\x2fportal\\x2frender_portlet\\x3fp_l_id\\x3d10840\\x26p_p_id\\x3dsearch_WAR_rods20Portlet\\x26p_p_lifecycle\\x3d0\\x26p_t_lifecycle\\x3d0\\x26p_p_state\\x3dnormal\\x26p_p_mode\\x3dview\\x26p_p_col_id\\x3dcolumn-2\\x26p_p_col_pos\\x3d0\\x26p_p_col_count\\x3d2\\x26p_p_isolated\\x3d1\\x26currentURL\\x3d\\x252Fweb\\x252Fguest\\x252Fdata\\x252F\\x253Fdataset\\x253Dmonumentale_bomen\"});AUI().use(\"aui-base\"</th>\n",
        "      <th>liferay-menu</th>\n",
        "      <th>liferay-notice</th>\n",
        "      <th>liferay-poller</th>\n",
        "      <th>function(a){(function(){Liferay.Util.addInputType();Liferay.Portlet.ready(function(b</th>\n",
        "      <th>c){Liferay.Util.addInputType(c)})})();(function(){new Liferay.Menu();var b=Liferay.Data.notices;for(var c=1;c&lt;b.length;c++){new Liferay.Notice(b[c])}})()});/*]]&gt;*/&lt;/script&gt; &lt;script src=\"/rods2ThemeAmsterdam-1.0-SNAPSHOT/js/main.js?browserId=other&amp;amp;minifierType=js&amp;amp;languageId=nl_NL&amp;amp;b=6100&amp;amp;t=1381235977000\" type=\"text/javascript\"&gt;&lt;/script&gt; &lt;script type=\"text/javascript\"&gt;&lt;/script&gt; &lt;/html&gt; </th>\n",
        "    </tr>\n",
        "  </thead>\n",
        "  <tbody>\n",
        "  </tbody>\n",
        "</table>\n",
        "<p>0 rows \u00d7 241 columns</p>\n",
        "</div>"
       ],
       "metadata": {},
       "output_type": "pyout",
       "prompt_number": 9,
       "text": [
        "Empty DataFrame\n",
        "Columns: [<!DOCTYPE html> <html class=\"ltr\" dir=\"ltr\" lang=\"nl-NL\"> <head> <title>Data - Amsterdam Open Data</title> <link rel=stylesheet type=\"text/css\" href=\"/rods2ThemeAmsterdam-1.0-SNAPSHOT/js/colorbox-master/colorbox.css\"> <script type=\"text/javascript\" src=\"https://ajax.googleapis.com/ajax/libs/jquery/1.7.2/jquery.min.js\"></script> <!--script type=\"text/javascript\" src=\"//use.typekit.net/aop7lwu.js\"></script--> <!--script type=\"text/javascript\">try{Typekit.load();}catch(e){}</script--> <meta content=\"text/html; charset=UTF-8\" http-equiv=\"content-type\" /> <meta name=\"robots\" content=\"all\" lang=\"nl-NL\" /> <meta name=\"description\" content=\"In deze website,  gemaakt in het kader van het project Amsterdam Open Data,  is hetmogelijk om datasets te bekijken en downloaden.\" lang=\"nl-NL\" /> <meta name=\"keywords\" content=\"Amsterdam,  open,  data,  opendata,  datastore,  datasets,  Gemeente,  aods,  aod,  Amsterdam open data\" lang=\"nl-NL\" /> <link href=\"/rods2ThemeAmsterdam-1.0-SNAPSHOT/images/favicon.ico\" rel=\"Shortcut Icon\" /> <link href=\"http://amsterdamopendata.nl/data?dataset=monumentale_bomen\" rel=\"canonical\" /> <link href=\"http://amsterdamopendata.nl/en/data?dataset=monumentale_bomen\" hreflang=\"en-GB\" rel=\"alternate\" /> <link href=\"/html/css/main.css?browserId=other&amp;themeId=amsterdamopendata_WAR_rods2ThemeAmsterdam10SNAPSHOT&amp;minifierType=css&amp;languageId=nl_NL&amp;b=6100&amp;t=1323691428000\" rel=\"stylesheet\" type=\"text/css\" /> <link href=\"/rods2.0Portlet/js/jquery-validation-1.9.0/demo/css/screen.css?browserId=other&amp;themeId=amsterdamopendata_WAR_rods2ThemeAmsterdam10SNAPSHOT&amp;minifierType=css&amp;languageId=nl_NL&amp;b=6100&amp;t=1415129404000\" rel=\"stylesheet\" type=\"text/css\" /> <link href=\"/rods2.0Portlet/js/bootstrap/css/bootstrap.css?browserId=other&amp;themeId=amsterdamopendata_WAR_rods2ThemeAmsterdam10SNAPSHOT&amp;minifierType=css&amp;languageId=nl_NL&amp;b=6100&amp;t=1415129404000\" rel=\"stylesheet\" type=\"text/css\" /> <link href=\"/rods2.0Portlet/js/bootstrap/css/bootstrap-responsive.css?browserId=other&amp;themeId=amsterdamopendata_WAR_rods2ThemeAmsterdam10SNAPSHOT&amp;minifierType=css&amp;languageId=nl_NL&amp;b=6100&amp;t=1415129404000\" rel=\"stylesheet\" type=\"text/css\" /> <link href=\"/rods2.0Portlet/js/jquery-loadmask/jquery.loadmask.css?browserId=other&amp;themeId=amsterdamopendata_WAR_rods2ThemeAmsterdam10SNAPSHOT&amp;minifierType=css&amp;languageId=nl_NL&amp;b=6100&amp;t=1415129404000\" rel=\"stylesheet\" type=\"text/css\" /> <link href=\"/rods2.0Portlet/js/jquery-ui-1.8.23.custom/css/custom-theme/jquery-ui-1.8.23.custom.css?browserId=other&amp;themeId=amsterdamopendata_WAR_rods2ThemeAmsterdam10SNAPSHOT&amp;minifierType=css&amp;languageId=nl_NL&amp;b=6100&amp;t=1415129404000\" rel=\"stylesheet\" type=\"text/css\" /> <link href=\"/rods2.0Portlet/js/fancyapps-fancyBox/source/jquery.fancybox.css?browserId=other&amp;themeId=amsterdamopendata_WAR_rods2ThemeAmsterdam10SNAPSHOT&amp;minifierType=css&amp;languageId=nl_NL&amp;b=6100&amp;t=1415129404000\" rel=\"stylesheet\" type=\"text/css\" /> <link href=\"/rods2.0Portlet/js/jquery.rating/jquery.rating.css?browserId=other&amp;themeId=amsterdamopendata_WAR_rods2ThemeAmsterdam10SNAPSHOT&amp;minifierType=css&amp;languageId=nl_NL&amp;b=6100&amp;t=1415129404000\" rel=\"stylesheet\" type=\"text/css\" /> <link href=\"/rods2.0Portlet/css/main.css?browserId=other&amp;themeId=amsterdamopendata_WAR_rods2ThemeAmsterdam10SNAPSHOT&amp;minifierType=css&amp;languageId=nl_NL&amp;b=6100&amp;t=1415129404000\" rel=\"stylesheet\" type=\"text/css\" /> <link href=\"/rods2.0Portlet/js/uploadify/uploadify.css?browserId=other&amp;themeId=amsterdamopendata_WAR_rods2ThemeAmsterdam10SNAPSHOT&amp;minifierType=css&amp;languageId=nl_NL&amp;b=6100&amp;t=1415129404000\" rel=\"stylesheet\" type=\"text/css\" /> <script type=\"text/javascript\">/*<![CDATA[*/var Liferay={Browser:{acceptsGzip:function(){return false}, getMajorVersion:function(){return 0}, getRevision:function(){return\"\"}, getVersion:function(){return\"\"}, isAir:function(){return false}, isChrome:function(){return false}, isFirefox:function(){return false}, isGecko:function(){return false}, isIe:function(){return false}, isIphone:function(){return false}, isLinux:function(){return false}, isMac:function(){return false}, isMobile:function(){return false}, isMozilla:function(){return false}, isOpera:function(){return false}, isRtf:function(){return false}, isSafari:function(){return false}, isSun:function(){return false}, isWap:function(){return false}, isWapXhtml:function(){return false}, isWebKit:function(){return false}, isWindows:function(){return false}, isWml:function(){return false}}, Data:{isCustomizationView:function(){return false}, notices:[null]}, ThemeDisplay:{getCompanyId:function(){return\"10154\"}, getCompanyGroupId:function(){return\"10192\"}, getUserId:function(){return\"10158\"}, getDoAsUserIdEncoded:function(){return\"\"}, getPlid:function(){return\"10840\"}, getLayoutId:function(){return\"12\"}, getLayoutURL:function(){return\"/web/guest/data\"}, isPrivateLayout:function(){return\"false\"}, getParentLayoutId:function(){return\"0\"}, getScopeGroupId:function(){return\"10180\"}, getScopeGroupIdOrLiveGroupId:function(){return\"10180\"}, getParentGroupId:function(){return\"10180\"}, isImpersonated:function(){return false}, isSignedIn:function(){return false}, getDefaultLanguageId:function(){return\"nl_NL\"}, getLanguageId:function(){return\"nl_NL\"}, isAddSessionIdToURL:function(){return false}, isFreeformLayout:function(){return false}, isStateExclusive:function(){return false}, isStateMaximized:function(){return false}, isStatePopUp:function(){return false}, getPathContext:function(){return\"\"}, getPathImage:function(){return\"/image\"}, getPathJavaScript:function(){return\"/html/js\"}, getPathMain:function(){return\"/c\"}, getPathThemeImages:function(){return\"/rods2ThemeAmsterdam-1.0-SNAPSHOT/images\"}, getPathThemeRoot:function(){return\"/rods2ThemeAmsterdam-1.0-SNAPSHOT/\"}, getURLHome:function(){return\"http://www.amsterdamopendata.nl/web/guest/home\"}, getSessionId:function(){return\"D6BBFCC3D4D1411DA4A185D1C62B6563\"}, getPortletSetupShowBordersDefault:function(){return false}}, PropsValues:{NTLM_AUTH_ENABLED:false}};var themeDisplay=Liferay.ThemeDisplay;Liferay.AUI={getBaseURL:function(){return\"http://www.amsterdamopendata.nl/html/js/aui/\"}, getCombine:function(){return true}, getComboPath:function(){return\"/combo/?browserId=other&minifierType=&languageId=nl_NL&b=6100&t=1367928070000&p=/html/js&\"}, getFilter:function(){return{replaceStr:function(c, b, a){return b+\"m=\"+(c.split(\"/html/js\")[1]||\"\")}, searchExp:\"(\\\\?|&)/([^&]+)\"}}, getJavaScriptRootPath:function(){return\"/html/js\"}, getLangPath:function(){return\"aui_lang.jsp?browserId=other&themeId=amsterdamopendata_WAR_rods2ThemeAmsterdam10SNAPSHOT&colorSchemeId=01&minifierType=js&languageId=nl_NL&b=6100&t=1367928070000\"}, getRootPath:function(){return\"/html/js/aui/\"}};window.YUI_config={base:Liferay.AUI.getBaseURL(), comboBase:Liferay.AUI.getComboPath(), fetchCSS:true, filter:Liferay.AUI.getFilter(), root:Liferay.AUI.getRootPath(), useBrowserConsole:false};Liferay.currentURL=\"\\x2fweb\\x2fguest\\x2fdata\\x2f\\x3fdataset\\x3dmonumentale_bomen\";Liferay.currentURLEncoded=\"%2Fweb%2Fguest%2Fdata%2F%3Fdataset%3Dmonumentale_bomen\";/*]]>*/</script> <script src=\"/html/js/barebone.jsp?browserId=other&amp;themeId=amsterdamopendata_WAR_rods2ThemeAmsterdam10SNAPSHOT&amp;colorSchemeId=01&amp;minifierType=js&amp;minifierBundleId=javascript.barebone.files&amp;languageId=nl_NL&amp;b=6100&amp;t=1367928070000\" type=\"text/javascript\"></script> <script type=\"text/javascript\">/*<![CDATA[*/Liferay.Portlet.list=[\"datasetRightColumn_WAR_rods20Portlet\", search_WAR_rods20Portlet, dataset_WAR_rods20Portlet];/*]]>*/</script> <script type=\"text/javascript\">/*<![CDATA[*/var _gaq=_gaq||[];_gaq.push([\"_setAccount\", UA-40744836-1]);_gaq.push([\"_trackPageview\"]);(function(){var a=document.createElement(\"script\");a.src=(\"https:\"==document.location.protocol?\"https://ssl\":\"http://www\")+\".google-analytics.com/ga.js\";a.setAttribute(\"async\", true);document.documentElement.firstChild.appendChild(a)})();/*]]>*/</script> <script src=\"/rods2.0Portlet/js/jquery/jquery-1.7.2.min.js?browserId=other&amp;minifierType=js&amp;languageId=nl_NL&amp;b=6100&amp;t=1415129404000\" type=\"text/javascript\"></script> <script src=\"/rods2.0Portlet/js/bootstrap/js/bootstrap.js?browserId=other&amp;minifierType=js&amp;languageId=nl_NL&amp;b=6100&amp;t=1415129404000\" type=\"text/javascript\"></script> <script src=\"/rods2.0Portlet/js/jquery-loadmask/jquery.loadmask.min.js?browserId=other&amp;minifierType=js&amp;languageId=nl_NL&amp;b=6100&amp;t=1415129404000\" type=\"text/javascript\"></script> <script src=\"/rods2.0Portlet/js/uploadify/jquery.uploadify-3.1.js?browserId=other&amp;minifierType=js&amp;languageId=nl_NL&amp;b=6100&amp;t=1415129404000\" type=\"text/javascript\"></script> <link class=\"lfr-css-file\" href=\"/rods2ThemeAmsterdam-1.0-SNAPSHOT/css/main.css?browserId=other&amp;themeId=amsterdamopendata_WAR_rods2ThemeAmsterdam10SNAPSHOT&amp;minifierType=css&amp;languageId=nl_NL&amp;b=6100&amp;t=1381235977000\" rel=\"stylesheet\" type=\"text/css\" /> <style type=\"text/css\"></style> <style type=\"text/css\"></style> <script id=\"\" src=\"/rods2ThemeAmsterdam-1.0-SNAPSHOT/js/jquery.nivo.slider.pack.js?browserId=other&amp;minifierType=js&amp;languageId=nl_NL&amp;b=6100&amp;t=1381235977000\" type=\"text/javascript\"></script> <script id=\"\" src=\"/rods2ThemeAmsterdam-1.0-SNAPSHOT/js/jquery.reject.js?browserId=other&amp;minifierType=js&amp;languageId=nl_NL&amp;b=6100&amp;t=1381235977000\" type=\"text/javascript\"></script> <script id=\"\" src=\"/rods2ThemeAmsterdam-1.0-SNAPSHOT/js/colorbox-master/jquery.colorbox.js?browserId=other&amp;minifierType=js&amp;languageId=nl_NL&amp;b=6100&amp;t=1381235977000\" type=\"text/javascript\"></script> </head> <body class=\" yui3-skin-sam controls-visible guest-site signed-out public-page site no_ie\"> <header class=\"container headerImage\" role=\"banner\" id=\"banner\"> <div class=\"row\"> <div id=\"headerWidget\"> <a href=\"http://www.amsterdamopendata.nl/web/guest/faq\" class=\"\"> Vragen </a> <a href=\"http://www.amsterdamopendata.nl/web/guest/contact\" class=\"\"> Contact </a> <a href=\"http://www.amsterdamopendata.nl/web/guest/who\" class=\"\"> Wie zijn wij? </a> <a href=\"http://www.amsterdamopendata.nl/web/guest/colophon\" class=\"\"> Colofon </a> <!-- <a href=\"/who\">Wie zijn wij?</a> <a href=\"/contact\">Contact</a> <a href=\"/faq\">Vragen</a> <a href=\"/colophon\">Colofon</a> --> </div> <!-- <h1 class=\"logo\"> <a href=\"http://www.amsterdamopendata.nl/web/guest/data?p_p_auth=cpVQRy8L&amp;p_p_id=49&amp;p_p_lifecycle=1&amp;p_p_state=normal&amp;p_p_mode=view&amp;p_p_col_count=2&amp;_49_struts_action=%2Fmy_sites%2Fview&amp;_49_groupId=10180&amp;_49_privateLayout=false\" title=\"Gaan naar Amsterdam Open Data\">Amsterdam Open Data</a> </h1> --> </div> </header> <div class=\"container nav\"> <div class=\"row\"> <nav class=\"sort-pages modify-pages container menu\" id=\"access\" role=\"navigation\"> <div class=\"menu-header\"> <ul id=\"menu-standard\" class=\"menu\"> <li class=\"navigationlogo\"></li> <li class=\" menu-item\"> <a onClick=\"_gaq.push(['_trackEvent',  'Menu Bar',  'Home']);\" href=\"http://www.amsterdamopendata.nl/web/guest/home\" ><span> Home</span></a> </li> <li class=\"selected current_page_item menu-item\"> <a onClick=\"_gaq.push(['_trackEvent',  'Menu Bar'.1,  'Data']);\" href=\"http://www.amsterdamopendata.nl/web/guest/data\" ><span> Data</span></a> </li> <li class=\" menu-item\"> <a onClick=\"_gaq.push(['_trackEvent',  'Menu Bar'.2,  'Apps']);\" href=\"http://www.amsterdamopendata.nl/web/guest/app\" ><span> Apps</span></a> </li> <li class=\" menu-item\"> <a onClick=\"_gaq.push(['_trackEvent',  'Menu Bar'.3,  'Idee\u00ebn']);\" href=\"http://www.amsterdamopendata.nl/web/guest/idea\" ><span> Idee\u00ebn</span></a> </li> <li class=\" menu-item\"> <a onClick=\"_gaq.push(['_trackEvent',  'Menu Bar'.4,  'Documenten']);\" href=\"http://www.amsterdamopendata.nl/web/guest/documenten\" ><span> Documenten</span></a> </li> <li class=\" menu-item\"> <a onClick=\"_gaq.push(['_trackEvent',  'Menu Bar'.5,  'Over Open Data']);\" href=\"http://www.amsterdamopendata.nl/web/guest/over-open-data\" ><span> Over Open Data</span></a> </li> <li class=\" menu-item\"> <a onClick=\"_gaq.push(['_trackEvent',  'Menu Bar'.6,  'Over Het Programma']);\" href=\"http://www.amsterdamopendata.nl/web/guest/about-the-programme\" ><span> Over Het Programma</span></a> </li> <!-- <li class=\" menu-item menu-login\"> <a onclick=\"_gaq.push(['_trackEvent',  'General', ...]\n",
        "Index: []\n",
        "\n",
        "[0 rows x 241 columns]"
       ]
      }
     ],
     "prompt_number": 9
    },
    {
     "cell_type": "markdown",
     "metadata": {},
     "source": [
      "Reading directly from the web does not work. We must download the file by hand, and load it.\n",
      "\n",
      "**WATCH OUT** The file starts with  some strange characters. I had to manually remove the word 'OBJECTNUMMER' from the first row and type it in again in a texteditor. Then the code below worked. So if you download the file yourself: be careful."
     ]
    },
    {
     "cell_type": "code",
     "collapsed": false,
     "input": [
      "bomen_df = pd.read_csv('../Data/MONUMENTALE_BOMEN.csv', sep=';' , index_col='OBJECTNUMMER'  )\n",
      " "
     ],
     "language": "python",
     "metadata": {},
     "outputs": [
      {
       "ename": "IOError",
       "evalue": "File ../Data/MONUMENTALE_BOMEN.csv does not exist",
       "output_type": "pyerr",
       "traceback": [
        "\u001b[1;31m---------------------------------------------------------------------------\u001b[0m\n\u001b[1;31mIOError\u001b[0m                                   Traceback (most recent call last)",
        "\u001b[1;32m<ipython-input-10-13d23d219127>\u001b[0m in \u001b[0;36m<module>\u001b[1;34m()\u001b[0m\n\u001b[1;32m----> 1\u001b[1;33m \u001b[0mbomen_df\u001b[0m \u001b[1;33m=\u001b[0m \u001b[0mpd\u001b[0m\u001b[1;33m.\u001b[0m\u001b[0mread_csv\u001b[0m\u001b[1;33m(\u001b[0m\u001b[1;34m'../Data/MONUMENTALE_BOMEN.csv'\u001b[0m\u001b[1;33m,\u001b[0m \u001b[0msep\u001b[0m\u001b[1;33m=\u001b[0m\u001b[1;34m';'\u001b[0m \u001b[1;33m,\u001b[0m \u001b[0mindex_col\u001b[0m\u001b[1;33m=\u001b[0m\u001b[1;34m'OBJECTNUMMER'\u001b[0m  \u001b[1;33m)\u001b[0m\u001b[1;33m\u001b[0m\u001b[0m\n\u001b[0m\u001b[0;32m      2\u001b[0m \u001b[1;33m\u001b[0m\u001b[0m\n",
        "\u001b[1;32mC:\\Users\\Thomas\\Anaconda\\lib\\site-packages\\pandas\\io\\parsers.pyc\u001b[0m in \u001b[0;36mparser_f\u001b[1;34m(filepath_or_buffer, sep, dialect, compression, doublequote, escapechar, quotechar, quoting, skipinitialspace, lineterminator, header, index_col, names, prefix, skiprows, skipfooter, skip_footer, na_values, na_fvalues, true_values, false_values, delimiter, converters, dtype, usecols, engine, delim_whitespace, as_recarray, na_filter, compact_ints, use_unsigned, low_memory, buffer_lines, warn_bad_lines, error_bad_lines, keep_default_na, thousands, comment, decimal, parse_dates, keep_date_col, dayfirst, date_parser, memory_map, nrows, iterator, chunksize, verbose, encoding, squeeze, mangle_dupe_cols, tupleize_cols, infer_datetime_format)\u001b[0m\n\u001b[0;32m    450\u001b[0m                     infer_datetime_format=infer_datetime_format)\n\u001b[0;32m    451\u001b[0m \u001b[1;33m\u001b[0m\u001b[0m\n\u001b[1;32m--> 452\u001b[1;33m         \u001b[1;32mreturn\u001b[0m \u001b[0m_read\u001b[0m\u001b[1;33m(\u001b[0m\u001b[0mfilepath_or_buffer\u001b[0m\u001b[1;33m,\u001b[0m \u001b[0mkwds\u001b[0m\u001b[1;33m)\u001b[0m\u001b[1;33m\u001b[0m\u001b[0m\n\u001b[0m\u001b[0;32m    453\u001b[0m \u001b[1;33m\u001b[0m\u001b[0m\n\u001b[0;32m    454\u001b[0m     \u001b[0mparser_f\u001b[0m\u001b[1;33m.\u001b[0m\u001b[0m__name__\u001b[0m \u001b[1;33m=\u001b[0m \u001b[0mname\u001b[0m\u001b[1;33m\u001b[0m\u001b[0m\n",
        "\u001b[1;32mC:\\Users\\Thomas\\Anaconda\\lib\\site-packages\\pandas\\io\\parsers.pyc\u001b[0m in \u001b[0;36m_read\u001b[1;34m(filepath_or_buffer, kwds)\u001b[0m\n\u001b[0;32m    232\u001b[0m \u001b[1;33m\u001b[0m\u001b[0m\n\u001b[0;32m    233\u001b[0m     \u001b[1;31m# Create the parser.\u001b[0m\u001b[1;33m\u001b[0m\u001b[1;33m\u001b[0m\u001b[0m\n\u001b[1;32m--> 234\u001b[1;33m     \u001b[0mparser\u001b[0m \u001b[1;33m=\u001b[0m \u001b[0mTextFileReader\u001b[0m\u001b[1;33m(\u001b[0m\u001b[0mfilepath_or_buffer\u001b[0m\u001b[1;33m,\u001b[0m \u001b[1;33m**\u001b[0m\u001b[0mkwds\u001b[0m\u001b[1;33m)\u001b[0m\u001b[1;33m\u001b[0m\u001b[0m\n\u001b[0m\u001b[0;32m    235\u001b[0m \u001b[1;33m\u001b[0m\u001b[0m\n\u001b[0;32m    236\u001b[0m     \u001b[1;32mif\u001b[0m \u001b[1;33m(\u001b[0m\u001b[0mnrows\u001b[0m \u001b[1;32mis\u001b[0m \u001b[1;32mnot\u001b[0m \u001b[0mNone\u001b[0m\u001b[1;33m)\u001b[0m \u001b[1;32mand\u001b[0m \u001b[1;33m(\u001b[0m\u001b[0mchunksize\u001b[0m \u001b[1;32mis\u001b[0m \u001b[1;32mnot\u001b[0m \u001b[0mNone\u001b[0m\u001b[1;33m)\u001b[0m\u001b[1;33m:\u001b[0m\u001b[1;33m\u001b[0m\u001b[0m\n",
        "\u001b[1;32mC:\\Users\\Thomas\\Anaconda\\lib\\site-packages\\pandas\\io\\parsers.pyc\u001b[0m in \u001b[0;36m__init__\u001b[1;34m(self, f, engine, **kwds)\u001b[0m\n\u001b[0;32m    540\u001b[0m             \u001b[0mself\u001b[0m\u001b[1;33m.\u001b[0m\u001b[0moptions\u001b[0m\u001b[1;33m[\u001b[0m\u001b[1;34m'has_index_names'\u001b[0m\u001b[1;33m]\u001b[0m \u001b[1;33m=\u001b[0m \u001b[0mkwds\u001b[0m\u001b[1;33m[\u001b[0m\u001b[1;34m'has_index_names'\u001b[0m\u001b[1;33m]\u001b[0m\u001b[1;33m\u001b[0m\u001b[0m\n\u001b[0;32m    541\u001b[0m \u001b[1;33m\u001b[0m\u001b[0m\n\u001b[1;32m--> 542\u001b[1;33m         \u001b[0mself\u001b[0m\u001b[1;33m.\u001b[0m\u001b[0m_make_engine\u001b[0m\u001b[1;33m(\u001b[0m\u001b[0mself\u001b[0m\u001b[1;33m.\u001b[0m\u001b[0mengine\u001b[0m\u001b[1;33m)\u001b[0m\u001b[1;33m\u001b[0m\u001b[0m\n\u001b[0m\u001b[0;32m    543\u001b[0m \u001b[1;33m\u001b[0m\u001b[0m\n\u001b[0;32m    544\u001b[0m     \u001b[1;32mdef\u001b[0m \u001b[0m_get_options_with_defaults\u001b[0m\u001b[1;33m(\u001b[0m\u001b[0mself\u001b[0m\u001b[1;33m,\u001b[0m \u001b[0mengine\u001b[0m\u001b[1;33m)\u001b[0m\u001b[1;33m:\u001b[0m\u001b[1;33m\u001b[0m\u001b[0m\n",
        "\u001b[1;32mC:\\Users\\Thomas\\Anaconda\\lib\\site-packages\\pandas\\io\\parsers.pyc\u001b[0m in \u001b[0;36m_make_engine\u001b[1;34m(self, engine)\u001b[0m\n\u001b[0;32m    677\u001b[0m     \u001b[1;32mdef\u001b[0m \u001b[0m_make_engine\u001b[0m\u001b[1;33m(\u001b[0m\u001b[0mself\u001b[0m\u001b[1;33m,\u001b[0m \u001b[0mengine\u001b[0m\u001b[1;33m=\u001b[0m\u001b[1;34m'c'\u001b[0m\u001b[1;33m)\u001b[0m\u001b[1;33m:\u001b[0m\u001b[1;33m\u001b[0m\u001b[0m\n\u001b[0;32m    678\u001b[0m         \u001b[1;32mif\u001b[0m \u001b[0mengine\u001b[0m \u001b[1;33m==\u001b[0m \u001b[1;34m'c'\u001b[0m\u001b[1;33m:\u001b[0m\u001b[1;33m\u001b[0m\u001b[0m\n\u001b[1;32m--> 679\u001b[1;33m             \u001b[0mself\u001b[0m\u001b[1;33m.\u001b[0m\u001b[0m_engine\u001b[0m \u001b[1;33m=\u001b[0m \u001b[0mCParserWrapper\u001b[0m\u001b[1;33m(\u001b[0m\u001b[0mself\u001b[0m\u001b[1;33m.\u001b[0m\u001b[0mf\u001b[0m\u001b[1;33m,\u001b[0m \u001b[1;33m**\u001b[0m\u001b[0mself\u001b[0m\u001b[1;33m.\u001b[0m\u001b[0moptions\u001b[0m\u001b[1;33m)\u001b[0m\u001b[1;33m\u001b[0m\u001b[0m\n\u001b[0m\u001b[0;32m    680\u001b[0m         \u001b[1;32melse\u001b[0m\u001b[1;33m:\u001b[0m\u001b[1;33m\u001b[0m\u001b[0m\n\u001b[0;32m    681\u001b[0m             \u001b[1;32mif\u001b[0m \u001b[0mengine\u001b[0m \u001b[1;33m==\u001b[0m \u001b[1;34m'python'\u001b[0m\u001b[1;33m:\u001b[0m\u001b[1;33m\u001b[0m\u001b[0m\n",
        "\u001b[1;32mC:\\Users\\Thomas\\Anaconda\\lib\\site-packages\\pandas\\io\\parsers.pyc\u001b[0m in \u001b[0;36m__init__\u001b[1;34m(self, src, **kwds)\u001b[0m\n\u001b[0;32m   1039\u001b[0m         \u001b[0mkwds\u001b[0m\u001b[1;33m[\u001b[0m\u001b[1;34m'allow_leading_cols'\u001b[0m\u001b[1;33m]\u001b[0m \u001b[1;33m=\u001b[0m \u001b[0mself\u001b[0m\u001b[1;33m.\u001b[0m\u001b[0mindex_col\u001b[0m \u001b[1;32mis\u001b[0m \u001b[1;32mnot\u001b[0m \u001b[0mFalse\u001b[0m\u001b[1;33m\u001b[0m\u001b[0m\n\u001b[0;32m   1040\u001b[0m \u001b[1;33m\u001b[0m\u001b[0m\n\u001b[1;32m-> 1041\u001b[1;33m         \u001b[0mself\u001b[0m\u001b[1;33m.\u001b[0m\u001b[0m_reader\u001b[0m \u001b[1;33m=\u001b[0m \u001b[0m_parser\u001b[0m\u001b[1;33m.\u001b[0m\u001b[0mTextReader\u001b[0m\u001b[1;33m(\u001b[0m\u001b[0msrc\u001b[0m\u001b[1;33m,\u001b[0m \u001b[1;33m**\u001b[0m\u001b[0mkwds\u001b[0m\u001b[1;33m)\u001b[0m\u001b[1;33m\u001b[0m\u001b[0m\n\u001b[0m\u001b[0;32m   1042\u001b[0m \u001b[1;33m\u001b[0m\u001b[0m\n\u001b[0;32m   1043\u001b[0m         \u001b[1;31m# XXX\u001b[0m\u001b[1;33m\u001b[0m\u001b[1;33m\u001b[0m\u001b[0m\n",
        "\u001b[1;32mC:\\Users\\Thomas\\Anaconda\\lib\\site-packages\\pandas\\parser.pyd\u001b[0m in \u001b[0;36mpandas.parser.TextReader.__cinit__ (pandas\\parser.c:3218)\u001b[1;34m()\u001b[0m\n",
        "\u001b[1;32mC:\\Users\\Thomas\\Anaconda\\lib\\site-packages\\pandas\\parser.pyd\u001b[0m in \u001b[0;36mpandas.parser.TextReader._setup_parser_source (pandas\\parser.c:5594)\u001b[1;34m()\u001b[0m\n",
        "\u001b[1;31mIOError\u001b[0m: File ../Data/MONUMENTALE_BOMEN.csv does not exist"
       ]
      }
     ],
     "prompt_number": 10
    },
    {
     "cell_type": "code",
     "collapsed": false,
     "input": [
      "bomen_df[:3]"
     ],
     "language": "python",
     "metadata": {},
     "outputs": [
      {
       "html": [
        "<div style=\"max-height:1000px;max-width:1500px;overflow:auto;\">\n",
        "<table border=\"1\" class=\"dataframe\">\n",
        "  <thead>\n",
        "    <tr style=\"text-align: right;\">\n",
        "      <th></th>\n",
        "      <th>SELECTIE</th>\n",
        "      <th>FILTER</th>\n",
        "      <th>Boomsoort</th>\n",
        "      <th>Wetenschappelijke_naam</th>\n",
        "      <th>Plantjaar</th>\n",
        "      <th>Stamomtrek</th>\n",
        "      <th>Stamdiameter</th>\n",
        "      <th>Beschermwaarde</th>\n",
        "      <th>Toelichting</th>\n",
        "      <th>Referentienummer_stadsdeel</th>\n",
        "      <th>Volgnummer</th>\n",
        "      <th>Groep</th>\n",
        "      <th>Weblink</th>\n",
        "      <th>COORDS</th>\n",
        "      <th>CENTERLNG1</th>\n",
        "      <th>CENTERLAT1</th>\n",
        "      <th>CENTERLNG2</th>\n",
        "      <th>CENTERLAT2</th>\n",
        "      <th>Unnamed: 19</th>\n",
        "    </tr>\n",
        "    <tr>\n",
        "      <th>OBJECTNUMMER</th>\n",
        "      <th></th>\n",
        "      <th></th>\n",
        "      <th></th>\n",
        "      <th></th>\n",
        "      <th></th>\n",
        "      <th></th>\n",
        "      <th></th>\n",
        "      <th></th>\n",
        "      <th></th>\n",
        "      <th></th>\n",
        "      <th></th>\n",
        "      <th></th>\n",
        "      <th></th>\n",
        "      <th></th>\n",
        "      <th></th>\n",
        "      <th></th>\n",
        "      <th></th>\n",
        "      <th></th>\n",
        "      <th></th>\n",
        "    </tr>\n",
        "  </thead>\n",
        "  <tbody>\n",
        "    <tr>\n",
        "      <th>1</th>\n",
        "      <td>NaN</td>\n",
        "      <td>NaN</td>\n",
        "      <td>   Zilveresdoorn</td>\n",
        "      <td>       Acer saccharinum</td>\n",
        "      <td> 1960</td>\n",
        "      <td> 300-400 cm</td>\n",
        "      <td> NaN</td>\n",
        "      <td> Beeldbepalende waarde</td>\n",
        "      <td> NaN</td>\n",
        "      <td> 92</td>\n",
        "      <td> N001</td>\n",
        "      <td> Monumentale boom</td>\n",
        "      <td> NaN</td>\n",
        "      <td> POINT(4.898402 52.413653)</td>\n",
        "      <td> 4.898402</td>\n",
        "      <td> 52.413653</td>\n",
        "      <td> 4,898402</td>\n",
        "      <td> 52,413653</td>\n",
        "      <td>NaN</td>\n",
        "    </tr>\n",
        "    <tr>\n",
        "      <th>2</th>\n",
        "      <td>NaN</td>\n",
        "      <td>NaN</td>\n",
        "      <td> Noordse esdoorn</td>\n",
        "      <td>       Acer platanoides</td>\n",
        "      <td> 1960</td>\n",
        "      <td> 200-300 cm</td>\n",
        "      <td> NaN</td>\n",
        "      <td> Beeldbepalende waarde</td>\n",
        "      <td> NaN</td>\n",
        "      <td> 93</td>\n",
        "      <td> N002</td>\n",
        "      <td> Monumentale boom</td>\n",
        "      <td> NaN</td>\n",
        "      <td> POINT(4.898386 52.413603)</td>\n",
        "      <td> 4.898386</td>\n",
        "      <td> 52.413603</td>\n",
        "      <td> 4,898386</td>\n",
        "      <td> 52,413603</td>\n",
        "      <td>NaN</td>\n",
        "    </tr>\n",
        "    <tr>\n",
        "      <th>3</th>\n",
        "      <td>NaN</td>\n",
        "      <td>NaN</td>\n",
        "      <td>       Zachte es</td>\n",
        "      <td> Fraxinus pennsylvanica</td>\n",
        "      <td> 1960</td>\n",
        "      <td> 100-200 cm</td>\n",
        "      <td> NaN</td>\n",
        "      <td> Beeldbepalende waarde</td>\n",
        "      <td> NaN</td>\n",
        "      <td> 98</td>\n",
        "      <td> N003</td>\n",
        "      <td> Monumentale boom</td>\n",
        "      <td> NaN</td>\n",
        "      <td> POINT(4.896247 52.411902)</td>\n",
        "      <td> 4.896247</td>\n",
        "      <td> 52.411902</td>\n",
        "      <td> 4,896247</td>\n",
        "      <td> 52,411902</td>\n",
        "      <td>NaN</td>\n",
        "    </tr>\n",
        "  </tbody>\n",
        "</table>\n",
        "</div>"
       ],
       "metadata": {},
       "output_type": "pyout",
       "prompt_number": 118,
       "text": [
        "              SELECTIE  FILTER        Boomsoort  Wetenschappelijke_naam  \\\n",
        "OBJECTNUMMER                                                              \n",
        "1                  NaN     NaN    Zilveresdoorn        Acer saccharinum   \n",
        "2                  NaN     NaN  Noordse esdoorn        Acer platanoides   \n",
        "3                  NaN     NaN        Zachte es  Fraxinus pennsylvanica   \n",
        "\n",
        "              Plantjaar  Stamomtrek Stamdiameter         Beschermwaarde  \\\n",
        "OBJECTNUMMER                                                              \n",
        "1                  1960  300-400 cm          NaN  Beeldbepalende waarde   \n",
        "2                  1960  200-300 cm          NaN  Beeldbepalende waarde   \n",
        "3                  1960  100-200 cm          NaN  Beeldbepalende waarde   \n",
        "\n",
        "             Toelichting  Referentienummer_stadsdeel Volgnummer  \\\n",
        "OBJECTNUMMER                                                      \n",
        "1                    NaN                          92       N001   \n",
        "2                    NaN                          93       N002   \n",
        "3                    NaN                          98       N003   \n",
        "\n",
        "                         Groep Weblink                     COORDS  CENTERLNG1  \\\n",
        "OBJECTNUMMER                                                                    \n",
        "1             Monumentale boom     NaN  POINT(4.898402 52.413653)    4.898402   \n",
        "2             Monumentale boom     NaN  POINT(4.898386 52.413603)    4.898386   \n",
        "3             Monumentale boom     NaN  POINT(4.896247 52.411902)    4.896247   \n",
        "\n",
        "              CENTERLAT1 CENTERLNG2 CENTERLAT2  Unnamed: 19  \n",
        "OBJECTNUMMER                                                 \n",
        "1              52.413653   4,898402  52,413653          NaN  \n",
        "2              52.413603   4,898386  52,413603          NaN  \n",
        "3              52.411902   4,896247  52,411902          NaN  "
       ]
      }
     ],
     "prompt_number": 118
    },
    {
     "cell_type": "markdown",
     "metadata": {},
     "source": [
      "# Hoeveel bomen zijn er van elke soort?"
     ]
    },
    {
     "cell_type": "code",
     "collapsed": false,
     "input": [
      "# Hoeveel bomen zijn er van elke soort?\n",
      "boomsoort= bomen_df[['Boomsoort']]\n",
      " \n",
      "boomsoort.describe()"
     ],
     "language": "python",
     "metadata": {},
     "outputs": [
      {
       "html": [
        "<div style=\"max-height:1000px;max-width:1500px;overflow:auto;\">\n",
        "<table border=\"1\" class=\"dataframe\">\n",
        "  <thead>\n",
        "    <tr style=\"text-align: right;\">\n",
        "      <th></th>\n",
        "      <th>Boomsoort</th>\n",
        "    </tr>\n",
        "  </thead>\n",
        "  <tbody>\n",
        "    <tr>\n",
        "      <th>count</th>\n",
        "      <td>          1990</td>\n",
        "    </tr>\n",
        "    <tr>\n",
        "      <th>unique</th>\n",
        "      <td>           178</td>\n",
        "    </tr>\n",
        "    <tr>\n",
        "      <th>top</th>\n",
        "      <td> Hollandse iep</td>\n",
        "    </tr>\n",
        "    <tr>\n",
        "      <th>freq</th>\n",
        "      <td>           484</td>\n",
        "    </tr>\n",
        "  </tbody>\n",
        "</table>\n",
        "</div>"
       ],
       "metadata": {},
       "output_type": "pyout",
       "prompt_number": 119,
       "text": [
        "            Boomsoort\n",
        "count            1990\n",
        "unique            178\n",
        "top     Hollandse iep\n",
        "freq              484"
       ]
      }
     ],
     "prompt_number": 119
    },
    {
     "cell_type": "code",
     "collapsed": false,
     "input": [
      "bomen_df['Boomsoort'].value_counts()"
     ],
     "language": "python",
     "metadata": {},
     "outputs": [
      {
       "metadata": {},
       "output_type": "pyout",
       "prompt_number": 120,
       "text": [
        "Hollandse iep                     484\n",
        "Gewone plataan                    173\n",
        "Canadese populier                  79\n",
        "Italiaanse populier                72\n",
        "Plataan                            66\n",
        "Linde                              63\n",
        "Gladde iep                         60\n",
        "Gewone vleugelnoot                 60\n",
        "Dubbelbloemige paardenkastanje     59\n",
        "Vleugelnoot                        56\n",
        "Huntingdon-iep                     36\n",
        "Gewone es                          32\n",
        "Monumentaaliep                     30\n",
        "Zuilvormige haagbeuk               29\n",
        "Pluim iep                          26\n",
        "...\n",
        "gewone vleugelnoot        1\n",
        "Tulpenboom                1\n",
        "Korfeik                   1\n",
        "Kleinbladige beuk         1\n",
        "moseik                    1\n",
        "Witte abeel               1\n",
        "Zwarte berk               1\n",
        "Rode pavia                1\n",
        "Gewone lijsterbes         1\n",
        "paardenkastanje           1\n",
        "Bontbladige esdoorn       1\n",
        "Eik                       1\n",
        "Mammoetboom               1\n",
        "Amberkleurige sierkers    1\n",
        "Wilde lijsterbes          1\n",
        "Length: 178, dtype: int64"
       ]
      }
     ],
     "prompt_number": 120
    },
    {
     "cell_type": "code",
     "collapsed": false,
     "input": [
      "bomen_df['Boomsoort'].value_counts()[:10].plot(kind='bar')"
     ],
     "language": "python",
     "metadata": {},
     "outputs": [
      {
       "metadata": {},
       "output_type": "pyout",
       "prompt_number": 121,
       "text": [
        "<matplotlib.axes.AxesSubplot at 0x1122372d0>"
       ]
      },
      {
       "metadata": {},
       "output_type": "display_data",
       "png": "[encoded data removed]",
       "text": [
        "<matplotlib.figure.Figure at 0x110e25ed0>"
       ]
      }
     ],
     "prompt_number": 121
    },
    {
     "cell_type": "markdown",
     "metadata": {},
     "source": [
      "# Jouw beurt: Hoeveel bomen per jaar\n"
     ]
    },
    {
     "cell_type": "markdown",
     "metadata": {},
     "source": [
      "# Pak alle bomen die geplant zijn na 2000"
     ]
    },
    {
     "cell_type": "code",
     "collapsed": false,
     "input": [
      "bomen_df['Plantjaar'] >= 2000"
     ],
     "language": "python",
     "metadata": {},
     "outputs": [
      {
       "ename": "KeyError",
       "evalue": "'Plantjaar'",
       "output_type": "pyerr",
       "traceback": [
        "\u001b[1;31m---------------------------------------------------------------------------\u001b[0m\n\u001b[1;31mKeyError\u001b[0m                                  Traceback (most recent call last)",
        "\u001b[1;32m<ipython-input-11-1d11bcb01414>\u001b[0m in \u001b[0;36m<module>\u001b[1;34m()\u001b[0m\n\u001b[1;32m----> 1\u001b[1;33m \u001b[0mbomen_df\u001b[0m\u001b[1;33m[\u001b[0m\u001b[1;34m'Plantjaar'\u001b[0m\u001b[1;33m]\u001b[0m \u001b[1;33m>=\u001b[0m \u001b[1;36m2000\u001b[0m\u001b[1;33m\u001b[0m\u001b[0m\n\u001b[0m",
        "\u001b[1;32mC:\\Users\\Thomas\\Anaconda\\lib\\site-packages\\pandas\\core\\frame.pyc\u001b[0m in \u001b[0;36m__getitem__\u001b[1;34m(self, key)\u001b[0m\n\u001b[0;32m   1676\u001b[0m             \u001b[1;32mreturn\u001b[0m \u001b[0mself\u001b[0m\u001b[1;33m.\u001b[0m\u001b[0m_getitem_multilevel\u001b[0m\u001b[1;33m(\u001b[0m\u001b[0mkey\u001b[0m\u001b[1;33m)\u001b[0m\u001b[1;33m\u001b[0m\u001b[0m\n\u001b[0;32m   1677\u001b[0m         \u001b[1;32melse\u001b[0m\u001b[1;33m:\u001b[0m\u001b[1;33m\u001b[0m\u001b[0m\n\u001b[1;32m-> 1678\u001b[1;33m             \u001b[1;32mreturn\u001b[0m \u001b[0mself\u001b[0m\u001b[1;33m.\u001b[0m\u001b[0m_getitem_column\u001b[0m\u001b[1;33m(\u001b[0m\u001b[0mkey\u001b[0m\u001b[1;33m)\u001b[0m\u001b[1;33m\u001b[0m\u001b[0m\n\u001b[0m\u001b[0;32m   1679\u001b[0m \u001b[1;33m\u001b[0m\u001b[0m\n\u001b[0;32m   1680\u001b[0m     \u001b[1;32mdef\u001b[0m \u001b[0m_getitem_column\u001b[0m\u001b[1;33m(\u001b[0m\u001b[0mself\u001b[0m\u001b[1;33m,\u001b[0m \u001b[0mkey\u001b[0m\u001b[1;33m)\u001b[0m\u001b[1;33m:\u001b[0m\u001b[1;33m\u001b[0m\u001b[0m\n",
        "\u001b[1;32mC:\\Users\\Thomas\\Anaconda\\lib\\site-packages\\pandas\\core\\frame.pyc\u001b[0m in \u001b[0;36m_getitem_column\u001b[1;34m(self, key)\u001b[0m\n\u001b[0;32m   1683\u001b[0m         \u001b[1;31m# get column\u001b[0m\u001b[1;33m\u001b[0m\u001b[1;33m\u001b[0m\u001b[0m\n\u001b[0;32m   1684\u001b[0m         \u001b[1;32mif\u001b[0m \u001b[0mself\u001b[0m\u001b[1;33m.\u001b[0m\u001b[0mcolumns\u001b[0m\u001b[1;33m.\u001b[0m\u001b[0mis_unique\u001b[0m\u001b[1;33m:\u001b[0m\u001b[1;33m\u001b[0m\u001b[0m\n\u001b[1;32m-> 1685\u001b[1;33m             \u001b[1;32mreturn\u001b[0m \u001b[0mself\u001b[0m\u001b[1;33m.\u001b[0m\u001b[0m_get_item_cache\u001b[0m\u001b[1;33m(\u001b[0m\u001b[0mkey\u001b[0m\u001b[1;33m)\u001b[0m\u001b[1;33m\u001b[0m\u001b[0m\n\u001b[0m\u001b[0;32m   1686\u001b[0m \u001b[1;33m\u001b[0m\u001b[0m\n\u001b[0;32m   1687\u001b[0m         \u001b[1;31m# duplicate columns & possible reduce dimensionaility\u001b[0m\u001b[1;33m\u001b[0m\u001b[1;33m\u001b[0m\u001b[0m\n",
        "\u001b[1;32mC:\\Users\\Thomas\\Anaconda\\lib\\site-packages\\pandas\\core\\generic.pyc\u001b[0m in \u001b[0;36m_get_item_cache\u001b[1;34m(self, item)\u001b[0m\n\u001b[0;32m   1050\u001b[0m         \u001b[0mres\u001b[0m \u001b[1;33m=\u001b[0m \u001b[0mcache\u001b[0m\u001b[1;33m.\u001b[0m\u001b[0mget\u001b[0m\u001b[1;33m(\u001b[0m\u001b[0mitem\u001b[0m\u001b[1;33m)\u001b[0m\u001b[1;33m\u001b[0m\u001b[0m\n\u001b[0;32m   1051\u001b[0m         \u001b[1;32mif\u001b[0m \u001b[0mres\u001b[0m \u001b[1;32mis\u001b[0m \u001b[0mNone\u001b[0m\u001b[1;33m:\u001b[0m\u001b[1;33m\u001b[0m\u001b[0m\n\u001b[1;32m-> 1052\u001b[1;33m             \u001b[0mvalues\u001b[0m \u001b[1;33m=\u001b[0m \u001b[0mself\u001b[0m\u001b[1;33m.\u001b[0m\u001b[0m_data\u001b[0m\u001b[1;33m.\u001b[0m\u001b[0mget\u001b[0m\u001b[1;33m(\u001b[0m\u001b[0mitem\u001b[0m\u001b[1;33m)\u001b[0m\u001b[1;33m\u001b[0m\u001b[0m\n\u001b[0m\u001b[0;32m   1053\u001b[0m             \u001b[0mres\u001b[0m \u001b[1;33m=\u001b[0m \u001b[0mself\u001b[0m\u001b[1;33m.\u001b[0m\u001b[0m_box_item_values\u001b[0m\u001b[1;33m(\u001b[0m\u001b[0mitem\u001b[0m\u001b[1;33m,\u001b[0m \u001b[0mvalues\u001b[0m\u001b[1;33m)\u001b[0m\u001b[1;33m\u001b[0m\u001b[0m\n\u001b[0;32m   1054\u001b[0m             \u001b[0mcache\u001b[0m\u001b[1;33m[\u001b[0m\u001b[0mitem\u001b[0m\u001b[1;33m]\u001b[0m \u001b[1;33m=\u001b[0m \u001b[0mres\u001b[0m\u001b[1;33m\u001b[0m\u001b[0m\n",
        "\u001b[1;32mC:\\Users\\Thomas\\Anaconda\\lib\\site-packages\\pandas\\core\\internals.pyc\u001b[0m in \u001b[0;36mget\u001b[1;34m(self, item, fastpath)\u001b[0m\n\u001b[0;32m   2563\u001b[0m \u001b[1;33m\u001b[0m\u001b[0m\n\u001b[0;32m   2564\u001b[0m             \u001b[1;32mif\u001b[0m \u001b[1;32mnot\u001b[0m \u001b[0misnull\u001b[0m\u001b[1;33m(\u001b[0m\u001b[0mitem\u001b[0m\u001b[1;33m)\u001b[0m\u001b[1;33m:\u001b[0m\u001b[1;33m\u001b[0m\u001b[0m\n\u001b[1;32m-> 2565\u001b[1;33m                 \u001b[0mloc\u001b[0m \u001b[1;33m=\u001b[0m \u001b[0mself\u001b[0m\u001b[1;33m.\u001b[0m\u001b[0mitems\u001b[0m\u001b[1;33m.\u001b[0m\u001b[0mget_loc\u001b[0m\u001b[1;33m(\u001b[0m\u001b[0mitem\u001b[0m\u001b[1;33m)\u001b[0m\u001b[1;33m\u001b[0m\u001b[0m\n\u001b[0m\u001b[0;32m   2566\u001b[0m             \u001b[1;32melse\u001b[0m\u001b[1;33m:\u001b[0m\u001b[1;33m\u001b[0m\u001b[0m\n\u001b[0;32m   2567\u001b[0m                 \u001b[0mindexer\u001b[0m \u001b[1;33m=\u001b[0m \u001b[0mnp\u001b[0m\u001b[1;33m.\u001b[0m\u001b[0marange\u001b[0m\u001b[1;33m(\u001b[0m\u001b[0mlen\u001b[0m\u001b[1;33m(\u001b[0m\u001b[0mself\u001b[0m\u001b[1;33m.\u001b[0m\u001b[0mitems\u001b[0m\u001b[1;33m)\u001b[0m\u001b[1;33m)\u001b[0m\u001b[1;33m[\u001b[0m\u001b[0misnull\u001b[0m\u001b[1;33m(\u001b[0m\u001b[0mself\u001b[0m\u001b[1;33m.\u001b[0m\u001b[0mitems\u001b[0m\u001b[1;33m)\u001b[0m\u001b[1;33m]\u001b[0m\u001b[1;33m\u001b[0m\u001b[0m\n",
        "\u001b[1;32mC:\\Users\\Thomas\\Anaconda\\lib\\site-packages\\pandas\\core\\index.pyc\u001b[0m in \u001b[0;36mget_loc\u001b[1;34m(self, key)\u001b[0m\n\u001b[0;32m   1179\u001b[0m         \u001b[0mloc\u001b[0m \u001b[1;33m:\u001b[0m \u001b[0mint\u001b[0m \u001b[1;32mif\u001b[0m \u001b[0munique\u001b[0m \u001b[0mindex\u001b[0m\u001b[1;33m,\u001b[0m \u001b[0mpossibly\u001b[0m \u001b[0mslice\u001b[0m \u001b[1;32mor\u001b[0m \u001b[0mmask\u001b[0m \u001b[1;32mif\u001b[0m \u001b[1;32mnot\u001b[0m\u001b[1;33m\u001b[0m\u001b[0m\n\u001b[0;32m   1180\u001b[0m         \"\"\"\n\u001b[1;32m-> 1181\u001b[1;33m         \u001b[1;32mreturn\u001b[0m \u001b[0mself\u001b[0m\u001b[1;33m.\u001b[0m\u001b[0m_engine\u001b[0m\u001b[1;33m.\u001b[0m\u001b[0mget_loc\u001b[0m\u001b[1;33m(\u001b[0m\u001b[0m_values_from_object\u001b[0m\u001b[1;33m(\u001b[0m\u001b[0mkey\u001b[0m\u001b[1;33m)\u001b[0m\u001b[1;33m)\u001b[0m\u001b[1;33m\u001b[0m\u001b[0m\n\u001b[0m\u001b[0;32m   1182\u001b[0m \u001b[1;33m\u001b[0m\u001b[0m\n\u001b[0;32m   1183\u001b[0m     \u001b[1;32mdef\u001b[0m \u001b[0mget_value\u001b[0m\u001b[1;33m(\u001b[0m\u001b[0mself\u001b[0m\u001b[1;33m,\u001b[0m \u001b[0mseries\u001b[0m\u001b[1;33m,\u001b[0m \u001b[0mkey\u001b[0m\u001b[1;33m)\u001b[0m\u001b[1;33m:\u001b[0m\u001b[1;33m\u001b[0m\u001b[0m\n",
        "\u001b[1;32mC:\\Users\\Thomas\\Anaconda\\lib\\site-packages\\pandas\\index.pyd\u001b[0m in \u001b[0;36mpandas.index.IndexEngine.get_loc (pandas\\index.c:3656)\u001b[1;34m()\u001b[0m\n",
        "\u001b[1;32mC:\\Users\\Thomas\\Anaconda\\lib\\site-packages\\pandas\\index.pyd\u001b[0m in \u001b[0;36mpandas.index.IndexEngine.get_loc (pandas\\index.c:3534)\u001b[1;34m()\u001b[0m\n",
        "\u001b[1;32mC:\\Users\\Thomas\\Anaconda\\lib\\site-packages\\pandas\\hashtable.pyd\u001b[0m in \u001b[0;36mpandas.hashtable.PyObjectHashTable.get_item (pandas\\hashtable.c:11911)\u001b[1;34m()\u001b[0m\n",
        "\u001b[1;32mC:\\Users\\Thomas\\Anaconda\\lib\\site-packages\\pandas\\hashtable.pyd\u001b[0m in \u001b[0;36mpandas.hashtable.PyObjectHashTable.get_item (pandas\\hashtable.c:11864)\u001b[1;34m()\u001b[0m\n",
        "\u001b[1;31mKeyError\u001b[0m: 'Plantjaar'"
       ]
      }
     ],
     "prompt_number": 11
    },
    {
     "cell_type": "code",
     "collapsed": false,
     "input": [
      "# Pak alle bomen geplant vanaf 2000, en laat alleen de plantjaar en boomsoort kolommen zien\n",
      "bomen_df[bomen_df['Plantjaar'] >= 2000][['Plantjaar','Boomsoort']]"
     ],
     "language": "python",
     "metadata": {},
     "outputs": [
      {
       "html": [
        "<div style=\"max-height:1000px;max-width:1500px;overflow:auto;\">\n",
        "<table border=\"1\" class=\"dataframe\">\n",
        "  <thead>\n",
        "    <tr style=\"text-align: right;\">\n",
        "      <th></th>\n",
        "      <th>Plantjaar</th>\n",
        "      <th>Boomsoort</th>\n",
        "    </tr>\n",
        "    <tr>\n",
        "      <th>OBJECTNUMMER</th>\n",
        "      <th></th>\n",
        "      <th></th>\n",
        "    </tr>\n",
        "  </thead>\n",
        "  <tbody>\n",
        "    <tr>\n",
        "      <th>839 </th>\n",
        "      <td> 2003</td>\n",
        "      <td>       Koningslinde</td>\n",
        "    </tr>\n",
        "    <tr>\n",
        "      <th>969 </th>\n",
        "      <td> 2005</td>\n",
        "      <td> Gewone vleugelnoot</td>\n",
        "    </tr>\n",
        "    <tr>\n",
        "      <th>1070</th>\n",
        "      <td> 2002</td>\n",
        "      <td>       Koningslinde</td>\n",
        "    </tr>\n",
        "    <tr>\n",
        "      <th>1175</th>\n",
        "      <td> 2002</td>\n",
        "      <td>        Bruine beuk</td>\n",
        "    </tr>\n",
        "    <tr>\n",
        "      <th>1177</th>\n",
        "      <td> 2007</td>\n",
        "      <td>  Anna Paulownaboom</td>\n",
        "    </tr>\n",
        "    <tr>\n",
        "      <th>1178</th>\n",
        "      <td> 2007</td>\n",
        "      <td>  Anna Paulownaboom</td>\n",
        "    </tr>\n",
        "    <tr>\n",
        "      <th>1179</th>\n",
        "      <td> 2007</td>\n",
        "      <td>  Anna Paulownaboom</td>\n",
        "    </tr>\n",
        "    <tr>\n",
        "      <th>1311</th>\n",
        "      <td> 2013</td>\n",
        "      <td>       Koningslinde</td>\n",
        "    </tr>\n",
        "    <tr>\n",
        "      <th>1315</th>\n",
        "      <td> 2004</td>\n",
        "      <td>       Koningslinde</td>\n",
        "    </tr>\n",
        "    <tr>\n",
        "      <th>1395</th>\n",
        "      <td> 2003</td>\n",
        "      <td>        Bruine beuk</td>\n",
        "    </tr>\n",
        "  </tbody>\n",
        "</table>\n",
        "</div>"
       ],
       "metadata": {},
       "output_type": "pyout",
       "prompt_number": 123,
       "text": [
        "              Plantjaar           Boomsoort\n",
        "OBJECTNUMMER                               \n",
        "839                2003        Koningslinde\n",
        "969                2005  Gewone vleugelnoot\n",
        "1070               2002        Koningslinde\n",
        "1175               2002         Bruine beuk\n",
        "1177               2007   Anna Paulownaboom\n",
        "1178               2007   Anna Paulownaboom\n",
        "1179               2007   Anna Paulownaboom\n",
        "1311               2013        Koningslinde\n",
        "1315               2004        Koningslinde\n",
        "1395               2003         Bruine beuk"
       ]
      }
     ],
     "prompt_number": 123
    },
    {
     "cell_type": "markdown",
     "metadata": {},
     "source": [
      "# Welke boomsoorten groeien het snelst?\n",
      "\n",
      "* We hebben stamomtrek en stamdiameter. Die kunnen natuurlijk naar elkaar getransformeerd worden.\n",
      "* Eerst maar eens de data bekijken.\n",
      "* Dan is het een kwestie van de gemiddelde groeisnelheid per jaar uitrekenen voor elke boomsoort."
     ]
    },
    {
     "cell_type": "markdown",
     "metadata": {},
     "source": [
      "## Data bekijken"
     ]
    },
    {
     "cell_type": "code",
     "collapsed": false,
     "input": [
      "bomen_df['Stamomtrek'].unique()"
     ],
     "language": "python",
     "metadata": {},
     "outputs": [
      {
       "metadata": {},
       "output_type": "pyout",
       "prompt_number": 124,
       "text": [
        "array(['300-400 cm', '200-300 cm', '100-200 cm', nan, '> 500 cm',\n",
        "       '50  -100 cm', '400-500 cm', '< 50 cm', '0-50cm', '50-100 cm', '179'], dtype=object)"
       ]
      }
     ],
     "prompt_number": 124
    },
    {
     "cell_type": "code",
     "collapsed": false,
     "input": [
      "bomen_df['Stamomtrek'].value_counts()"
     ],
     "language": "python",
     "metadata": {},
     "outputs": [
      {
       "metadata": {},
       "output_type": "pyout",
       "prompt_number": 125,
       "text": [
        "200-300 cm     715\n",
        "100-200 cm     277\n",
        "300-400 cm     205\n",
        "400-500 cm      51\n",
        "< 50 cm          9\n",
        "> 500 cm         8\n",
        "50  -100 cm      5\n",
        "0-50cm           3\n",
        "50-100 cm        1\n",
        "179              1\n",
        "dtype: int64"
       ]
      }
     ],
     "prompt_number": 125
    },
    {
     "cell_type": "markdown",
     "metadata": {},
     "source": [
      "## Data opschonen\n",
      "* Het is duidelijk dat er te veel waardes zijn. Er is geknoeid met spaties.\n",
      "* Laten we meteen een nieuwe waarde bepalen"
     ]
    },
    {
     "cell_type": "code",
     "collapsed": false,
     "input": [
      "stammen = bomen_df[['Plantjaar','Stamomtrek', 'Stamdiameter']]\n",
      "stammen[:5]"
     ],
     "language": "python",
     "metadata": {},
     "outputs": [
      {
       "html": [
        "<div style=\"max-height:1000px;max-width:1500px;overflow:auto;\">\n",
        "<table border=\"1\" class=\"dataframe\">\n",
        "  <thead>\n",
        "    <tr style=\"text-align: right;\">\n",
        "      <th></th>\n",
        "      <th>Plantjaar</th>\n",
        "      <th>Stamomtrek</th>\n",
        "      <th>Stamdiameter</th>\n",
        "    </tr>\n",
        "    <tr>\n",
        "      <th>OBJECTNUMMER</th>\n",
        "      <th></th>\n",
        "      <th></th>\n",
        "      <th></th>\n",
        "    </tr>\n",
        "  </thead>\n",
        "  <tbody>\n",
        "    <tr>\n",
        "      <th>1</th>\n",
        "      <td> 1960</td>\n",
        "      <td> 300-400 cm</td>\n",
        "      <td> NaN</td>\n",
        "    </tr>\n",
        "    <tr>\n",
        "      <th>2</th>\n",
        "      <td> 1960</td>\n",
        "      <td> 200-300 cm</td>\n",
        "      <td> NaN</td>\n",
        "    </tr>\n",
        "    <tr>\n",
        "      <th>3</th>\n",
        "      <td> 1960</td>\n",
        "      <td> 100-200 cm</td>\n",
        "      <td> NaN</td>\n",
        "    </tr>\n",
        "    <tr>\n",
        "      <th>4</th>\n",
        "      <td> 1950</td>\n",
        "      <td> 300-400 cm</td>\n",
        "      <td> NaN</td>\n",
        "    </tr>\n",
        "    <tr>\n",
        "      <th>5</th>\n",
        "      <td> 1960</td>\n",
        "      <td> 100-200 cm</td>\n",
        "      <td> NaN</td>\n",
        "    </tr>\n",
        "  </tbody>\n",
        "</table>\n",
        "</div>"
       ],
       "metadata": {},
       "output_type": "pyout",
       "prompt_number": 126,
       "text": [
        "              Plantjaar  Stamomtrek Stamdiameter\n",
        "OBJECTNUMMER                                    \n",
        "1                  1960  300-400 cm          NaN\n",
        "2                  1960  200-300 cm          NaN\n",
        "3                  1960  100-200 cm          NaN\n",
        "4                  1950  300-400 cm          NaN\n",
        "5                  1960  100-200 cm          NaN"
       ]
      }
     ],
     "prompt_number": 126
    },
    {
     "cell_type": "code",
     "collapsed": false,
     "input": [
      "# See http://pandas.pydata.org/pandas-docs/stable/10min.html#missing-data\n",
      "# Are there trees with both values?\n",
      "stammen.dropna(how='any'), stammen.dropna(how='any')[:5]"
     ],
     "language": "python",
     "metadata": {},
     "outputs": [
      {
       "metadata": {},
       "output_type": "pyout",
       "prompt_number": 127,
       "text": [
        "(<class 'pandas.core.frame.DataFrame'>\n",
        " Index: 322 entries, 997.0 to 1318.0\n",
        " Data columns (total 3 columns):\n",
        " Plantjaar       322  non-null values\n",
        " Stamomtrek      322  non-null values\n",
        " Stamdiameter    322  non-null values\n",
        " dtypes: float64(1), object(2),\n",
        "               Plantjaar  Stamomtrek Stamdiameter\n",
        " OBJECTNUMMER                                    \n",
        " 997                1956  200-300 cm     > 100 cm\n",
        " 998                1948  200-300 cm     > 100 cm\n",
        " 999                1948  200-300 cm     > 100 cm\n",
        " 1000               1928  400-500 cm     > 100 cm\n",
        " 1001               1930  200-300 cm    50-100 cm)"
       ]
      }
     ],
     "prompt_number": 127
    },
    {
     "cell_type": "code",
     "collapsed": false,
     "input": [
      "stammen['Stamdiameter'].value_counts()"
     ],
     "language": "python",
     "metadata": {},
     "outputs": [
      {
       "metadata": {},
       "output_type": "pyout",
       "prompt_number": 128,
       "text": [
        "50-100 cm             534\n",
        "50 - 100 cm           481\n",
        "> 100 cm              186\n",
        "50  -100 cm            89\n",
        "25-50 cm               65\n",
        "100-200 cm             26\n",
        "0-25 cm                19\n",
        "0-50cm                  4\n",
        "Niet te beoordelen      1\n",
        "dtype: int64"
       ]
      }
     ],
     "prompt_number": 128
    },
    {
     "cell_type": "code",
     "collapsed": false,
     "input": [
      "# http://pandas.pydata.org/pandas-docs/stable/text.html#text-string-methods\n",
      "stammen['Stamdiameter'].str.replace(' ','').value_counts()"
     ],
     "language": "python",
     "metadata": {},
     "outputs": [
      {
       "metadata": {},
       "output_type": "pyout",
       "prompt_number": 129,
       "text": [
        "50-100cm            1104\n",
        ">100cm               186\n",
        "25-50cm               65\n",
        "100-200cm             26\n",
        "0-25cm                19\n",
        "0-50cm                 4\n",
        "Niettebeoordelen       1\n",
        "dtype: int64"
       ]
      }
     ],
     "prompt_number": 129
    },
    {
     "cell_type": "code",
     "collapsed": false,
     "input": [
      "# Nu veranderen we de data in ons dataframe\n",
      "stammen['Stamdiameter'] = stammen['Stamdiameter'].str.replace(' ','')\n",
      "stammen['Stamomtrek'] = stammen['Stamomtrek'].str.replace(' ','')\n",
      "stammen['Stamdiameter'].value_counts(), stammen['Stamomtrek'].value_counts()"
     ],
     "language": "python",
     "metadata": {},
     "outputs": [
      {
       "metadata": {},
       "output_type": "pyout",
       "prompt_number": 130,
       "text": [
        "(50-100cm            1104\n",
        " >100cm               186\n",
        " 25-50cm               65\n",
        " 100-200cm             26\n",
        " 0-25cm                19\n",
        " 0-50cm                 4\n",
        " Niettebeoordelen       1\n",
        " dtype: int64, 200-300cm    715\n",
        " 100-200cm    277\n",
        " 300-400cm    205\n",
        " 400-500cm     51\n",
        " <50cm          9\n",
        " >500cm         8\n",
        " 50-100cm       6\n",
        " 0-50cm         3\n",
        " 179            1\n",
        " dtype: int64)"
       ]
      }
     ],
     "prompt_number": 130
    },
    {
     "cell_type": "markdown",
     "metadata": {},
     "source": [
      "## Dan is het een kwestie van de gemiddelde groeisnelheid per jaar uitrekenen voor elke boomsoort.\n",
      "\n",
      "Dat is makkelijker gezegd dan gedaan....\n",
      "\n",
      "We moeten\n",
      "\n",
      "1. De data over dikte veranderen naar integer waardes.\n",
      "1. Er 1 systeem van maken\n",
      "1. Een gok maken wanneer de metingen zijn verricht.\n",
      "1. Gemiddelde groei(boomsoort) := sum([stamdikte(b)/(metingjaar(b)-plantjaar(b)) for b in boomsoort])/len(boomsoort)\n",
      "1. Hier een snelle pandas expressie voor vinden."
     ]
    },
    {
     "cell_type": "markdown",
     "metadata": {},
     "source": [
      "# Stap 1: data numeriek maken\n",
      "\n",
      "* Kijkend naar de counts kunnen we het best beginnen met de diameter.\n",
      "* We moeten een paar klassen bij elkaar gooien, want die overlappen.\n",
      "* We nemen gewoon maar het middelpunt"
     ]
    },
    {
     "cell_type": "code",
     "collapsed": false,
     "input": [
      "stammen['Stamdiameter'] = stammen['Stamdiameter'].str.replace('cm','')\n",
      "stammen['Stamdiameter'].value_counts()"
     ],
     "language": "python",
     "metadata": {},
     "outputs": [
      {
       "metadata": {},
       "output_type": "pyout",
       "prompt_number": 131,
       "text": [
        "50-100              1104\n",
        ">100                 186\n",
        "25-50                 65\n",
        "100-200               26\n",
        "0-25                  19\n",
        "0-50                   4\n",
        "Niettebeoordelen       1\n",
        "dtype: int64"
       ]
      }
     ],
     "prompt_number": 131
    },
    {
     "cell_type": "code",
     "collapsed": false,
     "input": [
      "# verander alle waardes op de velden met waarde '>100' in '100-200'\n",
      "# Eerst selecteren we die rijen, en dan veranderen we\n",
      "\n",
      "stammen[stammen.Stamdiameter =='>100']['Stamdiameter'].str.replace('.*','100-200')"
     ],
     "language": "python",
     "metadata": {},
     "outputs": []
    },
    {
     "cell_type": "code",
     "collapsed": false,
     "input": [
      "# We nemen overal het middlepunt\n",
      "stammen['Stamdiameter'] = stammen['Stamdiameter'].str.replace('>100','100-200')\n",
      "stammen['Stamdiameter'] = stammen['Stamdiameter'].str.replace('0-50','0-25')\n",
      "stammen['Stamdiameter'] = stammen['Stamdiameter'].str.replace('0-25','12.5')\n",
      "stammen['Stamdiameter'] = stammen['Stamdiameter'].str.replace('25-50','37.5')\n",
      "stammen['Stamdiameter'] = stammen['Stamdiameter'].str.replace('50-100','75')\n",
      "stammen['Stamdiameter'] = stammen['Stamdiameter'].str.replace('100-200','150')\n",
      "\n",
      "stammen.Stamdiameter.value_counts()"
     ],
     "language": "python",
     "metadata": {},
     "outputs": [
      {
       "metadata": {},
       "output_type": "pyout",
       "prompt_number": 132,
       "text": [
        "75                  1104\n",
        "150                  212\n",
        "37.5                  65\n",
        "12.5                  23\n",
        "Niettebeoordelen       1\n",
        "dtype: int64"
       ]
      }
     ],
     "prompt_number": 132
    },
    {
     "cell_type": "code",
     "collapsed": false,
     "input": [
      "# Nu niet numerieke waardes wegdoen en datatype omzetten\n",
      "stammen['Stamdiameter']= stammen['Stamdiameter'].astype(float)"
     ],
     "language": "python",
     "metadata": {},
     "outputs": [
      {
       "ename": "ValueError",
       "evalue": "could not convert string to float: Niettebeoordelen",
       "output_type": "pyerr",
       "traceback": [
        "\u001b[0;31m---------------------------------------------------------------------------\u001b[0m\n\u001b[0;31mValueError\u001b[0m                                Traceback (most recent call last)",
        "\u001b[0;32m<ipython-input-133-121eaa536ba8>\u001b[0m in \u001b[0;36m<module>\u001b[0;34m()\u001b[0m\n\u001b[1;32m      1\u001b[0m \u001b[0;31m# Nu niet numerieke waardes wegdoen en datatype omzetten\u001b[0m\u001b[0;34m\u001b[0m\u001b[0;34m\u001b[0m\u001b[0m\n\u001b[0;32m----> 2\u001b[0;31m \u001b[0mstammen\u001b[0m\u001b[0;34m[\u001b[0m\u001b[0;34m'Stamdiameter'\u001b[0m\u001b[0;34m]\u001b[0m\u001b[0;34m=\u001b[0m \u001b[0mstammen\u001b[0m\u001b[0;34m[\u001b[0m\u001b[0;34m'Stamdiameter'\u001b[0m\u001b[0;34m]\u001b[0m\u001b[0;34m.\u001b[0m\u001b[0mastype\u001b[0m\u001b[0;34m(\u001b[0m\u001b[0mfloat\u001b[0m\u001b[0;34m)\u001b[0m\u001b[0;34m\u001b[0m\u001b[0m\n\u001b[0m",
        "\u001b[0;32m/Users/admin/Library/Enthought/Canopy_64bit/User/lib/python2.7/site-packages/pandas/core/series.pyc\u001b[0m in \u001b[0;36mastype\u001b[0;34m(self, dtype)\u001b[0m\n\u001b[1;32m    932\u001b[0m             \u001b[0mvalues\u001b[0m \u001b[0;34m=\u001b[0m \u001b[0mcom\u001b[0m\u001b[0;34m.\u001b[0m\u001b[0m_possibly_cast_to_datetime\u001b[0m\u001b[0;34m(\u001b[0m\u001b[0mself\u001b[0m\u001b[0;34m.\u001b[0m\u001b[0mvalues\u001b[0m\u001b[0;34m,\u001b[0m\u001b[0mdtype\u001b[0m\u001b[0;34m)\u001b[0m\u001b[0;34m\u001b[0m\u001b[0m\n\u001b[1;32m    933\u001b[0m         \u001b[0;32melse\u001b[0m\u001b[0;34m:\u001b[0m\u001b[0;34m\u001b[0m\u001b[0m\n\u001b[0;32m--> 934\u001b[0;31m             \u001b[0mvalues\u001b[0m \u001b[0;34m=\u001b[0m \u001b[0mcom\u001b[0m\u001b[0;34m.\u001b[0m\u001b[0m_astype_nansafe\u001b[0m\u001b[0;34m(\u001b[0m\u001b[0mself\u001b[0m\u001b[0;34m.\u001b[0m\u001b[0mvalues\u001b[0m\u001b[0;34m,\u001b[0m \u001b[0mdtype\u001b[0m\u001b[0;34m)\u001b[0m\u001b[0;34m\u001b[0m\u001b[0m\n\u001b[0m\u001b[1;32m    935\u001b[0m         return self._constructor(values, index=self.index, name=self.name,\n\u001b[1;32m    936\u001b[0m                                  dtype=values.dtype)\n",
        "\u001b[0;32m/Users/admin/Library/Enthought/Canopy_64bit/User/lib/python2.7/site-packages/pandas/core/common.pyc\u001b[0m in \u001b[0;36m_astype_nansafe\u001b[0;34m(arr, dtype, copy)\u001b[0m\n\u001b[1;32m   1663\u001b[0m \u001b[0;34m\u001b[0m\u001b[0m\n\u001b[1;32m   1664\u001b[0m     \u001b[0;32mif\u001b[0m \u001b[0mcopy\u001b[0m\u001b[0;34m:\u001b[0m\u001b[0;34m\u001b[0m\u001b[0m\n\u001b[0;32m-> 1665\u001b[0;31m         \u001b[0;32mreturn\u001b[0m \u001b[0marr\u001b[0m\u001b[0;34m.\u001b[0m\u001b[0mastype\u001b[0m\u001b[0;34m(\u001b[0m\u001b[0mdtype\u001b[0m\u001b[0;34m)\u001b[0m\u001b[0;34m\u001b[0m\u001b[0m\n\u001b[0m\u001b[1;32m   1666\u001b[0m     \u001b[0;32mreturn\u001b[0m \u001b[0marr\u001b[0m\u001b[0;34m.\u001b[0m\u001b[0mview\u001b[0m\u001b[0;34m(\u001b[0m\u001b[0mdtype\u001b[0m\u001b[0;34m)\u001b[0m\u001b[0;34m\u001b[0m\u001b[0m\n\u001b[1;32m   1667\u001b[0m \u001b[0;34m\u001b[0m\u001b[0m\n",
        "\u001b[0;31mValueError\u001b[0m: could not convert string to float: Niettebeoordelen"
       ]
      }
     ],
     "prompt_number": 133
    },
    {
     "cell_type": "code",
     "collapsed": false,
     "input": [
      "# Eerst die Niet te beoordelen weg\n",
      "stammen= stammen[stammen.Stamdiameter != 'Niettebeoordelen']\n",
      "stammen['Stamdiameter']= stammen['Stamdiameter'].astype(float)\n",
      "\n"
     ],
     "language": "python",
     "metadata": {},
     "outputs": [],
     "prompt_number": 134
    },
    {
     "cell_type": "code",
     "collapsed": false,
     "input": [
      "# check\n",
      "stammen.Stamdiameter*2 "
     ],
     "language": "python",
     "metadata": {},
     "outputs": [
      {
       "metadata": {},
       "output_type": "pyout",
       "prompt_number": 135,
       "text": [
        "OBJECTNUMMER\n",
        "1              NaN\n",
        "2              NaN\n",
        "3              NaN\n",
        "4              NaN\n",
        "5              NaN\n",
        "6              NaN\n",
        "7              NaN\n",
        "8              NaN\n",
        "9              NaN\n",
        "10             NaN\n",
        "11             NaN\n",
        "12             NaN\n",
        "13             NaN\n",
        "14             NaN\n",
        "15             NaN\n",
        "...\n",
        " 1977           150\n",
        " 1978           150\n",
        " 1979           150\n",
        " 1980           300\n",
        " 1981           150\n",
        " 1982           300\n",
        " 1983           150\n",
        " 1984           150\n",
        " 1985           150\n",
        " 1986           300\n",
        " 1987           150\n",
        " 1988           150\n",
        " 1989           150\n",
        " 1990           150\n",
        "NaN             NaN\n",
        "Name: Stamdiameter, Length: 1990, dtype: float64"
       ]
      }
     ],
     "prompt_number": 135
    },
    {
     "cell_type": "markdown",
     "metadata": {},
     "source": [
      "# Stap 2: berekenen\n",
      "\n",
      "1. Een gok maken wanneer de metingen zijn verricht.\n",
      "1. Gemiddelde groei(boomsoort) := sum([stamdikte(b)/(metingjaar(b)-plantjaar(b)) for b in boomsoort])/len(boomsoort)\n",
      "1. Hier een snelle pandas expressie voor vinden.\n",
      "\n"
     ]
    },
    {
     "cell_type": "code",
     "collapsed": false,
     "input": [
      "# We houden alleen de kolommen die we willen\n",
      "# We gooien alle missing data weg\n",
      "stammen = stammen[['Plantjaar','Stamdiameter']] \n",
      "stammen=stammen.dropna()\n",
      "stammen,stammen[:10]"
     ],
     "language": "python",
     "metadata": {},
     "outputs": [
      {
       "metadata": {},
       "output_type": "pyout",
       "prompt_number": 136,
       "text": [
        "(<class 'pandas.core.frame.DataFrame'>\n",
        " Index: 864 entries, 455.0 to 1318.0\n",
        " Data columns (total 2 columns):\n",
        " Plantjaar       864  non-null values\n",
        " Stamdiameter    864  non-null values\n",
        " dtypes: float64(2),               Plantjaar  Stamdiameter\n",
        " OBJECTNUMMER                         \n",
        " 455                1948            75\n",
        " 456                1948            75\n",
        " 457                1948            75\n",
        " 458                1948            75\n",
        " 459                1948            75\n",
        " 460                1948            75\n",
        " 461                1935            75\n",
        " 462                1920           150\n",
        " 463                1920           150\n",
        " 464                1950           150)"
       ]
      }
     ],
     "prompt_number": 136
    },
    {
     "cell_type": "code",
     "collapsed": false,
     "input": [
      "# Goed we, hebben nog 864 data punten over\n",
      "stammen['Groeisnelheid']= stammen.Stamdiameter /(2012 - stammen.Plantjaar )\n",
      "stammen.Groeisnelheid.describe()"
     ],
     "language": "python",
     "metadata": {},
     "outputs": [
      {
       "metadata": {},
       "output_type": "pyout",
       "prompt_number": 137,
       "text": [
        "count    864.000000\n",
        "mean       1.202725\n",
        "std        0.747263\n",
        "min      -12.500000\n",
        "25%        0.914634\n",
        "50%        1.171875\n",
        "75%        1.388889\n",
        "max        7.894737\n",
        "dtype: float64"
       ]
      }
     ],
     "prompt_number": 137
    },
    {
     "cell_type": "code",
     "collapsed": false,
     "input": [
      "stammen.Groeisnelheid.plot()"
     ],
     "language": "python",
     "metadata": {},
     "outputs": [
      {
       "metadata": {},
       "output_type": "pyout",
       "prompt_number": 138,
       "text": [
        "<matplotlib.axes.AxesSubplot at 0x10d4e0550>"
       ]
      },
      {
       "metadata": {},
       "output_type": "display_data",
       "png": "[encoded data removed]",
       "text": [
        "<matplotlib.figure.Figure at 0x11191d690>"
       ]
      }
     ],
     "prompt_number": 138
    },
    {
     "cell_type": "markdown",
     "metadata": {},
     "source": [
      "## Jouw beurt: nu per boomsoort"
     ]
    },
    {
     "cell_type": "code",
     "collapsed": false,
     "input": [],
     "language": "python",
     "metadata": {},
     "outputs": []
    }
   ],
   "metadata": {}
  }
 ]
}