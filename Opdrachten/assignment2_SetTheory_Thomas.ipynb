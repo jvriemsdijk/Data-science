{
 "metadata": {
  "celltoolbar": "Slideshow",
  "name": "",
  "signature": "sha256:64a86f4fb67f5e7984130c7ef35d90c15b2b39a9abbbb7e357a865125971b4b2"
 },
 "nbformat": 3,
 "nbformat_minor": 0,
 "worksheets": [
  {
   "cells": [
    {
     "cell_type": "markdown",
     "metadata": {
      "slideshow": {
       "slide_type": "slide"
      }
     },
     "source": [
      "## [Cardinality][car]\n",
      "\n",
      "[car]: http://en.wikipedia.org/wiki/Set_(mathematics)#Cardinality\n",
      "\n",
      "* The cardinality |\u2009s\u2009| of a set s is \"the number of members of s.\" \n",
      "\n",
      "# Examples\n",
      "\n",
      "* if a = {blue, white, red}, |\u2009a\u2009| = 3.\n",
      "* if b = {}, | b | = $\\emptyset$.\n",
      "* if c = {N], | c | = $\\infty$."
     ]
    },
    {
     "cell_type": "markdown",
     "metadata": {
      "slideshow": {
       "slide_type": "slide"
      }
     },
     "source": [
      "## [Special sets][spec]\n",
      "\n",
      "[spec]: http://en.wikipedia.org/wiki/Set_(mathematics)#Special_sets\n",
      "\n",
      "# Examples\n",
      "\n",
      "* P or \u2119, the set of all primes: P = {2, 3, 5, 7, 11, 13, 17, ...}.\n",
      "* N or \u2115, the set of all natural numbers: N = {1, 2, 3, . . .} (sometimes defined containing 0).\n",
      "* Z or \u2124, the set of all integers (whether positive, negative or zero): Z = {..., \u22122, \u22121, 0, 1, 2, ...}.\n",
      "* Q or \u211a, the set of all rational numbers (that is, the set of all proper and improper fractions): Q = {a/b : a, b $\\in$ Z, b $\\neq$ 0}. For example, 1/4 $\\in$ Q and 11/6 $\\in$ Q. All integers are in this set since every integer a can be expressed as the fraction a/1 (Z $\\subsetneq$ Q).\n",
      "* R or \u211d, the set of all real numbers. This set includes all rational numbers, together with all irrational numbers (that is, numbers that cannot be rewritten as fractions, such as $\\sqrt{}$2, as well as transcendental numbers such as $\\pi$, e and numbers that cannot be defined).\n",
      "* C or \u2102, the set of all complex numbers: C = {a + bi : a, b $\\in$ R}. For example, 1 + 2i $\\in$ C.\n",
      "* H or \u210d, the set of all quaternions: H = {a + bi + cj + dk : a, b, c, d $\\in$ R}. For example, 1 + i + 2j \u2212 k $\\in$ H."
     ]
    },
    {
     "cell_type": "markdown",
     "metadata": {
      "slideshow": {
       "slide_type": "slide"
      }
     },
     "source": [
      "## [Applications][app]\n",
      "\n",
      "[app]: http://en.wikipedia.org/wiki/Set_(mathematics)#Applications\n",
      "\n",
      "# Relations\n",
      "* Relation between A & B: A x B.\n",
      "* Set F of ordered pairs (x, x<sup>2</sup>), becomes f(x) = x<sup>2</sup>."
     ]
    },
    {
     "cell_type": "markdown",
     "metadata": {
      "slideshow": {
       "slide_type": "slide"
      }
     },
     "source": [
      "## [Axiomatic set theory][axi]\n",
      "\n",
      "[axi]: http://en.wikipedia.org/wiki/Set_(mathematics)#Axiomatic_set_theory\n",
      "\n",
      "# Paradoxes\n",
      "* [Russel's Paradox][rus] \n",
      "[rus]: http://en.wikipedia.org/wiki/Russell%27s_paradox\n",
      "    The set of all sets that do not contain themselves,  { x : x is a set and x $\\notin$ x } does not exist.\n",
      "* [Cantor's Paradox][can] \n",
      "[can]: http://en.wikipedia.org/wiki/Cantor%27s_paradox\n",
      "    The set of all sets cannot exist."
     ]
    },
    {
     "cell_type": "markdown",
     "metadata": {
      "slideshow": {
       "slide_type": "slide"
      }
     },
     "source": [
      "## [Principle of inclusion and exclusion][iae]\n",
      "\n",
      "[iae]: http://en.wikipedia.org/wiki/Set_(mathematics)#Principle_of_inclusion_and_exclusion\n",
      "\n",
      " \n",
      " * The basic principle for what is included and excluded in the set, |A $\\cup$ B| = |A| + |B| - |A $\\cap$ B|\n",
      " * This can be expanded for multiple sets, |A $\\cup$ B $\\cup$ C| = |A| + |B| + |C| - |A $\\cap$ B| - |A $\\cap$ C| - |B $\\cap$ C| + |A $\\cap$ B $\\cap$ C|.\n"
     ]
    },
    {
     "cell_type": "markdown",
     "metadata": {},
     "source": [
      "## [De Morgan's law][mor]\n",
      "\n",
      "[mor]: http://en.wikipedia.org/wiki/Set_(mathematics)#De_Morgan.27s_Law\n",
      " \n",
      "* (A $\\cup$ B)\u2032 = A\u2032 $\\cap$ B\u2032\n",
      "\n",
      "* (A $\\cap$ B)\u2032 = A\u2032 $\\cup$ B\u2032\n",
      "\n",
      "\n"
     ]
    },
    {
     "cell_type": "code",
     "collapsed": false,
     "input": [],
     "language": "python",
     "metadata": {},
     "outputs": []
    }
   ],
   "metadata": {}
  }
 ]
}