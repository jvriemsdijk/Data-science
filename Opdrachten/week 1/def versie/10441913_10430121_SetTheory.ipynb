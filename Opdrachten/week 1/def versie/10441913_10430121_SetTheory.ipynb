{
 "metadata": {
  "celltoolbar": "Slideshow",
  "name": "",
  "signature": "sha256:e5333f9e240c6d638a41ee0ba4c8758c932fef7730e129a0234caa314bc77956"
 },
 "nbformat": 3,
 "nbformat_minor": 0,
 "worksheets": [
  {
   "cells": [
    {
     "cell_type": "markdown",
     "metadata": {
      "slideshow": {
       "slide_type": "slide"
      }
     },
     "source": [
      "# [Sets][set]\n",
      "\n",
      "* We will look at sets in theory and practice with Python\n",
      "* We will follow:  <http://en.wikipedia.org/wiki/Set_(mathematics)>\n",
      "* Lastly we will look at the connection beween sets and Boolean logic.\n",
      "\n",
      "[set]:http://en.wikipedia.org/wiki/Set_(mathematics)"
     ]
    },
    {
     "cell_type": "code",
     "collapsed": false,
     "input": [
      "from IPython.display import HTML\n",
      "HTML('<iframe src=http://en.wikipedia.org/wiki/Set_(mathematics) width=100% height=600></iframe>')"
     ],
     "language": "python",
     "metadata": {
      "slideshow": {
       "slide_type": "slide"
      }
     },
     "outputs": [
      {
       "html": [
        "<iframe src=http://en.wikipedia.org/wiki/Set_(mathematics) width=100% height=600></iframe>"
       ],
       "metadata": {},
       "output_type": "pyout",
       "prompt_number": 10,
       "text": [
        "<IPython.core.display.HTML at 0x13579588>"
       ]
      }
     ],
     "prompt_number": 10
    },
    {
     "cell_type": "markdown",
     "metadata": {
      "slideshow": {
       "slide_type": "slide"
      }
     },
     "source": [
      "# [Definition of a set][def]\n",
      "\n",
      "* We will not give a formal definition of a set\n",
      "* The most basic properties are that a set has elements, \n",
      "* And that two sets are equal (one and the same) if and only if every element of one set is an element of the other.\n",
      "\n",
      "[def]: http://en.wikipedia.org/wiki/Set_(mathematics)#Definition \"Definition\"\n",
      "\n",
      " "
     ]
    },
    {
     "cell_type": "markdown",
     "metadata": {
      "slideshow": {
       "slide_type": "slide"
      }
     },
     "source": [
      "# [Describing sets][des]\n",
      "\n",
      "\n",
      "## Examples\n",
      "\n",
      "### By extension (naming the values)\n",
      "* $c = \\{4, 2, 1, 3\\}$\n",
      "* $d = \\{blue, white, red\\}$\n",
      "\n",
      "### By extensional definition (with a definition)\n",
      "\n",
      "*  $f=\\{n^2 \\mid n \\in \\mathbb{N} \\mbox{ and } 1\\leq n\\leq 10 \\}$ (First ten squares)\n",
      "*  All even numbers\n",
      "*  All numbers divisible by 8\n",
      "\n",
      "[des]: http://en.wikipedia.org/wiki/Set_(mathematics)#Describing_sets"
     ]
    },
    {
     "cell_type": "heading",
     "level": 1,
     "metadata": {
      "slideshow": {
       "slide_type": "slide"
      }
     },
     "source": [
      "Describing sets in Python"
     ]
    },
    {
     "cell_type": "code",
     "collapsed": false,
     "input": [
      "c = {4,2,1,3}\n",
      "cc = {1,2,3,4}\n",
      "ccc = set(range(1,5))\n",
      "cccc = set([4,2,1,3])"
     ],
     "language": "python",
     "metadata": {
      "slideshow": {
       "slide_type": "subslide"
      }
     },
     "outputs": [],
     "prompt_number": 11
    },
    {
     "cell_type": "code",
     "collapsed": false,
     "input": [
      "c"
     ],
     "language": "python",
     "metadata": {
      "slideshow": {
       "slide_type": "fragment"
      }
     },
     "outputs": [
      {
       "metadata": {},
       "output_type": "pyout",
       "prompt_number": 12,
       "text": [
        "{1, 2, 3, 4}"
       ]
      }
     ],
     "prompt_number": 12
    },
    {
     "cell_type": "code",
     "collapsed": false,
     "input": [
      "ccc"
     ],
     "language": "python",
     "metadata": {
      "slideshow": {
       "slide_type": "fragment"
      }
     },
     "outputs": [
      {
       "metadata": {},
       "output_type": "pyout",
       "prompt_number": 13,
       "text": [
        "{1, 2, 3, 4}"
       ]
      }
     ],
     "prompt_number": 13
    },
    {
     "cell_type": "code",
     "collapsed": false,
     "input": [
      "c == ccc"
     ],
     "language": "python",
     "metadata": {
      "slideshow": {
       "slide_type": "fragment"
      }
     },
     "outputs": [
      {
       "metadata": {},
       "output_type": "pyout",
       "prompt_number": 14,
       "text": [
        "True"
       ]
      }
     ],
     "prompt_number": 14
    },
    {
     "cell_type": "code",
     "collapsed": false,
     "input": [
      "d = {'blue','white','red'}\n",
      "d"
     ],
     "language": "python",
     "metadata": {
      "slideshow": {
       "slide_type": "fragment"
      }
     },
     "outputs": [
      {
       "metadata": {},
       "output_type": "pyout",
       "prompt_number": 15,
       "text": [
        "{'blue', 'red', 'white'}"
       ]
      }
     ],
     "prompt_number": 15
    },
    {
     "cell_type": "code",
     "collapsed": false,
     "input": [
      "s = set(\"Sets can also be made from string elements\")\n",
      "\n",
      "print s"
     ],
     "language": "python",
     "metadata": {
      "slideshow": {
       "slide_type": "fragment"
      }
     },
     "outputs": [
      {
       "output_type": "stream",
       "stream": "stdout",
       "text": [
        "set(['a', ' ', 'c', 'b', 'e', 'd', 'g', 'f', 'i', 'm', 'S', 'o', 'n', 's', 'r', 't', 'l'])\n"
       ]
      }
     ],
     "prompt_number": 16
    },
    {
     "cell_type": "code",
     "collapsed": false,
     "input": [
      "# Create a set of all the letters in \"Assignment\"\n",
      "\n",
      "x = set(\"Assignment\")\n",
      "print x"
     ],
     "language": "python",
     "metadata": {
      "slideshow": {
       "slide_type": "fragment"
      }
     },
     "outputs": []
    },
    {
     "cell_type": "code",
     "collapsed": false,
     "input": [
      "f = {n*n for n in range(1,11)}\n",
      "f"
     ],
     "language": "python",
     "metadata": {
      "slideshow": {
       "slide_type": "fragment"
      }
     },
     "outputs": [
      {
       "metadata": {},
       "output_type": "pyout",
       "prompt_number": 17,
       "text": [
        "{1, 4, 9, 16, 25, 36, 49, 64, 81, 100}"
       ]
      }
     ],
     "prompt_number": 17
    },
    {
     "cell_type": "code",
     "collapsed": false,
     "input": [
      "fl = [n*n for n in range(1,11)]\n",
      "fl"
     ],
     "language": "python",
     "metadata": {
      "slideshow": {
       "slide_type": "fragment"
      }
     },
     "outputs": [
      {
       "metadata": {},
       "output_type": "pyout",
       "prompt_number": 18,
       "text": [
        "[1, 4, 9, 16, 25, 36, 49, 64, 81, 100]"
       ]
      }
     ],
     "prompt_number": 18
    },
    {
     "cell_type": "markdown",
     "metadata": {
      "slideshow": {
       "slide_type": "slide"
      }
     },
     "source": [
      "# [Membership of a set][mem]\n",
      "\n",
      "\n",
      "\n",
      "If a is a member of set B, this is denoted a $\\in$ B, while if c is not a member of B then c $\\notin$ B. For example, with respect to the sets A = {1,2,3,4}, B = {blue, white, red}, and $F = {n2 \u2212 4 : n\\mbox{ is an integer; and }0 \\leq n \\leq 19}$ defined above,\n",
      "\n",
      "- 4 $\\in$ A and 12 $\\in$ F; but\n",
      "\n",
      "- 9 $\\notin$ F and green $\\notin$ B. \n",
      "\n",
      "[mem]: http://en.wikipedia.org/wiki/Set_(mathematics)#Membership"
     ]
    },
    {
     "cell_type": "markdown",
     "metadata": {
      "slideshow": {
       "slide_type": "slide"
      }
     },
     "source": [
      "# [Subsets][sub]\n",
      "\n",
      "- If every member of set A is also a member of set B, then A is said to be a subset of B\n",
      "- Written A $\\subseteq$ B (also pronounced A is contained in B)\n",
      "- Equivalently, we can write B $\\supseteq$ A, read as B is a superset of A, B includes A, or B contains A\n",
      "\n",
      "### Proper subsets\n",
      "\n",
      "- If A is a subset of, but not equal to, B, then A is called a proper subset of B, written A $\\subsetneq$ B (A is a proper subset of B) or B $\\supsetneq$ A (B is a proper superset of A).\n",
      "\n",
      "\n",
      "[sub]: http://en.wikipedia.org/wiki/Set_(mathematics)#Membership"
     ]
    },
    {
     "cell_type": "markdown",
     "metadata": {
      "slideshow": {
       "slide_type": "slide"
      }
     },
     "source": [
      "# [Subset examples][sub]\n",
      "\n",
      "\n",
      "- The set of all men is a proper subset of the set of all people.\n",
      "- {1, 3} $\\in$ {1, 2, 3, 4}.\n",
      "- {1, 2, 3, 4} $\\in$ {1, 2, 3, 4}.\n",
      "\n",
      "The empty set is a subset of every set and every set is a subset of itself:\n",
      "\n",
      "- $\\emptyset \\subseteq$ A.\n",
      "- A $\\subseteq$ A.\n",
      "\n",
      "An obvious but useful identity, which can often be used to show that two seemingly different sets are equal:\n",
      "\n",
      "- A = B if and only if A $\\subseteq$ B and B $\\subseteq$ A.\n",
      "\n",
      "\n",
      "[sub]: http://en.wikipedia.org/wiki/Set_(mathematics)#Membership"
     ]
    },
    {
     "cell_type": "heading",
     "level": 1,
     "metadata": {
      "slideshow": {
       "slide_type": "slide"
      }
     },
     "source": [
      "Set membership in Python"
     ]
    },
    {
     "cell_type": "code",
     "collapsed": false,
     "input": [
      "# member of a set\n",
      "\n",
      "1 in {2,3,4}"
     ],
     "language": "python",
     "metadata": {
      "slideshow": {
       "slide_type": "fragment"
      }
     },
     "outputs": [
      {
       "metadata": {},
       "output_type": "pyout",
       "prompt_number": 19,
       "text": [
        "False"
       ]
      }
     ],
     "prompt_number": 19
    },
    {
     "cell_type": "code",
     "collapsed": false,
     "input": [
      "1 in {2,3,1}"
     ],
     "language": "python",
     "metadata": {
      "slideshow": {
       "slide_type": "fragment"
      }
     },
     "outputs": [
      {
       "metadata": {},
       "output_type": "pyout",
       "prompt_number": 20,
       "text": [
        "True"
       ]
      }
     ],
     "prompt_number": 20
    },
    {
     "cell_type": "heading",
     "level": 1,
     "metadata": {
      "slideshow": {
       "slide_type": "slide"
      }
     },
     "source": [
      "Subsets in Python"
     ]
    },
    {
     "cell_type": "code",
     "collapsed": false,
     "input": [
      "a = {2,3,1}\n",
      "b = {2,3,1}\n",
      "a.issubset(b)"
     ],
     "language": "python",
     "metadata": {
      "slideshow": {
       "slide_type": "fragment"
      }
     },
     "outputs": [
      {
       "metadata": {},
       "output_type": "pyout",
       "prompt_number": 21,
       "text": [
        "True"
       ]
      }
     ],
     "prompt_number": 21
    },
    {
     "cell_type": "code",
     "collapsed": false,
     "input": [
      "a = {2,3,1}\n",
      "b = {2,3,4}\n",
      "a.issubset(b)"
     ],
     "language": "python",
     "metadata": {
      "slideshow": {
       "slide_type": "fragment"
      }
     },
     "outputs": [
      {
       "metadata": {},
       "output_type": "pyout",
       "prompt_number": 22,
       "text": [
        "False"
       ]
      }
     ],
     "prompt_number": 22
    },
    {
     "cell_type": "code",
     "collapsed": false,
     "input": [
      "a = {2,3,1}\n",
      "b = {2,3}\n",
      "a.issuperset(b)"
     ],
     "language": "python",
     "metadata": {
      "slideshow": {
       "slide_type": "fragment"
      }
     },
     "outputs": [
      {
       "metadata": {},
       "output_type": "pyout",
       "prompt_number": 23,
       "text": [
        "True"
       ]
      }
     ],
     "prompt_number": 23
    },
    {
     "cell_type": "code",
     "collapsed": false,
     "input": [
      "#subset\n",
      "\n",
      "def subset(a,b):\n",
      "    if a == set([]):  # a is de lege verzameling\n",
      "        return True\n",
      "    else:\n",
      "        element = a.pop() # pak een element uit a, a is nu de rest\n",
      "        if element not in b:\n",
      "            return False\n",
      "        else:\n",
      "            return subset(a,b)\n",
      "subset({1,2},{2,3,1})"
     ],
     "language": "python",
     "metadata": {
      "slideshow": {
       "slide_type": "fragment"
      }
     },
     "outputs": [
      {
       "metadata": {},
       "output_type": "pyout",
       "prompt_number": 57,
       "text": [
        "True"
       ]
      }
     ],
     "prompt_number": 57
    },
    {
     "cell_type": "heading",
     "level": 2,
     "metadata": {
      "slideshow": {
       "slide_type": "fragment"
      }
     },
     "source": [
      "Adding conditions"
     ]
    },
    {
     "cell_type": "code",
     "collapsed": false,
     "input": [
      "letters = {char.lower() for char in 'Ik vind       verzamelingen HEEL Leuk!!!!' if not char in ' !' }\n",
      "\n",
      "letters"
     ],
     "language": "python",
     "metadata": {
      "slideshow": {
       "slide_type": "fragment"
      }
     },
     "outputs": [
      {
       "metadata": {},
       "output_type": "pyout",
       "prompt_number": 39,
       "text": [
        "{'a', 'd', 'e', 'g', 'h', 'i', 'k', 'l', 'm', 'n', 'r', 'u', 'v', 'z'}"
       ]
      }
     ],
     "prompt_number": 39
    },
    {
     "cell_type": "markdown",
     "metadata": {
      "slideshow": {
       "slide_type": "slide"
      }
     },
     "source": [
      "# [Power sets][pow]\n",
      "\n",
      "[pow]: http://en.wikipedia.org/wiki/Set_%28mathematics%29#Power_sets\n",
      "\n",
      "\n",
      "- The power set of a set is the collection of all subsets of that set\n",
      "- The power set of a set S is usually written as P(S)\n",
      "- Note that the power set of A also contains A itself and $\\emptyset$\n",
      "\n",
      "## Example\n",
      "\n",
      "- The powerset of {1, 2, 3} is {{1, 2, 3}, {1, 2}, {1, 3}, {2, 3}, {1}, {2}, {3}, \u2205}"
     ]
    },
    {
     "cell_type": "markdown",
     "metadata": {
      "slideshow": {
       "slide_type": "slide"
      }
     },
     "source": [
      "# [Cardinality][car]\n",
      "\n",
      "[car]: http://en.wikipedia.org/wiki/Set_(mathematics)#Cardinality\n",
      "\n",
      "* The cardinality of a set is the number of elements in said set. \n",
      "* The special sets, empty and infinite sets, also have a unique cardinality\n",
      "\n",
      "* Cardinality is denoted by a vertical bar on each side of the set, like $| a |$\n",
      "\n",
      "\n",
      "## Examples\n",
      "\n",
      "* if a = {blue, white, red}, |\u2009a\u2009| = 3.\n",
      "* if b = $\\emptyset$, | b | = 0.\n",
      "* if c = {N}, | c | = $\\infty$. Where N is the set of [natural numbers](http://en.wikipedia.org/wiki/Natural_number)"
     ]
    },
    {
     "cell_type": "heading",
     "level": 1,
     "metadata": {
      "slideshow": {
       "slide_type": "slide"
      }
     },
     "source": [
      "Cardinality in Python"
     ]
    },
    {
     "cell_type": "code",
     "collapsed": false,
     "input": [
      "a = {1,2,3}\n",
      "len(a)"
     ],
     "language": "python",
     "metadata": {
      "slideshow": {
       "slide_type": "fragment"
      }
     },
     "outputs": [
      {
       "metadata": {},
       "output_type": "pyout",
       "prompt_number": 25,
       "text": [
        "3"
       ]
      }
     ],
     "prompt_number": 25
    },
    {
     "cell_type": "code",
     "collapsed": false,
     "input": [
      "a = set()\n",
      "len(a)"
     ],
     "language": "python",
     "metadata": {
      "slideshow": {
       "slide_type": "fragment"
      }
     },
     "outputs": [
      {
       "metadata": {},
       "output_type": "pyout",
       "prompt_number": 26,
       "text": [
        "0"
       ]
      }
     ],
     "prompt_number": 26
    },
    {
     "cell_type": "code",
     "collapsed": false,
     "input": [
      "# Guess the cardinality of the set of all characters used in the first chapter of Alice in Wonderland\n",
      "\n",
      "# A plain text version of the book can be found at the Gutenberg project here: https://www.gutenberg.org/cache/epub/11\n",
      "# Create a set of the book and check your previous guess, explain any differences\n",
      "\n",
      "\n",
      "# The cardinality is probably around 50. It includes all letters, characters like question marks and spaces.\n",
      "\n",
      "#infile = open('http://www.gutenberg.org/cache/epub/11/pg11.txt') \n",
      "#contents = infile.read()\n",
      "#infile.close()\n",
      "\n",
      "contents = (\"\"\"CHAPTER I. Down the Rabbit-Hole\n",
      "\n",
      "Alice was beginning to get very tired of sitting by her sister on the\n",
      "bank, and of having nothing to do: once or twice she had peeped into the\n",
      "book her sister was reading, but it had no pictures or conversations in\n",
      "it, 'and what is the use of a book,' thought Alice 'without pictures or\n",
      "conversations?'\n",
      "\n",
      "So she was considering in her own mind (as well as she could, for the\n",
      "hot day made her feel very sleepy and stupid), whether the pleasure\n",
      "of making a daisy-chain would be worth the trouble of getting up and\n",
      "picking the daisies, when suddenly a White Rabbit with pink eyes ran\n",
      "close by her.\n",
      "\n",
      "There was nothing so VERY remarkable in that; nor did Alice think it so\n",
      "VERY much out of the way to hear the Rabbit say to itself, 'Oh dear!\n",
      "Oh dear! I shall be late!' (when she thought it over afterwards, it\n",
      "occurred to her that she ought to have wondered at this, but at the time\n",
      "it all seemed quite natural); but when the Rabbit actually TOOK A WATCH\n",
      "OUT OF ITS WAISTCOAT-POCKET, and looked at it, and then hurried on,\n",
      "Alice started to her feet, for it flashed across her mind that she had\n",
      "never before seen a rabbit with either a waistcoat-pocket, or a watch\n",
      "to take out of it, and burning with curiosity, she ran across the field\n",
      "after it, and fortunately was just in time to see it pop down a large\n",
      "rabbit-hole under the hedge.\n",
      "\n",
      "In another moment down went Alice after it, never once considering how\n",
      "in the world she was to get out again.\n",
      "\n",
      "The rabbit-hole went straight on like a tunnel for some way, and then\n",
      "dipped suddenly down, so suddenly that Alice had not a moment to think\n",
      "about stopping herself before she found herself falling down a very deep\n",
      "well.\n",
      "\n",
      "Either the well was very deep, or she fell very slowly, for she had\n",
      "plenty of time as she went down to look about her and to wonder what was\n",
      "going to happen next. First, she tried to look down and make out what\n",
      "she was coming to, but it was too dark to see anything; then she\n",
      "looked at the sides of the well, and noticed that they were filled with\n",
      "cupboards and book-shelves; here and there she saw maps and pictures\n",
      "hung upon pegs. She took down a jar from one of the shelves as\n",
      "she passed; it was labelled 'ORANGE MARMALADE', but to her great\n",
      "disappointment it was empty: she did not like to drop the jar for fear\n",
      "of killing somebody, so managed to put it into one of the cupboards as\n",
      "she fell past it.\n",
      "\n",
      "'Well!' thought Alice to herself, 'after such a fall as this, I shall\n",
      "think nothing of tumbling down stairs! How brave they'll all think me at\n",
      "home! Why, I wouldn't say anything about it, even if I fell off the top\n",
      "of the house!' (Which was very likely true.)\n",
      "\n",
      "Down, down, down. Would the fall NEVER come to an end! 'I wonder how\n",
      "many miles I've fallen by this time?' she said aloud. 'I must be getting\n",
      "somewhere near the centre of the earth. Let me see: that would be four\n",
      "thousand miles down, I think--' (for, you see, Alice had learnt several\n",
      "things of this sort in her lessons in the schoolroom, and though this\n",
      "was not a VERY good opportunity for showing off her knowledge, as there\n",
      "was no one to listen to her, still it was good practice to say it over)\n",
      "'--yes, that's about the right distance--but then I wonder what Latitude\n",
      "or Longitude I've got to?' (Alice had no idea what Latitude was, or\n",
      "Longitude either, but thought they were nice grand words to say.)\n",
      "\n",
      "Presently she began again. 'I wonder if I shall fall right THROUGH the\n",
      "earth! How funny it'll seem to come out among the people that walk with\n",
      "their heads downward! The Antipathies, I think--' (she was rather glad\n",
      "there WAS no one listening, this time, as it didn't sound at all the\n",
      "right word) '--but I shall have to ask them what the name of the country\n",
      "is, you know. Please, Ma'am, is this New Zealand or Australia?' (and\n",
      "she tried to curtsey as she spoke--fancy CURTSEYING as you're falling\n",
      "through the air! Do you think you could manage it?) 'And what an\n",
      "ignorant little girl she'll think me for asking! No, it'll never do to\n",
      "ask: perhaps I shall see it written up somewhere.'\n",
      "\n",
      "Down, down, down. There was nothing else to do, so Alice soon began\n",
      "talking again. 'Dinah'll miss me very much to-night, I should think!'\n",
      "(Dinah was the cat.) 'I hope they'll remember her saucer of milk at\n",
      "tea-time. Dinah my dear! I wish you were down here with me! There are no\n",
      "mice in the air, I'm afraid, but you might catch a bat, and that's very\n",
      "like a mouse, you know. But do cats eat bats, I wonder?' And here Alice\n",
      "began to get rather sleepy, and went on saying to herself, in a dreamy\n",
      "sort of way, 'Do cats eat bats? Do cats eat bats?' and sometimes, 'Do\n",
      "bats eat cats?' for, you see, as she couldn't answer either question,\n",
      "it didn't much matter which way she put it. She felt that she was dozing\n",
      "off, and had just begun to dream that she was walking hand in hand with\n",
      "Dinah, and saying to her very earnestly, 'Now, Dinah, tell me the truth:\n",
      "did you ever eat a bat?' when suddenly, thump! thump! down she came upon\n",
      "a heap of sticks and dry leaves, and the fall was over.\n",
      "\n",
      "Alice was not a bit hurt, and she jumped up on to her feet in a moment:\n",
      "she looked up, but it was all dark overhead; before her was another\n",
      "long passage, and the White Rabbit was still in sight, hurrying down it.\n",
      "There was not a moment to be lost: away went Alice like the wind, and\n",
      "was just in time to hear it say, as it turned a corner, 'Oh my ears\n",
      "and whiskers, how late it's getting!' She was close behind it when she\n",
      "turned the corner, but the Rabbit was no longer to be seen: she found\n",
      "herself in a long, low hall, which was lit up by a row of lamps hanging\n",
      "from the roof.\n",
      "\n",
      "There were doors all round the hall, but they were all locked; and when\n",
      "Alice had been all the way down one side and up the other, trying every\n",
      "door, she walked sadly down the middle, wondering how she was ever to\n",
      "get out again.\n",
      "\n",
      "Suddenly she came upon a little three-legged table, all made of solid\n",
      "glass; there was nothing on it except a tiny golden key, and Alice's\n",
      "first thought was that it might belong to one of the doors of the hall;\n",
      "but, alas! either the locks were too large, or the key was too small,\n",
      "but at any rate it would not open any of them. However, on the second\n",
      "time round, she came upon a low curtain she had not noticed before, and\n",
      "behind it was a little door about fifteen inches high: she tried the\n",
      "little golden key in the lock, and to her great delight it fitted!\n",
      "\n",
      "Alice opened the door and found that it led into a small passage, not\n",
      "much larger than a rat-hole: she knelt down and looked along the passage\n",
      "into the loveliest garden you ever saw. How she longed to get out of\n",
      "that dark hall, and wander about among those beds of bright flowers and\n",
      "those cool fountains, but she could not even get her head through the\n",
      "doorway; 'and even if my head would go through,' thought poor Alice, 'it\n",
      "would be of very little use without my shoulders. Oh, how I wish I could\n",
      "shut up like a telescope! I think I could, if I only knew how to begin.'\n",
      "For, you see, so many out-of-the-way things had happened lately,\n",
      "that Alice had begun to think that very few things indeed were really\n",
      "impossible.\n",
      "\n",
      "There seemed to be no use in waiting by the little door, so she went\n",
      "back to the table, half hoping she might find another key on it, or at\n",
      "any rate a book of rules for shutting people up like telescopes: this\n",
      "time she found a little bottle on it, ('which certainly was not here\n",
      "before,' said Alice,) and round the neck of the bottle was a paper\n",
      "label, with the words 'DRINK ME' beautifully printed on it in large\n",
      "letters.\n",
      "\n",
      "It was all very well to say 'Drink me,' but the wise little Alice was\n",
      "not going to do THAT in a hurry. 'No, I'll look first,' she said, 'and\n",
      "see whether it's marked \"poison\" or not'; for she had read several nice\n",
      "little histories about children who had got burnt, and eaten up by wild\n",
      "beasts and other unpleasant things, all because they WOULD not remember\n",
      "the simple rules their friends had taught them: such as, that a red-hot\n",
      "poker will burn you if you hold it too long; and that if you cut your\n",
      "finger VERY deeply with a knife, it usually bleeds; and she had never\n",
      "forgotten that, if you drink much from a bottle marked 'poison,' it is\n",
      "almost certain to disagree with you, sooner or later.\n",
      "\n",
      "However, this bottle was NOT marked 'poison,' so Alice ventured to taste\n",
      "it, and finding it very nice, (it had, in fact, a sort of mixed flavour\n",
      "of cherry-tart, custard, pine-apple, roast turkey, toffee, and hot\n",
      "buttered toast,) she very soon finished it off.\n",
      "\n",
      "  *    *    *    *    *    *    *\n",
      "\n",
      "    *    *    *    *    *    *\n",
      "\n",
      "  *    *    *    *    *    *    *\n",
      "\n",
      "'What a curious feeling!' said Alice; 'I must be shutting up like a\n",
      "telescope.'\n",
      "\n",
      "And so it was indeed: she was now only ten inches high, and her face\n",
      "brightened up at the thought that she was now the right size for going\n",
      "through the little door into that lovely garden. First, however, she\n",
      "waited for a few minutes to see if she was going to shrink any further:\n",
      "she felt a little nervous about this; 'for it might end, you know,' said\n",
      "Alice to herself, 'in my going out altogether, like a candle. I wonder\n",
      "what I should be like then?' And she tried to fancy what the flame of a\n",
      "candle is like after the candle is blown out, for she could not remember\n",
      "ever having seen such a thing.\n",
      "\n",
      "After a while, finding that nothing more happened, she decided on going\n",
      "into the garden at once; but, alas for poor Alice! when she got to the\n",
      "door, she found she had forgotten the little golden key, and when she\n",
      "went back to the table for it, she found she could not possibly reach\n",
      "it: she could see it quite plainly through the glass, and she tried her\n",
      "best to climb up one of the legs of the table, but it was too slippery;\n",
      "and when she had tired herself out with trying, the poor little thing\n",
      "sat down and cried.\n",
      "\n",
      "'Come, there's no use in crying like that!' said Alice to herself,\n",
      "rather sharply; 'I advise you to leave off this minute!' She generally\n",
      "gave herself very good advice, (though she very seldom followed it),\n",
      "and sometimes she scolded herself so severely as to bring tears into\n",
      "her eyes; and once she remembered trying to box her own ears for having\n",
      "cheated herself in a game of croquet she was playing against herself,\n",
      "for this curious child was very fond of pretending to be two people.\n",
      "'But it's no use now,' thought poor Alice, 'to pretend to be two people!\n",
      "Why, there's hardly enough of me left to make ONE respectable person!'\n",
      "\n",
      "Soon her eye fell on a little glass box that was lying under the table:\n",
      "she opened it, and found in it a very small cake, on which the words\n",
      "'EAT ME' were beautifully marked in currants. 'Well, I'll eat it,' said\n",
      "Alice, 'and if it makes me grow larger, I can reach the key; and if it\n",
      "makes me grow smaller, I can creep under the door; so either way I'll\n",
      "get into the garden, and I don't care which happens!'\n",
      "\n",
      "She ate a little bit, and said anxiously to herself, 'Which way? Which\n",
      "way?', holding her hand on the top of her head to feel which way it was\n",
      "growing, and she was quite surprised to find that she remained the same\n",
      "size: to be sure, this generally happens when one eats cake, but Alice\n",
      "had got so much into the way of expecting nothing but out-of-the-way\n",
      "things to happen, that it seemed quite dull and stupid for life to go on\n",
      "in the common way.\n",
      "\n",
      "So she set to work, and very soon finished off the cake.\n",
      "\n",
      "  *    *    *    *    *    *    *\n",
      "\n",
      "    *    *    *    *    *    *\n",
      "\n",
      "  *    *    *    *    *    *    *\n",
      "\n",
      "\"\"\")\n",
      "print set(contents)\n",
      "print len(set(contents))"
     ],
     "language": "python",
     "metadata": {
      "slideshow": {
       "slide_type": "subslide"
      }
     },
     "outputs": [
      {
       "output_type": "stream",
       "stream": "stdout",
       "text": [
        "set(['\\n', '!', ' ', '\"', \"'\", ')', '(', '*', '-', ',', '.', ';', ':', '?', 'A', 'C', 'B', 'E', 'D', 'G', 'F', 'I', 'H', 'K', 'M', 'L', 'O', 'N', 'P', 'S', 'R', 'U', 'T', 'W', 'V', 'Y', 'Z', 'a', 'c', 'b', 'e', 'd', 'g', 'f', 'i', 'h', 'k', 'j', 'm', 'l', 'o', 'n', 'q', 'p', 's', 'r', 'u', 't', 'w', 'v', 'y', 'x', 'z'])\n",
        "63\n"
       ]
      }
     ],
     "prompt_number": 1
    },
    {
     "cell_type": "markdown",
     "metadata": {
      "slideshow": {
       "slide_type": "slide"
      }
     },
     "source": [
      "# [Special sets][spec]\n",
      "\n",
      "- Special sets are sets with specific special elements that are used often. Because of this, they're given a special letter.\n",
      "\n",
      "## Examples\n",
      "\n",
      "* P or \u2119, the set of all primes: P = {2, 3, 5, 7, 11, 13, 17, ...}.\n",
      "* N or \u2115, the set of all natural numbers: N = {1, 2, 3, . . .} (sometimes defined containing 0).\n",
      "* Z or \u2124, the set of all integers (whether positive, negative or zero): Z = {..., \u22122, \u22121, 0, 1, 2, ...}.\n",
      "* Q or \u211a, the set of all rational numbers (that is, the set of all proper and improper fractions): Q = {a/b : a, b $\\in$ Z, b $\\neq$ 0}. For example, 1/4 $\\in$ Q and 11/6 $\\in$ Q. All integers are in this set since every integer a can be expressed as the fraction a/1 (Z $\\subsetneq$ Q).\n",
      "* R or \u211d, the set of all real numbers. This set includes all rational numbers, together with all irrational numbers (that is, numbers that cannot be rewritten as fractions, such as $\\sqrt{}$2, as well as transcendental numbers such as $\\pi$, e and numbers that cannot be defined).\n",
      "* C or \u2102, the set of all complex numbers: C = {a + bi : a, b $\\in$ R}. For example, 1 + 2i $\\in$ C.\n",
      "* H or \u210d, the set of all quaternions: H = {a + bi + cj + dk : a, b, c, d $\\in$ R}. For example, 1 + i + 2j \u2212 k $\\in$ H.\n",
      "\n",
      "[spec]: http://en.wikipedia.org/wiki/Set_(mathematics)#Special_sets"
     ]
    },
    {
     "cell_type": "markdown",
     "metadata": {
      "slideshow": {
       "slide_type": "slide"
      }
     },
     "source": [
      "# [Basic operations][bop]\n",
      "\n",
      "\n",
      "There are several operations that can be used to construct new sets from given sets. \n",
      "These are:\n",
      "- Union\n",
      "- Intersection\n",
      "- Complement\n",
      "- Cartesian product\n",
      "\n",
      "\n",
      "[bop]: http://en.wikipedia.org/wiki/Set_%28mathematics%29#Basic_operations"
     ]
    },
    {
     "cell_type": "markdown",
     "metadata": {
      "slideshow": {
       "slide_type": "subslide"
      }
     },
     "source": [
      "# Union\n",
      "\n",
      "- The union of two sets is a set composed of all the elements of both sets\n",
      "- Union of A and B is denoted as A $\\cup$ B\n",
      "\n",
      "## Visually\n",
      "\n",
      "![Union of two sets](http://upload.wikimedia.org/wikipedia/commons/3/30/Venn0111.svg)\n"
     ]
    },
    {
     "cell_type": "markdown",
     "metadata": {
      "slideshow": {
       "slide_type": "subslide"
      }
     },
     "source": [
      "# Union examples\n",
      "\n",
      "- {1, 2} $\\cup$ {1, 2} = {1, 2}.\n",
      "- {1, 2} $\\cup$ {2, 3} = {1, 2, 3}.\n",
      "- {1, 2, 3} $\\cup$ {3, 4, 5} = {1, 2, 3, 4, 5}\n",
      "\n",
      "\n"
     ]
    },
    {
     "cell_type": "markdown",
     "metadata": {
      "slideshow": {
       "slide_type": "subslide"
      }
     },
     "source": [
      "# Union properties\n",
      "\n",
      "- A $\\cup$ B = B $\\cup$ A.\n",
      "- A $\\cup$ (B $\\cup$ C) = (A $\\cup$ B) $\\cup$ C.\n",
      "- A $\\subseteq$ (A $\\cup$ B).\n",
      "- A $\\cup$ A = A.\n",
      "- A $\\cup$ $\\emptyset$ = A.\n",
      "- A $\\subseteq$ B if and only if A $\\cup$ B = B."
     ]
    },
    {
     "cell_type": "heading",
     "level": 1,
     "metadata": {
      "slideshow": {
       "slide_type": "slide"
      }
     },
     "source": [
      "Union in Python"
     ]
    },
    {
     "cell_type": "code",
     "collapsed": false,
     "input": [
      "a = {1, 2}\n",
      "b = {1, 2}\n",
      "\n",
      "a.union(b)"
     ],
     "language": "python",
     "metadata": {
      "slideshow": {
       "slide_type": "fragment"
      }
     },
     "outputs": [
      {
       "metadata": {},
       "output_type": "pyout",
       "prompt_number": 27,
       "text": [
        "{1, 2}"
       ]
      }
     ],
     "prompt_number": 27
    },
    {
     "cell_type": "code",
     "collapsed": false,
     "input": [
      "# alternatively\n",
      "a = {1, 2}\n",
      "b = {1, 2}\n",
      "\n",
      "a | b"
     ],
     "language": "python",
     "metadata": {
      "slideshow": {
       "slide_type": "fragment"
      }
     },
     "outputs": [
      {
       "metadata": {},
       "output_type": "pyout",
       "prompt_number": 28,
       "text": [
        "{1, 2}"
       ]
      }
     ],
     "prompt_number": 28
    },
    {
     "cell_type": "code",
     "collapsed": false,
     "input": [
      "a = {1, 2}\n",
      "b = {2, 3}\n",
      "\n",
      "a.union(b)"
     ],
     "language": "python",
     "metadata": {
      "slideshow": {
       "slide_type": "fragment"
      }
     },
     "outputs": [
      {
       "metadata": {},
       "output_type": "pyout",
       "prompt_number": 29,
       "text": [
        "{1, 2, 3}"
       ]
      }
     ],
     "prompt_number": 29
    },
    {
     "cell_type": "code",
     "collapsed": false,
     "input": [
      "a = {1,2,3}\n",
      "b = {3,4,5}\n",
      "\n",
      "a.union(b)"
     ],
     "language": "python",
     "metadata": {
      "slideshow": {
       "slide_type": "fragment"
      }
     },
     "outputs": [
      {
       "metadata": {},
       "output_type": "pyout",
       "prompt_number": 30,
       "text": [
        "{1, 2, 3, 4, 5}"
       ]
      }
     ],
     "prompt_number": 30
    },
    {
     "cell_type": "markdown",
     "metadata": {
      "slideshow": {
       "slide_type": "subslide"
      }
     },
     "source": [
      "# Intersections\n",
      "\n",
      "- A set intersection gives the set of common elements in two sets\n",
      "- Intersection of sets A and B is denoted as: A $\\cap$ B\n",
      "\n",
      "## Visually\n",
      "\n",
      "![Set intersection](http://upload.wikimedia.org/wikipedia/commons/9/99/Venn0001.svg)"
     ]
    },
    {
     "cell_type": "markdown",
     "metadata": {
      "slideshow": {
       "slide_type": "subslide"
      }
     },
     "source": [
      "# Intersection Examples\n",
      "\n",
      "- {1, 2} $\\cap$ {1, 2} = {1, 2}.\n",
      "- {1, 2} $\\cap$ {2, 3} = {2}."
     ]
    },
    {
     "cell_type": "markdown",
     "metadata": {
      "slideshow": {
       "slide_type": "subslide"
      }
     },
     "source": [
      "# Properties of intersections:\n",
      "\n",
      "- A $\\cap$ B = B $\\cap$ A.\n",
      "- A $\\cap$ (B $\\cap$ C) = (A $\\cap$ B) $\\cap$ C.\n",
      "- A $\\cap$ B $\\subseteq$ A.\n",
      "- A $\\cap$ A = A.\n",
      "- A $\\cap$ $\\emptyset$ = $\\emptyset$.\n",
      "- A $\\subseteq$ B if and only if A $\\cap$ B = A.\n",
      "\n"
     ]
    },
    {
     "cell_type": "heading",
     "level": 1,
     "metadata": {
      "slideshow": {
       "slide_type": "slide"
      }
     },
     "source": [
      "Intersections in Python"
     ]
    },
    {
     "cell_type": "code",
     "collapsed": false,
     "input": [
      "a = {1,2,3}\n",
      "b = {1,2,3}\n",
      "\n",
      "a.intersection(b)"
     ],
     "language": "python",
     "metadata": {
      "slideshow": {
       "slide_type": "fragment"
      }
     },
     "outputs": [
      {
       "metadata": {},
       "output_type": "pyout",
       "prompt_number": 31,
       "text": [
        "{1, 2, 3}"
       ]
      }
     ],
     "prompt_number": 31
    },
    {
     "cell_type": "code",
     "collapsed": false,
     "input": [
      "a = {1,2,3}\n",
      "b = {3,4,5}\n",
      "\n",
      "a.intersection(b)"
     ],
     "language": "python",
     "metadata": {
      "slideshow": {
       "slide_type": "fragment"
      }
     },
     "outputs": [
      {
       "metadata": {},
       "output_type": "pyout",
       "prompt_number": 32,
       "text": [
        "{3}"
       ]
      }
     ],
     "prompt_number": 32
    },
    {
     "cell_type": "markdown",
     "metadata": {
      "slideshow": {
       "slide_type": "subslide"
      }
     },
     "source": [
      "# Relative Complement\n",
      "\n",
      "- The relative complement of B in A is the set of elements of A that are not in B\n",
      "- Denoted as A \\ B or as A - B\n",
      "\n",
      "## Visually\n",
      "\n",
      "![Relative complement](http://upload.wikimedia.org/wikipedia/commons/e/e6/Venn0100.svg)"
     ]
    },
    {
     "cell_type": "markdown",
     "metadata": {
      "slideshow": {
       "slide_type": "subslide"
      }
     },
     "source": [
      "# Absolute Complement\n",
      "\n",
      "- The absolute complement can be used when a set A belongs to a [universal set](http://en.wikipedia.org/wiki/Universe_%28mathematics%29)\n",
      "- U \\ A then is the set of all elements not in A\n",
      "- Denoted as A'\n",
      "\n",
      "## Visually\n",
      "\n",
      "![Relative complement](http://upload.wikimedia.org/wikipedia/commons/e/eb/Venn1010.svg)"
     ]
    },
    {
     "cell_type": "markdown",
     "metadata": {
      "slideshow": {
       "slide_type": "subslide"
      }
     },
     "source": [
      "# Examples\n",
      "\n",
      "- {1, 2} \\ {1, 2} = $\\emptyset$.\n",
      "- {1, 2, 3, 4} \\ {1, 3} = {2, 4}.\n",
      "- If U is the set of integers, E is the set of even integers, and O is the set of odd integers, then U \\ E = E\u2032 = O.\n",
      "\n",
      "\n",
      "\n"
     ]
    },
    {
     "cell_type": "markdown",
     "metadata": {
      "slideshow": {
       "slide_type": "subslide"
      }
     },
     "source": [
      "# Properties of complements\n",
      "\n",
      "- A \\ B $\\neq$ B \\ A for A $\\neq$ B.\n",
      "- A $\\cup$ A\u2032 = U.\n",
      "- A $\\cap$ A\u2032 = $\\emptyset$.\n",
      "- (A\u2032)\u2032 = A.\n",
      "- A \\ A = $\\emptyset$.\n",
      "- U\u2032 = $\\emptyset$ and $\\emptyset$\u2032 = U.\n",
      "- A \\ B = A $\\cap$ B\u2032."
     ]
    },
    {
     "cell_type": "markdown",
     "metadata": {
      "slideshow": {
       "slide_type": "subslide"
      }
     },
     "source": [
      "# Examples\n",
      "\n",
      "- {1, 2} \\ {1, 2} = $\\emptyset$.\n",
      "- {1, 2, 3, 4} \\ {1, 3} = {2, 4}.\n",
      "- If U is the set of integers, E is the set of even integers, and O is the set of odd integers, then U \\ E = E\u2032 = O.\n",
      "\n",
      "\n",
      "\n"
     ]
    },
    {
     "cell_type": "markdown",
     "metadata": {
      "slideshow": {
       "slide_type": "subslide"
      }
     },
     "source": [
      "# Symetric difference\n",
      "\n",
      "- An extension of the complement is the symmetric difference, defined for sets A, B as:\n",
      "\n",
      "    $A\\,\\Delta\\,B = (A \\setminus B) \\cup (B \\setminus A).$\n",
      "\n",
      "- For example, the symmetric difference of {7,8,9,10} and {9,10,11,12} is the set {7,8,11,12}.\n",
      "\n",
      "## Visually\n",
      "\n",
      "![Symeteric difference](http://upload.wikimedia.org/wikipedia/commons/4/46/Venn0110.svg)\n"
     ]
    },
    {
     "cell_type": "heading",
     "level": 1,
     "metadata": {
      "slideshow": {
       "slide_type": "slide"
      }
     },
     "source": [
      "Set complements in Python"
     ]
    },
    {
     "cell_type": "code",
     "collapsed": false,
     "input": [
      "a = {1,2,3}\n",
      "b = {2,3,4}\n",
      "\n",
      "a.difference(b)"
     ],
     "language": "python",
     "metadata": {
      "slideshow": {
       "slide_type": "fragment"
      }
     },
     "outputs": [
      {
       "metadata": {},
       "output_type": "pyout",
       "prompt_number": 33,
       "text": [
        "{1}"
       ]
      }
     ],
     "prompt_number": 33
    },
    {
     "cell_type": "code",
     "collapsed": false,
     "input": [
      "# alternatively\n",
      "a = {1,2,3}\n",
      "b = {2,3,4}\n",
      "\n",
      "a - b"
     ],
     "language": "python",
     "metadata": {
      "slideshow": {
       "slide_type": "fragment"
      }
     },
     "outputs": [
      {
       "metadata": {},
       "output_type": "pyout",
       "prompt_number": 34,
       "text": [
        "{1}"
       ]
      }
     ],
     "prompt_number": 34
    },
    {
     "cell_type": "code",
     "collapsed": false,
     "input": [
      "a = {1,2,3}\n",
      "b = {2,3,4}\n",
      "\n",
      "a.symmetric_difference(b)"
     ],
     "language": "python",
     "metadata": {
      "slideshow": {
       "slide_type": "fragment"
      }
     },
     "outputs": [
      {
       "metadata": {},
       "output_type": "pyout",
       "prompt_number": 35,
       "text": [
        "{1, 4}"
       ]
      }
     ],
     "prompt_number": 35
    },
    {
     "cell_type": "code",
     "collapsed": false,
     "input": [
      "# alternatively\n",
      "a = {1,2,3}\n",
      "b = {2,3,4}\n",
      "\n",
      "a ^ b"
     ],
     "language": "python",
     "metadata": {
      "slideshow": {
       "slide_type": "fragment"
      }
     },
     "outputs": [
      {
       "metadata": {},
       "output_type": "pyout",
       "prompt_number": 36,
       "text": [
        "{1, 4}"
       ]
      }
     ],
     "prompt_number": 36
    },
    {
     "cell_type": "markdown",
     "metadata": {
      "slideshow": {
       "slide_type": "subslide"
      }
     },
     "source": [
      "# Cartesian product\n",
      "\n",
      "- A new set can be constructed by associating every element of one set with every element of another set.\n",
      "- The Cartesian product of two sets A and B, is the set of all ordered pairs (a, b) such that a is a member of A and b is a member of B.\n",
      "- Denoted by A $\\times$ B"
     ]
    },
    {
     "cell_type": "markdown",
     "metadata": {
      "slideshow": {
       "slide_type": "subslide"
      }
     },
     "source": [
      "# Examples:\n",
      "\n",
      "- {1, 2} $\\times$ {red, white} = {(1, red), (1, white), (2, red), (2, white)}.\n",
      "- {1, 2} $\\times$ {red, white, green} = {(1, red), (1, white), (1, green), (2, red), (2, white), (2, green) }.\n",
      "- {1, 2} $\\times$ {1, 2} = {(1, 1), (1, 2), (2, 1), (2, 2)}."
     ]
    },
    {
     "cell_type": "markdown",
     "metadata": {
      "slideshow": {
       "slide_type": "subslide"
      }
     },
     "source": [
      "# Basic properties\n",
      "\n",
      " \n",
      "- A $\\times$ $\\emptyset$ = $\\emptyset$\n",
      "- A $\\times$ (B $\\cup$ (A $\\times$ B) $\\cup$ (A $\\times$ C).\n",
      "- (A $\\cup$ B) $\\times$ C = (A $\\times$ C) $\\cup$ (B $\\times$ C).\n"
     ]
    },
    {
     "cell_type": "heading",
     "level": 1,
     "metadata": {
      "slideshow": {
       "slide_type": "subslide"
      }
     },
     "source": [
      "Cartesian product in Python"
     ]
    },
    {
     "cell_type": "code",
     "collapsed": false,
     "input": [
      "a = {1,2}\n",
      "b = {3,4}\n",
      "c = set()\n",
      "\n",
      "for i in a:\n",
      "    for n in b:\n",
      "        c.add((i, n))\n",
      "\n",
      "print c"
     ],
     "language": "python",
     "metadata": {
      "slideshow": {
       "slide_type": "fragment"
      }
     },
     "outputs": [
      {
       "output_type": "stream",
       "stream": "stdout",
       "text": [
        "set([(1, 3), (2, 3), (2, 4), (1, 4)])\n"
       ]
      }
     ],
     "prompt_number": 37
    },
    {
     "cell_type": "markdown",
     "metadata": {
      "slideshow": {
       "slide_type": "slide"
      }
     },
     "source": [
      "# Let op!\n",
      "\n",
      "* Verzameling heeft geen volgorde\n",
      "* Je kan er dus niet het \"eerste element\" uithalen\n",
      "* Elk element van een verzameling moet _hashable_ zijn. \n",
      "    * Sets, lijsten en dictionairies zijn dat **niet**.\n",
      "\n",
      "Zie <http://en.wikibooks.org/wiki/Python_Programming/Sets> voor verzamelingen in Python."
     ]
    },
    {
     "cell_type": "code",
     "collapsed": false,
     "input": [
      "a = {1,2,3}\n",
      "print \"This gives an error as you cannot retrieve a 'first element' from a set.\"\n",
      "\n",
      "a[0]"
     ],
     "language": "python",
     "metadata": {
      "slideshow": {
       "slide_type": "fragment"
      }
     },
     "outputs": [
      {
       "output_type": "stream",
       "stream": "stdout",
       "text": [
        "This gives an error as you cannot retrieve a 'first element' from a set.\n"
       ]
      },
      {
       "ename": "TypeError",
       "evalue": "'set' object does not support indexing",
       "output_type": "pyerr",
       "traceback": [
        "\u001b[1;31m---------------------------------------------------------------------------\u001b[0m\n\u001b[1;31mTypeError\u001b[0m                                 Traceback (most recent call last)",
        "\u001b[1;32m<ipython-input-14-b265c5b546e1>\u001b[0m in \u001b[0;36m<module>\u001b[1;34m()\u001b[0m\n\u001b[0;32m      2\u001b[0m \u001b[1;32mprint\u001b[0m \u001b[1;34m\"This gives an error as you cannot retrieve a 'first element' from a set.\"\u001b[0m\u001b[1;33m\u001b[0m\u001b[0m\n\u001b[0;32m      3\u001b[0m \u001b[1;33m\u001b[0m\u001b[0m\n\u001b[1;32m----> 4\u001b[1;33m \u001b[0ma\u001b[0m\u001b[1;33m[\u001b[0m\u001b[1;36m0\u001b[0m\u001b[1;33m]\u001b[0m\u001b[1;33m\u001b[0m\u001b[0m\n\u001b[0m",
        "\u001b[1;31mTypeError\u001b[0m: 'set' object does not support indexing"
       ]
      }
     ],
     "prompt_number": 14
    },
    {
     "cell_type": "markdown",
     "metadata": {
      "slideshow": {
       "slide_type": "subslide"
      }
     },
     "source": [
      "# [Boolean logic][boo]\n",
      "\n",
      "[boo]: http://en.wikipedia.org/wiki/Boolean_algebra\n",
      "- Boolean algebra is a subarea of algebra, defining whether statements are True and False. This system is also used in computers, where a bit is either 0 or 1. \n",
      "\n",
      "## Basic operations\n",
      "\n",
      "* Conjunction (and): x $\\wedge$ y.\n",
      "* Disjunction (or): x $\\vee$ y.\n",
      "* Complement (not): x $\\neg$ y.\n",
      "* Exclusive or (xor) -> Switches the outcome.\n",
      "![venn diagram](http://upload.wikimedia.org/wikipedia/commons/thumb/a/ae/Vennandornot.svg/1200px-Vennandornot.svg.png)\n"
     ]
    },
    {
     "cell_type": "markdown",
     "metadata": {
      "slideshow": {
       "slide_type": "subslide"
      }
     },
     "source": [
      "#Conjunction (AND)\n",
      "\n",
      "|Input 1 | input 2 | outcome |\n",
      "|---|---|---|\n",
      "|  0 | 0  | 0  |\n",
      "| 1  | 0  |  0 |\n",
      "| 0  |  1 | 0  |\n",
      "| 1  |  1 | 1 |\n",
      "\n",
      "#Disjunction (OR)\n",
      "\n",
      "|Input 1 | input 2 | outcome |\n",
      "|---|---|---|\n",
      "|  0 | 0  | 0  |\n",
      "| 1  | 0  |  1 |\n",
      "| 0  |  1 | 1  |\n",
      "| 1  |  1 | 1 |\n",
      "\n",
      "#Complement (NOT)\n",
      "\n",
      "|Input | outcome |\n",
      "|---|---|\n",
      "|1|0|\n",
      "|0|1|\n",
      "\n",
      "#Exclusive or (XOR)\n",
      "\n",
      "|Input 1 | input 2 | outcome |\n",
      "|---|---|---|\n",
      "|  0 | 0  | 0  |\n",
      "| 1  | 0  |  1 |\n",
      "| 0  |  1 | 1  |\n",
      "| 1  |  1 | 0 |"
     ]
    },
    {
     "cell_type": "markdown",
     "metadata": {
      "slideshow": {
       "slide_type": "slide"
      }
     },
     "source": [
      "# Exclusive or\n",
      "\n",
      "* Also called symmetric difference\n",
      "* Often mistakingly used as the meaning of the natural language \"or\"\n",
      "* used very much in programming\n",
      "\n",
      "## definition\n",
      "> $e \\in A\\  XOR\\  B \\iff e \\in A$ or $e \\in B$, but not in both\n",
      "\n",
      "> $ A \\ XOR\\  B \\equiv (A \\cup B) \\setminus (A\\cap B)$\n",
      "\n",
      "\n",
      "![XOR](http://upload.wikimedia.org/wikipedia/commons/4/46/Venn0110.svg)"
     ]
    },
    {
     "cell_type": "markdown",
     "metadata": {
      "slideshow": {
       "slide_type": "slide"
      }
     },
     "source": [
      "# Exclusive or\n",
      "\n",
      "## Implementation in Python\n",
      "\n",
      "* <http://en.wikibooks.org/wiki/Python_Programming/Sets#Symmetric_Difference>\n",
      "\n",
      "```\n",
      ">>> s1 = set([4, 6, 9])\n",
      ">>> s2 = set([1, 6, 8])\n",
      ">>> s1.symmetric_difference(s2)\n",
      "set([8, 1, 4, 9])\n",
      ">>> s1 ^ s2\n",
      "set([8, 1, 4, 9])\n",
      ">>> s1.symmetric_difference_update(s2)\n",
      ">>> s1\n",
      "set([8, 1, 4, 9])\n",
      "```"
     ]
    },
    {
     "cell_type": "code",
     "collapsed": false,
     "input": [
      "s1 = set([4, 6, 9])\n",
      "s2 = set([1, 6, 8])\n",
      "s1^s2"
     ],
     "language": "python",
     "metadata": {
      "slideshow": {
       "slide_type": "fragment"
      }
     },
     "outputs": []
    }
   ],
   "metadata": {}
  }
 ]
}