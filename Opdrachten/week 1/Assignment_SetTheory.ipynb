{
 "metadata": {
  "celltoolbar": "Slideshow",
  "name": "",
  "signature": "sha256:7fa21e469a8c20179cfe053a9f6363c6de387207fd137fdc9a7249c8b26cdfba"
 },
 "nbformat": 3,
 "nbformat_minor": 0,
 "worksheets": [
  {
   "cells": [
    {
     "cell_type": "markdown",
     "metadata": {
      "slideshow": {
       "slide_type": "slide"
      }
     },
     "source": [
      "# [Sets][set]\n",
      "\n",
      "* We will look at sets in theory and practice with Python\n",
      "* We will follow:  <http://en.wikipedia.org/wiki/Set_(mathematics)>\n",
      "* Lastly we will look at the connection beween sets and Boolean logic.\n",
      "\n",
      "[set]:http://en.wikipedia.org/wiki/Set_(mathematics)"
     ]
    },
    {
     "cell_type": "code",
     "collapsed": false,
     "input": [
      "from IPython.display import HTML\n",
      "HTML('<iframe src=http://en.wikipedia.org/wiki/Set_(mathematics) width=100% height=600></iframe>')"
     ],
     "language": "python",
     "metadata": {},
     "outputs": [
      {
       "html": [
        "<iframe src=http://en.wikipedia.org/wiki/Set_(mathematics) width=100% height=600></iframe>"
       ],
       "metadata": {},
       "output_type": "pyout",
       "prompt_number": 8,
       "text": [
        "<IPython.core.display.HTML at 0x36da240>"
       ]
      }
     ],
     "prompt_number": 8
    },
    {
     "cell_type": "markdown",
     "metadata": {
      "slideshow": {
       "slide_type": "slide"
      }
     },
     "source": [
      "# [Definition of a set][def]\n",
      "\n",
      "* We will not give a formal definition of a set\n",
      "* The most basic properties are that a set has elements, \n",
      "* And that two sets are equal (one and the same) if and only if every element of one set is an element of the other.\n",
      "\n",
      "[def]: http://en.wikipedia.org/wiki/Set_(mathematics)#Definition \"Definition\"\n",
      "\n",
      " "
     ]
    },
    {
     "cell_type": "markdown",
     "metadata": {
      "slideshow": {
       "slide_type": "slide"
      }
     },
     "source": [
      "# [Describing sets][des]\n",
      "\n",
      "\n",
      "## Examples\n",
      "\n",
      "### By extension (naming the values)\n",
      "* $c = \\{4, 2, 1, 3\\}$\n",
      "* $d = \\{blue, white, red\\}$\n",
      "\n",
      "### By extensional definition (with a definition)\n",
      "\n",
      "*  $f=\\{n^2 \\mid n \\in \\mathbb{N} \\mbox{ and } 1\\leq n\\leq 10 \\}$ (First ten squares)\n",
      "*  All even numbers\n",
      "*  All numbers divisible by 8\n",
      "\n",
      "[des]: http://en.wikipedia.org/wiki/Set_(mathematics)#Describing_sets"
     ]
    },
    {
     "cell_type": "heading",
     "level": 1,
     "metadata": {
      "slideshow": {
       "slide_type": "slide"
      }
     },
     "source": [
      "Describing sets in Python"
     ]
    },
    {
     "cell_type": "code",
     "collapsed": false,
     "input": [
      "c = {4,2,1,3}\n",
      "cc = {1,2,3,4}\n",
      "ccc = set(range(1,5))\n",
      "cccc = set([4,2,1,3])"
     ],
     "language": "python",
     "metadata": {
      "slideshow": {
       "slide_type": "subslide"
      }
     },
     "outputs": [],
     "prompt_number": 19
    },
    {
     "cell_type": "code",
     "collapsed": false,
     "input": [
      "c"
     ],
     "language": "python",
     "metadata": {
      "slideshow": {
       "slide_type": "fragment"
      }
     },
     "outputs": [
      {
       "metadata": {},
       "output_type": "pyout",
       "prompt_number": 20,
       "text": [
        "{1, 2, 3, 4}"
       ]
      }
     ],
     "prompt_number": 20
    },
    {
     "cell_type": "code",
     "collapsed": false,
     "input": [
      "ccc"
     ],
     "language": "python",
     "metadata": {
      "slideshow": {
       "slide_type": "fragment"
      }
     },
     "outputs": [
      {
       "metadata": {},
       "output_type": "pyout",
       "prompt_number": 21,
       "text": [
        "{1, 2, 3, 4}"
       ]
      }
     ],
     "prompt_number": 21
    },
    {
     "cell_type": "code",
     "collapsed": false,
     "input": [
      "c == ccc"
     ],
     "language": "python",
     "metadata": {
      "slideshow": {
       "slide_type": "fragment"
      }
     },
     "outputs": [
      {
       "metadata": {},
       "output_type": "pyout",
       "prompt_number": 22,
       "text": [
        "True"
       ]
      }
     ],
     "prompt_number": 22
    },
    {
     "cell_type": "code",
     "collapsed": false,
     "input": [
      "d = {'blue','white','red'}\n",
      "d"
     ],
     "language": "python",
     "metadata": {
      "slideshow": {
       "slide_type": "fragment"
      }
     },
     "outputs": [
      {
       "metadata": {},
       "output_type": "pyout",
       "prompt_number": 23,
       "text": [
        "{'blue', 'red', 'white'}"
       ]
      }
     ],
     "prompt_number": 23
    },
    {
     "cell_type": "code",
     "collapsed": false,
     "input": [
      "f = {n*n for n in range(1,11)}\n",
      "f"
     ],
     "language": "python",
     "metadata": {
      "slideshow": {
       "slide_type": "fragment"
      }
     },
     "outputs": [
      {
       "metadata": {},
       "output_type": "pyout",
       "prompt_number": 45,
       "text": [
        "{1, 4, 9, 16, 25, 36, 49, 64, 81, 100}"
       ]
      }
     ],
     "prompt_number": 45
    },
    {
     "cell_type": "code",
     "collapsed": false,
     "input": [
      "fl = [n*n for n in range(1,11)]\n",
      "fl"
     ],
     "language": "python",
     "metadata": {
      "slideshow": {
       "slide_type": "fragment"
      }
     },
     "outputs": [
      {
       "metadata": {},
       "output_type": "pyout",
       "prompt_number": 46,
       "text": [
        "[1, 4, 9, 16, 25, 36, 49, 64, 81, 100]"
       ]
      }
     ],
     "prompt_number": 46
    },
    {
     "cell_type": "markdown",
     "metadata": {
      "slideshow": {
       "slide_type": "slide"
      }
     },
     "source": [
      "# [Membership of a set][mem]\n",
      "\n",
      "\n",
      "\n",
      "If a is a member of set B, this is denoted a $\\in$ B, while if c is not a member of B then c $\\notin$ B. For example, with respect to the sets A = {1,2,3,4}, B = {blue, white, red}, and $F = {n2 \u2212 4 : n\\mbox{ is an integer; and }0 \\leq n \\leq 19}$ defined above,\n",
      "\n",
      "- 4 $\\in$ A and 12 $\\in$ F; but\n",
      "\n",
      "- 9 $\\notin$ F and green $\\notin$ B. \n",
      "\n",
      "[mem]: http://en.wikipedia.org/wiki/Set_(mathematics)#Membership"
     ]
    },
    {
     "cell_type": "markdown",
     "metadata": {},
     "source": [
      "# [Subsets][sub]\n",
      "\n",
      "- If every member of set A is also a member of set B, then A is said to be a subset of B\n",
      "- Written A $\\subseteq$ B (also pronounced A is contained in B)\n",
      "- Equivalently, we can write B $\\supseteq$ A, read as B is a superset of A, B includes A, or B contains A\n",
      "\n",
      "### Proper subsets\n",
      "\n",
      "- If A is a subset of, but not equal to, B, then A is called a proper subset of B, written A $\\subsetneq$ B (A is a proper subset of B) or B $\\supsetneq$ A (B is a proper superset of A).\n",
      "\n",
      "\n",
      "[sub]: http://en.wikipedia.org/wiki/Set_(mathematics)#Membership"
     ]
    },
    {
     "cell_type": "markdown",
     "metadata": {},
     "source": [
      "# [Subset examples][sub]\n",
      "\n",
      "\n",
      "- The set of all men is a proper subset of the set of all people.\n",
      "- {1, 3} $\\in$ {1, 2, 3, 4}.\n",
      "- {1, 2, 3, 4} $\\in$ {1, 2, 3, 4}.\n",
      "\n",
      "The empty set is a subset of every set and every set is a subset of itself:\n",
      "\n",
      "- $\\emptyset \\subseteq$ A.\n",
      "- A $\\subseteq$ A.\n",
      "\n",
      "An obvious but useful identity, which can often be used to show that two seemingly different sets are equal:\n",
      "\n",
      "- A = B if and only if A $\\subseteq$ B and B $\\subseteq$ A.\n",
      "\n",
      "\n",
      "[sub]: http://en.wikipedia.org/wiki/Set_(mathematics)#Membership"
     ]
    },
    {
     "cell_type": "heading",
     "level": 1,
     "metadata": {
      "slideshow": {
       "slide_type": "slide"
      }
     },
     "source": [
      "Set membership in Python"
     ]
    },
    {
     "cell_type": "code",
     "collapsed": false,
     "input": [
      "# member of a set\n",
      "\n",
      "1 in {2,3,4}"
     ],
     "language": "python",
     "metadata": {
      "slideshow": {
       "slide_type": "fragment"
      }
     },
     "outputs": [
      {
       "metadata": {},
       "output_type": "pyout",
       "prompt_number": 47,
       "text": [
        "False"
       ]
      }
     ],
     "prompt_number": 47
    },
    {
     "cell_type": "code",
     "collapsed": false,
     "input": [
      "1 in {2,3,1}"
     ],
     "language": "python",
     "metadata": {
      "slideshow": {
       "slide_type": "fragment"
      }
     },
     "outputs": [
      {
       "metadata": {},
       "output_type": "pyout",
       "prompt_number": 48,
       "text": [
        "True"
       ]
      }
     ],
     "prompt_number": 48
    },
    {
     "cell_type": "heading",
     "level": 1,
     "metadata": {
      "slideshow": {
       "slide_type": "slide"
      }
     },
     "source": [
      "Subsets in Python"
     ]
    },
    {
     "cell_type": "code",
     "collapsed": false,
     "input": [
      "a = {2,3,1}\n",
      "b = {2,3,1}\n",
      "a.issubset(b)"
     ],
     "language": "python",
     "metadata": {
      "slideshow": {
       "slide_type": "fragment"
      }
     },
     "outputs": [
      {
       "metadata": {},
       "output_type": "pyout",
       "prompt_number": 4,
       "text": [
        "True"
       ]
      }
     ],
     "prompt_number": 4
    },
    {
     "cell_type": "code",
     "collapsed": false,
     "input": [
      "a = {2,3,1}\n",
      "b = {2,3,4}\n",
      "a.issubset(b)"
     ],
     "language": "python",
     "metadata": {
      "slideshow": {
       "slide_type": "fragment"
      }
     },
     "outputs": [
      {
       "metadata": {},
       "output_type": "pyout",
       "prompt_number": 5,
       "text": [
        "False"
       ]
      }
     ],
     "prompt_number": 5
    },
    {
     "cell_type": "code",
     "collapsed": false,
     "input": [
      "a = {2,3,1}\n",
      "b = {2,3}\n",
      "a.issuperset(b)"
     ],
     "language": "python",
     "metadata": {
      "slideshow": {
       "slide_type": "fragment"
      }
     },
     "outputs": [
      {
       "metadata": {},
       "output_type": "pyout",
       "prompt_number": 6,
       "text": [
        "True"
       ]
      }
     ],
     "prompt_number": 6
    },
    {
     "cell_type": "code",
     "collapsed": false,
     "input": [
      "#subset\n",
      "\n",
      "def subset(a,b):\n",
      "    if a == set([]):  # a  is de lege verzameling\n",
      "        return True\n",
      "    else:\n",
      "        element = a.pop() # pak een element uit a, a is nu de rest\n",
      "         \n",
      "        # maak dit af, gebruik liefst recursie\n",
      "deelverzameling({1,2},{2,3,1})"
     ],
     "language": "python",
     "metadata": {
      "slideshow": {
       "slide_type": "fragment"
      }
     },
     "outputs": [],
     "prompt_number": 49
    },
    {
     "cell_type": "markdown",
     "metadata": {
      "slideshow": {
       "slide_type": "slide"
      }
     },
     "source": [
      "# [Power sets][pow]\n",
      "\n",
      "[pow]: http://en.wikipedia.org/wiki/Set_%28mathematics%29#Power_sets\n",
      "\n",
      "\n",
      "- The power set of a set is the collection of all subsets of that set\n",
      "- The power set of a set S is usually written as P(S)\n",
      "- Note that the power set of A also contains A itself and $\\emptyset$\n",
      "\n",
      "## Example\n",
      "\n",
      "- The powerset of {1, 2, 3} is {{1, 2, 3}, {1, 2}, {1, 3}, {2, 3}, {1}, {2}, {3}, \u2205}"
     ]
    },
    {
     "cell_type": "markdown",
     "metadata": {
      "slideshow": {
       "slide_type": "slide"
      }
     },
     "source": [
      "# [Cardinality][car]\n",
      "\n",
      "[car]: http://en.wikipedia.org/wiki/Set_(mathematics)#Cardinality\n",
      "\n",
      "- The cardinality of a set is the number of elements in said set. \n",
      "- The special sets, empty and infinite sets, also have a unique cardinality\n",
      "\n",
      "## Examples\n",
      "\n",
      "* if a = {blue, white, red}, |\u2009a\u2009| = 3.\n",
      "* if b = $\\emptyset$, | b | = 0.\n",
      "* if c = {N}, | c | = $\\infty$. Where N is the set of [natural numbers](http://en.wikipedia.org/wiki/Natural_number)"
     ]
    },
    {
     "cell_type": "heading",
     "level": 1,
     "metadata": {
      "slideshow": {
       "slide_type": "slide"
      }
     },
     "source": [
      "Cardinality in Python"
     ]
    },
    {
     "cell_type": "code",
     "collapsed": false,
     "input": [
      "a = {1,2,3}\n",
      "len(a)"
     ],
     "language": "python",
     "metadata": {
      "slideshow": {
       "slide_type": "fragment"
      }
     },
     "outputs": [
      {
       "metadata": {},
       "output_type": "pyout",
       "prompt_number": 9,
       "text": [
        "3"
       ]
      }
     ],
     "prompt_number": 9
    },
    {
     "cell_type": "code",
     "collapsed": false,
     "input": [
      "a = set()\n",
      "len(a)"
     ],
     "language": "python",
     "metadata": {
      "slideshow": {
       "slide_type": "fragment"
      }
     },
     "outputs": [
      {
       "metadata": {},
       "output_type": "pyout",
       "prompt_number": 10,
       "text": [
        "0"
       ]
      }
     ],
     "prompt_number": 10
    },
    {
     "cell_type": "markdown",
     "metadata": {
      "slideshow": {
       "slide_type": "slide"
      }
     },
     "source": [
      "# [Special sets][spec]\n",
      "\n",
      "- Special sets are sets with specific special elements that are used often. Because of this, they're given a special letter.\n",
      "\n",
      "## Examples\n",
      "\n",
      "* P or \u2119, the set of all primes: P = {2, 3, 5, 7, 11, 13, 17, ...}.\n",
      "* N or \u2115, the set of all natural numbers: N = {1, 2, 3, . . .} (sometimes defined containing 0).\n",
      "* Z or \u2124, the set of all integers (whether positive, negative or zero): Z = {..., \u22122, \u22121, 0, 1, 2, ...}.\n",
      "* Q or \u211a, the set of all rational numbers (that is, the set of all proper and improper fractions): Q = {a/b : a, b $\\in$ Z, b $\\neq$ 0}. For example, 1/4 $\\in$ Q and 11/6 $\\in$ Q. All integers are in this set since every integer a can be expressed as the fraction a/1 (Z $\\subsetneq$ Q).\n",
      "* R or \u211d, the set of all real numbers. This set includes all rational numbers, together with all irrational numbers (that is, numbers that cannot be rewritten as fractions, such as $\\sqrt{}$2, as well as transcendental numbers such as $\\pi$, e and numbers that cannot be defined).\n",
      "* C or \u2102, the set of all complex numbers: C = {a + bi : a, b $\\in$ R}. For example, 1 + 2i $\\in$ C.\n",
      "* H or \u210d, the set of all quaternions: H = {a + bi + cj + dk : a, b, c, d $\\in$ R}. For example, 1 + i + 2j \u2212 k $\\in$ H.\n",
      "\n",
      "[spec]: http://en.wikipedia.org/wiki/Set_(mathematics)#Special_sets"
     ]
    },
    {
     "cell_type": "markdown",
     "metadata": {
      "slideshow": {
       "slide_type": "slide"
      }
     },
     "source": [
      "# [Basic operations][bop]\n",
      "\n",
      "\n",
      "There are several operations that can be used to construct new sets from given sets. \n",
      "These are:\n",
      "- Union\n",
      "- Intersection\n",
      "- Complement\n",
      "- Cartesian product\n",
      "\n",
      "\n",
      "[bop]: http://en.wikipedia.org/wiki/Set_%28mathematics%29#Basic_operations"
     ]
    },
    {
     "cell_type": "markdown",
     "metadata": {
      "slideshow": {
       "slide_type": "subslide"
      }
     },
     "source": [
      "# Union\n",
      "\n",
      "- The union of two sets is a set composed of all the elements of both sets\n",
      "- Union of A and B is denoted as A $\\cup$ B\n",
      "\n",
      "## Visually\n",
      "\n",
      "![Union of two sets](http://upload.wikimedia.org/wikipedia/commons/3/30/Venn0111.svg)\n"
     ]
    },
    {
     "cell_type": "markdown",
     "metadata": {
      "slideshow": {
       "slide_type": "subslide"
      }
     },
     "source": [
      "# Union examples\n",
      "\n",
      "- {1, 2} $\\cup$ {1, 2} = {1, 2}.\n",
      "- {1, 2} $\\cup$ {2, 3} = {1, 2, 3}.\n",
      "- {1, 2, 3} $\\cup$ {3, 4, 5} = {1, 2, 3, 4, 5}\n",
      "\n",
      "\n"
     ]
    },
    {
     "cell_type": "markdown",
     "metadata": {
      "slideshow": {
       "slide_type": "subslide"
      }
     },
     "source": [
      "# Union properties\n",
      "\n",
      "- A $\\cup$ B = B $\\cup$ A.\n",
      "- A $\\cup$ (B $\\cup$ C) = (A $\\cup$ B) $\\cup$ C.\n",
      "- A $\\subseteq$ (A $\\cup$ B).\n",
      "- A $\\cup$ A = A.\n",
      "- A $\\cup$ $\\emptyset$ = A.\n",
      "- A $\\subseteq$ B if and only if A $\\cup$ B = B."
     ]
    },
    {
     "cell_type": "heading",
     "level": 1,
     "metadata": {
      "slideshow": {
       "slide_type": "slide"
      }
     },
     "source": [
      "Union in Python"
     ]
    },
    {
     "cell_type": "code",
     "collapsed": false,
     "input": [
      "a = {1, 2}\n",
      "b = {1, 2}\n",
      "\n",
      "a.union(b)"
     ],
     "language": "python",
     "metadata": {
      "slideshow": {
       "slide_type": "fragment"
      }
     },
     "outputs": [
      {
       "metadata": {},
       "output_type": "pyout",
       "prompt_number": 12,
       "text": [
        "{1, 2}"
       ]
      }
     ],
     "prompt_number": 12
    },
    {
     "cell_type": "code",
     "collapsed": false,
     "input": [
      "# alternatively\n",
      "a = {1, 2}\n",
      "b = {1, 2}\n",
      "\n",
      "a | b"
     ],
     "language": "python",
     "metadata": {
      "slideshow": {
       "slide_type": "fragment"
      }
     },
     "outputs": [
      {
       "metadata": {},
       "output_type": "pyout",
       "prompt_number": 17,
       "text": [
        "{1, 2}"
       ]
      }
     ],
     "prompt_number": 17
    },
    {
     "cell_type": "code",
     "collapsed": false,
     "input": [
      "a = {1, 2}\n",
      "b = {2, 3}\n",
      "\n",
      "a.union(b)"
     ],
     "language": "python",
     "metadata": {
      "slideshow": {
       "slide_type": "fragment"
      }
     },
     "outputs": [
      {
       "metadata": {},
       "output_type": "pyout",
       "prompt_number": 13,
       "text": [
        "{1, 2, 3}"
       ]
      }
     ],
     "prompt_number": 13
    },
    {
     "cell_type": "code",
     "collapsed": false,
     "input": [
      "a = {1,2,3}\n",
      "b = {3,4,5}\n",
      "\n",
      "a.union(b)"
     ],
     "language": "python",
     "metadata": {
      "slideshow": {
       "slide_type": "fragment"
      }
     },
     "outputs": [
      {
       "metadata": {},
       "output_type": "pyout",
       "prompt_number": 14,
       "text": [
        "{1, 2, 3, 4, 5}"
       ]
      }
     ],
     "prompt_number": 14
    },
    {
     "cell_type": "markdown",
     "metadata": {
      "slideshow": {
       "slide_type": "subslide"
      }
     },
     "source": [
      "# Intersections\n",
      "\n",
      "- A set intersection gives the set of common elements in two sets\n",
      "- Intersection of sets A and B is denoted as: A $\\cap$ B\n",
      "\n",
      "## Visually\n",
      "\n",
      "![Set intersection](http://upload.wikimedia.org/wikipedia/commons/9/99/Venn0001.svg)"
     ]
    },
    {
     "cell_type": "markdown",
     "metadata": {
      "slideshow": {
       "slide_type": "subslide"
      }
     },
     "source": [
      "# Intersection Examples\n",
      "\n",
      "- {1, 2} $\\cap$ {1, 2} = {1, 2}.\n",
      "- {1, 2} $\\cap$ {2, 3} = {2}."
     ]
    },
    {
     "cell_type": "markdown",
     "metadata": {
      "slideshow": {
       "slide_type": "subslide"
      }
     },
     "source": [
      "# Properties of intersections:\n",
      "\n",
      "- A $\\cap$ B = B $\\cap$ A.\n",
      "- A $\\cap$ (B $\\cap$ C) = (A $\\cap$ B) $\\cap$ C.\n",
      "- A $\\cap$ B $\\subseteq$ A.\n",
      "- A $\\cap$ A = A.\n",
      "- A $\\cap$ $\\emptyset$ = $\\emptyset$.\n",
      "- A $\\subseteq$ B if and only if A $\\cap$ B = A.\n",
      "\n"
     ]
    },
    {
     "cell_type": "heading",
     "level": 1,
     "metadata": {},
     "source": [
      "Intersections in Python"
     ]
    },
    {
     "cell_type": "code",
     "collapsed": false,
     "input": [
      "a = {1,2,3}\n",
      "b = {1,2,3}\n",
      "\n",
      "a.intersection(b)"
     ],
     "language": "python",
     "metadata": {},
     "outputs": [
      {
       "metadata": {},
       "output_type": "pyout",
       "prompt_number": 15,
       "text": [
        "{1, 2, 3}"
       ]
      }
     ],
     "prompt_number": 15
    },
    {
     "cell_type": "code",
     "collapsed": false,
     "input": [
      "a = {1,2,3}\n",
      "b = {3,4,5}\n",
      "\n",
      "a.intersection(b)"
     ],
     "language": "python",
     "metadata": {},
     "outputs": [
      {
       "metadata": {},
       "output_type": "pyout",
       "prompt_number": 16,
       "text": [
        "{3}"
       ]
      }
     ],
     "prompt_number": 16
    },
    {
     "cell_type": "markdown",
     "metadata": {
      "slideshow": {
       "slide_type": "subslide"
      }
     },
     "source": [
      "# Relative Complement\n",
      "\n",
      "- The relative complement of B in A is the set of elements of A that are not in B\n",
      "- Denoted as A \\ B or as A - B\n",
      "\n",
      "## Visually\n",
      "\n",
      "![Relative complement](http://upload.wikimedia.org/wikipedia/commons/e/e6/Venn0100.svg)"
     ]
    },
    {
     "cell_type": "markdown",
     "metadata": {
      "slideshow": {
       "slide_type": "subslide"
      }
     },
     "source": [
      "# Absolute Complement\n",
      "\n",
      "- The absolute complement can be used when a set A belongs to a [universal set](http://en.wikipedia.org/wiki/Universe_%28mathematics%29)\n",
      "- U \\ A then is the set of all elements not in A\n",
      "- Denoted as A'\n",
      "\n",
      "## Visually\n",
      "\n",
      "![Relative complement](http://upload.wikimedia.org/wikipedia/commons/e/eb/Venn1010.svg)"
     ]
    },
    {
     "cell_type": "markdown",
     "metadata": {
      "slideshow": {
       "slide_type": "subslide"
      }
     },
     "source": [
      "# Examples\n",
      "\n",
      "- {1, 2} \\ {1, 2} = $\\emptyset$.\n",
      "- {1, 2, 3, 4} \\ {1, 3} = {2, 4}.\n",
      "- If U is the set of integers, E is the set of even integers, and O is the set of odd integers, then U \\ E = E\u2032 = O.\n",
      "\n",
      "\n",
      "\n"
     ]
    },
    {
     "cell_type": "markdown",
     "metadata": {
      "slideshow": {
       "slide_type": "subslide"
      }
     },
     "source": [
      "# Properties of complements\n",
      "\n",
      "- A \\ B $\\neq$ B \\ A for A $\\neq$ B.\n",
      "- A $\\cup$ A\u2032 = U.\n",
      "- A $\\cap$ A\u2032 = $\\emptyset$.\n",
      "- (A\u2032)\u2032 = A.\n",
      "- A \\ A = $\\emptyset$.\n",
      "- U\u2032 = $\\emptyset$ and $\\emptyset$\u2032 = U.\n",
      "- A \\ B = A $\\cap$ B\u2032."
     ]
    },
    {
     "cell_type": "markdown",
     "metadata": {
      "slideshow": {
       "slide_type": "subslide"
      }
     },
     "source": [
      "# Examples\n",
      "\n",
      "- {1, 2} \\ {1, 2} = $\\emptyset$.\n",
      "- {1, 2, 3, 4} \\ {1, 3} = {2, 4}.\n",
      "- If U is the set of integers, E is the set of even integers, and O is the set of odd integers, then U \\ E = E\u2032 = O.\n",
      "\n",
      "\n",
      "\n"
     ]
    },
    {
     "cell_type": "markdown",
     "metadata": {
      "slideshow": {
       "slide_type": "subslide"
      }
     },
     "source": [
      "# Symetric differenct\n",
      "\n",
      "- An extension of the complement is the symmetric difference, defined for sets A, B as:\n",
      "\n",
      "    $A\\,\\Delta\\,B = (A \\setminus B) \\cup (B \\setminus A).$\n",
      "\n",
      "- For example, the symmetric difference of {7,8,9,10} and {9,10,11,12} is the set {7,8,11,12}.\n",
      "\n",
      "## Visually\n",
      "\n",
      "![Symeteric difference](http://upload.wikimedia.org/wikipedia/commons/4/46/Venn0110.svg)\n"
     ]
    },
    {
     "cell_type": "heading",
     "level": 1,
     "metadata": {
      "slideshow": {
       "slide_type": "slide"
      }
     },
     "source": [
      "Set complements in Python"
     ]
    },
    {
     "cell_type": "code",
     "collapsed": false,
     "input": [
      "a = {1,2,3}\n",
      "b = {2,3,4}\n",
      "\n",
      "a.difference(b)"
     ],
     "language": "python",
     "metadata": {
      "slideshow": {
       "slide_type": "fragment"
      }
     },
     "outputs": [
      {
       "metadata": {},
       "output_type": "pyout",
       "prompt_number": 18,
       "text": [
        "{1}"
       ]
      }
     ],
     "prompt_number": 18
    },
    {
     "cell_type": "code",
     "collapsed": false,
     "input": [
      "# alternatively\n",
      "a = {1,2,3}\n",
      "b = {2,3,4}\n",
      "\n",
      "a - b"
     ],
     "language": "python",
     "metadata": {
      "slideshow": {
       "slide_type": "fragment"
      }
     },
     "outputs": [
      {
       "metadata": {},
       "output_type": "pyout",
       "prompt_number": 19,
       "text": [
        "{1}"
       ]
      }
     ],
     "prompt_number": 19
    },
    {
     "cell_type": "code",
     "collapsed": false,
     "input": [
      "a = {1,2,3}\n",
      "b = {2,3,4}\n",
      "\n",
      "a.symmetric_difference(b)"
     ],
     "language": "python",
     "metadata": {
      "slideshow": {
       "slide_type": "fragment"
      }
     },
     "outputs": [
      {
       "metadata": {},
       "output_type": "pyout",
       "prompt_number": 20,
       "text": [
        "{1, 4}"
       ]
      }
     ],
     "prompt_number": 20
    },
    {
     "cell_type": "code",
     "collapsed": false,
     "input": [
      "# alternatively\n",
      "a = {1,2,3}\n",
      "b = {2,3,4}\n",
      "\n",
      "a ^ b"
     ],
     "language": "python",
     "metadata": {
      "slideshow": {
       "slide_type": "fragment"
      }
     },
     "outputs": [
      {
       "metadata": {},
       "output_type": "pyout",
       "prompt_number": 21,
       "text": [
        "{1, 4}"
       ]
      }
     ],
     "prompt_number": 21
    },
    {
     "cell_type": "markdown",
     "metadata": {
      "slideshow": {
       "slide_type": "subslide"
      }
     },
     "source": [
      "# Cartesian product\n",
      "\n",
      "- A new set can be constructed by associating every element of one set with every element of another set.\n",
      "- The Cartesian product of two sets A and B, is the set of all ordered pairs (a, b) such that a is a member of A and b is a member of B.\n",
      "- Denoted by A $\\times$ B"
     ]
    },
    {
     "cell_type": "markdown",
     "metadata": {
      "slideshow": {
       "slide_type": "subslide"
      }
     },
     "source": [
      "# Examples:\n",
      "\n",
      "- {1, 2} $\\times$ {red, white} = {(1, red), (1, white), (2, red), (2, white)}.\n",
      "- {1, 2} $\\times$ {red, white, green} = {(1, red), (1, white), (1, green), (2, red), (2, white), (2, green) }.\n",
      "- {1, 2} $\\times$ {1, 2} = {(1, 1), (1, 2), (2, 1), (2, 2)}."
     ]
    },
    {
     "cell_type": "markdown",
     "metadata": {
      "slideshow": {
       "slide_type": "subslide"
      }
     },
     "source": [
      "# Basic properties\n",
      "\n",
      " \n",
      "- A $\\times$ $\\emptyset$ = $\\emptyset$\n",
      "- A $\\times$ (B $\\cup$ (A $\\times$ B) $\\cup$ (A $\\times$ C).\n",
      "- (A $\\cup$ B) $\\times$ C = (A $\\times$ C) $\\cup$ (B $\\times$ C).\n"
     ]
    },
    {
     "cell_type": "heading",
     "level": 1,
     "metadata": {},
     "source": [
      "Cartesian product in Python"
     ]
    },
    {
     "cell_type": "code",
     "collapsed": false,
     "input": [
      "a = {1,2}\n",
      "b = {3,4}\n",
      "c = set()\n",
      "\n",
      "for i in a:\n",
      "    for n in b:\n",
      "        c.add((i, n))\n",
      "\n",
      "print c"
     ],
     "language": "python",
     "metadata": {},
     "outputs": [
      {
       "output_type": "stream",
       "stream": "stdout",
       "text": [
        "set([(1, 3), (2, 3), (2, 4), (1, 4)])\n"
       ]
      }
     ],
     "prompt_number": 35
    },
    {
     "cell_type": "markdown",
     "metadata": {
      "slideshow": {
       "slide_type": "subslide"
      }
     },
     "source": [
      "# [Boolean logic][boo]\n",
      "\n",
      "[boo]: http://en.wikipedia.org/wiki/Boolean_algebra\n",
      "- Boolean algebra is a subarea of algebra, defining whether statements are True and False. This system is also used in computers, where a bit is either 0 or 1. \n",
      "\n",
      "## Basic operations\n",
      "\n",
      "* Conjunction (and): x $\\wedge$ y.\n",
      "* Disjunction (or): x $\\vee$ y.\n",
      "* Complement (not): x $\\neg$ y.\n",
      "* Exclusive or (xor) -> Switches the outcome.\n",
      "![venn diagram](http://upload.wikimedia.org/wikipedia/commons/thumb/a/ae/Vennandornot.svg/1200px-Vennandornot.svg.png)\n"
     ]
    },
    {
     "cell_type": "markdown",
     "metadata": {
      "slideshow": {
       "slide_type": "subslide"
      }
     },
     "source": [
      "#Conjunction (AND)\n",
      "\n",
      "|Input 1 | input 2 | outcome |\n",
      "|---|---|---|\n",
      "|  0 | 0  | 0  |\n",
      "| 1  | 0  |  0 |\n",
      "| 0  |  1 | 0  |\n",
      "| 1  |  1 | 1 |\n",
      "\n",
      "#Disjunction (OR)\n",
      "\n",
      "|Input 1 | input 2 | outcome |\n",
      "|---|---|---|\n",
      "|  0 | 0  | 0  |\n",
      "| 1  | 0  |  1 |\n",
      "| 0  |  1 | 1  |\n",
      "| 1  |  1 | 1 |\n",
      "\n",
      "#Complement (NOT)\n",
      "\n",
      "|Input | outcome |\n",
      "|---|---|\n",
      "|1|0|\n",
      "|0|1|\n",
      "\n",
      "#Exclusive or (XOR)\n",
      "\n",
      "|Input 1 | input 2 | outcome |\n",
      "|---|---|---|\n",
      "|  0 | 0  | 0  |\n",
      "| 1  | 0  |  1 |\n",
      "| 0  |  1 | 1  |\n",
      "| 1  |  1 | 0 |"
     ]
    },
    {
     "cell_type": "code",
     "collapsed": false,
     "input": [
      "#Your turn: show that order matters for lists but not for sets"
     ],
     "language": "python",
     "metadata": {
      "slideshow": {
       "slide_type": "fragment"
      }
     },
     "outputs": [],
     "prompt_number": 24
    },
    {
     "cell_type": "heading",
     "level": 2,
     "metadata": {
      "slideshow": {
       "slide_type": "fragment"
      }
     },
     "source": [
      "Adding conditions"
     ]
    },
    {
     "cell_type": "code",
     "collapsed": false,
     "input": [
      "letters = {char.lower() for char in 'Ik vind       verzamelingen HEEL Leuk!!!!' if not char in ' !' }\n",
      "\n",
      "letters\n"
     ],
     "language": "python",
     "metadata": {
      "slideshow": {
       "slide_type": "fragment"
      }
     },
     "outputs": [
      {
       "metadata": {},
       "output_type": "pyout",
       "prompt_number": 108,
       "text": [
        "{'a', 'd', 'e', 'g', 'h', 'i', 'k', 'l', 'm', 'n', 'r', 'u', 'v', 'z'}"
       ]
      }
     ],
     "prompt_number": 108
    },
    {
     "cell_type": "markdown",
     "metadata": {
      "slideshow": {
       "slide_type": "slide"
      }
     },
     "source": [
      "# Let op!\n",
      "\n",
      "* Verzameling heeft geen volgorde\n",
      "* Je kan er dus niet het \"eerste element\" uithalen\n",
      "* Elk element van een verzameling moet _hashable_ zijn. \n",
      "    * Sets, lijsten en dictionairies zijn dat **niet**.\n",
      "\n",
      "Zie <http://en.wikibooks.org/wiki/Python_Programming/Sets> voor verzamelingen in Python."
     ]
    },
    {
     "cell_type": "code",
     "collapsed": false,
     "input": [
      "a = {1,2,3}\n",
      "a[0]"
     ],
     "language": "python",
     "metadata": {
      "slideshow": {
       "slide_type": "fragment"
      }
     },
     "outputs": [
      {
       "ename": "TypeError",
       "evalue": "'set' object does not support indexing",
       "output_type": "pyerr",
       "traceback": [
        "\u001b[0;31m---------------------------------------------------------------------------\u001b[0m\n\u001b[0;31mTypeError\u001b[0m                                 Traceback (most recent call last)",
        "\u001b[0;32m<ipython-input-44-7dcad800cccf>\u001b[0m in \u001b[0;36m<module>\u001b[0;34m()\u001b[0m\n\u001b[1;32m      1\u001b[0m \u001b[0ma\u001b[0m \u001b[0;34m=\u001b[0m \u001b[0;34m{\u001b[0m\u001b[0;36m1\u001b[0m\u001b[0;34m,\u001b[0m\u001b[0;36m2\u001b[0m\u001b[0;34m,\u001b[0m\u001b[0;36m3\u001b[0m\u001b[0;34m}\u001b[0m\u001b[0;34m\u001b[0m\u001b[0m\n\u001b[0;32m----> 2\u001b[0;31m \u001b[0ma\u001b[0m\u001b[0;34m[\u001b[0m\u001b[0;36m0\u001b[0m\u001b[0;34m]\u001b[0m\u001b[0;34m\u001b[0m\u001b[0m\n\u001b[0m",
        "\u001b[0;31mTypeError\u001b[0m: 'set' object does not support indexing"
       ]
      }
     ],
     "prompt_number": 44
    },
    {
     "cell_type": "markdown",
     "metadata": {
      "slideshow": {
       "slide_type": "slide"
      }
     },
     "source": [
      "# [Lid van en deel van een verzameling, machtsverzameling][mem]\n",
      "\n",
      "[mem]: http://en.wikipedia.org/wiki/Set_(mathematics)#Membership\n",
      "\n"
     ]
    },
    {
     "cell_type": "code",
     "collapsed": false,
     "input": [
      "# # Machtsverzameling\n",
      "\n",
      "# ## warmlopen: maak alle 2**n combinaties van letters uit een string _s_ van lengte n (volgorde doet er niet toe)\n",
      "# def com(s):\n",
      "#     if s == '':\n",
      "#         return ['']\n",
      "#     else:\n",
      "#         left = com(s[1:])\n",
      "#         right = [s[0] + ss for ss in com(s[1:])]\n",
      "#         return left + right\n",
      "# # test\n",
      "# com('abc')\n",
      "    \n",
      "    \n",
      "### Doe nu hetzelfde maar dan voor machtsverzameling\n",
      "\n",
      "def machtsverzameling(a):\n",
      "    '''voor a een verzameling, geeft machtsverzameling(A) een lijst met alle deelverzamelingen van A'''\n",
      "  \n",
      "    print a\n",
      "    \n",
      "    if a == set():\n",
      "        return [set()]\n",
      "    else:\n",
      "        \n",
      "        answer = []\n",
      "        answer.append(a)\n",
      "        \n",
      "        if len(a) > 1:\n",
      "            for i in a:\n",
      "                print a.difference_update({i})\n",
      "                answer.append(machtsverzameling(a.difference_update(set(i))))\n",
      "        else :\n",
      "            answer.append(machtsverzameling(a.difference_update(set(i))))\n",
      "        return answer\n",
      "        \n",
      "\n",
      "# test\n",
      "machtsverzameling({1,2,3,4})\n",
      " "
     ],
     "language": "python",
     "metadata": {
      "slideshow": {
       "slide_type": "slide"
      }
     },
     "outputs": [
      {
       "output_type": "stream",
       "stream": "stdout",
       "text": [
        "set([1, 2, 3, 4])\n",
        "None\n"
       ]
      },
      {
       "ename": "TypeError",
       "evalue": "'int' object is not iterable",
       "output_type": "pyerr",
       "traceback": [
        "\u001b[0;31m---------------------------------------------------------------------------\u001b[0m\n\u001b[0;31mTypeError\u001b[0m                                 Traceback (most recent call last)",
        "\u001b[0;32m<ipython-input-54-79a1acdd5915>\u001b[0m in \u001b[0;36m<module>\u001b[0;34m()\u001b[0m\n\u001b[1;32m     37\u001b[0m \u001b[0;34m\u001b[0m\u001b[0m\n\u001b[1;32m     38\u001b[0m \u001b[0;31m# test\u001b[0m\u001b[0;34m\u001b[0m\u001b[0;34m\u001b[0m\u001b[0m\n\u001b[0;32m---> 39\u001b[0;31m \u001b[0mmachtsverzameling\u001b[0m\u001b[0;34m(\u001b[0m\u001b[0;34m{\u001b[0m\u001b[0;36m1\u001b[0m\u001b[0;34m,\u001b[0m\u001b[0;36m2\u001b[0m\u001b[0;34m,\u001b[0m\u001b[0;36m3\u001b[0m\u001b[0;34m,\u001b[0m\u001b[0;36m4\u001b[0m\u001b[0;34m}\u001b[0m\u001b[0;34m)\u001b[0m\u001b[0;34m\u001b[0m\u001b[0m\n\u001b[0m\u001b[1;32m     40\u001b[0m \u001b[0;34m\u001b[0m\u001b[0m\n",
        "\u001b[0;32m<ipython-input-54-79a1acdd5915>\u001b[0m in \u001b[0;36mmachtsverzameling\u001b[0;34m(a)\u001b[0m\n\u001b[1;32m     30\u001b[0m             \u001b[0;32mfor\u001b[0m \u001b[0mi\u001b[0m \u001b[0;32min\u001b[0m \u001b[0ma\u001b[0m\u001b[0;34m:\u001b[0m\u001b[0;34m\u001b[0m\u001b[0m\n\u001b[1;32m     31\u001b[0m                 \u001b[0;32mprint\u001b[0m \u001b[0ma\u001b[0m\u001b[0;34m.\u001b[0m\u001b[0mdifference_update\u001b[0m\u001b[0;34m(\u001b[0m\u001b[0;34m{\u001b[0m\u001b[0mi\u001b[0m\u001b[0;34m}\u001b[0m\u001b[0;34m)\u001b[0m\u001b[0;34m\u001b[0m\u001b[0m\n\u001b[0;32m---> 32\u001b[0;31m                 \u001b[0manswer\u001b[0m\u001b[0;34m.\u001b[0m\u001b[0mappend\u001b[0m\u001b[0;34m(\u001b[0m\u001b[0mmachtsverzameling\u001b[0m\u001b[0;34m(\u001b[0m\u001b[0ma\u001b[0m\u001b[0;34m.\u001b[0m\u001b[0mdifference_update\u001b[0m\u001b[0;34m(\u001b[0m\u001b[0mset\u001b[0m\u001b[0;34m(\u001b[0m\u001b[0mi\u001b[0m\u001b[0;34m)\u001b[0m\u001b[0;34m)\u001b[0m\u001b[0;34m)\u001b[0m\u001b[0;34m)\u001b[0m\u001b[0;34m\u001b[0m\u001b[0m\n\u001b[0m\u001b[1;32m     33\u001b[0m         \u001b[0;32melse\u001b[0m \u001b[0;34m:\u001b[0m\u001b[0;34m\u001b[0m\u001b[0m\n\u001b[1;32m     34\u001b[0m             \u001b[0manswer\u001b[0m\u001b[0;34m.\u001b[0m\u001b[0mappend\u001b[0m\u001b[0;34m(\u001b[0m\u001b[0mmachtsverzameling\u001b[0m\u001b[0;34m(\u001b[0m\u001b[0ma\u001b[0m\u001b[0;34m.\u001b[0m\u001b[0mdifference_update\u001b[0m\u001b[0;34m(\u001b[0m\u001b[0mset\u001b[0m\u001b[0;34m(\u001b[0m\u001b[0mi\u001b[0m\u001b[0;34m)\u001b[0m\u001b[0;34m)\u001b[0m\u001b[0;34m)\u001b[0m\u001b[0;34m)\u001b[0m\u001b[0;34m\u001b[0m\u001b[0m\n",
        "\u001b[0;31mTypeError\u001b[0m: 'int' object is not iterable"
       ]
      }
     ],
     "prompt_number": 54
    },
    {
     "cell_type": "markdown",
     "metadata": {
      "slideshow": {
       "slide_type": "slide"
      }
     },
     "source": [
      "# Exclusive or\n",
      "\n",
      "* Also called symmetric difference\n",
      "* Often mistakingly used as the meaning of the natural language \"or\"\n",
      "* used very much in programming\n",
      "\n",
      "## definition\n",
      "> $e \\in A\\  XOR\\  B \\iff e \\in A$ or $e \\in B$, but not in both\n",
      "\n",
      "> $ A \\ XOR\\  B \\equiv (A \\cup B) \\setminus (A\\cap B)$\n",
      "\n",
      "\n",
      "![XOR](http://upload.wikimedia.org/wikipedia/commons/4/46/Venn0110.svg)"
     ]
    },
    {
     "cell_type": "markdown",
     "metadata": {
      "slideshow": {
       "slide_type": "slide"
      }
     },
     "source": [
      "# Exclusive or\n",
      "\n",
      "## Implementation in Python\n",
      "\n",
      "* <http://en.wikibooks.org/wiki/Python_Programming/Sets#Symmetric_Difference>\n",
      "\n",
      "```\n",
      ">>> s1 = set([4, 6, 9])\n",
      ">>> s2 = set([1, 6, 8])\n",
      ">>> s1.symmetric_difference(s2)\n",
      "set([8, 1, 4, 9])\n",
      ">>> s1 ^ s2\n",
      "set([8, 1, 4, 9])\n",
      ">>> s1.symmetric_difference_update(s2)\n",
      ">>> s1\n",
      "set([8, 1, 4, 9])\n",
      "```"
     ]
    },
    {
     "cell_type": "code",
     "collapsed": false,
     "input": [
      "s1 = set([4, 6, 9])\n",
      "s2 = set([1, 6, 8])\n",
      "s1^s2"
     ],
     "language": "python",
     "metadata": {
      "slideshow": {
       "slide_type": "fragment"
      }
     },
     "outputs": [
      {
       "metadata": {},
       "output_type": "pyout",
       "prompt_number": 7,
       "text": [
        "{1, 4, 8, 9}"
       ]
      }
     ],
     "prompt_number": 7
    },
    {
     "cell_type": "markdown",
     "metadata": {
      "slideshow": {
       "slide_type": "slide"
      }
     },
     "source": [
      "# Exclusive or\n",
      "\n",
      "## Exercises\n",
      "\n",
      "1. Show the correspondence between XOR and \"if and only if\" $\\leftrightarrow$.\n",
      "    * $p\\leftrightarrow q$ iff either both $p$ and $q$ are true or both $p$ and $q$ are false.\n",
      "2. Program XOR yourself in Python using only $\\cap$, $\\cup$ and $\\setminus$.\n",
      "3. Program XOR yourself in Python using no set operations at all. Just use comprehensions and boolean operators."
     ]
    },
    {
     "cell_type": "code",
     "collapsed": false,
     "input": [],
     "language": "python",
     "metadata": {},
     "outputs": [],
     "prompt_number": 109
    }
   ],
   "metadata": {}
  }
 ]
}