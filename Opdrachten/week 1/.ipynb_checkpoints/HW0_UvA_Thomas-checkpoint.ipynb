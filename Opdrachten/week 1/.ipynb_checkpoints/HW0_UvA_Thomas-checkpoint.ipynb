{
 "metadata": {
  "name": "",
  "signature": "sha256:0e74fa2b3d18cde92c31f42c1d2a59498cbee79f0303e43813411bf536bb8601"
 },
 "nbformat": 3,
 "nbformat_minor": 0,
 "worksheets": [
  {
   "cells": [
    {
     "cell_type": "markdown",
     "metadata": {},
     "source": [
      "# Homework 0\n",
      "\n",
      "\n",
      "## Programming expectations\n",
      "\n",
      "All the assignments and labs for this class will use the command line and Python and, for the most part, the browser-based IPython notebook format you are currently viewing. Knowledge of Python is  a prerequisite for this course.\n",
      "While we have strived to make the programming component of this course straightforward, we will not devote much time to teaching prorgramming or Python syntax. Basically, you should feel comfortable with:\n",
      "\n",
      "* How to look up Python syntax on Google and StackOverflow.\n",
      "* Basic programming concepts like functions, loops, arrays, dictionaries, strings, and if statements.\n",
      "* How to learn new libraries by reading documentation.\n",
      "* Asking questions on StackOverflow or Piazza.\n",
      "\n",
      " \n",
      "## Getting Python\n",
      "\n",
      "You will be using Python throughout the course, including many popular 3rd party Python libraries for scientific computing. [Anaconda](http://continuum.io/downloads) is an easy-to-install bundle of Python and most of these libraries. We recommend that you use Anaconda for this course.\n",
      "\n",
      "Please visit [this page](https://github.com/cs109/content/wiki/Installing-Python) and follow the instructions to set up Python.\n",
      "\n",
      "<hline>\n",
      "\n",
      "## Hello, Python\n",
      "\n",
      "The IPython notebook is an application to build interactive computational notebooks. You'll be using them to complete labs and homework. Once you've set up Python, please download this HW0 ipython notebook and open it with IPython by typing\n",
      "\n",
      "```\n",
      "ipython notebook <name_of_downloaded_file>\n",
      "```\n",
      "\n",
      "For the rest of the assignment, use your local copy of this page, running on IPython.\n",
      "\n",
      "Notebooks are composed of many \"cells\", which can contain text (like this one), or code (like the one below). Double click on the cell below, and evaluate it by clicking the \"play\" button above, or by hitting shift + enter"
     ]
    },
    {
     "cell_type": "code",
     "collapsed": false,
     "input": [
      "x = [10, 20, 30, 40, 50]\n",
      "for item in x:\n",
      "    print \"Item is \", item"
     ],
     "language": "python",
     "metadata": {},
     "outputs": [
      {
       "output_type": "stream",
       "stream": "stdout",
       "text": [
        "Item is  10\n",
        "Item is  20\n",
        "Item is  30\n",
        "Item is  40\n",
        "Item is  50\n"
       ]
      }
     ],
     "prompt_number": 2
    },
    {
     "cell_type": "markdown",
     "metadata": {},
     "source": [
      "## Python Libraries\n",
      "\n",
      "We will be using a several different libraries throughout this course. If you've successfully completed the [installation instructions](https://github.com/cs109/content/wiki/Installing-Python), all of the following statements should run."
     ]
    },
    {
     "cell_type": "code",
     "collapsed": false,
     "input": [
      "#IPython is what you are using now to run the notebook\n",
      "import IPython\n",
      "print \"IPython version:      %6.6s (need at least 1.0)\" % IPython.__version__\n",
      "\n",
      "# Numpy is a library for working with Arrays\n",
      "import numpy as np\n",
      "print \"Numpy version:        %6.6s (need at least 1.7.1)\" % np.__version__\n",
      "\n",
      "# SciPy implements many different numerical algorithms\n",
      "import scipy as sp\n",
      "print \"SciPy version:        %6.6s (need at least 0.12.0)\" % sp.__version__\n",
      "\n",
      "# Pandas makes working with data tables easier\n",
      "import pandas as pd\n",
      "print \"Pandas version:       %6.6s (need at least 0.11.0)\" % pd.__version__\n",
      "\n",
      "# Module for plotting\n",
      "import matplotlib\n",
      "print \"Mapltolib version:    %6.6s (need at least 1.2.1)\" % matplotlib.__version__\n",
      "\n",
      "# SciKit Learn implements several Machine Learning algorithms\n",
      "import sklearn\n",
      "print \"Scikit-Learn version: %6.6s (need at least 0.13.1)\" % sklearn.__version__\n",
      "\n",
      "# Requests is a library for getting data from the Web\n",
      "import requests\n",
      "print \"requests version:     %6.6s (need at least 1.2.3)\" % requests.__version__\n",
      "\n",
      "# Networkx is a library for working with networks\n",
      "import networkx as nx\n",
      "print \"NetworkX version:     %6.6s (need at least 1.7)\" % nx.__version__\n",
      "\n",
      "#BeautifulSoup is a library to parse HTML and XML documents\n",
      "import bs4\n",
      "print \"BeautifulSoup version:%6.6s (need at least 4.0)\" % bs4.__version__\n",
      "\n",
      "#MrJob is a library to run map reduce jobs on Amazon's computers\n",
      "import mrjob\n",
      "print \"Mr Job version:       %6.6s (need at least 0.4)\" % mrjob.__version__\n",
      "\n",
      "#Pattern has lots of tools for working with data from the internet\n",
      "import pattern\n",
      "print \"Pattern version:      %6.6s (need at least 2.6)\" % pattern.__version__\n",
      "\n",
      "#Seaborn is a nice library for visualizations\n",
      "import seaborn\n",
      "print \"Seaborn version:      %6.6s (need at least 0.3.1)\" % seaborn.__version__"
     ],
     "language": "python",
     "metadata": {},
     "outputs": [
      {
       "output_type": "stream",
       "stream": "stdout",
       "text": [
        "IPython version:       2.2.0 (need at least 1.0)\n",
        "Numpy version:         1.9.0 (need at least 1.7.1)"
       ]
      },
      {
       "output_type": "stream",
       "stream": "stdout",
       "text": [
        "\n",
        "SciPy version:        0.14.0 (need at least 0.12.0)\n",
        "Pandas version:       0.14.1 (need at least 0.11.0)"
       ]
      },
      {
       "output_type": "stream",
       "stream": "stdout",
       "text": [
        "\n",
        "Mapltolib version:     1.4.0 (need at least 1.2.1)\n",
        "Scikit-Learn version: 0.15.2 (need at least 0.13.1)"
       ]
      },
      {
       "output_type": "stream",
       "stream": "stdout",
       "text": [
        "\n",
        "requests version:      2.4.1 (need at least 1.2.3)"
       ]
      },
      {
       "output_type": "stream",
       "stream": "stdout",
       "text": [
        "\n",
        "NetworkX version:      1.9.1 (need at least 1.7)"
       ]
      },
      {
       "output_type": "stream",
       "stream": "stdout",
       "text": [
        "\n",
        "BeautifulSoup version: 4.3.2 (need at least 4.0)\n",
        "Mr Job version:        0.4.2 (need at least 0.4)\n",
        "Pattern version:         2.6 (need at least 2.6)\n",
        "Seaborn version:       0.5.1 (need at least 0.3.1)"
       ]
      },
      {
       "output_type": "stream",
       "stream": "stdout",
       "text": [
        "\n"
       ]
      }
     ],
     "prompt_number": 3
    },
    {
     "cell_type": "code",
     "collapsed": false,
     "input": [],
     "language": "python",
     "metadata": {},
     "outputs": []
    },
    {
     "cell_type": "markdown",
     "metadata": {},
     "source": [
      "If any of these libraries are missing or out of date, you will need to [install them](https://github.com/cs109/content/wiki/Installing-Python#installing-additional-libraries).\n",
      "\n",
      "Below is an example of how to install a missing package, and checking again that we have it. You can see that it worked fine."
     ]
    },
    {
     "cell_type": "code",
     "collapsed": false,
     "input": [
      "! pip install mrjob"
     ],
     "language": "python",
     "metadata": {},
     "outputs": [
      {
       "output_type": "stream",
       "stream": "stdout",
       "text": [
        "Requirement already satisfied (use --upgrade to upgrade): mrjob in c:\\users\\thomas\\anaconda\\lib\\site-packages\n",
        "Requirement already satisfied (use --upgrade to upgrade): boto>=2.2.0 in c:\\users\\thomas\\anaconda\\lib\\site-packages (from mrjob)\n",
        "Requirement already satisfied (use --upgrade to upgrade): PyYAML in c:\\users\\thomas\\anaconda\\lib\\site-packages (from mrjob)\n",
        "Requirement already satisfied (use --upgrade to upgrade): simplejson>=2.0.9 in c:\\users\\thomas\\anaconda\\lib\\site-packages (from mrjob)\n",
        "Cleaning up...\n"
       ]
      }
     ],
     "prompt_number": 6
    },
    {
     "cell_type": "code",
     "collapsed": false,
     "input": [
      "#MrJob is a library to run map reduce jobs on Amazon's computers\n",
      "import mrjob\n",
      "print \"Mr Job version:       %6.6s (need at least 0.4)\" % mrjob.__version__"
     ],
     "language": "python",
     "metadata": {},
     "outputs": [
      {
       "output_type": "stream",
       "stream": "stdout",
       "text": [
        "Mr Job version:        0.4.2 (need at least 0.4)\n"
       ]
      }
     ],
     "prompt_number": 48
    },
    {
     "cell_type": "markdown",
     "metadata": {},
     "source": [
      "## Hello matplotlib"
     ]
    },
    {
     "cell_type": "markdown",
     "metadata": {},
     "source": [
      "The notebook integrates nicely with Matplotlib, the primary plotting package for python. This should embed a figure of a sine wave:"
     ]
    },
    {
     "cell_type": "code",
     "collapsed": false,
     "input": [
      "#this line prepares IPython for working with matplotlib\n",
      "%matplotlib inline  \n",
      "\n",
      "# this actually imports matplotlib\n",
      "import matplotlib.pyplot as plt  \n",
      "\n",
      "x = np.linspace(0, 10, 30)  #array of 30 points from 0 to 10\n",
      "y = np.sin(x)\n",
      "z = y + np.random.normal(size=30) * .2\n",
      "plt.plot(x, y, 'ro-', label='A sine wave')\n",
      "plt.plot(x, z, 'b-', label='Noisy sine')\n",
      "plt.legend(loc = 'lower right')\n",
      "plt.xlabel(\"X axis\")\n",
      "plt.ylabel(\"Y axis\")           "
     ],
     "language": "python",
     "metadata": {},
     "outputs": [
      {
       "metadata": {},
       "output_type": "pyout",
       "prompt_number": 4,
       "text": [
        "<matplotlib.text.Text at 0x15b0f438>"
       ]
      },
      {
       "metadata": {},
       "output_type": "display_data",
       "png": "[encoded data removed]",
       "text": [
        "<matplotlib.figure.Figure at 0x3768470>"
       ]
      }
     ],
     "prompt_number": 4
    },
    {
     "cell_type": "markdown",
     "metadata": {},
     "source": [
      "If that last cell complained about the `%matplotlib` line, you need to update IPython to v1.0, and restart the notebook. See the [installation page](https://github.com/cs109/content/wiki/Installing-Python)"
     ]
    },
    {
     "cell_type": "markdown",
     "metadata": {},
     "source": [
      "## Hello Numpy\n",
      "\n",
      "The Numpy array processing library is the basis of nearly all numerical computing in Python. Here's a 30 second crash course. For more details, consult Chapter 4 of Python for Data Analysis, or the [Numpy User's Guide](http://docs.scipy.org/doc/numpy-dev/user/index.html)"
     ]
    },
    {
     "cell_type": "code",
     "collapsed": false,
     "input": [
      "print \"Make a 3 row x 4 column array of random numbers\"\n",
      "x = np.random.random((3, 4))\n",
      "print x\n",
      "print\n",
      "\n",
      "print \"Add 1 to every element\"\n",
      "x = x + 1\n",
      "print x\n",
      "print\n",
      "\n",
      "print \"Get the element at row 1, column 2\"\n",
      "print x[1, 2]\n",
      "print\n",
      "\n",
      "# The colon syntax is called \"slicing\" the array. \n",
      "print \"Get the first row\"\n",
      "print x[0, :]\n",
      "print x[0], \"works too\"\n",
      "print\n",
      "\n",
      "# The colon syntax is called \"slicing\" the array. \n",
      "print \"Get the first column\"\n",
      "print x[:, 0]\n",
      " \n",
      "print\n",
      "\n",
      "print \"Get every 2nd element of the first row\"\n",
      "print x[0, ::2]\n",
      "print"
     ],
     "language": "python",
     "metadata": {},
     "outputs": [
      {
       "output_type": "stream",
       "stream": "stdout",
       "text": [
        "Make a 3 row x 4 column array of random numbers\n",
        "[[ 0.70991901  0.30081403  0.29685077  0.81081943]\n",
        " [ 0.66006148  0.65058693  0.66944663  0.76133674]\n",
        " [ 0.08952314  0.54888962  0.666055    0.11786555]]\n",
        "\n",
        "Add 1 to every element\n",
        "[[ 1.70991901  1.30081403  1.29685077  1.81081943]\n",
        " [ 1.66006148  1.65058693  1.66944663  1.76133674]\n",
        " [ 1.08952314  1.54888962  1.666055    1.11786555]]\n",
        "\n",
        "Get the element at row 1, column 2\n",
        "1.66944662908\n",
        "\n",
        "Get the first row\n",
        "[ 1.70991901  1.30081403  1.29685077  1.81081943]\n",
        "[ 1.70991901  1.30081403  1.29685077  1.81081943] works too\n",
        "\n",
        "Get the first column\n",
        "[ 1.70991901  1.66006148  1.08952314]\n",
        "\n",
        "Get every 2nd element of the first row\n",
        "[ 1.70991901  1.29685077]\n",
        "\n"
       ]
      }
     ],
     "prompt_number": 5
    },
    {
     "cell_type": "markdown",
     "metadata": {},
     "source": [
      "Use list comprehension to get the diagonal of the matrix. Your code must work for any 2D matrix."
     ]
    },
    {
     "cell_type": "code",
     "collapsed": false,
     "input": [
      "[x[i,i] for i in range(min(len(x[0]),len(x[:,0]))) ]"
     ],
     "language": "python",
     "metadata": {},
     "outputs": [
      {
       "metadata": {},
       "output_type": "pyout",
       "prompt_number": 5,
       "text": [
        "[1.9863581392826517, 1.3625021659762289, 1.5863394071320756]"
       ]
      }
     ],
     "prompt_number": 5
    },
    {
     "cell_type": "markdown",
     "metadata": {},
     "source": [
      "Print the maximum, minimum, and mean of the array. This does **not** require writing a loop. In the code cell below, type `x.m<TAB>`, to find built-in operations for common array statistics like this"
     ]
    },
    {
     "cell_type": "code",
     "collapsed": false,
     "input": [
      "print x.max()\n",
      "print x.min()\n",
      "print x.mean()\n"
     ],
     "language": "python",
     "metadata": {},
     "outputs": [
      {
       "output_type": "stream",
       "stream": "stdout",
       "text": [
        "1.98635813928\n",
        "1.16287214919\n",
        "1.48450351636\n"
       ]
      }
     ],
     "prompt_number": 6
    },
    {
     "cell_type": "markdown",
     "metadata": {},
     "source": [
      "Call the `x.max` function again, but use the `axis` keyword to print the maximum of each row in x."
     ]
    },
    {
     "cell_type": "code",
     "collapsed": false,
     "input": [
      "x.max(1)\n"
     ],
     "language": "python",
     "metadata": {},
     "outputs": [
      {
       "metadata": {},
       "output_type": "pyout",
       "prompt_number": 7,
       "text": [
        "array([ 1.98635814,  1.74439161,  1.58633941])"
       ]
      }
     ],
     "prompt_number": 7
    },
    {
     "cell_type": "markdown",
     "metadata": {},
     "source": [
      "Here's a way to quickly simulate 500 coin \"fair\" coin tosses (where the probabily of getting Heads is 50%, or 0.5)"
     ]
    },
    {
     "cell_type": "code",
     "collapsed": false,
     "input": [
      "x = np.random.binomial(500, .5)\n",
      "print \"number of heads:\", x"
     ],
     "language": "python",
     "metadata": {},
     "outputs": [
      {
       "output_type": "stream",
       "stream": "stdout",
       "text": [
        "number of heads: 242\n"
       ]
      }
     ],
     "prompt_number": 8
    },
    {
     "cell_type": "markdown",
     "metadata": {},
     "source": [
      "Repeat this simulation 500 times, and use the [plt.hist() function](http://matplotlib.org/api/pyplot_api.html#matplotlib.pyplot.hist) to plot a histogram of the number of Heads (1s) in each simulation"
     ]
    },
    {
     "cell_type": "code",
     "collapsed": false,
     "input": [
      "x = np.random.binomial(500,.5,500)\n",
      "plt.hist(x, bins=50) ## Sorted in 50 bins to create a better visibility"
     ],
     "language": "python",
     "metadata": {},
     "outputs": [
      {
       "metadata": {},
       "output_type": "pyout",
       "prompt_number": 9,
       "text": [
        "(array([  1.,   0.,   0.,   3.,   2.,   3.,   3.,  11.,   7.,   7.,   7.,\n",
        "          8.,   4.,  12.,  10.,  27.,   8.,  21.,  17.,  27.,  19.,  13.,\n",
        "         13.,  45.,  21.,  14.,  31.,  16.,  13.,  17.,  23.,  14.,   8.,\n",
        "         13.,  22.,   3.,   6.,   2.,   6.,   4.,   4.,   3.,   5.,   0.,\n",
        "          2.,   3.,   1.,   0.,   0.,   1.]),\n",
        " array([ 220.  ,  221.26,  222.52,  223.78,  225.04,  226.3 ,  227.56,\n",
        "         228.82,  230.08,  231.34,  232.6 ,  233.86,  235.12,  236.38,\n",
        "         237.64,  238.9 ,  240.16,  241.42,  242.68,  243.94,  245.2 ,\n",
        "         246.46,  247.72,  248.98,  250.24,  251.5 ,  252.76,  254.02,\n",
        "         255.28,  256.54,  257.8 ,  259.06,  260.32,  261.58,  262.84,\n",
        "         264.1 ,  265.36,  266.62,  267.88,  269.14,  270.4 ,  271.66,\n",
        "         272.92,  274.18,  275.44,  276.7 ,  277.96,  279.22,  280.48,\n",
        "         281.74,  283.  ]),\n",
        " <a list of 50 Patch objects>)"
       ]
      },
      {
       "metadata": {},
       "output_type": "display_data",
       "png": "[encoded data removed]",
       "text": [
        "<matplotlib.figure.Figure at 0x3768240>"
       ]
      }
     ],
     "prompt_number": 9
    },
    {
     "cell_type": "code",
     "collapsed": false,
     "input": [],
     "language": "python",
     "metadata": {},
     "outputs": [],
     "prompt_number": 7
    },
    {
     "cell_type": "markdown",
     "metadata": {},
     "source": [
      "## The Monty Hall Problem\n",
      "\n",
      "\n",
      "Here's a fun and perhaps surprising statistical riddle, and a good way to get some practice writing python functions\n",
      "\n",
      "In a gameshow, contestants try to guess which of 3 closed doors contain a cash prize (goats are behind the other two doors). Of course, the odds of choosing the correct door are 1 in 3. As a twist, the host of the show occasionally opens a door after a contestant makes his or her choice. This door is always one of the two the contestant did not pick, and is also always one of the goat doors (note that it is always possible to do this, since there are two goat doors). At this point, the contestant has the option of keeping his or her original choice, or swtiching to the other unopened door. The question is: is there any benefit to switching doors? The answer surprises many people who haven't heard the question before.\n",
      "\n",
      "We can answer the problem by running simulations in Python. We'll do it in several parts.\n",
      "\n",
      "First, write a function called `simulate_prizedoor`. This function will simulate the location of the prize in many games -- see the detailed specification below:"
     ]
    },
    {
     "cell_type": "code",
     "collapsed": false,
     "input": [
      "\"\"\"\n",
      "Function\n",
      "--------\n",
      "simulate_prizedoor\n",
      "\n",
      "Generate a random array of 0s, 1s, and 2s, representing\n",
      "hiding a prize between door 0, door 1, and door 2\n",
      "\n",
      "Parameters\n",
      "----------\n",
      "nsim : int\n",
      "    The number of simulations to run\n",
      "\n",
      "Returns\n",
      "-------\n",
      "sims : array\n",
      "    Random array of 0s, 1s, and 2s\n",
      "\n",
      "Example\n",
      "-------\n",
      ">>> print simulate_prizedoor(3)\n",
      "array([0, 0, 2])\n",
      "\"\"\"\n",
      "def simulate_prizedoor(nsim):\n",
      "    answer = np.random.randint(3, size=nsim) #np.random.randint takes random integers, in this example (3) thus 0,1&2\n",
      "\n",
      "    return answer\n"
     ],
     "language": "python",
     "metadata": {},
     "outputs": [
      {
       "output_type": "stream",
       "stream": "stdout",
       "text": [
        "[2 1 0 2 2]\n",
        "2\n",
        "1\n",
        "0\n",
        "2\n",
        "2\n"
       ]
      }
     ],
     "prompt_number": 7
    },
    {
     "cell_type": "markdown",
     "metadata": {},
     "source": [
      "Next, write a function that simulates the contestant's guesses for `nsim` simulations. Call this function `simulate_guess`. The specs:"
     ]
    },
    {
     "cell_type": "code",
     "collapsed": false,
     "input": [
      "\"\"\"\n",
      "Function\n",
      "--------\n",
      "simulate_guess\n",
      "\n",
      "Return any strategy for guessing which door a prize is behind. This\n",
      "could be a random strategy, one that always guesses 2, whatever.\n",
      "\n",
      "Parameters\n",
      "----------\n",
      "nsim : int\n",
      "    The number of simulations to generate guesses for\n",
      "\n",
      "Returns\n",
      "-------\n",
      "guesses : array\n",
      "    An array of guesses. Each guess is a 0, 1, or 2\n",
      "\n",
      "Example\n",
      "-------\n",
      ">>> print simulate_guess(5)\n",
      "array([0, 0, 0, 0, 0])\n",
      "\"\"\"\n",
      "def simulate_guess(nsim):\n",
      "    guesses = np.random.randint(3, size=nsim) ## Just like simulate_prizedoor\n",
      "    \n",
      "    return guesses\n",
      "\n"
     ],
     "language": "python",
     "metadata": {},
     "outputs": [],
     "prompt_number": 12
    },
    {
     "cell_type": "markdown",
     "metadata": {},
     "source": [
      "Next, write a function, `goat_door`, to simulate randomly revealing one of the goat doors that a contestant didn't pick."
     ]
    },
    {
     "cell_type": "code",
     "collapsed": false,
     "input": [
      "\"\"\"\n",
      "Function\n",
      "--------\n",
      "goat_door\n",
      "\n",
      "Simulate the opening of a \"goat door\" that doesn't contain the prize,\n",
      "and is different from the contestants guess\n",
      "\n",
      "Parameters\n",
      "----------\n",
      "prizedoors : array\n",
      "    The door that the prize is behind in each simulation\n",
      "guesses : array\n",
      "    THe door that the contestant guessed in each simulation\n",
      "\n",
      "Returns\n",
      "-------\n",
      "goats : array\n",
      "    The goat door that is opened for each simulation. Each item is 0, 1, or 2, and is different\n",
      "    from both prizedoors and guesses\n",
      "\n",
      "Examples\n",
      "--------\n",
      ">>> print goat_door(np.array([0, 1, 2]), np.array([1, 1, 1]))\n",
      ">>> array([2, 2, 0])\n",
      "\"\"\"\n",
      "\n",
      "def goat_door(prizedoors,guesses):\n",
      "    goats = np.random.randint(0, 3, prizedoors.size) ## Again creates an array with random integers, the size of prizedoors (3)\n",
      "    while True:\n",
      "        wrong = (goats == prizedoors) | (goats == guesses)\n",
      "        ## Check goats against the prizedoors and guesses, and thus makes sure these cannot overlap\n",
      "        ## The vertical bar operator (|) is a bitwise operator. If both are correct, the bitvalue is 0. Otherwise its 1. This correspondents with True or False.\n",
      "        if not wrong.any():\n",
      "            return goats\n",
      "        goats[wrong] = np.random.randint(0, 3, wrong.sum()) ## If these overlap, generate a random new integer\n"
     ],
     "language": "python",
     "metadata": {},
     "outputs": [],
     "prompt_number": 13
    },
    {
     "cell_type": "markdown",
     "metadata": {},
     "source": [
      "Write a function, `switch_guess`, that represents the strategy of always switching a guess after the goat door is opened."
     ]
    },
    {
     "cell_type": "code",
     "collapsed": false,
     "input": [
      "\"\"\"\n",
      "Function\n",
      "--------\n",
      "switch_guess\n",
      "\n",
      "The strategy that always switches a guess after the goat door is opened\n",
      "\n",
      "Parameters\n",
      "----------\n",
      "guesses : array\n",
      "     Array of original guesses, for each simulation\n",
      "goatdoors : array\n",
      "     Array of revealed goat doors for each simulation\n",
      "\n",
      "Returns\n",
      "-------\n",
      "The new door after switching. Should be different from both guesses and goatdoors\n",
      "\n",
      "Examples\n",
      "--------\n",
      ">>> print switch_guess(np.array([0, 1, 2]), np.array([1, 2, 1]))\n",
      ">>> array([2, 0, 0])\n",
      "\"\"\"\n",
      "def switch_guess(guesses, goat_door):\n",
      "    door_change = np.zeros(guesses.size) ## Creates a array the size of guesses filled with zeroes. Will be replaced with the doorchange array.\n",
      "    change = {(0, 1): 2, (0, 2): 1, (1, 0): 2, (2, 0): 1, (1, 2): 1, (2, 1): 0} ## Creates the switching possibilities.\n",
      "    for x in [0,1,2]:\n",
      "        for y in [0,1,2]:\n",
      "            protect = (guesses == x) & (goat_door == y) ## Masks the guesses and the goat door to protect them from being picked. The & operator is again a bitwise one.\n",
      "            ## It works better than 'and' in this example, for creating a specification that the protection must be true.\n",
      "            if not protect.any():\n",
      "                continue\n",
      "            door_change = np.where(protect, np.ones_like(door_change) * change[(x,y)], door_change) #np.ones_like is a numpy function that creates an array like the one specified\n",
      "            \n",
      "    return door_change\n",
      "\n"
     ],
     "language": "python",
     "metadata": {},
     "outputs": [],
     "prompt_number": 14
    },
    {
     "cell_type": "markdown",
     "metadata": {},
     "source": [
      "Last function: write a `win_percentage` function that takes an array of `guesses` and `prizedoors`, and returns the percent of correct guesses"
     ]
    },
    {
     "cell_type": "code",
     "collapsed": false,
     "input": [
      "\"\"\"\n",
      "Function\n",
      "--------\n",
      "win_percentage\n",
      "\n",
      "Calculate the percent of times that a simulation of guesses is correct\n",
      "\n",
      "Parameters\n",
      "-----------\n",
      "guesses : array\n",
      "    Guesses for each simulation\n",
      "prizedoors : array\n",
      "    Location of prize for each simulation\n",
      "\n",
      "Returns\n",
      "--------\n",
      "percentage : number between 0 and 100\n",
      "    The win percentage\n",
      "\n",
      "Examples\n",
      "---------\n",
      ">>> print win_percentage(np.array([0, 1, 2]), np.array([0, 0, 0]))\n",
      "33.333\n",
      "\"\"\"\n",
      "def win_percentage(guesses, prizedoors):\n",
      "    x = (guesses == prizedoors) ## Gives True or False\n",
      "    print x\n",
      "    x = x * 100 ## Gives either a 100 or 0 percent score depending on True or false\n",
      "    print x\n",
      "    win_percentage = x.mean() ## Give the mean of the array, depends on the scores given times 100\n",
      "    return win_percentage\n",
      "\n",
      "print win_percentage(np.array([0, 1, 2]), np.array([0, 0, 0]))\n"
     ],
     "language": "python",
     "metadata": {},
     "outputs": [
      {
       "output_type": "stream",
       "stream": "stdout",
       "text": [
        "[ True False False]\n",
        "[100   0   0]\n",
        "33.3333333333\n"
       ]
      }
     ],
     "prompt_number": 29
    },
    {
     "cell_type": "markdown",
     "metadata": {},
     "source": [
      "Now, put it together. Simulate 10000 games where contestant keeps his original guess, and 10000 games where the contestant switches his door after a  goat door is revealed. Compute the percentage of time the contestant wins under either strategy. Is one strategy better than the other?"
     ]
    },
    {
     "cell_type": "code",
     "collapsed": false,
     "input": [
      "nsim = 10000\n",
      "\n",
      "print \"Keeping the original door: \"\n",
      "print win_percentage(simulate_prizedoor(nsim), simulate_guess(nsim))\n",
      "\n",
      "prizedoor = simulate_prizedoor(nsim)\n",
      "guess = simulate_guess(nsim)\n",
      "goats = goat_door(prizedoor, guess)\n",
      "guess = switch_guess(guess, goats)\n",
      "print \"Switching after door has opened: \"\n",
      "print win_percentage(prizedoor, guess).mean()\n",
      "\n",
      "\n"
     ],
     "language": "python",
     "metadata": {},
     "outputs": [
      {
       "output_type": "stream",
       "stream": "stdout",
       "text": [
        "Keeping the original door: \n",
        "32.85\n",
        "Switching after door has opened: \n",
        "61.49\n"
       ]
      }
     ],
     "prompt_number": 28
    },
    {
     "cell_type": "markdown",
     "metadata": {},
     "source": [
      "Many people find this answer counter-intuitive (famously, PhD mathematicians have incorrectly claimed the result must be wrong. Clearly, none of them knew Python). \n",
      "\n",
      "One of the best ways to build intuition about why opening a Goat door affects the odds is to re-run the experiment with 100 doors and one prize. If the game show host opens 98 goat doors after you make your initial selection, would you want to keep your first pick or switch? "
     ]
    },
    {
     "cell_type": "markdown",
     "metadata": {},
     "source": [
      "## Most important part of the exercise. This counts for your mark\n",
      "\n",
      "Generalize your simulation code to handle the case of `n` doors.\n",
      "\n",
      "Give a plot with the number of doors on the x-axis and the win_percentage on the y-axis, and plot that value for the two strategies for numbers of doors between 3 and 20. \n",
      "\n",
      "Describe briefly what is going on here, and why the plot makes sense."
     ]
    },
    {
     "cell_type": "code",
     "collapsed": false,
     "input": [
      "#your code here\n",
      "\n",
      "# Hint: redefine all functions using an extra parameter n, which equals the number of doors\n",
      "# Then create two arrays in which you store the winning-percentages for all numbers of doors between 3 and 100\n",
      "# then plots those\n",
      "\n",
      "def simulate_prizedoor(nsim, n):\n",
      "    answer = np.random.randint(n, size=nsim) #np.random.randint takes random integers, in this example (3) thus 0,1&2\n",
      "\n",
      "    return answer\n",
      "\n",
      "\n",
      "def simulate_guess(nsim, n):\n",
      "    guesses = np.random.randint(n, size=nsim) ## Just like simulate_prizedoor\n",
      "    \n",
      "    return guesses\n",
      "\n",
      "def goat_door(prizedoors,guesses, n):\n",
      "    goats = np.random.randint(0, n, prizedoors.size) ## Again creates an array with random integers, the size of prizedoors (3)\n",
      "    while True:\n",
      "        wrong = (goats == prizedoors) | (goats == guesses)\n",
      "        ## Check goats against the prizedoors and guesses, and thus makes sure these cannot overlap\n",
      "        ## The vertical bar operator (|) is a bitwise operator. If both are correct, the bitvalue is 0. Otherwise its 1. This correspondents with True or False.\n",
      "        if not wrong.any():\n",
      "            return goats\n",
      "        goats[wrong] = np.random.randint(0, n, wrong.sum()) ## If these overlap, generate a random new integer\n",
      "        \n",
      "def switch_guess(guesses, goat_door, n):\n",
      "    door_change = np.zeros(guesses.size) ## Creates a array the size of guesses filled with zeroes. Will be replaced with the doorchange array.\n",
      "    change = {(0, 1): 2, (0, 2): 1, (1, 0): 2, (2, 0): 1, (1, 2): 1, (2, 1): 0} ## Creates the switching possibilities.\n",
      "    for x in [0:n]:\n",
      "        for y in [0:n]:\n",
      "            protect = (guesses == x) & (goat_door == y) ## Masks the guesses and the goat door to protect them from being picked. The & operator is again a bitwise one.\n",
      "            ## It works better than 'and' in this example, for creating a specification that the protection must be true.\n",
      "            if not protect.any():\n",
      "                continue\n",
      "            door_change = np.where(protect, np.ones_like(door_change) * change[(x,y)], door_change) #np.ones_like is a numpy function that creates an array like the one specified\n",
      "            \n",
      "    return door_change\n",
      "\n",
      "print switch_guess(np.array([0, 1, 2, 2]), np.array([1, 2, 1, 1]), 4)"
     ],
     "language": "python",
     "metadata": {},
     "outputs": [
      {
       "ename": "SyntaxError",
       "evalue": "invalid syntax (<ipython-input-10-f3ea61f191b8>, line 31)",
       "output_type": "pyerr",
       "traceback": [
        "\u001b[1;36m  File \u001b[1;32m\"<ipython-input-10-f3ea61f191b8>\"\u001b[1;36m, line \u001b[1;32m31\u001b[0m\n\u001b[1;33m    for x in [0:n]:\u001b[0m\n\u001b[1;37m               ^\u001b[0m\n\u001b[1;31mSyntaxError\u001b[0m\u001b[1;31m:\u001b[0m invalid syntax\n"
       ]
      }
     ],
     "prompt_number": 10
    },
    {
     "cell_type": "code",
     "collapsed": false,
     "input": [],
     "language": "python",
     "metadata": {},
     "outputs": []
    }
   ],
   "metadata": {}
  }
 ]
}