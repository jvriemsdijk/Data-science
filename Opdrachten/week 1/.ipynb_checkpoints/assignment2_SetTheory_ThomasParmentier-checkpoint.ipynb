{
 "metadata": {
  "celltoolbar": "Slideshow",
  "name": "",
  "signature": "sha256:f0a90ae288f415e446e67e5930d78822d83761c068034a03682b6aecc6cd9351"
 },
 "nbformat": 3,
 "nbformat_minor": 0,
 "worksheets": [
  {
   "cells": [
    {
     "cell_type": "markdown",
     "metadata": {
      "slideshow": {
       "slide_type": "slide"
      }
     },
     "source": [
      "## [Cardinality][car]\n",
      "\n",
      "[car]: http://en.wikipedia.org/wiki/Set_(mathematics)#Cardinality\n",
      "\n",
      "> The cardinality of a set is the amount of elements in said set. There are several special rules for say empty and infinite sets.\n",
      "\n",
      "# Examples\n",
      "\n",
      "* if a = {blue, white, red}, |\u2009a\u2009| = 3.\n",
      "* if b = {}, | b | = $\\emptyset$.\n",
      "* if c = {N], | c | = $\\infty$."
     ]
    },
    {
     "cell_type": "markdown",
     "metadata": {
      "slideshow": {
       "slide_type": "slide"
      }
     },
     "source": [
      "## [Special sets][spec]\n",
      "\n",
      "[spec]: http://en.wikipedia.org/wiki/Set_(mathematics)#Special_sets\n",
      "\n",
      "> Special sets are sets with specific special elements that are used often. Because of this, they're given a special letter.\n",
      "\n",
      "# Examples\n",
      "\n",
      "* P or \u2119, the set of all primes: P = {2, 3, 5, 7, 11, 13, 17, ...}.\n",
      "* N or \u2115, the set of all natural numbers: N = {1, 2, 3, . . .} (sometimes defined containing 0).\n",
      "* Z or \u2124, the set of all integers (whether positive, negative or zero): Z = {..., \u22122, \u22121, 0, 1, 2, ...}.\n",
      "* Q or \u211a, the set of all rational numbers (that is, the set of all proper and improper fractions): Q = {a/b : a, b $\\in$ Z, b $\\neq$ 0}. For example, 1/4 $\\in$ Q and 11/6 $\\in$ Q. All integers are in this set since every integer a can be expressed as the fraction a/1 (Z $\\subsetneq$ Q).\n",
      "* R or \u211d, the set of all real numbers. This set includes all rational numbers, together with all irrational numbers (that is, numbers that cannot be rewritten as fractions, such as $\\sqrt{}$2, as well as transcendental numbers such as $\\pi$, e and numbers that cannot be defined).\n",
      "* C or \u2102, the set of all complex numbers: C = {a + bi : a, b $\\in$ R}. For example, 1 + 2i $\\in$ C.\n",
      "* H or \u210d, the set of all quaternions: H = {a + bi + cj + dk : a, b, c, d $\\in$ R}. For example, 1 + i + 2j \u2212 k $\\in$ H."
     ]
    },
    {
     "cell_type": "markdown",
     "metadata": {
      "slideshow": {
       "slide_type": "slide"
      }
     },
     "source": [
      "## [Boolean logic][boo]\n",
      "\n",
      "[boo]: http://en.wikipedia.org/wiki/Boolean_algebra\n",
      "> Boolean algebra is a subarea of algebra, defining whether statements are True and False. This system is also used in computers, where a bit is either 0 or 1. \n",
      "\n",
      "# Basic operations\n",
      "\n",
      "* Conjunction (and): x $\\wedge$ y.\n",
      "* Disjunction (or): x $\\vee$ y.\n",
      "* Complement (not): x $\\neg$ y.\n",
      "* Exclusive or (xor) -> Switches the outcome.\n",
      "<img src=\"files\\GitHub\\Data-science\\venn_boolean.png\">\n"
     ]
    },
    {
     "cell_type": "markdown",
     "metadata": {},
     "source": [
      "#Conjunction (AND)\n",
      "\n",
      "|Input 1 | input 2 | outcome |\n",
      "|---|---|---|\n",
      "|  0 | 0  | 0  |\n",
      "| 1  | 0  |  0 |\n",
      "| 0  |  1 | 0  |\n",
      "| 1  |  1 | 1 |\n",
      "\n",
      "#Disjunction (OR)\n",
      "\n",
      "|Input 1 | input 2 | outcome |\n",
      "|---|---|---|\n",
      "|  0 | 0  | 0  |\n",
      "| 1  | 0  |  1 |\n",
      "| 0  |  1 | 1  |\n",
      "| 1  |  1 | 1 |\n",
      "\n",
      "#Complement (NOT)\n",
      "\n",
      "|Input | outcome |\n",
      "|---|---|\n",
      "|1|0|\n",
      "|0|1|\n",
      "\n",
      "#Exclusive or (XOR)\n",
      "\n",
      "|Input 1 | input 2 | outcome |\n",
      "|---|---|---|\n",
      "|  0 | 0  | 0  |\n",
      "| 1  | 0  |  1 |\n",
      "| 0  |  1 | 1  |\n",
      "| 1  |  1 | 0 |"
     ]
    },
    {
     "cell_type": "code",
     "collapsed": false,
     "input": [],
     "language": "python",
     "metadata": {},
     "outputs": []
    }
   ],
   "metadata": {}
  }
 ]
}