{
 "metadata": {
  "celltoolbar": "Slideshow",
  "name": "",
  "signature": "sha256:e0a1949e17fdcb69a3669b530a2417a3c4d0a3e169be10ffa5d6ab8efa60e0f2"
 },
 "nbformat": 3,
 "nbformat_minor": 0,
 "worksheets": [
  {
   "cells": [
    {
     "cell_type": "markdown",
     "metadata": {
      "slideshow": {
       "slide_type": "slide"
      }
     },
     "source": [
      "# [Verzamelingen][ver]\n",
      "\n",
      "* We bekijken verzamelingen in theorie en in the praktijk in Python.\n",
      "* We volgen <http://en.wikipedia.org/wiki/Set_(mathematics)>\n",
      "* Ten slotte bekijken we het verband tussen verzamelingen en Boolse Logica.\n",
      "\n",
      "[ver]:http://en.wikipedia.org/wiki/Set_(mathematics)"
     ]
    },
    {
     "cell_type": "code",
     "collapsed": false,
     "input": [
      "from IPython.display import HTML\n",
      "HTML('<iframe src=http://en.wikipedia.org/wiki/Set_(mathematics) width=100% height=600></iframe>')"
     ],
     "language": "python",
     "metadata": {},
     "outputs": [
      {
       "html": [
        "<iframe src=http://en.wikipedia.org/wiki/Set_(mathematics) width=100% height=600></iframe>"
       ],
       "metadata": {},
       "output_type": "pyout",
       "prompt_number": 3,
       "text": [
        "<IPython.core.display.HTML at 0x104cf77d0>"
       ]
      }
     ],
     "prompt_number": 3
    },
    {
     "cell_type": "markdown",
     "metadata": {
      "slideshow": {
       "slide_type": "slide"
      }
     },
     "source": [
      "# [Definitie van een verzameling][def]\n",
      "\n",
      "* We geven geen formele definitie. \n",
      "* The most basic properties are that a set has elements, \n",
      "* and that two sets are equal (one and the same) if and only if every element of one set is an element of the other.\n",
      "\n",
      "[def]: http://en.wikipedia.org/wiki/Set_(mathematics)#Definition \"Definitie\"\n",
      "\n",
      " "
     ]
    },
    {
     "cell_type": "markdown",
     "metadata": {},
     "source": [
      "# [Hoe maak je een verzameling? En hoe noteer je een verzameling?][des]\n",
      "\n",
      "[des]: http://en.wikipedia.org/wiki/Set_(mathematics)#Describing_sets\n",
      "\n",
      "## Voorbeelden\n",
      "\n",
      "### Extensioneel (opnoemen)\n",
      "* $c = \\{4, 2, 1, 3\\}$\n",
      "* $d = \\{blue, white, red\\}$\n",
      "\n",
      "### Intensioneel (met een definitie)\n",
      "\n",
      "*  $f=\\{n^2 \\mid n \\in \\mathbb{N} \\mbox{ en } 1\\leq n\\leq 10 \\}$ (De eerste tien kwadraten)\n",
      "*  Alle even getallen:\n",
      "* Alle getallen deelbaar door acht"
     ]
    },
    {
     "cell_type": "code",
     "collapsed": false,
     "input": [
      "c = {4,2,1,3}\n",
      "cc = {1,2,3,4}\n",
      "ccc = set(range(1,5))\n",
      "cccc = set([4,2,1,3])\n"
     ],
     "language": "python",
     "metadata": {
      "slideshow": {
       "slide_type": "subslide"
      }
     },
     "outputs": [],
     "prompt_number": 19
    },
    {
     "cell_type": "code",
     "collapsed": false,
     "input": [
      "c"
     ],
     "language": "python",
     "metadata": {
      "slideshow": {
       "slide_type": "fragment"
      }
     },
     "outputs": [
      {
       "metadata": {},
       "output_type": "pyout",
       "prompt_number": 20,
       "text": [
        "{1, 2, 3, 4}"
       ]
      }
     ],
     "prompt_number": 20
    },
    {
     "cell_type": "code",
     "collapsed": false,
     "input": [
      "ccc"
     ],
     "language": "python",
     "metadata": {
      "slideshow": {
       "slide_type": "fragment"
      }
     },
     "outputs": [
      {
       "metadata": {},
       "output_type": "pyout",
       "prompt_number": 21,
       "text": [
        "{1, 2, 3, 4}"
       ]
      }
     ],
     "prompt_number": 21
    },
    {
     "cell_type": "code",
     "collapsed": false,
     "input": [
      "c == ccc"
     ],
     "language": "python",
     "metadata": {
      "slideshow": {
       "slide_type": "fragment"
      }
     },
     "outputs": [
      {
       "metadata": {},
       "output_type": "pyout",
       "prompt_number": 22,
       "text": [
        "True"
       ]
      }
     ],
     "prompt_number": 22
    },
    {
     "cell_type": "code",
     "collapsed": false,
     "input": [
      "d = {'blue','white','red'}\n",
      "d"
     ],
     "language": "python",
     "metadata": {
      "slideshow": {
       "slide_type": "fragment"
      }
     },
     "outputs": [
      {
       "metadata": {},
       "output_type": "pyout",
       "prompt_number": 23,
       "text": [
        "{'blue', 'red', 'white'}"
       ]
      }
     ],
     "prompt_number": 23
    },
    {
     "cell_type": "heading",
     "level": 1,
     "metadata": {
      "slideshow": {
       "slide_type": "slide"
      }
     },
     "source": [
      "Set en List comprehension in Python"
     ]
    },
    {
     "cell_type": "code",
     "collapsed": false,
     "input": [
      "f = {n*n for n in range(1,11)}\n",
      "f"
     ],
     "language": "python",
     "metadata": {
      "slideshow": {
       "slide_type": "fragment"
      }
     },
     "outputs": [
      {
       "metadata": {},
       "output_type": "pyout",
       "prompt_number": 17,
       "text": [
        "{1, 4, 9, 16, 25, 36, 49, 64, 81, 100}"
       ]
      }
     ],
     "prompt_number": 17
    },
    {
     "cell_type": "code",
     "collapsed": false,
     "input": [
      "fl = [n*n for n in range(1,11)]\n",
      "fl"
     ],
     "language": "python",
     "metadata": {
      "slideshow": {
       "slide_type": "fragment"
      }
     },
     "outputs": [
      {
       "metadata": {},
       "output_type": "pyout",
       "prompt_number": 10,
       "text": [
        "[1, 4, 9, 16, 25, 36, 49, 64, 81, 100]"
       ]
      }
     ],
     "prompt_number": 10
    },
    {
     "cell_type": "code",
     "collapsed": false,
     "input": [
      "#Your turn: show that order matters for lists but not for sets"
     ],
     "language": "python",
     "metadata": {
      "slideshow": {
       "slide_type": "fragment"
      }
     },
     "outputs": [],
     "prompt_number": 24
    },
    {
     "cell_type": "heading",
     "level": 2,
     "metadata": {
      "slideshow": {
       "slide_type": "fragment"
      }
     },
     "source": [
      "Adding conditions"
     ]
    },
    {
     "cell_type": "code",
     "collapsed": false,
     "input": [
      "letters = {char.lower() for char in 'Ik vind       verzamelingen HEEL Leuk!!!!' if not char in ' !' }\n",
      "\n",
      "letters\n"
     ],
     "language": "python",
     "metadata": {
      "slideshow": {
       "slide_type": "fragment"
      }
     },
     "outputs": [
      {
       "metadata": {},
       "output_type": "pyout",
       "prompt_number": 108,
       "text": [
        "{'a', 'd', 'e', 'g', 'h', 'i', 'k', 'l', 'm', 'n', 'r', 'u', 'v', 'z'}"
       ]
      }
     ],
     "prompt_number": 108
    },
    {
     "cell_type": "markdown",
     "metadata": {
      "slideshow": {
       "slide_type": "slide"
      }
     },
     "source": [
      "# Let op!\n",
      "\n",
      "* Verzameling heeft geen volgorde\n",
      "* Je kan er dus niet het \"eerste element\" uithalen\n",
      "* Elk element van een verzameling moet _hashable_ zijn. \n",
      "    * Sets, lijsten en dictionairies zijn dat **niet**.\n",
      "\n",
      "Zie <http://en.wikibooks.org/wiki/Python_Programming/Sets> voor verzamelingen in Python."
     ]
    },
    {
     "cell_type": "code",
     "collapsed": false,
     "input": [
      "a = {1,2,3}\n",
      "a[0]"
     ],
     "language": "python",
     "metadata": {
      "slideshow": {
       "slide_type": "fragment"
      }
     },
     "outputs": [
      {
       "ename": "TypeError",
       "evalue": "'set' object does not support indexing",
       "output_type": "pyerr",
       "traceback": [
        "\u001b[0;31m---------------------------------------------------------------------------\u001b[0m\n\u001b[0;31mTypeError\u001b[0m                                 Traceback (most recent call last)",
        "\u001b[0;32m<ipython-input-109-d0a9df08dfd4>\u001b[0m in \u001b[0;36m<module>\u001b[0;34m()\u001b[0m\n\u001b[1;32m      1\u001b[0m \u001b[0mA\u001b[0m \u001b[0;34m=\u001b[0m \u001b[0;34m{\u001b[0m\u001b[0;36m1\u001b[0m\u001b[0;34m,\u001b[0m\u001b[0;36m2\u001b[0m\u001b[0;34m,\u001b[0m\u001b[0;36m3\u001b[0m\u001b[0;34m}\u001b[0m\u001b[0;34m\u001b[0m\u001b[0m\n\u001b[0;32m----> 2\u001b[0;31m \u001b[0mA\u001b[0m\u001b[0;34m[\u001b[0m\u001b[0;36m0\u001b[0m\u001b[0;34m]\u001b[0m\u001b[0;34m\u001b[0m\u001b[0m\n\u001b[0m",
        "\u001b[0;31mTypeError\u001b[0m: 'set' object does not support indexing"
       ]
      }
     ],
     "prompt_number": 109
    },
    {
     "cell_type": "markdown",
     "metadata": {
      "slideshow": {
       "slide_type": "slide"
      }
     },
     "source": [
      "# [Lid van en deel van een verzameling, machtsverzameling][mem]\n",
      "\n",
      "[mem]: http://en.wikipedia.org/wiki/Set_(mathematics)#Membership\n",
      "\n"
     ]
    },
    {
     "cell_type": "heading",
     "level": 1,
     "metadata": {
      "slideshow": {
       "slide_type": "slide"
      }
     },
     "source": [
      "Python"
     ]
    },
    {
     "cell_type": "code",
     "collapsed": false,
     "input": [
      "# Lid van een verzameling\n",
      "\n",
      "1 in {2,3,4}"
     ],
     "language": "python",
     "metadata": {
      "slideshow": {
       "slide_type": "fragment"
      }
     },
     "outputs": [
      {
       "metadata": {},
       "output_type": "pyout",
       "prompt_number": 25,
       "text": [
        "False"
       ]
      }
     ],
     "prompt_number": 25
    },
    {
     "cell_type": "code",
     "collapsed": false,
     "input": [
      "1 in {2,3,1}"
     ],
     "language": "python",
     "metadata": {
      "slideshow": {
       "slide_type": "fragment"
      }
     },
     "outputs": [
      {
       "metadata": {},
       "output_type": "pyout",
       "prompt_number": 26,
       "text": [
        "True"
       ]
      }
     ],
     "prompt_number": 26
    },
    {
     "cell_type": "code",
     "collapsed": false,
     "input": [
      "#deelverzameling\n",
      "\n",
      "def deelverzameling(a,b):\n",
      "    if a == set([]):  # a  is de lege verzameling\n",
      "        return True\n",
      "    else:\n",
      "        element = a.pop() # pak een element uit a, a is nu de rest\n",
      "         \n",
      "        # maak dit af, gebruik liefst recursie\n",
      "deelverzameling({1,2},{2,3,1})"
     ],
     "language": "python",
     "metadata": {
      "slideshow": {
       "slide_type": "fragment"
      }
     },
     "outputs": []
    },
    {
     "cell_type": "code",
     "collapsed": false,
     "input": [
      "# Machtsverzameling\n",
      "\n",
      "## warmlopen: maak alle 2**n combinaties van letters uit een string _s_ van lengte n (volgorde doet er niet toe)\n",
      "def com(s):\n",
      "    if s == '':\n",
      "        return ['']\n",
      "    else:\n",
      "        left = com(s[1:])\n",
      "        right = [s[0] + ss for ss in com(s[1:])]\n",
      "        return left + right\n",
      "# test\n",
      "com('abc')\n",
      "    \n",
      "    \n",
      "### Doe nu hetzelfde maar dan voor machtsverzameling\n",
      "\n",
      "def machtsverzameling(a):\n",
      "    '''voor a een verzameling, geeft machtsverzameling(A) een lijst met alle deelverzamelingen van A'''\n",
      "    if a == set():\n",
      "        return [set()]\n",
      "    else:\n",
      "         # maak dit verder af\n",
      "\n",
      "# test\n",
      "machtsverzameling(set([1,2,3,4]))\n",
      " "
     ],
     "language": "python",
     "metadata": {
      "slideshow": {
       "slide_type": "slide"
      }
     },
     "outputs": []
    },
    {
     "cell_type": "markdown",
     "metadata": {
      "slideshow": {
       "slide_type": "slide"
      }
     },
     "source": [
      "# Exclusive or\n",
      "\n",
      "* Also called symmetric difference\n",
      "* Often mistakingly used as the meaning of the natural language \"or\"\n",
      "* used very much in programming\n",
      "\n",
      "## definition\n",
      "> $e \\in A\\  XOR\\  B \\iff e \\in A$ or $e \\in B$, but not in both\n",
      "\n",
      "> $ A \\ XOR\\  B \\equiv (A \\cup B) \\setminus (A\\cap B)$\n",
      "\n",
      "\n",
      "![XOR](http://upload.wikimedia.org/wikipedia/commons/4/46/Venn0110.svg)"
     ]
    },
    {
     "cell_type": "markdown",
     "metadata": {
      "slideshow": {
       "slide_type": "slide"
      }
     },
     "source": [
      "# Exclusive or\n",
      "\n",
      "## Implementation in Python\n",
      "\n",
      "* <http://en.wikibooks.org/wiki/Python_Programming/Sets#Symmetric_Difference>\n",
      "\n",
      "```\n",
      ">>> s1 = set([4, 6, 9])\n",
      ">>> s2 = set([1, 6, 8])\n",
      ">>> s1.symmetric_difference(s2)\n",
      "set([8, 1, 4, 9])\n",
      ">>> s1 ^ s2\n",
      "set([8, 1, 4, 9])\n",
      ">>> s1.symmetric_difference_update(s2)\n",
      ">>> s1\n",
      "set([8, 1, 4, 9])\n",
      "```"
     ]
    },
    {
     "cell_type": "code",
     "collapsed": false,
     "input": [
      "s1 = set([4, 6, 9])\n",
      "s2 = set([1, 6, 8])\n",
      "s1^s2"
     ],
     "language": "python",
     "metadata": {
      "slideshow": {
       "slide_type": "fragment"
      }
     },
     "outputs": []
    },
    {
     "cell_type": "markdown",
     "metadata": {
      "slideshow": {
       "slide_type": "slide"
      }
     },
     "source": [
      "# Exclusive or\n",
      "\n",
      "## Exercises\n",
      "\n",
      "1. Show the correspondence between XOR and \"if and only if\" $\\leftrightarrow$.\n",
      "    * $p\\leftrightarrow q$ iff either both $p$ and $q$ are true or both $p$ and $q$ are false.\n",
      "2. Program XOR yourself in Python using only $\\cap$, $\\cup$ and $\\setminus$.\n",
      "3. Program XOR yourself in Python using no set operations at all. Just use comprehensions and boolean operators."
     ]
    },
    {
     "cell_type": "code",
     "collapsed": false,
     "input": [],
     "language": "python",
     "metadata": {},
     "outputs": [],
     "prompt_number": 109
    }
   ],
   "metadata": {}
  }
 ]
}