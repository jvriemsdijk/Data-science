{
 "metadata": {
  "celltoolbar": "Slideshow",
  "name": "",
  "signature": "sha256:1ef9de90621cd5409fbaa5c881f0e6b027c006bb1d74af0b53fd31bfeeae521f"
 },
 "nbformat": 3,
 "nbformat_minor": 0,
 "worksheets": [
  {
   "cells": [
    {
     "cell_type": "markdown",
     "metadata": {
      "slideshow": {
       "slide_type": "slide"
      }
     },
     "source": [
      "# [Sets][set]\n",
      "\n",
      "* We bekijken verzamelingen in theorie en in the praktijk in Python.\n",
      "* We will follow:  <http://en.wikipedia.org/wiki/Set_(mathematics)>\n",
      "* Lastly we will look at the connection beween sets and Boolean logic.\n",
      "\n",
      "[set]:http://en.wikipedia.org/wiki/Set_(mathematics)"
     ]
    },
    {
     "cell_type": "code",
     "collapsed": false,
     "input": [
      "from IPython.display import HTML\n",
      "HTML('<iframe src=http://en.wikipedia.org/wiki/Set_(mathematics) width=100% height=600></iframe>')"
     ],
     "language": "python",
     "metadata": {},
     "outputs": [
      {
       "html": [
        "<iframe src=http://en.wikipedia.org/wiki/Set_(mathematics) width=100% height=600></iframe>"
       ],
       "metadata": {},
       "output_type": "pyout",
       "prompt_number": 3,
       "text": [
        "<IPython.core.display.HTML at 0x104cf77d0>"
       ]
      }
     ],
     "prompt_number": 3
    },
    {
     "cell_type": "markdown",
     "metadata": {
      "slideshow": {
       "slide_type": "slide"
      }
     },
     "source": [
      "# [Definition of a set][def]\n",
      "\n",
      "* We geven geen formele definitie. \n",
      "* The most basic properties are that a set has elements, \n",
      "* and that two sets are equal (one and the same) if and only if every element of one set is an element of the other.\n",
      "\n",
      "[def]: http://en.wikipedia.org/wiki/Set_(mathematics)#Definition \"Definition\"\n",
      "\n",
      " "
     ]
    },
    {
     "cell_type": "markdown",
     "metadata": {
      "slideshow": {
       "slide_type": "slide"
      }
     },
     "source": [
      "# [Describing sets][des]\n",
      "\n",
      "[des]: http://en.wikipedia.org/wiki/Set_(mathematics)#Describing_sets\n",
      "\n",
      "## Examples\n",
      "\n",
      "### By extension (naming the values)\n",
      "* $c = \\{4, 2, 1, 3\\}$\n",
      "* $d = \\{blue, white, red\\}$\n",
      "\n",
      "### By extensional definition (with a definition)\n",
      "\n",
      "*  $f=\\{n^2 \\mid n \\in \\mathbb{N} \\mbox{ and } 1\\leq n\\leq 10 \\}$ (First ten squares)\n",
      "*  All even numbers\n",
      "*  All numbers divisible by 8"
     ]
    },
    {
     "cell_type": "heading",
     "level": 1,
     "metadata": {
      "slideshow": {
       "slide_type": "slide"
      }
     },
     "source": [
      "Describing sets in Python"
     ]
    },
    {
     "cell_type": "code",
     "collapsed": false,
     "input": [
      "c = {4,2,1,3}\n",
      "cc = {1,2,3,4}\n",
      "ccc = set(range(1,5))\n",
      "cccc = set([4,2,1,3])"
     ],
     "language": "python",
     "metadata": {
      "slideshow": {
       "slide_type": "subslide"
      }
     },
     "outputs": [],
     "prompt_number": 19
    },
    {
     "cell_type": "code",
     "collapsed": false,
     "input": [
      "c"
     ],
     "language": "python",
     "metadata": {
      "slideshow": {
       "slide_type": "fragment"
      }
     },
     "outputs": [
      {
       "metadata": {},
       "output_type": "pyout",
       "prompt_number": 20,
       "text": [
        "{1, 2, 3, 4}"
       ]
      }
     ],
     "prompt_number": 20
    },
    {
     "cell_type": "code",
     "collapsed": false,
     "input": [
      "ccc"
     ],
     "language": "python",
     "metadata": {
      "slideshow": {
       "slide_type": "fragment"
      }
     },
     "outputs": [
      {
       "metadata": {},
       "output_type": "pyout",
       "prompt_number": 21,
       "text": [
        "{1, 2, 3, 4}"
       ]
      }
     ],
     "prompt_number": 21
    },
    {
     "cell_type": "code",
     "collapsed": false,
     "input": [
      "c == ccc"
     ],
     "language": "python",
     "metadata": {
      "slideshow": {
       "slide_type": "fragment"
      }
     },
     "outputs": [
      {
       "metadata": {},
       "output_type": "pyout",
       "prompt_number": 22,
       "text": [
        "True"
       ]
      }
     ],
     "prompt_number": 22
    },
    {
     "cell_type": "code",
     "collapsed": false,
     "input": [
      "d = {'blue','white','red'}\n",
      "d"
     ],
     "language": "python",
     "metadata": {
      "slideshow": {
       "slide_type": "fragment"
      }
     },
     "outputs": [
      {
       "metadata": {},
       "output_type": "pyout",
       "prompt_number": 23,
       "text": [
        "{'blue', 'red', 'white'}"
       ]
      }
     ],
     "prompt_number": 23
    },
    {
     "cell_type": "code",
     "collapsed": false,
     "input": [
      "f = {n*n for n in range(1,11)}\n",
      "f"
     ],
     "language": "python",
     "metadata": {
      "slideshow": {
       "slide_type": "fragment"
      }
     },
     "outputs": [
      {
       "metadata": {},
       "output_type": "pyout",
       "prompt_number": 45,
       "text": [
        "{1, 4, 9, 16, 25, 36, 49, 64, 81, 100}"
       ]
      }
     ],
     "prompt_number": 45
    },
    {
     "cell_type": "code",
     "collapsed": false,
     "input": [
      "fl = [n*n for n in range(1,11)]\n",
      "fl"
     ],
     "language": "python",
     "metadata": {
      "slideshow": {
       "slide_type": "fragment"
      }
     },
     "outputs": [
      {
       "metadata": {},
       "output_type": "pyout",
       "prompt_number": 46,
       "text": [
        "[1, 4, 9, 16, 25, 36, 49, 64, 81, 100]"
       ]
      }
     ],
     "prompt_number": 46
    },
    {
     "cell_type": "markdown",
     "metadata": {
      "slideshow": {
       "slide_type": "slide"
      }
     },
     "source": [
      "# [Membership of a set][mem]\n",
      "\n",
      "[mem]: http://en.wikipedia.org/wiki/Set_(mathematics)#Membership\n",
      "\n",
      "If a is a member of set B, this is denoted a $\\in$ B, while if c is not a member of B then c $\\notin$ B. For example, with respect to the sets A = {1,2,3,4}, B = {blue, white, red}, and $F = {n2 \u2212 4 : n\\mbox{ is an integer; and }0 \\leq n \\leq 19}$ defined above,\n",
      "\n",
      "- 4 $\\in$ A and 12 $\\in$ F; but\n",
      "\n",
      "- 9 $\\notin$ F and green $\\notin$ B. "
     ]
    },
    {
     "cell_type": "markdown",
     "metadata": {},
     "source": [
      "# [Subsets][sub]\n",
      "\n",
      "[sub]: http://en.wikipedia.org/wiki/Set_(mathematics)#Membership\n",
      "\n",
      "- If every member of set A is also a member of set B, then A is said to be a subset of B\n",
      "- Written A $\\subseteq$ B (also pronounced A is contained in B)\n",
      "- Equivalently, we can write B $\\supseteq$ A, read as B is a superset of A, B includes A, or B contains A\n",
      "\n",
      "### Proper subsets\n",
      "\n",
      "- If A is a subset of, but not equal to, B, then A is called a proper subset of B, written A $\\subsetneq$ B (A is a proper subset of B) or B $\\supsetneq$ A (B is a proper superset of A)."
     ]
    },
    {
     "cell_type": "markdown",
     "metadata": {},
     "source": [
      "# [Subset examples][sub]\n",
      "\n",
      "[sub]: http://en.wikipedia.org/wiki/Set_(mathematics)#Membership\n",
      "\n",
      "\n",
      "\n",
      "- The set of all men is a proper subset of the set of all people.\n",
      "- {1, 3} $\\in$ {1, 2, 3, 4}.\n",
      "- {1, 2, 3, 4} $\\in$ {1, 2, 3, 4}.\n",
      "\n",
      "The empty set is a subset of every set and every set is a subset of itself:\n",
      "\n",
      "- $\\emptyset \\subseteq$ A.\n",
      "- A $\\subseteq$ A.\n",
      "\n",
      "An obvious but useful identity, which can often be used to show that two seemingly different sets are equal:\n",
      "\n",
      "- A = B if and only if A $\\subseteq$ B and B $\\subseteq$ A.\n",
      "\n",
      "\n",
      "\n"
     ]
    },
    {
     "cell_type": "heading",
     "level": 1,
     "metadata": {
      "slideshow": {
       "slide_type": "slide"
      }
     },
     "source": [
      "Set membership in Python"
     ]
    },
    {
     "cell_type": "code",
     "collapsed": false,
     "input": [
      "# member of a set\n",
      "\n",
      "1 in {2,3,4}"
     ],
     "language": "python",
     "metadata": {
      "slideshow": {
       "slide_type": "fragment"
      }
     },
     "outputs": [
      {
       "metadata": {},
       "output_type": "pyout",
       "prompt_number": 47,
       "text": [
        "False"
       ]
      }
     ],
     "prompt_number": 47
    },
    {
     "cell_type": "code",
     "collapsed": false,
     "input": [
      "1 in {2,3,1}"
     ],
     "language": "python",
     "metadata": {
      "slideshow": {
       "slide_type": "fragment"
      }
     },
     "outputs": [
      {
       "metadata": {},
       "output_type": "pyout",
       "prompt_number": 48,
       "text": [
        "True"
       ]
      }
     ],
     "prompt_number": 48
    },
    {
     "cell_type": "heading",
     "level": 1,
     "metadata": {
      "slideshow": {
       "slide_type": "slide"
      }
     },
     "source": [
      "Subsets in Python"
     ]
    },
    {
     "cell_type": "code",
     "collapsed": false,
     "input": [
      "a = {2,3,1}\n",
      "b = {2,3,1}\n",
      "a.issubset(b)"
     ],
     "language": "python",
     "metadata": {
      "slideshow": {
       "slide_type": "fragment"
      }
     },
     "outputs": [
      {
       "metadata": {},
       "output_type": "pyout",
       "prompt_number": 4,
       "text": [
        "True"
       ]
      }
     ],
     "prompt_number": 4
    },
    {
     "cell_type": "code",
     "collapsed": false,
     "input": [
      "a = {2,3,1}\n",
      "b = {2,3,4}\n",
      "a.issubset(b)"
     ],
     "language": "python",
     "metadata": {
      "slideshow": {
       "slide_type": "fragment"
      }
     },
     "outputs": [
      {
       "metadata": {},
       "output_type": "pyout",
       "prompt_number": 5,
       "text": [
        "False"
       ]
      }
     ],
     "prompt_number": 5
    },
    {
     "cell_type": "code",
     "collapsed": false,
     "input": [
      "a = {2,3,1}\n",
      "b = {2,3}\n",
      "a.issuperset(b)"
     ],
     "language": "python",
     "metadata": {
      "slideshow": {
       "slide_type": "fragment"
      }
     },
     "outputs": [
      {
       "metadata": {},
       "output_type": "pyout",
       "prompt_number": 6,
       "text": [
        "True"
       ]
      }
     ],
     "prompt_number": 6
    },
    {
     "cell_type": "markdown",
     "metadata": {
      "slideshow": {
       "slide_type": "slide"
      }
     },
     "source": [
      "# Power sets\n",
      "\n",
      "\n",
      "# TODO"
     ]
    },
    {
     "cell_type": "markdown",
     "metadata": {
      "slideshow": {
       "slide_type": "slide"
      }
     },
     "source": [
      "# [Cardinality][car]\n",
      "\n",
      "[car]: http://en.wikipedia.org/wiki/Set_(mathematics)#Cardinality\n",
      "\n",
      "- The cardinality of a set is the amount of elements in said set. There are several special rules for say empty and infinite sets.\n",
      "\n",
      "## Examples\n",
      "\n",
      "* if a = {blue, white, red}, |\u2009a\u2009| = 3.\n",
      "* if b = {}, | b | = $\\emptyset$.\n",
      "* if c = {N}, | c | = $\\infty$."
     ]
    },
    {
     "cell_type": "markdown",
     "metadata": {
      "slideshow": {
       "slide_type": "slide"
      }
     },
     "source": [
      "# [Special sets][spec]\n",
      "\n",
      "[spec]: http://en.wikipedia.org/wiki/Set_(mathematics)#Special_sets\n",
      "\n",
      "- Special sets are sets with specific special elements that are used often. Because of this, they're given a special letter.\n",
      "\n",
      "## Examples\n",
      "\n",
      "* P or \u2119, the set of all primes: P = {2, 3, 5, 7, 11, 13, 17, ...}.\n",
      "* N or \u2115, the set of all natural numbers: N = {1, 2, 3, . . .} (sometimes defined containing 0).\n",
      "* Z or \u2124, the set of all integers (whether positive, negative or zero): Z = {..., \u22122, \u22121, 0, 1, 2, ...}.\n",
      "* Q or \u211a, the set of all rational numbers (that is, the set of all proper and improper fractions): Q = {a/b : a, b $\\in$ Z, b $\\neq$ 0}. For example, 1/4 $\\in$ Q and 11/6 $\\in$ Q. All integers are in this set since every integer a can be expressed as the fraction a/1 (Z $\\subsetneq$ Q).\n",
      "* R or \u211d, the set of all real numbers. This set includes all rational numbers, together with all irrational numbers (that is, numbers that cannot be rewritten as fractions, such as $\\sqrt{}$2, as well as transcendental numbers such as $\\pi$, e and numbers that cannot be defined).\n",
      "* C or \u2102, the set of all complex numbers: C = {a + bi : a, b $\\in$ R}. For example, 1 + 2i $\\in$ C.\n",
      "* H or \u210d, the set of all quaternions: H = {a + bi + cj + dk : a, b, c, d $\\in$ R}. For example, 1 + i + 2j \u2212 k $\\in$ H."
     ]
    },
    {
     "cell_type": "markdown",
     "metadata": {
      "slideshow": {
       "slide_type": "slide"
      }
     },
     "source": [
      "# Basic operations\n",
      "\n",
      "#TODO"
     ]
    },
    {
     "cell_type": "markdown",
     "metadata": {
      "slideshow": {
       "slide_type": "slide"
      }
     },
     "source": [
      "# Union\n",
      "\n",
      "#TODO"
     ]
    },
    {
     "cell_type": "markdown",
     "metadata": {
      "slideshow": {
       "slide_type": "slide"
      }
     },
     "source": [
      "# Intersections\n",
      "\n",
      "#TODO"
     ]
    },
    {
     "cell_type": "markdown",
     "metadata": {
      "slideshow": {
       "slide_type": "slide"
      }
     },
     "source": [
      "# Complements\n",
      "\n",
      "#TODO"
     ]
    },
    {
     "cell_type": "markdown",
     "metadata": {
      "slideshow": {
       "slide_type": "slide"
      }
     },
     "source": [
      "# Cartesian product\n",
      "\n",
      "#TODO"
     ]
    },
    {
     "cell_type": "markdown",
     "metadata": {
      "slideshow": {
       "slide_type": "slide"
      }
     },
     "source": [
      "# [Boolean logic][boo]\n",
      "\n",
      "[boo]: http://en.wikipedia.org/wiki/Boolean_algebra\n",
      "- Boolean algebra is a subarea of algebra, defining whether statements are True and False. This system is also used in computers, where a bit is either 0 or 1. \n",
      "\n",
      "## Basic operations\n",
      "\n",
      "* Conjunction (and): x $\\wedge$ y.\n",
      "* Disjunction (or): x $\\vee$ y.\n",
      "* Complement (not): x $\\neg$ y.\n",
      "* Exclusive or (xor) -> Switches the outcome.\n",
      "![venn diagram](http://upload.wikimedia.org/wikipedia/commons/thumb/a/ae/Vennandornot.svg/1200px-Vennandornot.svg.png)\n"
     ]
    },
    {
     "cell_type": "markdown",
     "metadata": {
      "slideshow": {
       "slide_type": "slide"
      }
     },
     "source": [
      "#Conjunction (AND)\n",
      "\n",
      "|Input 1 | input 2 | outcome |\n",
      "|---|---|---|\n",
      "|  0 | 0  | 0  |\n",
      "| 1  | 0  |  0 |\n",
      "| 0  |  1 | 0  |\n",
      "| 1  |  1 | 1 |\n",
      "\n",
      "#Disjunction (OR)\n",
      "\n",
      "|Input 1 | input 2 | outcome |\n",
      "|---|---|---|\n",
      "|  0 | 0  | 0  |\n",
      "| 1  | 0  |  1 |\n",
      "| 0  |  1 | 1  |\n",
      "| 1  |  1 | 1 |\n",
      "\n",
      "#Complement (NOT)\n",
      "\n",
      "|Input | outcome |\n",
      "|---|---|\n",
      "|1|0|\n",
      "|0|1|\n",
      "\n",
      "#Exclusive or (XOR)\n",
      "\n",
      "|Input 1 | input 2 | outcome |\n",
      "|---|---|---|\n",
      "|  0 | 0  | 0  |\n",
      "| 1  | 0  |  1 |\n",
      "| 0  |  1 | 1  |\n",
      "| 1  |  1 | 0 |"
     ]
    },
    {
     "cell_type": "heading",
     "level": 1,
     "metadata": {
      "slideshow": {
       "slide_type": "slide"
      }
     },
     "source": [
      "Set en List comprehension in Python"
     ]
    },
    {
     "cell_type": "code",
     "collapsed": false,
     "input": [
      "#Your turn: show that order matters for lists but not for sets"
     ],
     "language": "python",
     "metadata": {
      "slideshow": {
       "slide_type": "fragment"
      }
     },
     "outputs": [],
     "prompt_number": 24
    },
    {
     "cell_type": "heading",
     "level": 2,
     "metadata": {
      "slideshow": {
       "slide_type": "fragment"
      }
     },
     "source": [
      "Adding conditions"
     ]
    },
    {
     "cell_type": "code",
     "collapsed": false,
     "input": [
      "letters = {char.lower() for char in 'Ik vind       verzamelingen HEEL Leuk!!!!' if not char in ' !' }\n",
      "\n",
      "letters\n"
     ],
     "language": "python",
     "metadata": {
      "slideshow": {
       "slide_type": "fragment"
      }
     },
     "outputs": [
      {
       "metadata": {},
       "output_type": "pyout",
       "prompt_number": 108,
       "text": [
        "{'a', 'd', 'e', 'g', 'h', 'i', 'k', 'l', 'm', 'n', 'r', 'u', 'v', 'z'}"
       ]
      }
     ],
     "prompt_number": 108
    },
    {
     "cell_type": "markdown",
     "metadata": {
      "slideshow": {
       "slide_type": "slide"
      }
     },
     "source": [
      "# Let op!\n",
      "\n",
      "* Verzameling heeft geen volgorde\n",
      "* Je kan er dus niet het \"eerste element\" uithalen\n",
      "* Elk element van een verzameling moet _hashable_ zijn. \n",
      "    * Sets, lijsten en dictionairies zijn dat **niet**.\n",
      "\n",
      "Zie <http://en.wikibooks.org/wiki/Python_Programming/Sets> voor verzamelingen in Python."
     ]
    },
    {
     "cell_type": "code",
     "collapsed": false,
     "input": [
      "a = {1,2,3}\n",
      "a[0]"
     ],
     "language": "python",
     "metadata": {
      "slideshow": {
       "slide_type": "fragment"
      }
     },
     "outputs": [
      {
       "ename": "TypeError",
       "evalue": "'set' object does not support indexing",
       "output_type": "pyerr",
       "traceback": [
        "\u001b[0;31m---------------------------------------------------------------------------\u001b[0m\n\u001b[0;31mTypeError\u001b[0m                                 Traceback (most recent call last)",
        "\u001b[0;32m<ipython-input-44-7dcad800cccf>\u001b[0m in \u001b[0;36m<module>\u001b[0;34m()\u001b[0m\n\u001b[1;32m      1\u001b[0m \u001b[0ma\u001b[0m \u001b[0;34m=\u001b[0m \u001b[0;34m{\u001b[0m\u001b[0;36m1\u001b[0m\u001b[0;34m,\u001b[0m\u001b[0;36m2\u001b[0m\u001b[0;34m,\u001b[0m\u001b[0;36m3\u001b[0m\u001b[0;34m}\u001b[0m\u001b[0;34m\u001b[0m\u001b[0m\n\u001b[0;32m----> 2\u001b[0;31m \u001b[0ma\u001b[0m\u001b[0;34m[\u001b[0m\u001b[0;36m0\u001b[0m\u001b[0;34m]\u001b[0m\u001b[0;34m\u001b[0m\u001b[0m\n\u001b[0m",
        "\u001b[0;31mTypeError\u001b[0m: 'set' object does not support indexing"
       ]
      }
     ],
     "prompt_number": 44
    },
    {
     "cell_type": "markdown",
     "metadata": {
      "slideshow": {
       "slide_type": "slide"
      }
     },
     "source": [
      "# [Lid van en deel van een verzameling, machtsverzameling][mem]\n",
      "\n",
      "[mem]: http://en.wikipedia.org/wiki/Set_(mathematics)#Membership\n",
      "\n"
     ]
    },
    {
     "cell_type": "code",
     "collapsed": false,
     "input": [
      "#deelverzameling\n",
      "\n",
      "def deelverzameling(a,b):\n",
      "    if a == set([]):  # a  is de lege verzameling\n",
      "        return True\n",
      "    else:\n",
      "        element = a.pop() # pak een element uit a, a is nu de rest\n",
      "         \n",
      "        # maak dit af, gebruik liefst recursie\n",
      "deelverzameling({1,2},{2,3,1})"
     ],
     "language": "python",
     "metadata": {
      "slideshow": {
       "slide_type": "fragment"
      }
     },
     "outputs": [],
     "prompt_number": 49
    },
    {
     "cell_type": "code",
     "collapsed": false,
     "input": [
      "# # Machtsverzameling\n",
      "\n",
      "# ## warmlopen: maak alle 2**n combinaties van letters uit een string _s_ van lengte n (volgorde doet er niet toe)\n",
      "# def com(s):\n",
      "#     if s == '':\n",
      "#         return ['']\n",
      "#     else:\n",
      "#         left = com(s[1:])\n",
      "#         right = [s[0] + ss for ss in com(s[1:])]\n",
      "#         return left + right\n",
      "# # test\n",
      "# com('abc')\n",
      "    \n",
      "    \n",
      "### Doe nu hetzelfde maar dan voor machtsverzameling\n",
      "\n",
      "def machtsverzameling(a):\n",
      "    '''voor a een verzameling, geeft machtsverzameling(A) een lijst met alle deelverzamelingen van A'''\n",
      "  \n",
      "    print a\n",
      "    \n",
      "    if a == set():\n",
      "        return [set()]\n",
      "    else:\n",
      "        \n",
      "        answer = []\n",
      "        answer.append(a)\n",
      "        \n",
      "        if len(a) > 1:\n",
      "            for i in a:\n",
      "                print a.difference_update({i})\n",
      "                answer.append(machtsverzameling(a.difference_update(set(i))))\n",
      "        else :\n",
      "            answer.append(machtsverzameling(a.difference_update(set(i))))\n",
      "        return answer\n",
      "        \n",
      "\n",
      "# test\n",
      "machtsverzameling({1,2,3,4})\n",
      " "
     ],
     "language": "python",
     "metadata": {
      "slideshow": {
       "slide_type": "slide"
      }
     },
     "outputs": [
      {
       "output_type": "stream",
       "stream": "stdout",
       "text": [
        "set([1, 2, 3, 4])\n",
        "None\n"
       ]
      },
      {
       "ename": "TypeError",
       "evalue": "'int' object is not iterable",
       "output_type": "pyerr",
       "traceback": [
        "\u001b[0;31m---------------------------------------------------------------------------\u001b[0m\n\u001b[0;31mTypeError\u001b[0m                                 Traceback (most recent call last)",
        "\u001b[0;32m<ipython-input-54-79a1acdd5915>\u001b[0m in \u001b[0;36m<module>\u001b[0;34m()\u001b[0m\n\u001b[1;32m     37\u001b[0m \u001b[0;34m\u001b[0m\u001b[0m\n\u001b[1;32m     38\u001b[0m \u001b[0;31m# test\u001b[0m\u001b[0;34m\u001b[0m\u001b[0;34m\u001b[0m\u001b[0m\n\u001b[0;32m---> 39\u001b[0;31m \u001b[0mmachtsverzameling\u001b[0m\u001b[0;34m(\u001b[0m\u001b[0;34m{\u001b[0m\u001b[0;36m1\u001b[0m\u001b[0;34m,\u001b[0m\u001b[0;36m2\u001b[0m\u001b[0;34m,\u001b[0m\u001b[0;36m3\u001b[0m\u001b[0;34m,\u001b[0m\u001b[0;36m4\u001b[0m\u001b[0;34m}\u001b[0m\u001b[0;34m)\u001b[0m\u001b[0;34m\u001b[0m\u001b[0m\n\u001b[0m\u001b[1;32m     40\u001b[0m \u001b[0;34m\u001b[0m\u001b[0m\n",
        "\u001b[0;32m<ipython-input-54-79a1acdd5915>\u001b[0m in \u001b[0;36mmachtsverzameling\u001b[0;34m(a)\u001b[0m\n\u001b[1;32m     30\u001b[0m             \u001b[0;32mfor\u001b[0m \u001b[0mi\u001b[0m \u001b[0;32min\u001b[0m \u001b[0ma\u001b[0m\u001b[0;34m:\u001b[0m\u001b[0;34m\u001b[0m\u001b[0m\n\u001b[1;32m     31\u001b[0m                 \u001b[0;32mprint\u001b[0m \u001b[0ma\u001b[0m\u001b[0;34m.\u001b[0m\u001b[0mdifference_update\u001b[0m\u001b[0;34m(\u001b[0m\u001b[0;34m{\u001b[0m\u001b[0mi\u001b[0m\u001b[0;34m}\u001b[0m\u001b[0;34m)\u001b[0m\u001b[0;34m\u001b[0m\u001b[0m\n\u001b[0;32m---> 32\u001b[0;31m                 \u001b[0manswer\u001b[0m\u001b[0;34m.\u001b[0m\u001b[0mappend\u001b[0m\u001b[0;34m(\u001b[0m\u001b[0mmachtsverzameling\u001b[0m\u001b[0;34m(\u001b[0m\u001b[0ma\u001b[0m\u001b[0;34m.\u001b[0m\u001b[0mdifference_update\u001b[0m\u001b[0;34m(\u001b[0m\u001b[0mset\u001b[0m\u001b[0;34m(\u001b[0m\u001b[0mi\u001b[0m\u001b[0;34m)\u001b[0m\u001b[0;34m)\u001b[0m\u001b[0;34m)\u001b[0m\u001b[0;34m)\u001b[0m\u001b[0;34m\u001b[0m\u001b[0m\n\u001b[0m\u001b[1;32m     33\u001b[0m         \u001b[0;32melse\u001b[0m \u001b[0;34m:\u001b[0m\u001b[0;34m\u001b[0m\u001b[0m\n\u001b[1;32m     34\u001b[0m             \u001b[0manswer\u001b[0m\u001b[0;34m.\u001b[0m\u001b[0mappend\u001b[0m\u001b[0;34m(\u001b[0m\u001b[0mmachtsverzameling\u001b[0m\u001b[0;34m(\u001b[0m\u001b[0ma\u001b[0m\u001b[0;34m.\u001b[0m\u001b[0mdifference_update\u001b[0m\u001b[0;34m(\u001b[0m\u001b[0mset\u001b[0m\u001b[0;34m(\u001b[0m\u001b[0mi\u001b[0m\u001b[0;34m)\u001b[0m\u001b[0;34m)\u001b[0m\u001b[0;34m)\u001b[0m\u001b[0;34m)\u001b[0m\u001b[0;34m\u001b[0m\u001b[0m\n",
        "\u001b[0;31mTypeError\u001b[0m: 'int' object is not iterable"
       ]
      }
     ],
     "prompt_number": 54
    },
    {
     "cell_type": "markdown",
     "metadata": {
      "slideshow": {
       "slide_type": "slide"
      }
     },
     "source": [
      "# Exclusive or\n",
      "\n",
      "* Also called symmetric difference\n",
      "* Often mistakingly used as the meaning of the natural language \"or\"\n",
      "* used very much in programming\n",
      "\n",
      "## definition\n",
      "> $e \\in A\\  XOR\\  B \\iff e \\in A$ or $e \\in B$, but not in both\n",
      "\n",
      "> $ A \\ XOR\\  B \\equiv (A \\cup B) \\setminus (A\\cap B)$\n",
      "\n",
      "\n",
      "![XOR](http://upload.wikimedia.org/wikipedia/commons/4/46/Venn0110.svg)"
     ]
    },
    {
     "cell_type": "markdown",
     "metadata": {
      "slideshow": {
       "slide_type": "slide"
      }
     },
     "source": [
      "# Exclusive or\n",
      "\n",
      "## Implementation in Python\n",
      "\n",
      "* <http://en.wikibooks.org/wiki/Python_Programming/Sets#Symmetric_Difference>\n",
      "\n",
      "```\n",
      ">>> s1 = set([4, 6, 9])\n",
      ">>> s2 = set([1, 6, 8])\n",
      ">>> s1.symmetric_difference(s2)\n",
      "set([8, 1, 4, 9])\n",
      ">>> s1 ^ s2\n",
      "set([8, 1, 4, 9])\n",
      ">>> s1.symmetric_difference_update(s2)\n",
      ">>> s1\n",
      "set([8, 1, 4, 9])\n",
      "```"
     ]
    },
    {
     "cell_type": "code",
     "collapsed": false,
     "input": [
      "s1 = set([4, 6, 9])\n",
      "s2 = set([1, 6, 8])\n",
      "s1^s2"
     ],
     "language": "python",
     "metadata": {
      "slideshow": {
       "slide_type": "fragment"
      }
     },
     "outputs": []
    },
    {
     "cell_type": "markdown",
     "metadata": {
      "slideshow": {
       "slide_type": "slide"
      }
     },
     "source": [
      "# Exclusive or\n",
      "\n",
      "## Exercises\n",
      "\n",
      "1. Show the correspondence between XOR and \"if and only if\" $\\leftrightarrow$.\n",
      "    * $p\\leftrightarrow q$ iff either both $p$ and $q$ are true or both $p$ and $q$ are false.\n",
      "2. Program XOR yourself in Python using only $\\cap$, $\\cup$ and $\\setminus$.\n",
      "3. Program XOR yourself in Python using no set operations at all. Just use comprehensions and boolean operators."
     ]
    },
    {
     "cell_type": "code",
     "collapsed": false,
     "input": [],
     "language": "python",
     "metadata": {},
     "outputs": [],
     "prompt_number": 109
    }
   ],
   "metadata": {}
  }
 ]
}