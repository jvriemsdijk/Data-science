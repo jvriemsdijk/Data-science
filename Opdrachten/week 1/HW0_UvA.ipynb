{
 "metadata": {
  "name": "",
  "signature": "sha256:8cbe9b48505048955b52fa2b19bce0df9f91c2f025722a9813645fc0f4fe36d1"
 },
 "nbformat": 3,
 "nbformat_minor": 0,
 "worksheets": [
  {
   "cells": [
    {
     "cell_type": "markdown",
     "metadata": {},
     "source": [
      "# Homework 0\n",
      "\n",
      " \n",
      "\n",
      "\n",
      "## Programming expectations\n",
      "\n",
      "All the assignments and labs for this class will use the command line and Python and, for the most part, the browser-based IPython notebook format you are currently viewing. Knowledge of Python is  a prerequisite for this course.\n",
      "While we have strived to make the programming component of this course straightforward, we will not devote much time to teaching prorgramming or Python syntax. Basically, you should feel comfortable with:\n",
      "\n",
      "* How to look up Python syntax on Google and StackOverflow.\n",
      "* Basic programming concepts like functions, loops, arrays, dictionaries, strings, and if statements.\n",
      "* How to learn new libraries by reading documentation.\n",
      "* Asking questions on StackOverflow or Piazza.\n",
      "\n",
      " \n",
      "## Getting Python\n",
      "\n",
      "You will be using Python throughout the course, including many popular 3rd party Python libraries for scientific computing. [Anaconda](http://continuum.io/downloads) is an easy-to-install bundle of Python and most of these libraries. We recommend that you use Anaconda for this course.\n",
      "\n",
      "Please visit [this page](https://github.com/cs109/content/wiki/Installing-Python) and follow the instructions to set up Python.\n",
      "\n",
      "<hline>\n",
      "\n",
      "## Hello, Python\n",
      "\n",
      "The IPython notebook is an application to build interactive computational notebooks. You'll be using them to complete labs and homework. Once you've set up Python, please download this HW0 ipython notebook and open it with IPython by typing\n",
      "\n",
      "```\n",
      "ipython notebook <name_of_downloaded_file>\n",
      "```\n",
      "\n",
      "For the rest of the assignment, use your local copy of this page, running on IPython.\n",
      "\n",
      "Notebooks are composed of many \"cells\", which can contain text (like this one), or code (like the one below). Double click on the cell below, and evaluate it by clicking the \"play\" button above, or by hitting shift + enter"
     ]
    },
    {
     "cell_type": "code",
     "collapsed": false,
     "input": [
      "x = [1,2,3,4,5,6,7,8]\n",
      "for item in x:\n",
      "    print \"Item is \", item"
     ],
     "language": "python",
     "metadata": {},
     "outputs": [
      {
       "output_type": "stream",
       "stream": "stdout",
       "text": [
        "Item is  1\n",
        "Item is  2\n",
        "Item is  3\n",
        "Item is  4\n",
        "Item is  5\n",
        "Item is  6\n",
        "Item is  7\n",
        "Item is  8\n"
       ]
      }
     ],
     "prompt_number": 1
    },
    {
     "cell_type": "markdown",
     "metadata": {},
     "source": [
      "## Python Libraries\n",
      "\n",
      "We will be using a several different libraries throughout this course. If you've successfully completed the [installation instructions](https://github.com/cs109/content/wiki/Installing-Python), all of the following statements should run."
     ]
    },
    {
     "cell_type": "code",
     "collapsed": false,
     "input": [
      "#IPython is what you are using now to run the notebook\n",
      "import IPython\n",
      "print \"IPython version:      %6.6s (need at least 1.0)\" % IPython.__version__\n",
      "\n",
      "# Numpy is a library for working with Arrays\n",
      "import numpy as np\n",
      "print \"Numpy version:        %6.6s (need at least 1.7.1)\" % np.__version__\n",
      "\n",
      "# SciPy implements many different numerical algorithms\n",
      "import scipy as sp\n",
      "print \"SciPy version:        %6.6s (need at least 0.12.0)\" % sp.__version__\n",
      "\n",
      "# Pandas makes working with data tables easier\n",
      "import pandas as pd\n",
      "print \"Pandas version:       %6.6s (need at least 0.11.0)\" % pd.__version__\n",
      "\n",
      "# Module for plotting\n",
      "import matplotlib\n",
      "print \"Mapltolib version:    %6.6s (need at least 1.2.1)\" % matplotlib.__version__\n",
      "\n",
      "# SciKit Learn implements several Machine Learning algorithms\n",
      "import sklearn\n",
      "print \"Scikit-Learn version: %6.6s (need at least 0.13.1)\" % sklearn.__version__\n",
      "\n",
      "# Requests is a library for getting data from the Web\n",
      "import requests\n",
      "print \"requests version:     %6.6s (need at least 1.2.3)\" % requests.__version__\n",
      "\n",
      "# Networkx is a library for working with networks\n",
      "import networkx as nx\n",
      "print \"NetworkX version:     %6.6s (need at least 1.7)\" % nx.__version__\n",
      "\n",
      "#BeautifulSoup is a library to parse HTML and XML documents\n",
      "import bs4\n",
      "print \"BeautifulSoup version:%6.6s (need at least 4.0)\" % bs4.__version__\n",
      "\n",
      "#MrJob is a library to run map reduce jobs on Amazon's computers\n",
      "import mrjob\n",
      "print \"Mr Job version:       %6.6s (need at least 0.4)\" % mrjob.__version__\n",
      "\n",
      "#Pattern has lots of tools for working with data from the internet\n",
      "import pattern\n",
      "print \"Pattern version:      %6.6s (need at least 2.6)\" % pattern.__version__\n",
      "\n",
      "#Seaborn is a nice library for visualizations\n",
      "import seaborn\n",
      "print \"Seaborn version:      %6.6s (need at least 0.3.1)\" % seaborn.__version__"
     ],
     "language": "python",
     "metadata": {},
     "outputs": [
      {
       "output_type": "stream",
       "stream": "stdout",
       "text": [
        "IPython version:       2.2.0 (need at least 1.0)\n",
        "Numpy version:         1.9.0 (need at least 1.7.1)\n",
        "SciPy version:        0.14.0 (need at least 0.12.0)\n",
        "Pandas version:       0.14.1 (need at least 0.11.0)\n",
        "Mapltolib version:     1.4.0 (need at least 1.2.1)\n",
        "Scikit-Learn version: 0.15.2 (need at least 0.13.1)\n",
        "requests version:      2.4.1 (need at least 1.2.3)\n",
        "NetworkX version:      1.9.1 (need at least 1.7)\n",
        "BeautifulSoup version: 4.3.2 (need at least 4.0)\n",
        "Mr Job version:        0.4.2 (need at least 0.4)\n",
        "Pattern version:         2.6 (need at least 2.6)\n",
        "Seaborn version:       0.5.1 (need at least 0.3.1)"
       ]
      },
      {
       "output_type": "stream",
       "stream": "stdout",
       "text": [
        "\n"
       ]
      }
     ],
     "prompt_number": 2
    },
    {
     "cell_type": "markdown",
     "metadata": {},
     "source": [
      "If any of these libraries are missing or out of date, you will need to [install them](https://github.com/cs109/content/wiki/Installing-Python#installing-additional-libraries).\n",
      "\n",
      "Below is an example of how to install a missing package, and checking again that we have it. You can see that it worked fine."
     ]
    },
    {
     "cell_type": "code",
     "collapsed": false,
     "input": [
      "! pip install mrjob"
     ],
     "language": "python",
     "metadata": {},
     "outputs": [
      {
       "output_type": "stream",
       "stream": "stdout",
       "text": [
        "Downloading/unpacking mrjob\r\n"
       ]
      },
      {
       "output_type": "stream",
       "stream": "stdout",
       "text": [
        "  Downloading mrjob-0.4.2.tar.gz (175kB): \r",
        "  Downloading mrjob-0.4.2.tar.gz (175kB):   2%  4.1kB"
       ]
      },
      {
       "output_type": "stream",
       "stream": "stdout",
       "text": [
        "\r",
        "  Downloading mrjob-0.4.2.tar.gz (175kB):   4%  8.2kB"
       ]
      },
      {
       "output_type": "stream",
       "stream": "stdout",
       "text": [
        "\r",
        "  Downloading mrjob-0.4.2.tar.gz (175kB):   7%  12kB \r",
        "  Downloading mrjob-0.4.2.tar.gz (175kB):   9%  16kB"
       ]
      },
      {
       "output_type": "stream",
       "stream": "stdout",
       "text": [
        "\r",
        "  Downloading mrjob-0.4.2.tar.gz (175kB):  11%  20kB\r",
        "  Downloading mrjob-0.4.2.tar.gz (175kB):  14%  24kB"
       ]
      },
      {
       "output_type": "stream",
       "stream": "stdout",
       "text": [
        "\r",
        "  Downloading mrjob-0.4.2.tar.gz (175kB):  16%  28kB\r",
        "  Downloading mrjob-0.4.2.tar.gz (175kB):  18%  32kB"
       ]
      },
      {
       "output_type": "stream",
       "stream": "stdout",
       "text": [
        "\r",
        "  Downloading mrjob-0.4.2.tar.gz (175kB):  21%  36kB\r",
        "  Downloading mrjob-0.4.2.tar.gz (175kB):  23%  40kB"
       ]
      },
      {
       "output_type": "stream",
       "stream": "stdout",
       "text": [
        "\r",
        "  Downloading mrjob-0.4.2.tar.gz (175kB):  25%  45kB\r",
        "  Downloading mrjob-0.4.2.tar.gz (175kB):  28%  49kB"
       ]
      },
      {
       "output_type": "stream",
       "stream": "stdout",
       "text": [
        "\r",
        "  Downloading mrjob-0.4.2.tar.gz (175kB):  30%  53kB\r",
        "  Downloading mrjob-0.4.2.tar.gz (175kB):  32%  57kB"
       ]
      },
      {
       "output_type": "stream",
       "stream": "stdout",
       "text": [
        "\r",
        "  Downloading mrjob-0.4.2.tar.gz (175kB):  35%  61kB\r",
        "  Downloading mrjob-0.4.2.tar.gz (175kB):  37%  65kB\r",
        "  Downloading mrjob-0.4.2.tar.gz (175kB):  39%  69kB"
       ]
      },
      {
       "output_type": "stream",
       "stream": "stdout",
       "text": [
        "\r",
        "  Downloading mrjob-0.4.2.tar.gz (175kB):  42%  73kB"
       ]
      },
      {
       "output_type": "stream",
       "stream": "stdout",
       "text": [
        "\r",
        "  Downloading mrjob-0.4.2.tar.gz (175kB):  44%  77kB\r",
        "  Downloading mrjob-0.4.2.tar.gz (175kB):  46%  81kB\r",
        "  Downloading mrjob-0.4.2.tar.gz (175kB):  49%  86kB\r",
        "  Downloading mrjob-0.4.2.tar.gz (175kB):  51%  90kB\r",
        "  Downloading mrjob-0.4.2.tar.gz (175kB):  53%  94kB\r",
        "  Downloading mrjob-0.4.2.tar.gz (175kB):  56%  98kB\r",
        "  Downloading mrjob-0.4.2.tar.gz (175kB):  58%  102kB\r",
        "  Downloading mrjob-0.4.2.tar.gz (175kB):  60%  106kB\r",
        "  Downloading mrjob-0.4.2.tar.gz (175kB):  63%  110kB"
       ]
      },
      {
       "output_type": "stream",
       "stream": "stdout",
       "text": [
        "\r",
        "  Downloading mrjob-0.4.2.tar.gz (175kB):  65%  114kB"
       ]
      },
      {
       "output_type": "stream",
       "stream": "stdout",
       "text": [
        "\r",
        "  Downloading mrjob-0.4.2.tar.gz (175kB):  67%  118kB"
       ]
      },
      {
       "output_type": "stream",
       "stream": "stdout",
       "text": [
        "\r",
        "  Downloading mrjob-0.4.2.tar.gz (175kB):  70%  122kB"
       ]
      },
      {
       "output_type": "stream",
       "stream": "stdout",
       "text": [
        "\r",
        "  Downloading mrjob-0.4.2.tar.gz (175kB):  72%  126kB\r",
        "  Downloading mrjob-0.4.2.tar.gz (175kB):  74%  131kB\r",
        "  Downloading mrjob-0.4.2.tar.gz (175kB):  77%  135kB\r",
        "  Downloading mrjob-0.4.2.tar.gz (175kB):  79%  139kB"
       ]
      },
      {
       "output_type": "stream",
       "stream": "stdout",
       "text": [
        "\r",
        "  Downloading mrjob-0.4.2.tar.gz (175kB):  81%  143kB\r",
        "  Downloading mrjob-0.4.2.tar.gz (175kB):  84%  147kB"
       ]
      },
      {
       "output_type": "stream",
       "stream": "stdout",
       "text": [
        "\r",
        "  Downloading mrjob-0.4.2.tar.gz (175kB):  86%  151kB\r",
        "  Downloading mrjob-0.4.2.tar.gz (175kB):  88%  155kB\r",
        "  Downloading mrjob-0.4.2.tar.gz (175kB):  91%  159kB\r",
        "  Downloading mrjob-0.4.2.tar.gz (175kB):  93%  163kB"
       ]
      },
      {
       "output_type": "stream",
       "stream": "stdout",
       "text": [
        "\r",
        "  Downloading mrjob-0.4.2.tar.gz (175kB):  95%  167kB\r",
        "  Downloading mrjob-0.4.2.tar.gz (175kB):  98%  172kB"
       ]
      },
      {
       "output_type": "stream",
       "stream": "stdout",
       "text": [
        "\r",
        "  Downloading mrjob-0.4.2.tar.gz (175kB): 100%  175kB\r",
        "  Downloading mrjob-0.4.2.tar.gz (175kB):            \r",
        "  Downloading mrjob-0.4.2.tar.gz (175kB): 175kB downloaded\r\n",
        "  Running setup.py egg_info for package mrjob\r\n"
       ]
      },
      {
       "output_type": "stream",
       "stream": "stdout",
       "text": [
        "    \r\n"
       ]
      },
      {
       "output_type": "stream",
       "stream": "stdout",
       "text": [
        "    no previously-included directories found matching 'docs'\r\n",
        "    warning: no files found matching '*.sh' under directory 'bootstrap'\r\n",
        "    warning: no files found matching '*.json' under directory 'examples'\r\n",
        "    warning: no files found matching '*.rst' under directory 'examples'\r\n",
        "    warning: no files found matching '*.sh' under directory 'examples'\r\n"
       ]
      },
      {
       "output_type": "stream",
       "stream": "stdout",
       "text": [
        "Downloading/unpacking boto>=2.2.0 (from mrjob)\r\n"
       ]
      },
      {
       "output_type": "stream",
       "stream": "stdout",
       "text": [
        "  Downloading boto-2.35.2.tar.gz (1.4MB): "
       ]
      },
      {
       "output_type": "stream",
       "stream": "stdout",
       "text": [
        "\r",
        "  Downloading boto-2.35.2.tar.gz (1.4MB):   0%  4.1kB\r",
        "  Downloading boto-2.35.2.tar.gz (1.4MB):   0%  8.2kB"
       ]
      },
      {
       "output_type": "stream",
       "stream": "stdout",
       "text": [
        "\r",
        "  Downloading boto-2.35.2.tar.gz (1.4MB):   0%  12kB \r",
        "  Downloading boto-2.35.2.tar.gz (1.4MB):   1%  16kB"
       ]
      },
      {
       "output_type": "stream",
       "stream": "stdout",
       "text": [
        "\r",
        "  Downloading boto-2.35.2.tar.gz (1.4MB):   1%  20kB\r",
        "  Downloading boto-2.35.2.tar.gz (1.4MB):   1%  24kB"
       ]
      },
      {
       "output_type": "stream",
       "stream": "stdout",
       "text": [
        "\r",
        "  Downloading boto-2.35.2.tar.gz (1.4MB):   2%  28kB\r",
        "  Downloading boto-2.35.2.tar.gz (1.4MB):   2%  32kB\r",
        "  Downloading boto-2.35.2.tar.gz (1.4MB):   2%  36kB\r",
        "  Downloading boto-2.35.2.tar.gz (1.4MB):   2%  40kB\r",
        "  Downloading boto-2.35.2.tar.gz (1.4MB):   3%  45kB\r",
        "  Downloading boto-2.35.2.tar.gz (1.4MB):   3%  49kB"
       ]
      },
      {
       "output_type": "stream",
       "stream": "stdout",
       "text": [
        "\r",
        "  Downloading boto-2.35.2.tar.gz (1.4MB):   3%  53kB\r",
        "  Downloading boto-2.35.2.tar.gz (1.4MB):   4%  57kB"
       ]
      },
      {
       "output_type": "stream",
       "stream": "stdout",
       "text": [
        "\r",
        "  Downloading boto-2.35.2.tar.gz (1.4MB):   4%  61kB\r",
        "  Downloading boto-2.35.2.tar.gz (1.4MB):   4%  65kB\r",
        "  Downloading boto-2.35.2.tar.gz (1.4MB):   5%  69kB\r",
        "  Downloading boto-2.35.2.tar.gz (1.4MB):   5%  73kB"
       ]
      },
      {
       "output_type": "stream",
       "stream": "stdout",
       "text": [
        "\r",
        "  Downloading boto-2.35.2.tar.gz (1.4MB):   5%  77kB\r",
        "  Downloading boto-2.35.2.tar.gz (1.4MB):   5%  81kB"
       ]
      },
      {
       "output_type": "stream",
       "stream": "stdout",
       "text": [
        "\r",
        "  Downloading boto-2.35.2.tar.gz (1.4MB):   6%  86kB\r",
        "  Downloading boto-2.35.2.tar.gz (1.4MB):   6%  90kB\r",
        "  Downloading boto-2.35.2.tar.gz (1.4MB):   6%  94kB\r",
        "  Downloading boto-2.35.2.tar.gz (1.4MB):   7%  98kB"
       ]
      },
      {
       "output_type": "stream",
       "stream": "stdout",
       "text": [
        "\r",
        "  Downloading boto-2.35.2.tar.gz (1.4MB):   7%  102kB\r",
        "  Downloading boto-2.35.2.tar.gz (1.4MB):   7%  106kB"
       ]
      },
      {
       "output_type": "stream",
       "stream": "stdout",
       "text": [
        "\r",
        "  Downloading boto-2.35.2.tar.gz (1.4MB):   8%  110kB\r",
        "  Downloading boto-2.35.2.tar.gz (1.4MB):   8%  114kB"
       ]
      },
      {
       "output_type": "stream",
       "stream": "stdout",
       "text": [
        "\r",
        "  Downloading boto-2.35.2.tar.gz (1.4MB):   8%  118kB"
       ]
      },
      {
       "output_type": "stream",
       "stream": "stdout",
       "text": [
        "\r",
        "  Downloading boto-2.35.2.tar.gz (1.4MB):   8%  122kB\r",
        "  Downloading boto-2.35.2.tar.gz (1.4MB):   9%  126kB"
       ]
      },
      {
       "output_type": "stream",
       "stream": "stdout",
       "text": [
        "\r",
        "  Downloading boto-2.35.2.tar.gz (1.4MB):   9%  131kB\r",
        "  Downloading boto-2.35.2.tar.gz (1.4MB):   9%  135kB"
       ]
      },
      {
       "output_type": "stream",
       "stream": "stdout",
       "text": [
        "\r",
        "  Downloading boto-2.35.2.tar.gz (1.4MB):  10%  139kB\r",
        "  Downloading boto-2.35.2.tar.gz (1.4MB):  10%  143kB\r",
        "  Downloading boto-2.35.2.tar.gz (1.4MB):  10%  147kB"
       ]
      },
      {
       "output_type": "stream",
       "stream": "stdout",
       "text": [
        "\r",
        "  Downloading boto-2.35.2.tar.gz (1.4MB):  11%  151kB\r",
        "  Downloading boto-2.35.2.tar.gz (1.4MB):  11%  155kB\r",
        "  Downloading boto-2.35.2.tar.gz (1.4MB):  11%  159kB\r",
        "  Downloading boto-2.35.2.tar.gz (1.4MB):  11%  163kB"
       ]
      },
      {
       "output_type": "stream",
       "stream": "stdout",
       "text": [
        "\r",
        "  Downloading boto-2.35.2.tar.gz (1.4MB):  12%  167kB\r",
        "  Downloading boto-2.35.2.tar.gz (1.4MB):  12%  172kB"
       ]
      },
      {
       "output_type": "stream",
       "stream": "stdout",
       "text": [
        "\r",
        "  Downloading boto-2.35.2.tar.gz (1.4MB):  12%  176kB\r",
        "  Downloading boto-2.35.2.tar.gz (1.4MB):  13%  180kB\r",
        "  Downloading boto-2.35.2.tar.gz (1.4MB):  13%  184kB\r",
        "  Downloading boto-2.35.2.tar.gz (1.4MB):  13%  188kB\r",
        "  Downloading boto-2.35.2.tar.gz (1.4MB):  14%  192kB\r",
        "  Downloading boto-2.35.2.tar.gz (1.4MB):  14%  196kB"
       ]
      },
      {
       "output_type": "stream",
       "stream": "stdout",
       "text": [
        "\r",
        "  Downloading boto-2.35.2.tar.gz (1.4MB):  14%  200kB\r",
        "  Downloading boto-2.35.2.tar.gz (1.4MB):  14%  204kB\r",
        "  Downloading boto-2.35.2.tar.gz (1.4MB):  15%  208kB\r",
        "  Downloading boto-2.35.2.tar.gz (1.4MB):  15%  212kB\r",
        "  Downloading boto-2.35.2.tar.gz (1.4MB):  15%  217kB\r",
        "  Downloading boto-2.35.2.tar.gz (1.4MB):  16%  221kB\r",
        "  Downloading boto-2.35.2.tar.gz (1.4MB):  16%  225kB\r",
        "  Downloading boto-2.35.2.tar.gz (1.4MB):  16%  229kB\r",
        "  Downloading boto-2.35.2.tar.gz (1.4MB):  17%  233kB\r",
        "  Downloading boto-2.35.2.tar.gz (1.4MB):  17%  237kB"
       ]
      },
      {
       "output_type": "stream",
       "stream": "stdout",
       "text": [
        "\r",
        "  Downloading boto-2.35.2.tar.gz (1.4MB):  17%  241kB\r",
        "  Downloading boto-2.35.2.tar.gz (1.4MB):  17%  245kB\r",
        "  Downloading boto-2.35.2.tar.gz (1.4MB):  18%  249kB\r",
        "  Downloading boto-2.35.2.tar.gz (1.4MB):  18%  253kB"
       ]
      },
      {
       "output_type": "stream",
       "stream": "stdout",
       "text": [
        "\r",
        "  Downloading boto-2.35.2.tar.gz (1.4MB):  18%  258kB\r",
        "  Downloading boto-2.35.2.tar.gz (1.4MB):  19%  262kB"
       ]
      },
      {
       "output_type": "stream",
       "stream": "stdout",
       "text": [
        "\r",
        "  Downloading boto-2.35.2.tar.gz (1.4MB):  19%  266kB\r",
        "  Downloading boto-2.35.2.tar.gz (1.4MB):  19%  270kB\r",
        "  Downloading boto-2.35.2.tar.gz (1.4MB):  20%  274kB\r",
        "  Downloading boto-2.35.2.tar.gz (1.4MB):  20%  278kB\r",
        "  Downloading boto-2.35.2.tar.gz (1.4MB):  20%  282kB\r",
        "  Downloading boto-2.35.2.tar.gz (1.4MB):  20%  286kB"
       ]
      },
      {
       "output_type": "stream",
       "stream": "stdout",
       "text": [
        "\r",
        "  Downloading boto-2.35.2.tar.gz (1.4MB):  21%  290kB\r",
        "  Downloading boto-2.35.2.tar.gz (1.4MB):  21%  294kB"
       ]
      },
      {
       "output_type": "stream",
       "stream": "stdout",
       "text": [
        "\r",
        "  Downloading boto-2.35.2.tar.gz (1.4MB):  21%  299kB\r",
        "  Downloading boto-2.35.2.tar.gz (1.4MB):  22%  303kB\r",
        "  Downloading boto-2.35.2.tar.gz (1.4MB):  22%  307kB\r",
        "  Downloading boto-2.35.2.tar.gz (1.4MB):  22%  311kB\r",
        "  Downloading boto-2.35.2.tar.gz (1.4MB):  23%  315kB\r",
        "  Downloading boto-2.35.2.tar.gz (1.4MB):  23%  319kB"
       ]
      },
      {
       "output_type": "stream",
       "stream": "stdout",
       "text": [
        "\r",
        "  Downloading boto-2.35.2.tar.gz (1.4MB):  23%  323kB\r",
        "  Downloading boto-2.35.2.tar.gz (1.4MB):  23%  327kB"
       ]
      },
      {
       "output_type": "stream",
       "stream": "stdout",
       "text": [
        "\r",
        "  Downloading boto-2.35.2.tar.gz (1.4MB):  24%  331kB\r",
        "  Downloading boto-2.35.2.tar.gz (1.4MB):  24%  335kB\r",
        "  Downloading boto-2.35.2.tar.gz (1.4MB):  24%  339kB"
       ]
      },
      {
       "output_type": "stream",
       "stream": "stdout",
       "text": [
        "\r",
        "  Downloading boto-2.35.2.tar.gz (1.4MB):  25%  344kB\r",
        "  Downloading boto-2.35.2.tar.gz (1.4MB):  25%  348kB\r",
        "  Downloading boto-2.35.2.tar.gz (1.4MB):  25%  352kB"
       ]
      },
      {
       "output_type": "stream",
       "stream": "stdout",
       "text": [
        "\r",
        "  Downloading boto-2.35.2.tar.gz (1.4MB):  26%  356kB\r",
        "  Downloading boto-2.35.2.tar.gz (1.4MB):  26%  360kB"
       ]
      },
      {
       "output_type": "stream",
       "stream": "stdout",
       "text": [
        "\r",
        "  Downloading boto-2.35.2.tar.gz (1.4MB):  26%  364kB\r",
        "  Downloading boto-2.35.2.tar.gz (1.4MB):  26%  368kB\r",
        "  Downloading boto-2.35.2.tar.gz (1.4MB):  27%  372kB\r",
        "  Downloading boto-2.35.2.tar.gz (1.4MB):  27%  376kB\r",
        "  Downloading boto-2.35.2.tar.gz (1.4MB):  27%  380kB"
       ]
      },
      {
       "output_type": "stream",
       "stream": "stdout",
       "text": [
        "\r",
        "  Downloading boto-2.35.2.tar.gz (1.4MB):  28%  385kB"
       ]
      },
      {
       "output_type": "stream",
       "stream": "stdout",
       "text": [
        "\r",
        "  Downloading boto-2.35.2.tar.gz (1.4MB):  28%  389kB\r",
        "  Downloading boto-2.35.2.tar.gz (1.4MB):  28%  393kB\r",
        "  Downloading boto-2.35.2.tar.gz (1.4MB):  29%  397kB\r",
        "  Downloading boto-2.35.2.tar.gz (1.4MB):  29%  401kB"
       ]
      },
      {
       "output_type": "stream",
       "stream": "stdout",
       "text": [
        "\r",
        "  Downloading boto-2.35.2.tar.gz (1.4MB):  29%  405kB\r",
        "  Downloading boto-2.35.2.tar.gz (1.4MB):  29%  409kB\r",
        "  Downloading boto-2.35.2.tar.gz (1.4MB):  30%  413kB\r",
        "  Downloading boto-2.35.2.tar.gz (1.4MB):  30%  417kB"
       ]
      },
      {
       "output_type": "stream",
       "stream": "stdout",
       "text": [
        "\r",
        "  Downloading boto-2.35.2.tar.gz (1.4MB):  30%  421kB"
       ]
      },
      {
       "output_type": "stream",
       "stream": "stdout",
       "text": [
        "\r",
        "  Downloading boto-2.35.2.tar.gz (1.4MB):  31%  425kB\r",
        "  Downloading boto-2.35.2.tar.gz (1.4MB):  31%  430kB\r",
        "  Downloading boto-2.35.2.tar.gz (1.4MB):  31%  434kB\r",
        "  Downloading boto-2.35.2.tar.gz (1.4MB):  32%  438kB"
       ]
      },
      {
       "output_type": "stream",
       "stream": "stdout",
       "text": [
        "\r",
        "  Downloading boto-2.35.2.tar.gz (1.4MB):  32%  442kB\r",
        "  Downloading boto-2.35.2.tar.gz (1.4MB):  32%  446kB\r",
        "  Downloading boto-2.35.2.tar.gz (1.4MB):  32%  450kB"
       ]
      },
      {
       "output_type": "stream",
       "stream": "stdout",
       "text": [
        "\r",
        "  Downloading boto-2.35.2.tar.gz (1.4MB):  33%  454kB\r",
        "  Downloading boto-2.35.2.tar.gz (1.4MB):  33%  458kB"
       ]
      },
      {
       "output_type": "stream",
       "stream": "stdout",
       "text": [
        "\r",
        "  Downloading boto-2.35.2.tar.gz (1.4MB):  33%  462kB\r",
        "  Downloading boto-2.35.2.tar.gz (1.4MB):  34%  466kB\r",
        "  Downloading boto-2.35.2.tar.gz (1.4MB):  34%  471kB\r",
        "  Downloading boto-2.35.2.tar.gz (1.4MB):  34%  475kB"
       ]
      },
      {
       "output_type": "stream",
       "stream": "stdout",
       "text": [
        "\r",
        "  Downloading boto-2.35.2.tar.gz (1.4MB):  35%  479kB\r",
        "  Downloading boto-2.35.2.tar.gz (1.4MB):  35%  483kB\r",
        "  Downloading boto-2.35.2.tar.gz (1.4MB):  35%  487kB\r",
        "  Downloading boto-2.35.2.tar.gz (1.4MB):  35%  491kB"
       ]
      },
      {
       "output_type": "stream",
       "stream": "stdout",
       "text": [
        "\r",
        "  Downloading boto-2.35.2.tar.gz (1.4MB):  36%  495kB\r",
        "  Downloading boto-2.35.2.tar.gz (1.4MB):  36%  499kB"
       ]
      },
      {
       "output_type": "stream",
       "stream": "stdout",
       "text": [
        "\r",
        "  Downloading boto-2.35.2.tar.gz (1.4MB):  36%  503kB\r",
        "  Downloading boto-2.35.2.tar.gz (1.4MB):  37%  507kB"
       ]
      },
      {
       "output_type": "stream",
       "stream": "stdout",
       "text": [
        "\r",
        "  Downloading boto-2.35.2.tar.gz (1.4MB):  37%  512kB\r",
        "  Downloading boto-2.35.2.tar.gz (1.4MB):  37%  516kB\r",
        "  Downloading boto-2.35.2.tar.gz (1.4MB):  38%  520kB\r",
        "  Downloading boto-2.35.2.tar.gz (1.4MB):  38%  524kB\r",
        "  Downloading boto-2.35.2.tar.gz (1.4MB):  38%  528kB"
       ]
      },
      {
       "output_type": "stream",
       "stream": "stdout",
       "text": [
        "\r",
        "  Downloading boto-2.35.2.tar.gz (1.4MB):  38%  532kB\r",
        "  Downloading boto-2.35.2.tar.gz (1.4MB):  39%  536kB\r",
        "  Downloading boto-2.35.2.tar.gz (1.4MB):  39%  540kB\r",
        "  Downloading boto-2.35.2.tar.gz (1.4MB):  39%  544kB\r",
        "  Downloading boto-2.35.2.tar.gz (1.4MB):  40%  548kB"
       ]
      },
      {
       "output_type": "stream",
       "stream": "stdout",
       "text": [
        "\r",
        "  Downloading boto-2.35.2.tar.gz (1.4MB):  40%  552kB\r",
        "  Downloading boto-2.35.2.tar.gz (1.4MB):  40%  557kB\r",
        "  Downloading boto-2.35.2.tar.gz (1.4MB):  40%  561kB\r",
        "  Downloading boto-2.35.2.tar.gz (1.4MB):  41%  565kB\r",
        "  Downloading boto-2.35.2.tar.gz (1.4MB):  41%  569kB\r",
        "  Downloading boto-2.35.2.tar.gz (1.4MB):  41%  573kB"
       ]
      },
      {
       "output_type": "stream",
       "stream": "stdout",
       "text": [
        "\r",
        "  Downloading boto-2.35.2.tar.gz (1.4MB):  42%  577kB\r",
        "  Downloading boto-2.35.2.tar.gz (1.4MB):  42%  581kB\r",
        "  Downloading boto-2.35.2.tar.gz (1.4MB):  42%  585kB\r",
        "  Downloading boto-2.35.2.tar.gz (1.4MB):  43%  589kB"
       ]
      },
      {
       "output_type": "stream",
       "stream": "stdout",
       "text": [
        "\r",
        "  Downloading boto-2.35.2.tar.gz (1.4MB):  43%  593kB\r",
        "  Downloading boto-2.35.2.tar.gz (1.4MB):  43%  598kB\r",
        "  Downloading boto-2.35.2.tar.gz (1.4MB):  43%  602kB\r",
        "  Downloading boto-2.35.2.tar.gz (1.4MB):  44%  606kB"
       ]
      },
      {
       "output_type": "stream",
       "stream": "stdout",
       "text": [
        "\r",
        "  Downloading boto-2.35.2.tar.gz (1.4MB):  44%  610kB\r",
        "  Downloading boto-2.35.2.tar.gz (1.4MB):  44%  614kB\r",
        "  Downloading boto-2.35.2.tar.gz (1.4MB):  45%  618kB\r",
        "  Downloading boto-2.35.2.tar.gz (1.4MB):  45%  622kB"
       ]
      },
      {
       "output_type": "stream",
       "stream": "stdout",
       "text": [
        "\r",
        "  Downloading boto-2.35.2.tar.gz (1.4MB):  45%  626kB\r",
        "  Downloading boto-2.35.2.tar.gz (1.4MB):  46%  630kB"
       ]
      },
      {
       "output_type": "stream",
       "stream": "stdout",
       "text": [
        "\r",
        "  Downloading boto-2.35.2.tar.gz (1.4MB):  46%  634kB\r",
        "  Downloading boto-2.35.2.tar.gz (1.4MB):  46%  638kB\r",
        "  Downloading boto-2.35.2.tar.gz (1.4MB):  46%  643kB\r",
        "  Downloading boto-2.35.2.tar.gz (1.4MB):  47%  647kB"
       ]
      },
      {
       "output_type": "stream",
       "stream": "stdout",
       "text": [
        "\r",
        "  Downloading boto-2.35.2.tar.gz (1.4MB):  47%  651kB\r",
        "  Downloading boto-2.35.2.tar.gz (1.4MB):  47%  655kB\r",
        "  Downloading boto-2.35.2.tar.gz (1.4MB):  48%  659kB\r",
        "  Downloading boto-2.35.2.tar.gz (1.4MB):  48%  663kB\r",
        "  Downloading boto-2.35.2.tar.gz (1.4MB):  48%  667kB\r",
        "  Downloading boto-2.35.2.tar.gz (1.4MB):  49%  671kB"
       ]
      },
      {
       "output_type": "stream",
       "stream": "stdout",
       "text": [
        "\r",
        "  Downloading boto-2.35.2.tar.gz (1.4MB):  49%  675kB\r",
        "  Downloading boto-2.35.2.tar.gz (1.4MB):  49%  679kB\r",
        "  Downloading boto-2.35.2.tar.gz (1.4MB):  49%  684kB\r",
        "  Downloading boto-2.35.2.tar.gz (1.4MB):  50%  688kB\r",
        "  Downloading boto-2.35.2.tar.gz (1.4MB):  50%  692kB\r",
        "  Downloading boto-2.35.2.tar.gz (1.4MB):  50%  696kB\r",
        "  Downloading boto-2.35.2.tar.gz (1.4MB):  51%  700kB\r",
        "  Downloading boto-2.35.2.tar.gz (1.4MB):  51%  704kB\r",
        "  Downloading boto-2.35.2.tar.gz (1.4MB):  51%  708kB\r",
        "  Downloading boto-2.35.2.tar.gz (1.4MB):  52%  712kB"
       ]
      },
      {
       "output_type": "stream",
       "stream": "stdout",
       "text": [
        "\r",
        "  Downloading boto-2.35.2.tar.gz (1.4MB):  52%  716kB\r",
        "  Downloading boto-2.35.2.tar.gz (1.4MB):  52%  720kB"
       ]
      },
      {
       "output_type": "stream",
       "stream": "stdout",
       "text": [
        "\r",
        "  Downloading boto-2.35.2.tar.gz (1.4MB):  52%  724kB"
       ]
      },
      {
       "output_type": "stream",
       "stream": "stdout",
       "text": [
        "\r",
        "  Downloading boto-2.35.2.tar.gz (1.4MB):  53%  729kB\r",
        "  Downloading boto-2.35.2.tar.gz (1.4MB):  53%  733kB\r",
        "  Downloading boto-2.35.2.tar.gz (1.4MB):  53%  737kB"
       ]
      },
      {
       "output_type": "stream",
       "stream": "stdout",
       "text": [
        "\r",
        "  Downloading boto-2.35.2.tar.gz (1.4MB):  54%  741kB\r",
        "  Downloading boto-2.35.2.tar.gz (1.4MB):  54%  745kB"
       ]
      },
      {
       "output_type": "stream",
       "stream": "stdout",
       "text": [
        "\r",
        "  Downloading boto-2.35.2.tar.gz (1.4MB):  54%  749kB\r",
        "  Downloading boto-2.35.2.tar.gz (1.4MB):  55%  753kB\r",
        "  Downloading boto-2.35.2.tar.gz (1.4MB):  55%  757kB\r",
        "  Downloading boto-2.35.2.tar.gz (1.4MB):  55%  761kB"
       ]
      },
      {
       "output_type": "stream",
       "stream": "stdout",
       "text": [
        "\r",
        "  Downloading boto-2.35.2.tar.gz (1.4MB):  55%  765kB\r",
        "  Downloading boto-2.35.2.tar.gz (1.4MB):  56%  770kB"
       ]
      },
      {
       "output_type": "stream",
       "stream": "stdout",
       "text": [
        "\r",
        "  Downloading boto-2.35.2.tar.gz (1.4MB):  56%  774kB\r",
        "  Downloading boto-2.35.2.tar.gz (1.4MB):  56%  778kB"
       ]
      },
      {
       "output_type": "stream",
       "stream": "stdout",
       "text": [
        "\r",
        "  Downloading boto-2.35.2.tar.gz (1.4MB):  57%  782kB\r",
        "  Downloading boto-2.35.2.tar.gz (1.4MB):  57%  786kB\r",
        "  Downloading boto-2.35.2.tar.gz (1.4MB):  57%  790kB"
       ]
      },
      {
       "output_type": "stream",
       "stream": "stdout",
       "text": [
        "\r",
        "  Downloading boto-2.35.2.tar.gz (1.4MB):  58%  794kB\r",
        "  Downloading boto-2.35.2.tar.gz (1.4MB):  58%  798kB\r",
        "  Downloading boto-2.35.2.tar.gz (1.4MB):  58%  802kB"
       ]
      },
      {
       "output_type": "stream",
       "stream": "stdout",
       "text": [
        "\r",
        "  Downloading boto-2.35.2.tar.gz (1.4MB):  58%  806kB"
       ]
      },
      {
       "output_type": "stream",
       "stream": "stdout",
       "text": [
        "\r",
        "  Downloading boto-2.35.2.tar.gz (1.4MB):  59%  811kB"
       ]
      },
      {
       "output_type": "stream",
       "stream": "stdout",
       "text": [
        "\r",
        "  Downloading boto-2.35.2.tar.gz (1.4MB):  59%  815kB\r",
        "  Downloading boto-2.35.2.tar.gz (1.4MB):  59%  819kB\r",
        "  Downloading boto-2.35.2.tar.gz (1.4MB):  60%  823kB\r",
        "  Downloading boto-2.35.2.tar.gz (1.4MB):  60%  827kB\r",
        "  Downloading boto-2.35.2.tar.gz (1.4MB):  60%  831kB\r",
        "  Downloading boto-2.35.2.tar.gz (1.4MB):  61%  835kB\r",
        "  Downloading boto-2.35.2.tar.gz (1.4MB):  61%  839kB\r",
        "  Downloading boto-2.35.2.tar.gz (1.4MB):  61%  843kB\r",
        "  Downloading boto-2.35.2.tar.gz (1.4MB):  61%  847kB\r",
        "  Downloading boto-2.35.2.tar.gz (1.4MB):  62%  851kB"
       ]
      },
      {
       "output_type": "stream",
       "stream": "stdout",
       "text": [
        "\r",
        "  Downloading boto-2.35.2.tar.gz (1.4MB):  62%  856kB\r",
        "  Downloading boto-2.35.2.tar.gz (1.4MB):  62%  860kB\r",
        "  Downloading boto-2.35.2.tar.gz (1.4MB):  63%  864kB\r",
        "  Downloading boto-2.35.2.tar.gz (1.4MB):  63%  868kB"
       ]
      },
      {
       "output_type": "stream",
       "stream": "stdout",
       "text": [
        "\r",
        "  Downloading boto-2.35.2.tar.gz (1.4MB):  63%  872kB\r",
        "  Downloading boto-2.35.2.tar.gz (1.4MB):  64%  876kB\r",
        "  Downloading boto-2.35.2.tar.gz (1.4MB):  64%  880kB\r",
        "  Downloading boto-2.35.2.tar.gz (1.4MB):  64%  884kB"
       ]
      },
      {
       "output_type": "stream",
       "stream": "stdout",
       "text": [
        "\r",
        "  Downloading boto-2.35.2.tar.gz (1.4MB):  64%  888kB\r",
        "  Downloading boto-2.35.2.tar.gz (1.4MB):  65%  892kB"
       ]
      },
      {
       "output_type": "stream",
       "stream": "stdout",
       "text": [
        "\r",
        "  Downloading boto-2.35.2.tar.gz (1.4MB):  65%  897kB\r",
        "  Downloading boto-2.35.2.tar.gz (1.4MB):  65%  901kB\r",
        "  Downloading boto-2.35.2.tar.gz (1.4MB):  66%  905kB\r",
        "  Downloading boto-2.35.2.tar.gz (1.4MB):  66%  909kB\r",
        "  Downloading boto-2.35.2.tar.gz (1.4MB):  66%  913kB\r",
        "  Downloading boto-2.35.2.tar.gz (1.4MB):  67%  917kB"
       ]
      },
      {
       "output_type": "stream",
       "stream": "stdout",
       "text": [
        "\r",
        "  Downloading boto-2.35.2.tar.gz (1.4MB):  67%  921kB\r",
        "  Downloading boto-2.35.2.tar.gz (1.4MB):  67%  925kB"
       ]
      },
      {
       "output_type": "stream",
       "stream": "stdout",
       "text": [
        "\r",
        "  Downloading boto-2.35.2.tar.gz (1.4MB):  67%  929kB\r",
        "  Downloading boto-2.35.2.tar.gz (1.4MB):  68%  933kB\r",
        "  Downloading boto-2.35.2.tar.gz (1.4MB):  68%  937kB"
       ]
      },
      {
       "output_type": "stream",
       "stream": "stdout",
       "text": [
        "\r",
        "  Downloading boto-2.35.2.tar.gz (1.4MB):  68%  942kB\r",
        "  Downloading boto-2.35.2.tar.gz (1.4MB):  69%  946kB\r",
        "  Downloading boto-2.35.2.tar.gz (1.4MB):  69%  950kB\r",
        "  Downloading boto-2.35.2.tar.gz (1.4MB):  69%  954kB\r",
        "  Downloading boto-2.35.2.tar.gz (1.4MB):  70%  958kB"
       ]
      },
      {
       "output_type": "stream",
       "stream": "stdout",
       "text": [
        "\r",
        "  Downloading boto-2.35.2.tar.gz (1.4MB):  70%  962kB\r",
        "  Downloading boto-2.35.2.tar.gz (1.4MB):  70%  966kB\r",
        "  Downloading boto-2.35.2.tar.gz (1.4MB):  70%  970kB\r",
        "  Downloading boto-2.35.2.tar.gz (1.4MB):  71%  974kB"
       ]
      },
      {
       "output_type": "stream",
       "stream": "stdout",
       "text": [
        "\r",
        "  Downloading boto-2.35.2.tar.gz (1.4MB):  71%  978kB\r",
        "  Downloading boto-2.35.2.tar.gz (1.4MB):  71%  983kB\r",
        "  Downloading boto-2.35.2.tar.gz (1.4MB):  72%  987kB\r",
        "  Downloading boto-2.35.2.tar.gz (1.4MB):  72%  991kB"
       ]
      },
      {
       "output_type": "stream",
       "stream": "stdout",
       "text": [
        "\r",
        "  Downloading boto-2.35.2.tar.gz (1.4MB):  72%  995kB\r",
        "  Downloading boto-2.35.2.tar.gz (1.4MB):  73%  999kB\r",
        "  Downloading boto-2.35.2.tar.gz (1.4MB):  73%  1.0MB"
       ]
      },
      {
       "output_type": "stream",
       "stream": "stdout",
       "text": [
        "\r",
        "  Downloading boto-2.35.2.tar.gz (1.4MB):  73%  1.0MB\r",
        "  Downloading boto-2.35.2.tar.gz (1.4MB):  73%  1.0MB\r",
        "  Downloading boto-2.35.2.tar.gz (1.4MB):  74%  1.0MB\r",
        "  Downloading boto-2.35.2.tar.gz (1.4MB):  74%  1.0MB\r",
        "  Downloading boto-2.35.2.tar.gz (1.4MB):  74%  1.0MB"
       ]
      },
      {
       "output_type": "stream",
       "stream": "stdout",
       "text": [
        "\r",
        "  Downloading boto-2.35.2.tar.gz (1.4MB):  75%  1.0MB\r",
        "  Downloading boto-2.35.2.tar.gz (1.4MB):  75%  1.0MB\r",
        "  Downloading boto-2.35.2.tar.gz (1.4MB):  75%  1.0MB\r",
        "  Downloading boto-2.35.2.tar.gz (1.4MB):  76%  1.0MB\r",
        "  Downloading boto-2.35.2.tar.gz (1.4MB):  76%  1.0MB"
       ]
      },
      {
       "output_type": "stream",
       "stream": "stdout",
       "text": [
        "\r",
        "  Downloading boto-2.35.2.tar.gz (1.4MB):  76%  1.0MB\r",
        "  Downloading boto-2.35.2.tar.gz (1.4MB):  76%  1.1MB\r",
        "  Downloading boto-2.35.2.tar.gz (1.4MB):  77%  1.1MB"
       ]
      },
      {
       "output_type": "stream",
       "stream": "stdout",
       "text": [
        "\r",
        "  Downloading boto-2.35.2.tar.gz (1.4MB):  77%  1.1MB\r",
        "  Downloading boto-2.35.2.tar.gz (1.4MB):  77%  1.1MB\r",
        "  Downloading boto-2.35.2.tar.gz (1.4MB):  78%  1.1MB\r",
        "  Downloading boto-2.35.2.tar.gz (1.4MB):  78%  1.1MB"
       ]
      },
      {
       "output_type": "stream",
       "stream": "stdout",
       "text": [
        "\r",
        "  Downloading boto-2.35.2.tar.gz (1.4MB):  78%  1.1MB\r",
        "  Downloading boto-2.35.2.tar.gz (1.4MB):  78%  1.1MB\r",
        "  Downloading boto-2.35.2.tar.gz (1.4MB):  79%  1.1MB\r",
        "  Downloading boto-2.35.2.tar.gz (1.4MB):  79%  1.1MB"
       ]
      },
      {
       "output_type": "stream",
       "stream": "stdout",
       "text": [
        "\r",
        "  Downloading boto-2.35.2.tar.gz (1.4MB):  79%  1.1MB\r",
        "  Downloading boto-2.35.2.tar.gz (1.4MB):  80%  1.1MB\r",
        "  Downloading boto-2.35.2.tar.gz (1.4MB):  80%  1.1MB\r",
        "  Downloading boto-2.35.2.tar.gz (1.4MB):  80%  1.1MB"
       ]
      },
      {
       "output_type": "stream",
       "stream": "stdout",
       "text": [
        "\r",
        "  Downloading boto-2.35.2.tar.gz (1.4MB):  81%  1.1MB\r",
        "  Downloading boto-2.35.2.tar.gz (1.4MB):  81%  1.1MB\r",
        "  Downloading boto-2.35.2.tar.gz (1.4MB):  81%  1.1MB\r",
        "  Downloading boto-2.35.2.tar.gz (1.4MB):  81%  1.1MB\r",
        "  Downloading boto-2.35.2.tar.gz (1.4MB):  82%  1.1MB"
       ]
      },
      {
       "output_type": "stream",
       "stream": "stdout",
       "text": [
        "\r",
        "  Downloading boto-2.35.2.tar.gz (1.4MB):  82%  1.1MB\r",
        "  Downloading boto-2.35.2.tar.gz (1.4MB):  82%  1.1MB\r",
        "  Downloading boto-2.35.2.tar.gz (1.4MB):  83%  1.1MB\r",
        "  Downloading boto-2.35.2.tar.gz (1.4MB):  83%  1.1MB"
       ]
      },
      {
       "output_type": "stream",
       "stream": "stdout",
       "text": [
        "\r",
        "  Downloading boto-2.35.2.tar.gz (1.4MB):  83%  1.1MB\r",
        "  Downloading boto-2.35.2.tar.gz (1.4MB):  84%  1.2MB\r",
        "  Downloading boto-2.35.2.tar.gz (1.4MB):  84%  1.2MB"
       ]
      },
      {
       "output_type": "stream",
       "stream": "stdout",
       "text": [
        "\r",
        "  Downloading boto-2.35.2.tar.gz (1.4MB):  84%  1.2MB\r",
        "  Downloading boto-2.35.2.tar.gz (1.4MB):  84%  1.2MB\r",
        "  Downloading boto-2.35.2.tar.gz (1.4MB):  85%  1.2MB\r",
        "  Downloading boto-2.35.2.tar.gz (1.4MB):  85%  1.2MB\r",
        "  Downloading boto-2.35.2.tar.gz (1.4MB):  85%  1.2MB\r",
        "  Downloading boto-2.35.2.tar.gz (1.4MB):  86%  1.2MB"
       ]
      },
      {
       "output_type": "stream",
       "stream": "stdout",
       "text": [
        "\r",
        "  Downloading boto-2.35.2.tar.gz (1.4MB):  86%  1.2MB\r",
        "  Downloading boto-2.35.2.tar.gz (1.4MB):  86%  1.2MB"
       ]
      },
      {
       "output_type": "stream",
       "stream": "stdout",
       "text": [
        "\r",
        "  Downloading boto-2.35.2.tar.gz (1.4MB):  87%  1.2MB\r",
        "  Downloading boto-2.35.2.tar.gz (1.4MB):  87%  1.2MB\r",
        "  Downloading boto-2.35.2.tar.gz (1.4MB):  87%  1.2MB\r",
        "  Downloading boto-2.35.2.tar.gz (1.4MB):  87%  1.2MB\r",
        "  Downloading boto-2.35.2.tar.gz (1.4MB):  88%  1.2MB"
       ]
      },
      {
       "output_type": "stream",
       "stream": "stdout",
       "text": [
        "\r",
        "  Downloading boto-2.35.2.tar.gz (1.4MB):  88%  1.2MB\r",
        "  Downloading boto-2.35.2.tar.gz (1.4MB):  88%  1.2MB\r",
        "  Downloading boto-2.35.2.tar.gz (1.4MB):  89%  1.2MB"
       ]
      },
      {
       "output_type": "stream",
       "stream": "stdout",
       "text": [
        "\r",
        "  Downloading boto-2.35.2.tar.gz (1.4MB):  89%  1.2MB\r",
        "  Downloading boto-2.35.2.tar.gz (1.4MB):  89%  1.2MB\r",
        "  Downloading boto-2.35.2.tar.gz (1.4MB):  90%  1.2MB\r",
        "  Downloading boto-2.35.2.tar.gz (1.4MB):  90%  1.2MB"
       ]
      },
      {
       "output_type": "stream",
       "stream": "stdout",
       "text": [
        "\r",
        "  Downloading boto-2.35.2.tar.gz (1.4MB):  90%  1.2MB\r",
        "  Downloading boto-2.35.2.tar.gz (1.4MB):  90%  1.2MB\r",
        "  Downloading boto-2.35.2.tar.gz (1.4MB):  91%  1.2MB\r",
        "  Downloading boto-2.35.2.tar.gz (1.4MB):  91%  1.3MB\r",
        "  Downloading boto-2.35.2.tar.gz (1.4MB):  91%  1.3MB\r",
        "  Downloading boto-2.35.2.tar.gz (1.4MB):  92%  1.3MB"
       ]
      },
      {
       "output_type": "stream",
       "stream": "stdout",
       "text": [
        "\r",
        "  Downloading boto-2.35.2.tar.gz (1.4MB):  92%  1.3MB\r",
        "  Downloading boto-2.35.2.tar.gz (1.4MB):  92%  1.3MB"
       ]
      },
      {
       "output_type": "stream",
       "stream": "stdout",
       "text": [
        "\r",
        "  Downloading boto-2.35.2.tar.gz (1.4MB):  93%  1.3MB\r",
        "  Downloading boto-2.35.2.tar.gz (1.4MB):  93%  1.3MB\r",
        "  Downloading boto-2.35.2.tar.gz (1.4MB):  93%  1.3MB\r",
        "  Downloading boto-2.35.2.tar.gz (1.4MB):  93%  1.3MB"
       ]
      },
      {
       "output_type": "stream",
       "stream": "stdout",
       "text": [
        "\r",
        "  Downloading boto-2.35.2.tar.gz (1.4MB):  94%  1.3MB\r",
        "  Downloading boto-2.35.2.tar.gz (1.4MB):  94%  1.3MB\r",
        "  Downloading boto-2.35.2.tar.gz (1.4MB):  94%  1.3MB\r",
        "  Downloading boto-2.35.2.tar.gz (1.4MB):  95%  1.3MB"
       ]
      },
      {
       "output_type": "stream",
       "stream": "stdout",
       "text": [
        "\r",
        "  Downloading boto-2.35.2.tar.gz (1.4MB):  95%  1.3MB\r",
        "  Downloading boto-2.35.2.tar.gz (1.4MB):  95%  1.3MB\r",
        "  Downloading boto-2.35.2.tar.gz (1.4MB):  96%  1.3MB\r",
        "  Downloading boto-2.35.2.tar.gz (1.4MB):  96%  1.3MB"
       ]
      },
      {
       "output_type": "stream",
       "stream": "stdout",
       "text": [
        "\r",
        "  Downloading boto-2.35.2.tar.gz (1.4MB):  96%  1.3MB\r",
        "  Downloading boto-2.35.2.tar.gz (1.4MB):  96%  1.3MB\r",
        "  Downloading boto-2.35.2.tar.gz (1.4MB):  97%  1.3MB\r",
        "  Downloading boto-2.35.2.tar.gz (1.4MB):  97%  1.3MB\r",
        "  Downloading boto-2.35.2.tar.gz (1.4MB):  97%  1.3MB\r",
        "  Downloading boto-2.35.2.tar.gz (1.4MB):  98%  1.3MB"
       ]
      },
      {
       "output_type": "stream",
       "stream": "stdout",
       "text": [
        "\r",
        "  Downloading boto-2.35.2.tar.gz (1.4MB):  98%  1.3MB\r",
        "  Downloading boto-2.35.2.tar.gz (1.4MB):  98%  1.4MB"
       ]
      },
      {
       "output_type": "stream",
       "stream": "stdout",
       "text": [
        "\r",
        "  Downloading boto-2.35.2.tar.gz (1.4MB):  99%  1.4MB\r",
        "  Downloading boto-2.35.2.tar.gz (1.4MB):  99%  1.4MB\r",
        "  Downloading boto-2.35.2.tar.gz (1.4MB):  99%  1.4MB\r",
        "  Downloading boto-2.35.2.tar.gz (1.4MB):  99%  1.4MB\r",
        "  Downloading boto-2.35.2.tar.gz (1.4MB): 100%  1.4MB"
       ]
      },
      {
       "output_type": "stream",
       "stream": "stdout",
       "text": [
        "\r",
        "  Downloading boto-2.35.2.tar.gz (1.4MB):            \r",
        "  Downloading boto-2.35.2.tar.gz (1.4MB): 1.4MB downloaded\r\n"
       ]
      },
      {
       "output_type": "stream",
       "stream": "stdout",
       "text": [
        "  Running setup.py egg_info for package boto\r\n"
       ]
      },
      {
       "output_type": "stream",
       "stream": "stdout",
       "text": [
        "    \r\n",
        "    warning: no files found matching 'boto/mturk/test/*.doctest'\r\n",
        "    warning: no files found matching 'boto/mturk/test/.gitignore'\r\n"
       ]
      },
      {
       "output_type": "stream",
       "stream": "stdout",
       "text": [
        "Requirement already satisfied (use --upgrade to upgrade): PyYAML in /Users/admin/Library/Enthought/Canopy_64bit/User/lib/python2.7/site-packages (from mrjob)\r\n"
       ]
      },
      {
       "output_type": "stream",
       "stream": "stdout",
       "text": [
        "Requirement already satisfied (use --upgrade to upgrade): simplejson>=2.0.9 in /Users/admin/Library/Enthought/Canopy_64bit/User/lib/python2.7/site-packages (from mrjob)\r\n",
        "Installing collected packages: mrjob, boto\r\n",
        "  Running setup.py install for mrjob\r\n"
       ]
      },
      {
       "output_type": "stream",
       "stream": "stdout",
       "text": [
        "    changing mode of build/scripts-2.7/mrjob from 644 to 755\r\n"
       ]
      },
      {
       "output_type": "stream",
       "stream": "stdout",
       "text": [
        "    \r\n"
       ]
      },
      {
       "output_type": "stream",
       "stream": "stdout",
       "text": [
        "    no previously-included directories found matching 'docs'\r\n",
        "    warning: no files found matching '*.sh' under directory 'bootstrap'\r\n",
        "    warning: no files found matching '*.json' under directory 'examples'\r\n",
        "    warning: no files found matching '*.rst' under directory 'examples'\r\n",
        "    warning: no files found matching '*.sh' under directory 'examples'\r\n",
        "    changing mode of /Users/admin/Library/Enthought/Canopy_64bit/User/bin/mrjob to 755\r\n"
       ]
      },
      {
       "output_type": "stream",
       "stream": "stdout",
       "text": [
        "  Running setup.py install for boto\r\n"
       ]
      },
      {
       "output_type": "stream",
       "stream": "stdout",
       "text": [
        "    \r\n"
       ]
      },
      {
       "output_type": "stream",
       "stream": "stdout",
       "text": [
        "    warning: no files found matching 'boto/mturk/test/*.doctest'\r\n",
        "    warning: no files found matching 'boto/mturk/test/.gitignore'\r\n"
       ]
      },
      {
       "output_type": "stream",
       "stream": "stdout",
       "text": [
        "    changing mode of build/scripts-2.7/sdbadmin from 644 to 755\r\n",
        "    changing mode of build/scripts-2.7/elbadmin from 644 to 755\r\n",
        "    changing mode of build/scripts-2.7/cfadmin from 644 to 755\r\n",
        "    changing mode of build/scripts-2.7/s3put from 644 to 755\r\n",
        "    changing mode of build/scripts-2.7/fetch_file from 644 to 755\r\n",
        "    changing mode of build/scripts-2.7/launch_instance from 644 to 755\r\n",
        "    changing mode of build/scripts-2.7/list_instances from 644 to 755\r\n",
        "    changing mode of build/scripts-2.7/taskadmin from 644 to 755\r\n",
        "    changing mode of build/scripts-2.7/kill_instance from 644 to 755\r\n",
        "    changing mode of build/scripts-2.7/bundle_image from 644 to 755\r\n",
        "    changing mode of build/scripts-2.7/pyami_sendmail from 644 to 755\r\n",
        "    changing mode of build/scripts-2.7/lss3 from 644 to 755\r\n",
        "    changing mode of build/scripts-2.7/cq from 644 to 755\r\n",
        "    changing mode of build/scripts-2.7/route53 from 644 to 755\r\n",
        "    changing mode of build/scripts-2.7/cwutil from 644 to 755\r\n",
        "    changing mode of build/scripts-2.7/instance_events from 644 to 755\r\n",
        "    changing mode of build/scripts-2.7/asadmin from 644 to 755\r\n",
        "    changing mode of build/scripts-2.7/glacier from 644 to 755\r\n",
        "    changing mode of build/scripts-2.7/mturk from 644 to 755\r\n",
        "    changing mode of build/scripts-2.7/dynamodb_dump from 644 to 755\r\n",
        "    changing mode of build/scripts-2.7/dynamodb_load from 644 to 755\r\n"
       ]
      },
      {
       "output_type": "stream",
       "stream": "stdout",
       "text": [
        "    changing mode of /Users/admin/Library/Enthought/Canopy_64bit/User/bin/asadmin to 755\r\n",
        "    changing mode of /Users/admin/Library/Enthought/Canopy_64bit/User/bin/bundle_image to 755\r\n",
        "    changing mode of /Users/admin/Library/Enthought/Canopy_64bit/User/bin/cfadmin to 755\r\n",
        "    changing mode of /Users/admin/Library/Enthought/Canopy_64bit/User/bin/cq to 755\r\n",
        "    changing mode of /Users/admin/Library/Enthought/Canopy_64bit/User/bin/cwutil to 755\r\n",
        "    changing mode of /Users/admin/Library/Enthought/Canopy_64bit/User/bin/dynamodb_dump to 755\r\n",
        "    changing mode of /Users/admin/Library/Enthought/Canopy_64bit/User/bin/dynamodb_load to 755\r\n",
        "    changing mode of /Users/admin/Library/Enthought/Canopy_64bit/User/bin/elbadmin to 755\r\n",
        "    changing mode of /Users/admin/Library/Enthought/Canopy_64bit/User/bin/fetch_file to 755\r\n",
        "    changing mode of /Users/admin/Library/Enthought/Canopy_64bit/User/bin/glacier to 755\r\n",
        "    changing mode of /Users/admin/Library/Enthought/Canopy_64bit/User/bin/instance_events to 755\r\n",
        "    changing mode of /Users/admin/Library/Enthought/Canopy_64bit/User/bin/kill_instance to 755\r\n",
        "    changing mode of /Users/admin/Library/Enthought/Canopy_64bit/User/bin/launch_instance to 755\r\n",
        "    changing mode of /Users/admin/Library/Enthought/Canopy_64bit/User/bin/list_instances to 755\r\n",
        "    changing mode of /Users/admin/Library/Enthought/Canopy_64bit/User/bin/lss3 to 755\r\n",
        "    changing mode of /Users/admin/Library/Enthought/Canopy_64bit/User/bin/mturk to 755\r\n",
        "    changing mode of /Users/admin/Library/Enthought/Canopy_64bit/User/bin/pyami_sendmail to 755\r\n",
        "    changing mode of /Users/admin/Library/Enthought/Canopy_64bit/User/bin/route53 to 755\r\n",
        "    changing mode of /Users/admin/Library/Enthought/Canopy_64bit/User/bin/s3put to 755\r\n",
        "    changing mode of /Users/admin/Library/Enthought/Canopy_64bit/User/bin/sdbadmin to 755\r\n",
        "    changing mode of /Users/admin/Library/Enthought/Canopy_64bit/User/bin/taskadmin to 755\r\n"
       ]
      },
      {
       "output_type": "stream",
       "stream": "stdout",
       "text": [
        "Successfully installed mrjob boto\r\n",
        "Cleaning up...\r\n"
       ]
      }
     ],
     "prompt_number": 3
    },
    {
     "cell_type": "code",
     "collapsed": false,
     "input": [
      "#MrJob is a library to run map reduce jobs on Amazon's computers\n",
      "import mrjob\n",
      "print \"Mr Job version:       %6.6s (need at least 0.4)\" % mrjob.__version__"
     ],
     "language": "python",
     "metadata": {},
     "outputs": [
      {
       "output_type": "stream",
       "stream": "stdout",
       "text": [
        "Mr Job version:        0.4.2 (need at least 0.4)\n"
       ]
      }
     ],
     "prompt_number": 4
    },
    {
     "cell_type": "markdown",
     "metadata": {},
     "source": [
      "## Hello matplotlib"
     ]
    },
    {
     "cell_type": "markdown",
     "metadata": {},
     "source": [
      "The notebook integrates nicely with Matplotlib, the primary plotting package for python. This should embed a figure of a sine wave:"
     ]
    },
    {
     "cell_type": "code",
     "collapsed": false,
     "input": [
      "#this line prepares IPython for working with matplotlib\n",
      "%matplotlib inline  \n",
      "\n",
      "# this actually imports matplotlib\n",
      "import matplotlib.pyplot as plt  \n",
      "\n",
      "x = np.linspace(0, 10, 30)  #array of 30 points from 0 to 10\n",
      "y = np.sin(x)\n",
      "z = y + np.random.normal(size=30) * .2\n",
      "plt.plot(x, y, 'ro-', label='A sine wave')\n",
      "plt.plot(x, z, 'b-', label='Noisy sine')\n",
      "plt.legend(loc = 'lower right')\n",
      "plt.xlabel(\"X axis\")\n",
      "plt.ylabel(\"Y axis\")"
     ],
     "language": "python",
     "metadata": {},
     "outputs": [
      {
       "metadata": {},
       "output_type": "pyout",
       "prompt_number": 3,
       "text": [
        "<matplotlib.text.Text at 0x15c478d0>"
       ]
      },
      {
       "metadata": {},
       "output_type": "display_data",
       "png": "[encoded data removed]",
       "text": [
        "<matplotlib.figure.Figure at 0x1334e710>"
       ]
      }
     ],
     "prompt_number": 3
    },
    {
     "cell_type": "markdown",
     "metadata": {},
     "source": [
      "If that last cell complained about the `%matplotlib` line, you need to update IPython to v1.0, and restart the notebook. See the [installation page](https://github.com/cs109/content/wiki/Installing-Python)"
     ]
    },
    {
     "cell_type": "markdown",
     "metadata": {},
     "source": [
      "## Hello Numpy\n",
      "\n",
      "The Numpy array processing library is the basis of nearly all numerical computing in Python. Here's a 30 second crash course. For more details, consult Chapter 4 of Python for Data Analysis, or the [Numpy User's Guide](http://docs.scipy.org/doc/numpy-dev/user/index.html)"
     ]
    },
    {
     "cell_type": "code",
     "collapsed": false,
     "input": [
      "print \"Make a 3 row x 4 column array of random numbers\"\n",
      "x = np.random.random((3, 4))\n",
      "print x\n",
      "print\n",
      "\n",
      "print \"Add 1 to every element\"\n",
      "x = x + 1\n",
      "print x\n",
      "print\n",
      "\n",
      "print \"Get the element at row 1, column 2\"\n",
      "print x[1, 2]\n",
      "print\n",
      "\n",
      "# The colon syntax is called \"slicing\" the array. \n",
      "print \"Get the first row\"\n",
      "print x[0, :]\n",
      "print x[0], \"works too\"\n",
      "print\n",
      "\n",
      "# The colon syntax is called \"slicing\" the array. \n",
      "print \"Get the first column\"\n",
      "print x[:, 0]\n",
      " \n",
      "print\n",
      "\n",
      "print \"Get every 2nd element of the first row\"\n",
      "print x[0, ::2]\n",
      "print"
     ],
     "language": "python",
     "metadata": {},
     "outputs": [
      {
       "output_type": "stream",
       "stream": "stdout",
       "text": [
        "Make a 3 row x 4 column array of random numbers\n",
        "[[ 0.73656962  0.04665181  0.5740598   0.10298122]\n",
        " [ 0.93311303  0.36815491  0.77997224  0.36082641]\n",
        " [ 0.62474462  0.9111318   0.10422469  0.02520872]]\n",
        "\n",
        "Add 1 to every element\n",
        "[[ 1.73656962  1.04665181  1.5740598   1.10298122]\n",
        " [ 1.93311303  1.36815491  1.77997224  1.36082641]\n",
        " [ 1.62474462  1.9111318   1.10422469  1.02520872]]\n",
        "\n",
        "Get the element at row 1, column 2\n",
        "1.77997223505\n",
        "\n",
        "Get the first row\n",
        "[ 1.73656962  1.04665181  1.5740598   1.10298122]\n",
        "[ 1.73656962  1.04665181  1.5740598   1.10298122] works too\n",
        "\n",
        "Get the first column\n",
        "[ 1.73656962  1.93311303  1.62474462]\n",
        "\n",
        "Get every 2nd element of the first row\n",
        "[ 1.73656962  1.5740598 ]\n",
        "\n"
       ]
      }
     ],
     "prompt_number": 31
    },
    {
     "cell_type": "markdown",
     "metadata": {},
     "source": [
      "Use list comprehension to get the diagonal of the matrix. Your code must work for any 2D matrix."
     ]
    },
    {
     "cell_type": "code",
     "collapsed": false,
     "input": [
      "#your code here\n",
      "[x[i,i] for i in range(min(len(x[0]),len(x[:,0]))) ]"
     ],
     "language": "python",
     "metadata": {},
     "outputs": [
      {
       "metadata": {},
       "output_type": "pyout",
       "prompt_number": 18,
       "text": [
        "[1.0875769611380082, 1.5880996560538041, 1.3179064893158192]"
       ]
      }
     ],
     "prompt_number": 18
    },
    {
     "cell_type": "markdown",
     "metadata": {},
     "source": [
      "Print the maximum, minimum, and mean of the array. This does **not** require writing a loop. In the code cell below, type `x.m<TAB>`, to find built-in operations for common array statistics like this"
     ]
    },
    {
     "cell_type": "code",
     "collapsed": false,
     "input": [
      "print x.max() \n",
      "print x.mean()\n",
      "print x.min()"
     ],
     "language": "python",
     "metadata": {},
     "outputs": [
      {
       "output_type": "stream",
       "stream": "stdout",
       "text": [
        "1.88323659004\n",
        "1.44167249031\n",
        "1.08757696114\n"
       ]
      }
     ],
     "prompt_number": 19
    },
    {
     "cell_type": "markdown",
     "metadata": {},
     "source": [
      "Call the `x.max` function again, but use the `axis` keyword to print the maximum of each row in x."
     ]
    },
    {
     "cell_type": "code",
     "collapsed": false,
     "input": [
      "print x.max(axis=0)"
     ],
     "language": "python",
     "metadata": {},
     "outputs": [
      {
       "output_type": "stream",
       "stream": "stdout",
       "text": [
        "[ 1.93311303  1.9111318   1.77997224  1.36082641]\n"
       ]
      }
     ],
     "prompt_number": 32
    },
    {
     "cell_type": "markdown",
     "metadata": {},
     "source": [
      "Here's a way to quickly simulate 500 coin \"fair\" coin tosses (where the probabily of getting Heads is 50%, or 0.5)"
     ]
    },
    {
     "cell_type": "code",
     "collapsed": false,
     "input": [
      "x = np.random.binomial(500, .5)\n",
      "print \"number of heads:\", x"
     ],
     "language": "python",
     "metadata": {},
     "outputs": [
      {
       "output_type": "stream",
       "stream": "stdout",
       "text": [
        "number of heads: 242\n"
       ]
      }
     ],
     "prompt_number": 29
    },
    {
     "cell_type": "markdown",
     "metadata": {},
     "source": [
      "Repeat this simulation 500 times, and use the [plt.hist() function](http://matplotlib.org/api/pyplot_api.html#matplotlib.pyplot.hist) to plot a histogram of the number of Heads (1s) in each simulation"
     ]
    },
    {
     "cell_type": "code",
     "collapsed": false,
     "input": [
      "x = []\n",
      "\n",
      "for i in range(500):\n",
      "    x.append(np.random.binomial(500, .5))\n",
      "\n",
      "\n",
      "plt.hist(x)\n"
     ],
     "language": "python",
     "metadata": {},
     "outputs": [
      {
       "metadata": {},
       "output_type": "pyout",
       "prompt_number": 41,
       "text": [
        "(array([   9.,   26.,   59.,  116.,  120.,  101.,   52.,   13.,    3.,    1.]),\n",
        " array([ 220. ,  227.1,  234.2,  241.3,  248.4,  255.5,  262.6,  269.7,\n",
        "         276.8,  283.9,  291. ]),\n",
        " <a list of 10 Patch objects>)"
       ]
      },
      {
       "metadata": {},
       "output_type": "display_data",
       "png": "[encoded data removed]",
       "text": [
        "<matplotlib.figure.Figure at 0x17b59320>"
       ]
      }
     ],
     "prompt_number": 41
    },
    {
     "cell_type": "markdown",
     "metadata": {},
     "source": [
      "## The Monty Hall Problem\n",
      "\n",
      "\n",
      "Here's a fun and perhaps surprising statistical riddle, and a good way to get some practice writing python functions\n",
      "\n",
      "In a gameshow, contestants try to guess which of 3 closed doors contain a cash prize (goats are behind the other two doors). Of course, the odds of choosing the correct door are 1 in 3. As a twist, the host of the show occasionally opens a door after a contestant makes his or her choice. This door is always one of the two the contestant did not pick, and is also always one of the goat doors (note that it is always possible to do this, since there are two goat doors). At this point, the contestant has the option of keeping his or her original choice, or swtiching to the other unopened door. The question is: is there any benefit to switching doors? The answer surprises many people who haven't heard the question before.\n",
      "\n",
      "We can answer the problem by running simulations in Python. We'll do it in several parts.\n",
      "\n",
      "First, write a function called `simulate_prizedoor`. This function will simulate the location of the prize in many games -- see the detailed specification below:"
     ]
    },
    {
     "cell_type": "code",
     "collapsed": false,
     "input": [
      "\"\"\"\n",
      "Function\n",
      "--------\n",
      "simulate_prizedoor\n",
      "\n",
      "Generate a random array of 0s, 1s, and 2s, representing\n",
      "hiding a prize between door 0, door 1, and door 2\n",
      "\n",
      "Parameters\n",
      "----------\n",
      "nsim : int\n",
      "    The number of simulations to run\n",
      "\n",
      "Returns\n",
      "-------\n",
      "sims : array\n",
      "    Random array of 0s, 1s, and 2s\n",
      "\n",
      "Example\n",
      "-------\n",
      ">>> print simulate_prizedoor(3)\n",
      "array([0, 0, 2])\n",
      "\"\"\"\n",
      "def simulate_prizedoor(nsim):\n",
      "    #compute here\n",
      "    \n",
      "    answer = []\n",
      "    doors = range(3)\n",
      "    \n",
      "    for i in range(nsim):\n",
      "        answer.append(np.random.choice(doors))\n",
      "    \n",
      "    return answer\n",
      "\n",
      "\n",
      "print simulate_prizedoor(5)"
     ],
     "language": "python",
     "metadata": {},
     "outputs": [
      {
       "output_type": "stream",
       "stream": "stdout",
       "text": [
        "[2, 1, 2, 2, 2]\n"
       ]
      }
     ],
     "prompt_number": 49
    },
    {
     "cell_type": "markdown",
     "metadata": {},
     "source": [
      "Next, write a function that simulates the contestant's guesses for `nsim` simulations. Call this function `simulate_guess`. The specs:"
     ]
    },
    {
     "cell_type": "code",
     "collapsed": false,
     "input": [
      "\"\"\"\n",
      "Function\n",
      "--------\n",
      "simulate_guess\n",
      "\n",
      "Return any strategy for guessing which door a prize is behind. This\n",
      "could be a random strategy, one that always guesses 2, whatever.\n",
      "\n",
      "Parameters\n",
      "----------\n",
      "nsim : int\n",
      "    The number of simulations to generate guesses for\n",
      "\n",
      "Returns\n",
      "-------\n",
      "guesses : array\n",
      "    An array of guesses. Each guess is a 0, 1, or 2\n",
      "\n",
      "Example\n",
      "-------\n",
      ">>> print simulate_guess(5)\n",
      "array([0, 0, 0, 0, 0])\n",
      "\"\"\"\n",
      "\n",
      "def simulate_guess(nsim):\n",
      "    \n",
      "    guesses = []\n",
      "    doors = range(3)\n",
      "    \n",
      "    for i in range(nsim):\n",
      "        guesses.append(np.random.choice(doors))\n",
      "    \n",
      "    return guesses\n",
      "\n",
      "print simulate_guess"
     ],
     "language": "python",
     "metadata": {},
     "outputs": [
      {
       "output_type": "stream",
       "stream": "stdout",
       "text": [
        "[0, 2, 2, 0, 0]\n"
       ]
      }
     ],
     "prompt_number": 66
    },
    {
     "cell_type": "markdown",
     "metadata": {},
     "source": [
      "Next, write a function, `goat_door`, to simulate randomly revealing one of the goat doors that a contestant didn't pick."
     ]
    },
    {
     "cell_type": "code",
     "collapsed": false,
     "input": [
      "\"\"\"\n",
      "Function\n",
      "--------\n",
      "goat_door\n",
      "\n",
      "Simulate the opening of a \"goat door\" that doesn't contain the prize,\n",
      "and is different from the contestants guess\n",
      "\n",
      "Parameters\n",
      "----------\n",
      "prizedoors : array\n",
      "    The door that the prize is behind in each simulation\n",
      "guesses : array\n",
      "    THe door that the contestant guessed in each simulation\n",
      "\n",
      "Returns\n",
      "-------\n",
      "goats : array\n",
      "    The goat door that is opened for each simulation. Each item is 0, 1, or 2, and is different\n",
      "    from both prizedoors and guesses\n",
      "\n",
      "Examples\n",
      "--------\n",
      ">>> print goat_door(np.array([0, 1, 2]), np.array([1, 1, 1]))\n",
      ">>> array([2, 2, 0])\n",
      "\"\"\"\n",
      "\n",
      "def goat_door(prizedoors, guesses):\n",
      "    \n",
      "    if len(prizedoors) == len(guesses):\n",
      "        \n",
      "        goats = []\n",
      "        \n",
      "        for i in range(len(prizedoors)):\n",
      "            doors = range(3)\n",
      "            if prizedoors[i] == guesses[i]:\n",
      "                doors.remove(guesses[i])\n",
      "                goats.append(np.random.choice(doors))\n",
      "            else:\n",
      "                doors.remove(prizedoors[i])\n",
      "                doors.remove(guesses[i])\n",
      "                goats.append(np.random.choice(doors))\n",
      "\n",
      "        return goats\n",
      "    else:\n",
      "        print \"Uneven prizedoors and guesses given!\"\n",
      "        \n",
      "prizeDoors = simulate_prizedoor(5)\n",
      "guesses = simulate_guess(5)\n",
      "\n",
      "print prizeDoors\n",
      "print guesses\n",
      "\n",
      "print goat_door(prizeDoors, guesses)"
     ],
     "language": "python",
     "metadata": {},
     "outputs": [
      {
       "output_type": "stream",
       "stream": "stdout",
       "text": [
        "[2, 1, 0, 1, 1]\n",
        "[0, 1, 1, 1, 2]\n",
        "[1, 2, 2, 2, 0]\n"
       ]
      }
     ],
     "prompt_number": 67
    },
    {
     "cell_type": "markdown",
     "metadata": {},
     "source": [
      "Write a function, `switch_guess`, that represents the strategy of always switching a guess after the goat door is opened."
     ]
    },
    {
     "cell_type": "code",
     "collapsed": false,
     "input": [
      "\"\"\"\n",
      "Function\n",
      "--------\n",
      "switch_guess\n",
      "\n",
      "The strategy that always switches a guess after the goat door is opened\n",
      "\n",
      "Parameters\n",
      "----------\n",
      "guesses : array\n",
      "     Array of original guesses, for each simulation\n",
      "goatdoors : array\n",
      "     Array of revealed goat doors for each simulation\n",
      "\n",
      "Returns\n",
      "-------\n",
      "The new door after switching. Should be different from both guesses and goatdoors\n",
      "\n",
      "Examples\n",
      "--------\n",
      ">>> print switch_guess(np.array([0, 1, 2]), np.array([1, 2, 1]))\n",
      ">>> array([2, 0, 0])\n",
      "\"\"\"\n",
      "\n",
      "def switch_guess(guesses, goatdoors):\n",
      "    if len(guesses) == len(goatdoors):\n",
      "        \n",
      "        answer = []\n",
      "        \n",
      "        for i in range(len(guesses)):\n",
      "            doors = range(3)\n",
      "            doors.remove(guesses[i])\n",
      "            doors.remove(goatdoors[i])\n",
      "            \n",
      "            answer.append(np.random.choice(doors))\n",
      "            \n",
      "        return answer\n",
      "    else:\n",
      "        print \"Uneven number of guesses and goatdoors!\"\n",
      "        \n",
      "        \n",
      "prizeDoors = simulate_prizedoor(5)\n",
      "guesses = simulate_guess(5)\n",
      "goatDoors = goat_door(prizeDoors, guesses)\n",
      "\n",
      "print prizeDoors\n",
      "print goatDoors\n",
      "\n",
      "print switch_guess(guesses, goatDoors)"
     ],
     "language": "python",
     "metadata": {},
     "outputs": [
      {
       "output_type": "stream",
       "stream": "stdout",
       "text": [
        "[1, 0, 2, 0, 2]\n",
        "[2, 2, 1, 1, 1]\n",
        "[0, 0, 2, 0, 2]\n"
       ]
      }
     ],
     "prompt_number": 69
    },
    {
     "cell_type": "markdown",
     "metadata": {},
     "source": [
      "Last function: write a `win_percentage` function that takes an array of `guesses` and `prizedoors`, and returns the percent of correct guesses"
     ]
    },
    {
     "cell_type": "code",
     "collapsed": false,
     "input": [
      "\"\"\"\n",
      "Function\n",
      "--------\n",
      "win_percentage\n",
      "\n",
      "Calculate the percent of times that a simulation of guesses is correct\n",
      "\n",
      "Parameters\n",
      "-----------\n",
      "guesses : array\n",
      "    Guesses for each simulation\n",
      "prizedoors : array\n",
      "    Location of prize for each simulation\n",
      "\n",
      "Returns\n",
      "--------\n",
      "percentage : number between 0 and 100\n",
      "    The win percentage\n",
      "\n",
      "Examples\n",
      "---------\n",
      ">>> print win_percentage(np.array([0, 1, 2]), np.array([0, 0, 0]))\n",
      "33.333\n",
      "\"\"\"\n",
      "\n",
      "def win_percentage(guesses, prizedoors):\n",
      "    \n",
      "    if len(guesses) == len(prizeDoors):\n",
      "\n",
      "        correctguesses = 0.0\n",
      "        for i in range(len(guesses)):\n",
      "            if guesses[i] == prizedoors[i]:\n",
      "                correctguesses += 1\n",
      "\n",
      "        percentage = (correctguesses / len(guesses)) * 100\n",
      "\n",
      "        return percentage\n",
      "    \n",
      "    else:\n",
      "        print \"Uneven number of guesses and prizedoors!\"\n",
      "\n",
      "prizeDoors = simulate_prizedoor(5)\n",
      "guesses = simulate_guess(5)\n",
      "\n",
      "print prizeDoors\n",
      "print guesses\n",
      "\n",
      "print win_percentage(guesses, prizeDoors)"
     ],
     "language": "python",
     "metadata": {},
     "outputs": [
      {
       "output_type": "stream",
       "stream": "stdout",
       "text": [
        "[1, 2, 0, 2, 0]\n",
        "[0, 2, 2, 2, 1]\n",
        "40.0\n"
       ]
      }
     ],
     "prompt_number": 74
    },
    {
     "cell_type": "markdown",
     "metadata": {},
     "source": [
      "Now, put it together. Simulate 10000 games where contestant keeps his original guess, and 10000 games where the contestant switches his door after a  goat door is revealed. Compute the percentage of time the contestant wins under either strategy. Is one strategy better than the other?"
     ]
    },
    {
     "cell_type": "code",
     "collapsed": false,
     "input": [
      "#your code here\n",
      "\n",
      "\n",
      "prizeDoors = simulate_prizedoor(10000)\n",
      "guesses = simulate_guess(10000)\n",
      "goatDoors = goat_door(prizeDoors, guesses)\n",
      "switchGuesses = switch_guess(guesses, goatDoors)\n",
      "\n",
      "\n",
      "winPercentageKeep = win_percentage(guesses, prizeDoors)\n",
      "winPercentageSwitch = win_percentage(switchGuesses, prizeDoors)\n",
      "\n",
      "print \"Percentage won by keeping the original guess: \", winPercentageKeep\n",
      "print \"Percentage won by switching the original guess: \", winPercentageSwitch\n",
      "\n",
      "\n"
     ],
     "language": "python",
     "metadata": {},
     "outputs": [
      {
       "output_type": "stream",
       "stream": "stdout",
       "text": [
        "Percentage won by keeping the original guess:  33.29\n",
        "Percentage won by switching the original guess:  66.71\n"
       ]
      }
     ],
     "prompt_number": 78
    },
    {
     "cell_type": "markdown",
     "metadata": {},
     "source": [
      "Many people find this answer counter-intuitive (famously, PhD mathematicians have incorrectly claimed the result must be wrong. Clearly, none of them knew Python). \n",
      "\n",
      "One of the best ways to build intuition about why opening a Goat door affects the odds is to re-run the experiment with 100 doors and one prize. If the game show host opens 98 goat doors after you make your initial selection, would you want to keep your first pick or switch? "
     ]
    },
    {
     "cell_type": "markdown",
     "metadata": {},
     "source": [
      "## Most important part of the exercise. This counts for your mark\n",
      "\n",
      "Generalize your simulation code to handle the case of `n` doors.\n",
      "\n",
      "Give a plot with the number of doors on the x-axis and the win_percentage on the y-axis, and plot that value for the two strategies for numbers of doors between 3 and 20. \n",
      "\n",
      "Describe briefly what is going on here, and why the plot makes sense."
     ]
    },
    {
     "cell_type": "code",
     "collapsed": false,
     "input": [
      "def simulate_prizedoor(nsim, n):\n",
      "    #compute here\n",
      "    \n",
      "    answer = []\n",
      "    doors = range(n)\n",
      "    \n",
      "    for i in range(nsim):\n",
      "        answer.append(np.random.choice(doors))\n",
      "    \n",
      "    return answer\n",
      "\n",
      "def simulate_guess(nsim, n):\n",
      "    \n",
      "    guesses = []\n",
      "    doors = range(n)\n",
      "    \n",
      "    for i in range(nsim):\n",
      "        guesses.append(np.random.choice(doors))\n",
      "    \n",
      "    return guesses\n",
      "\n",
      "def goat_door(prizedoors, guesses, n):\n",
      "    \n",
      "    if len(prizedoors) == len(guesses):\n",
      "        \n",
      "        goats = []\n",
      "        \n",
      "        for i in range(len(prizedoors)):\n",
      "            doors = range(n)\n",
      "            if prizedoors[i] == guesses[i]:\n",
      "                doors.remove(guesses[i])\n",
      "                goats.append(np.random.choice(doors))\n",
      "            else:\n",
      "                doors.remove(prizedoors[i])\n",
      "                doors.remove(guesses[i])\n",
      "                goats.append(np.random.choice(doors))\n",
      "\n",
      "        return goats\n",
      "    else:\n",
      "        print \"Uneven prizedoors and guesses given!\"\n",
      "\n",
      "\n",
      "def switch_guess(guesses, goatdoors, n):\n",
      "    if len(guesses) == len(goatdoors):\n",
      "        \n",
      "        answer = []\n",
      "        \n",
      "        for i in range(len(guesses)):\n",
      "            doors = range(n)\n",
      "            doors.remove(guesses[i])\n",
      "            doors.remove(goatdoors[i])\n",
      "            \n",
      "            answer.append(np.random.choice(doors))\n",
      "            \n",
      "        return answer\n",
      "    else:\n",
      "        print \"Uneven number of guesses and goatdoors!\"\n",
      "        \n",
      "\n",
      "    \n",
      "keepPercentages = []\n",
      "switchPercentages = []\n",
      "numberOfDoors = range(3, 21)\n",
      "\n",
      "for n in numberOfDoors:\n",
      "\n",
      "    prizeDoors = simulate_prizedoor(10000, n)\n",
      "    guesses = simulate_guess(10000, n) \n",
      "    goatDoors = goat_door(prizeDoors, guesses, n)\n",
      "    switchGuesses = switch_guess(guesses, goatDoors, n)\n",
      "    \n",
      "    keepPercentages.append(win_percentage(guesses, prizeDoors))\n",
      "    switchPercentages.append(win_percentage(switchGuesses, prizeDoors))\n",
      "\n",
      "    \n",
      "plt.plot(numberOfDoors, keepPercentages)\n",
      "plt.plot(numberOfDoors, switchPercentages)"
     ],
     "language": "python",
     "metadata": {},
     "outputs": [
      {
       "metadata": {},
       "output_type": "pyout",
       "prompt_number": 84,
       "text": [
        "[<matplotlib.lines.Line2D at 0x18583860>]"
       ]
      },
      {
       "metadata": {},
       "output_type": "display_data",
       "png": "[encoded data removed]",
       "text": [
        "<matplotlib.figure.Figure at 0x1801b710>"
       ]
      }
     ],
     "prompt_number": 84
    },
    {
     "cell_type": "code",
     "collapsed": false,
     "input": [],
     "language": "python",
     "metadata": {},
     "outputs": []
    }
   ],
   "metadata": {}
  }
 ]
}