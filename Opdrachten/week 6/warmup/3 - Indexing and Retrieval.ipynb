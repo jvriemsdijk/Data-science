{
 "metadata": {
  "name": "",
  "signature": "sha256:2e352b702d9aafcebd08d985cbcf4b5337d78d5310a2db99b96b3469314b0df4"
 },
 "nbformat": 3,
 "nbformat_minor": 0,
 "worksheets": [
  {
   "cells": [
    {
     "cell_type": "heading",
     "level": 1,
     "metadata": {},
     "source": [
      "Topic Modeling for Fun and Profit"
     ]
    },
    {
     "cell_type": "markdown",
     "metadata": {},
     "source": [
      "In this notebook:\n",
      "    \n",
      "* index the documents in their semantic representation (topics)\n",
      "* retrieve \"most similar documents\" efficiently\n",
      "* write a small server for serving similarities over HTTP"
     ]
    },
    {
     "cell_type": "code",
     "collapsed": false,
     "input": [
      "# import & logging preliminaries\n",
      "import logging\n",
      "import itertools\n",
      "\n",
      "import gensim\n",
      "from gensim.parsing.preprocessing import STOPWORDS\n",
      "\n",
      "logging.basicConfig(format='%(levelname)s : %(message)s', level=logging.INFO)\n",
      "logging.root.level = logging.INFO\n",
      "\n",
      "def tokenize(text):\n",
      "    return [token for token in gensim.utils.simple_preprocess(text) if token not in STOPWORDS]"
     ],
     "language": "python",
     "metadata": {},
     "outputs": [],
     "prompt_number": 1
    },
    {
     "cell_type": "code",
     "collapsed": false,
     "input": [
      "# load the corpora created in the previous notebook\n",
      "tfidf_corpus = gensim.corpora.MmCorpus('./data/wiki_tfidf.mm')\n",
      "lsi_corpus = gensim.corpora.MmCorpus('./data/wiki_lsa.mm')\n",
      "print(tfidf_corpus)\n",
      "print(lsi_corpus)"
     ],
     "language": "python",
     "metadata": {},
     "outputs": [
      {
       "output_type": "stream",
       "stream": "stderr",
       "text": [
        "INFO:gensim.corpora.indexedcorpus:loaded corpus index from ./data/wiki_tfidf.mm.index\n"
       ]
      },
      {
       "output_type": "stream",
       "stream": "stderr",
       "text": [
        "INFO:gensim.matutils:initializing corpus reader from ./data/wiki_tfidf.mm\n"
       ]
      },
      {
       "output_type": "stream",
       "stream": "stderr",
       "text": [
        "INFO:gensim.matutils:accepted corpus with 48321 documents, 26641 features, 4739580 non-zero entries\n"
       ]
      },
      {
       "output_type": "stream",
       "stream": "stderr",
       "text": [
        "INFO:gensim.corpora.indexedcorpus:loaded corpus index from ./data/wiki_lsa.mm.index\n"
       ]
      },
      {
       "output_type": "stream",
       "stream": "stderr",
       "text": [
        "INFO:gensim.matutils:initializing corpus reader from ./data/wiki_lsa.mm\n"
       ]
      },
      {
       "output_type": "stream",
       "stream": "stderr",
       "text": [
        "INFO:gensim.matutils:accepted corpus with 48321 documents, 200 features, 9664199 non-zero entries\n"
       ]
      },
      {
       "output_type": "stream",
       "stream": "stdout",
       "text": [
        "MmCorpus(48321 documents, 26641 features, 4739580 non-zero entries)\n",
        "MmCorpus(48321 documents, 200 features, 9664199 non-zero entries)\n"
       ]
      }
     ],
     "prompt_number": 2
    },
    {
     "cell_type": "code",
     "collapsed": false,
     "input": [
      "# load the models too\n",
      "id2word_wiki = gensim.corpora.Dictionary.load('./data/wiki.dictionary')\n",
      "lda_model = gensim.models.LdaModel.load('./data/lda_wiki.model')\n",
      "tfidf_model = gensim.models.TfidfModel.load('./data/tfidf_wiki.model')\n",
      "lsi_model = gensim.models.LsiModel.load('./data/lsi_wiki.model')"
     ],
     "language": "python",
     "metadata": {},
     "outputs": [
      {
       "output_type": "stream",
       "stream": "stderr",
       "text": [
        "INFO:gensim.utils:loading Dictionary object from ./data/wiki.dictionary\n"
       ]
      },
      {
       "output_type": "stream",
       "stream": "stderr",
       "text": [
        "INFO:gensim.utils:loading LdaModel object from ./data/lda_wiki.model\n"
       ]
      },
      {
       "output_type": "stream",
       "stream": "stderr",
       "text": [
        "INFO:gensim.utils:setting ignored attribute state to None\n"
       ]
      },
      {
       "output_type": "stream",
       "stream": "stderr",
       "text": [
        "INFO:gensim.utils:setting ignored attribute dispatcher to None\n"
       ]
      },
      {
       "output_type": "stream",
       "stream": "stderr",
       "text": [
        "INFO:gensim.utils:loading LdaModel object from ./data/lda_wiki.model.state\n"
       ]
      },
      {
       "output_type": "stream",
       "stream": "stderr",
       "text": [
        "INFO:gensim.utils:loading TfidfModel object from ./data/tfidf_wiki.model\n"
       ]
      },
      {
       "output_type": "stream",
       "stream": "stderr",
       "text": [
        "INFO:gensim.utils:loading LsiModel object from ./data/lsi_wiki.model\n"
       ]
      },
      {
       "output_type": "stream",
       "stream": "stderr",
       "text": [
        "INFO:gensim.utils:setting ignored attribute projection to None\n"
       ]
      },
      {
       "output_type": "stream",
       "stream": "stderr",
       "text": [
        "INFO:gensim.utils:setting ignored attribute dispatcher to None\n"
       ]
      },
      {
       "output_type": "stream",
       "stream": "stderr",
       "text": [
        "INFO:gensim.utils:loading LsiModel object from ./data/lsi_wiki.model.projection\n"
       ]
      }
     ],
     "prompt_number": 3
    },
    {
     "cell_type": "heading",
     "level": 2,
     "metadata": {},
     "source": [
      "Document indexing"
     ]
    },
    {
     "cell_type": "markdown",
     "metadata": {},
     "source": [
      "Gensim contains three classes for indexing:\n",
      "\n",
      "* `gensim.similarities.MatrixSimilarity`: for an efficient, memory-mapped index  -- dense NumPy implementation\n",
      "* `gensim.similarities.SparseMatrixSimilarity`: for an efficient, memory-mapped index -- sparse SciPy implementation\n",
      "* `gensim.similarities.Similarity`: for an efficient out-of-core sharded index (auto-selects `MatrixSimilarity` or `SparseMatrixSimilarity` for each shard internally, based on the shard density); **this is the most flexible class and should be your first choice**.\n",
      "\n",
      "Let's see each in action:"
     ]
    },
    {
     "cell_type": "code",
     "collapsed": false,
     "input": [
      "from gensim.similarities import MatrixSimilarity, SparseMatrixSimilarity, Similarity\n",
      "\n",
      "# initialize the index\n",
      "%time index_dense = MatrixSimilarity(lsi_corpus, num_features=lsi_corpus.num_terms)"
     ],
     "language": "python",
     "metadata": {},
     "outputs": [
      {
       "output_type": "stream",
       "stream": "stderr",
       "text": [
        "INFO:gensim.similarities.docsim:creating matrix for 48321 documents and 200 features\n"
       ]
      },
      {
       "output_type": "stream",
       "stream": "stdout",
       "text": [
        "CPU times: user 1min 19s, sys: 638 ms, total: 1min 20s\n",
        "Wall time: 1min 21s\n"
       ]
      }
     ],
     "prompt_number": 4
    },
    {
     "cell_type": "code",
     "collapsed": false,
     "input": [
      "%time index_sparse = SparseMatrixSimilarity(tfidf_corpus, num_features=tfidf_corpus.num_terms)"
     ],
     "language": "python",
     "metadata": {},
     "outputs": [
      {
       "output_type": "stream",
       "stream": "stderr",
       "text": [
        "INFO:gensim.similarities.docsim:creating sparse index\n"
       ]
      },
      {
       "output_type": "stream",
       "stream": "stderr",
       "text": [
        "INFO:gensim.matutils:creating sparse matrix from corpus\n"
       ]
      },
      {
       "output_type": "stream",
       "stream": "stderr",
       "text": [
        "INFO:gensim.matutils:PROGRESS: at document #0/48321\n"
       ]
      },
      {
       "output_type": "stream",
       "stream": "stderr",
       "text": [
        "INFO:gensim.matutils:PROGRESS: at document #10000/48321\n"
       ]
      },
      {
       "output_type": "stream",
       "stream": "stderr",
       "text": [
        "INFO:gensim.matutils:PROGRESS: at document #20000/48321\n"
       ]
      },
      {
       "output_type": "stream",
       "stream": "stderr",
       "text": [
        "INFO:gensim.matutils:PROGRESS: at document #30000/48321\n"
       ]
      },
      {
       "output_type": "stream",
       "stream": "stderr",
       "text": [
        "INFO:gensim.matutils:PROGRESS: at document #40000/48321\n"
       ]
      },
      {
       "output_type": "stream",
       "stream": "stderr",
       "text": [
        "INFO:gensim.similarities.docsim:created <48321x26641 sparse matrix of type '<type 'numpy.float32'>'\n",
        "\twith 4739580 stored elements in Compressed Sparse Row format>\n"
       ]
      },
      {
       "output_type": "stream",
       "stream": "stdout",
       "text": [
        "CPU times: user 42.7 s, sys: 394 ms, total: 43.1 s\n",
        "Wall time: 43.8 s\n"
       ]
      }
     ],
     "prompt_number": 5
    },
    {
     "cell_type": "code",
     "collapsed": false,
     "input": [
      "%time index = Similarity('./data/wiki_index', lsi_corpus, num_features=lsi_corpus.num_terms)"
     ],
     "language": "python",
     "metadata": {},
     "outputs": [
      {
       "output_type": "stream",
       "stream": "stderr",
       "text": [
        "INFO:gensim.similarities.docsim:starting similarity index under ./data/wiki_index\n"
       ]
      },
      {
       "output_type": "stream",
       "stream": "stderr",
       "text": [
        "INFO:gensim.similarities.docsim:PROGRESS: fresh_shard size=10000\n"
       ]
      },
      {
       "output_type": "stream",
       "stream": "stderr",
       "text": [
        "INFO:gensim.similarities.docsim:PROGRESS: fresh_shard size=20000\n"
       ]
      },
      {
       "output_type": "stream",
       "stream": "stderr",
       "text": [
        "INFO:gensim.similarities.docsim:PROGRESS: fresh_shard size=30000\n"
       ]
      },
      {
       "output_type": "stream",
       "stream": "stderr",
       "text": [
        "INFO:gensim.similarities.docsim:creating matrix for 32768 documents and 200 features\n"
       ]
      },
      {
       "output_type": "stream",
       "stream": "stderr",
       "text": [
        "INFO:gensim.similarities.docsim:creating dense shard #0\n"
       ]
      },
      {
       "output_type": "stream",
       "stream": "stderr",
       "text": [
        "INFO:gensim.similarities.docsim:saving index shard to ./data/wiki_index.0\n"
       ]
      },
      {
       "output_type": "stream",
       "stream": "stderr",
       "text": [
        "INFO:gensim.utils:saving MatrixSimilarity object under ./data/wiki_index.0, separately None\n"
       ]
      },
      {
       "output_type": "stream",
       "stream": "stderr",
       "text": [
        "INFO:gensim.utils:loading MatrixSimilarity object from ./data/wiki_index.0\n"
       ]
      },
      {
       "output_type": "stream",
       "stream": "stderr",
       "text": [
        "INFO:gensim.similarities.docsim:PROGRESS: fresh_shard size=0\n"
       ]
      },
      {
       "output_type": "stream",
       "stream": "stderr",
       "text": [
        "INFO:gensim.similarities.docsim:PROGRESS: fresh_shard size=10000\n"
       ]
      },
      {
       "output_type": "stream",
       "stream": "stdout",
       "text": [
        "CPU times: user 1min 20s, sys: 612 ms, total: 1min 20s\n",
        "Wall time: 1min 21s\n"
       ]
      }
     ],
     "prompt_number": 34
    },
    {
     "cell_type": "heading",
     "level": 3,
     "metadata": {},
     "source": [
      "Adding new documents to the index"
     ]
    },
    {
     "cell_type": "markdown",
     "metadata": {},
     "source": [
      "The `Similarity` class supports adding new documents to the index dynamically:"
     ]
    },
    {
     "cell_type": "code",
     "collapsed": false,
     "input": [
      "print(index)\n",
      "# add the same documents into the index again, effectively doubling its size\n",
      "index.add_documents(lsi_corpus)\n",
      "print(index)"
     ],
     "language": "python",
     "metadata": {},
     "outputs": [
      {
       "output_type": "stream",
       "stream": "stderr",
       "text": [
        "INFO:gensim.similarities.docsim:PROGRESS: fresh_shard size=20000\n"
       ]
      },
      {
       "output_type": "stream",
       "stream": "stderr",
       "text": [
        "INFO:gensim.similarities.docsim:PROGRESS: fresh_shard size=30000\n"
       ]
      },
      {
       "output_type": "stream",
       "stream": "stderr",
       "text": [
        "INFO:gensim.similarities.docsim:creating matrix for 32768 documents and 200 features\n"
       ]
      },
      {
       "output_type": "stream",
       "stream": "stderr",
       "text": [
        "INFO:gensim.similarities.docsim:creating dense shard #1\n"
       ]
      },
      {
       "output_type": "stream",
       "stream": "stderr",
       "text": [
        "INFO:gensim.similarities.docsim:saving index shard to ./data/wiki_index.1\n"
       ]
      },
      {
       "output_type": "stream",
       "stream": "stderr",
       "text": [
        "INFO:gensim.utils:saving MatrixSimilarity object under ./data/wiki_index.1, separately None\n"
       ]
      },
      {
       "output_type": "stream",
       "stream": "stderr",
       "text": [
        "INFO:gensim.utils:loading MatrixSimilarity object from ./data/wiki_index.1\n"
       ]
      },
      {
       "output_type": "stream",
       "stream": "stderr",
       "text": [
        "INFO:gensim.similarities.docsim:PROGRESS: fresh_shard size=0\n"
       ]
      },
      {
       "output_type": "stream",
       "stream": "stderr",
       "text": [
        "INFO:gensim.similarities.docsim:PROGRESS: fresh_shard size=10000\n"
       ]
      },
      {
       "output_type": "stream",
       "stream": "stderr",
       "text": [
        "INFO:gensim.similarities.docsim:PROGRESS: fresh_shard size=20000\n"
       ]
      },
      {
       "output_type": "stream",
       "stream": "stderr",
       "text": [
        "INFO:gensim.similarities.docsim:PROGRESS: fresh_shard size=30000\n"
       ]
      },
      {
       "output_type": "stream",
       "stream": "stdout",
       "text": [
        "Similarity index with 48321 documents in 1 shards (stored under ./data/wiki_index)\n",
        "Similarity index with 96642 documents in 2 shards (stored under ./data/wiki_index)"
       ]
      },
      {
       "output_type": "stream",
       "stream": "stdout",
       "text": [
        "\n"
       ]
      }
     ],
     "prompt_number": 7
    },
    {
     "cell_type": "markdown",
     "metadata": {},
     "source": [
      "**Exercise (5min)**: convert the document `text = \"A blood cell, also called a hematocyte, is a cell produced by hematopoiesis and normally found in blood.\"` into LSI space and index it into `index`.\n",
      "\n",
      "**Note** Answers are given at the [bottom of this page](#ans). If in the next code block you get an error, you probably made a mistake here. Then start again by creating the variable `index`."
     ]
    },
    {
     "cell_type": "code",
     "collapsed": false,
     "input": [
      "#Your turn\n",
      "\n",
      "# step 1 tokenize and doc2bow to our indexed vocabulary\n",
      " \n",
      "print(bow)\n",
      " \n",
      "# step 2  turn the bow of words into a bag of lsi_topics using our lsi_model\n",
      " \n",
      "print(bag_of_lsi_topics)\n",
      "# Now add \n",
      " \n",
      "print(index)"
     ],
     "language": "python",
     "metadata": {},
     "outputs": [
      {
       "output_type": "stream",
       "stream": "stdout",
       "text": [
        "[(10880, 2), (18117, 1), (21293, 1), (22824, 2)]\n",
        "[(0, 0.077489237483116383), (1, 0.051217895200561442), (2, 0.011660904629592631), (3, 0.075951966738986326), (4, 0.095634794439974247), (5, 0.1029247229285874), (6, 0.023262122191805724), (7, 0.0011007125638039514), (8, -0.048031054025491682), (9, 0.0084114179518972321), (10, 0.0095524310826346753), (11, 0.07410412540892547), (12, 0.051321649591143124), (13, 0.089799411552854022), (14, 0.034466076848131785), (15, 0.13434955299742712), (16, 0.032614582744715882), (17, -0.0091475684623803753), (18, 0.059194015402515371), (19, 0.029977515770205819), (20, 0.0044701653584512478), (21, -0.049372346475770691), (22, -0.13394418910273009), (23, 0.074709171008705375), (24, -0.18300655223643375), (25, -0.13426263955898315), (26, -0.13004335902997008), (27, -0.0092767950126870294), (28, 0.0037448791467587414), (29, -0.012192215593745493), (30, -0.0041598218635797088), (31, -0.082979569083902555), (32, 0.11467157526255536), (33, -0.11499848039080468), (34, 0.19516532885861235), (35, 0.13846879699894504), (36, -0.084868799140978543), (37, 0.13204434293334077), (38, 0.026492510590050589), (39, 0.28445471259408034), (40, -0.21307750762550759), (41, 0.16268176672188323), (42, -0.15910598457680714), (43, -0.065884883596552798), (44, -0.14139081636371276), (45, -0.22007821301643182), (46, 0.24289175851177741), (47, -0.1551018446376945), (48, -0.033399438199331444), (49, -0.3125430130450384), (50, 0.0040574612182231601), (51, 0.23463025563043166), (52, 0.16398485889102124), (53, -0.16115759671290097), (54, 0.48027905897824497), (55, -0.18511812419488929), (56, 0.0026875586938863126), (57, -0.19399809733912304), (58, 0.21856873258711748), (59, 0.30749257628324789), (60, -0.11108435691608567), (61, -0.023783114765781776), (62, 0.057679282210872415), (63, 0.099021124019148643), (64, -0.036361392613452087), (65, -0.3696613687339077), (66, -0.070501830185866865), (67, -0.023080139280884586), (68, -0.0068458793904050104), (69, 0.16670783686248322), (70, 0.061741350399343649), (71, -0.051451947849743399), (72, 0.31657903147466615), (73, -0.032370758795913807), (74, -0.047250718068349767), (75, 0.039699415091478854), (76, -0.10317721459869957), (77, -0.056290059954049426), (78, -0.041435205732065071), (79, 0.021020843614046183), (80, -0.11042795596699528), (81, -0.067397395282038308), (82, 0.1302434736242207), (83, -0.12050051840562569), (84, 0.0037170235823625747), (85, -0.05841962636744856), (86, 0.22302967088059575), (87, -0.016758013895455854), (88, 0.05640527779368739), (89, 0.056595902524265523), (90, 0.027908538659850018), (91, 0.018986505131113988), (92, -0.16091922503227873), (93, 0.12448774759875414), (94, 0.028002491183041073), (95, -0.050379578989566035), (96, 0.094651891027077384), (97, 0.066263726607424883), (98, 0.11961372130420404), (99, -0.014716026477749306), (100, 0.15870946522692964), (101, -0.12982440704108597), (102, 0.050180455546408501), (103, 0.092701028034700719), (104, -0.079786977418921906), (105, 0.14302159383855262), (106, 0.0030564938209792294), (107, -0.023754159990895314), (108, -0.049881915139658423), (109, 0.10615081878645123), (110, -0.11489427699605498), (111, 0.043774110426266083), (112, 0.15702851199052964), (113, 0.016336909218328755), (114, 0.12033171742070643), (115, -0.0022826739688059511), (116, -0.04418120548580512), (117, -0.041280032676810491), (118, -0.028928104134821879), (119, 0.022972709411311028), (120, 0.056830250675931546), (121, 0.12882274630955973), (122, 0.02661086287694487), (123, 0.19087187695165203), (124, -0.11825109049748184), (125, 0.056519957927371807), (126, -0.063096586926806225), (127, -0.019160358326041283), (128, 0.060262687846694668), (129, -0.095853899625765043), (130, -0.049374063115686193), (131, 0.090313361562313899), (132, 0.045576590437879136), (133, 0.055432461844385619), (134, -0.0077368422592574981), (135, -0.085604573693598918), (136, -0.04220034785598506), (137, -0.12067631494008395), (138, 0.025474937277737086), (139, -0.19307940321178735), (140, 0.038654317672476478), (141, -0.11607368407449017), (142, -0.033938004398633953), (143, -0.080600901230991104), (144, 0.029840149424227174), (145, -0.06316263879552772), (146, -0.15219690901155991), (147, 0.14853232436018607), (148, -0.0010882171761334471), (149, -0.042716948806274843), (150, 0.075284160768865169), (151, 0.095976599541937907), (152, -0.11830079646309852), (153, -0.16852487256422974), (154, -0.0036421356330536489), (155, 0.060709682392136234), (156, 0.13574044475451535), (157, 0.073159287348479068), (158, -0.080413538522095845), (159, -0.0093203583135716139), (160, -0.0055954584586445019), (161, -0.19923482597094949), (162, -0.044284565315258435), (163, -0.10934145189554609), (164, -0.023037632877025184), (165, -0.19838239895047843), (166, -3.9686152012032884e-05), (167, 0.082561262326863255), (168, 0.081074766986737601), (169, 0.12178165299995063), (170, -0.093934017730085556), (171, 0.028581249858190633), (172, 0.057100683316474214), (173, -0.036708881161830575), (174, -0.068238614442011264), (175, 0.051343552092828565), (176, -0.035767345440540353), (177, 0.0073910982204722069), (178, -0.066955552140776697), (179, -0.039324814579983616), (180, -0.069813998878071964), (181, -0.012044453910338045), (182, -0.060196202491861486), (183, 0.025852019135931804), (184, -0.11603842336250532), (185, 0.041032496243562804), (186, 0.13131224193500743), (187, 0.1224269215870612), (188, 0.17960235831742927), (189, 0.025145475580878179), (190, -0.19136165451898074), (191, -0.020627174830668837), (192, 0.010743237506480229), (193, -0.066845878673599035), (194, -0.1373100253729887), (195, 0.1703021961512908), (196, -0.14610682862781149), (197, 0.048348398437809352), (198, -0.085625697015377783), (199, -0.16476787032242501)]\n",
        "Similarity index with 48322 documents in 1 shards (stored under ./data/wiki_index)\n"
       ]
      }
     ],
     "prompt_number": 37
    },
    {
     "cell_type": "markdown",
     "metadata": {},
     "source": [
      "The documents have to come from the same semantic space (=the same model), of course. You can't mix bag-of-words with LDA or LSI documents in the same index.\n",
      "\n",
      "The other two classes, `MatrixSimilarity` and `SparseMatrixSimilarity`, don't support dynamic additions. The documents you supply during their construction is all they'll ever contain.\n",
      "\n",
      "All indexes can be persisted to disk using the now-familiar `save`/`load` syntax:"
     ]
    },
    {
     "cell_type": "code",
     "collapsed": false,
     "input": [
      "# store to disk\n",
      "index.save('./data/wiki_index.index' )\n",
      "\n",
      "# load back = same index\n",
      "index = Similarity.load('./data/wiki_index.index')\n",
      "print(index)"
     ],
     "language": "python",
     "metadata": {},
     "outputs": [
      {
       "output_type": "stream",
       "stream": "stderr",
       "text": [
        "INFO:gensim.similarities.docsim:creating matrix for 15554 documents and 200 features\n"
       ]
      },
      {
       "output_type": "stream",
       "stream": "stderr",
       "text": [
        "INFO:gensim.similarities.docsim:creating dense shard #1\n"
       ]
      },
      {
       "output_type": "stream",
       "stream": "stderr",
       "text": [
        "INFO:gensim.similarities.docsim:saving index shard to ./data/wiki_index.1\n"
       ]
      },
      {
       "output_type": "stream",
       "stream": "stderr",
       "text": [
        "INFO:gensim.utils:saving MatrixSimilarity object under ./data/wiki_index.1, separately None\n"
       ]
      },
      {
       "output_type": "stream",
       "stream": "stderr",
       "text": [
        "INFO:gensim.utils:loading MatrixSimilarity object from ./data/wiki_index.1\n"
       ]
      },
      {
       "output_type": "stream",
       "stream": "stderr",
       "text": [
        "INFO:gensim.utils:saving Similarity object under ./data/wiki_index.index, separately None\n"
       ]
      },
      {
       "output_type": "stream",
       "stream": "stderr",
       "text": [
        "INFO:gensim.utils:loading Similarity object from ./data/wiki_index.index\n"
       ]
      },
      {
       "output_type": "stream",
       "stream": "stdout",
       "text": [
        "Similarity index with 48322 documents in 2 shards (stored under ./data/wiki_index)\n"
       ]
      }
     ],
     "prompt_number": 38
    },
    {
     "cell_type": "heading",
     "level": 2,
     "metadata": {},
     "source": [
      "Semantic queries"
     ]
    },
    {
     "cell_type": "markdown",
     "metadata": {},
     "source": [
      "An index can be used to find \"most similar documents\":"
     ]
    },
    {
     "cell_type": "code",
     "collapsed": false,
     "input": [
      "query = \"April is the fourth month of the year, and comes between March \\\n",
      "and May. It has 30 days. April begins on the same day of week as July in \\\n",
      "all years and also January in leap years.\"\n",
      "\n",
      "# vectorize the text into bag-of-words and tfidf and finally into a bag of topics\n",
      "query_bow = id2word_wiki.doc2bow(tokenize(query))\n",
      "query_tfidf = tfidf_model[query_bow]\n",
      "query_lsi = lsi_model[query_tfidf]\n",
      "print query_bow, '\\n', len(query_bow), '\\n',len(query_tfidf),  query_tfidf,'\\n', len(query_lsi)"
     ],
     "language": "python",
     "metadata": {},
     "outputs": [
      {
       "output_type": "stream",
       "stream": "stdout",
       "text": [
        "[(2381, 1), (3330, 1), (4906, 1), (5261, 1), (6241, 2), (7400, 1), (8879, 1), (15515, 1), (19698, 1), (26576, 1)] \n",
        "10 \n",
        "10 [(2381, 0.32576463425959656), (3330, 0.3200083708908797), (4906, 0.24532895887637718), (5261, 0.29629180762667806), (6241, 0.4116090778372558), (7400, 0.33625844810253414), (8879, 0.2511689267421017), (15515, 0.20344840002100242), (19698, 0.2053319930682436), (26576, 0.4629976531342272)] \n",
        "200\n"
       ]
      }
     ],
     "prompt_number": 29
    },
    {
     "cell_type": "code",
     "collapsed": false,
     "input": [
      "# query the TFIDF index\n",
      "index_sparse.num_best = None\n",
      "print(index_sparse[query_tfidf])"
     ],
     "language": "python",
     "metadata": {},
     "outputs": [
      {
       "output_type": "stream",
       "stream": "stdout",
       "text": [
        "[ 0.45893866  0.08899745  0.         ...,  0.00997668  0.          0.03253432]\n"
       ]
      }
     ],
     "prompt_number": 30
    },
    {
     "cell_type": "markdown",
     "metadata": {},
     "source": [
      "This output is an array with one float per one indexed doc. Each float tells how similar the query is to that document. The higher the similarity score, the more similar the query to the document at the given index. The particular similarity measure used is [cosine similarity](http://en.wikipedia.org/wiki/Cosine_similarity).\n",
      "\n",
      "We can also request only the top-N most similar documents:"
     ]
    },
    {
     "cell_type": "code",
     "collapsed": false,
     "input": [
      "index_sparse.num_best = 3\n",
      "print(index_sparse[query_tfidf])"
     ],
     "language": "python",
     "metadata": {},
     "outputs": [
      {
       "output_type": "stream",
       "stream": "stdout",
       "text": [
        "[(194, 0.54341214895248413), (0, 0.45893865823745728), (828, 0.38628426194190979)]\n"
       ]
      }
     ],
     "prompt_number": 31
    },
    {
     "cell_type": "markdown",
     "metadata": {},
     "source": [
      "Let's find the five most similar articles according to `MatrixSimilarity` LSI index:"
     ]
    },
    {
     "cell_type": "code",
     "collapsed": false,
     "input": [
      "# query the LSI index\n",
      "index_dense.num_best = 5\n",
      "print(index_dense[query_lsi])"
     ],
     "language": "python",
     "metadata": {},
     "outputs": [
      {
       "output_type": "stream",
       "stream": "stdout",
       "text": [
        "[(4025, 0.83549296855926514), (115, 0.82623445987701416), (0, 0.81876826286315918), (85, 0.80196499824523926), (13572, 0.80004668235778809)]\n"
       ]
      }
     ],
     "prompt_number": 32
    },
    {
     "cell_type": "markdown",
     "metadata": {},
     "source": [
      "`Similarity` index works exactly the same:"
     ]
    },
    {
     "cell_type": "code",
     "collapsed": false,
     "input": [
      "index.num_best = 10\n",
      "print(index[query_lsi])"
     ],
     "language": "python",
     "metadata": {},
     "outputs": [
      {
       "output_type": "stream",
       "stream": "stderr",
       "text": [
        "INFO:gensim.utils:loading MatrixSimilarity object from ./data/wiki_index.0\n"
       ]
      },
      {
       "output_type": "stream",
       "stream": "stderr",
       "text": [
        "INFO:gensim.utils:loading MatrixSimilarity object from ./data/wiki_index.1\n"
       ]
      },
      {
       "output_type": "stream",
       "stream": "stdout",
       "text": [
        "[(4025, 0.83549290895462036), (115, 0.82623445987701416), (0, 0.81876826286315918), (85, 0.80196505784988403), (13572, 0.80004674196243286), (8114, 0.7839999794960022), (18408, 0.76586627960205078), (174, 0.76319503784179688), (42334, 0.76298987865447998), (10170, 0.75579339265823364)]\n"
       ]
      }
     ],
     "prompt_number": 39
    },
    {
     "cell_type": "markdown",
     "metadata": {},
     "source": [
      "(you should see an identical result, except each top-N result is duplicated here, because we indexed the same LSI corpus twice into `index` a few lines above)"
     ]
    },
    {
     "cell_type": "markdown",
     "metadata": {},
     "source": [
      "**Exercise** Print the 20 top words from the bag of words of the first document in this list.\n",
      "What do you say, is it a hit?"
     ]
    },
    {
     "cell_type": "code",
     "collapsed": false,
     "input": [
      "# Your turn\n",
      "# get the document\n",
      " \n",
      "# get the top 20 word_ids\n",
      " \n",
      "# turn these id's into words\n",
      " "
     ],
     "language": "python",
     "metadata": {},
     "outputs": [],
     "prompt_number": 48
    },
    {
     "cell_type": "markdown",
     "metadata": {},
     "source": [
      "The size of the index structures scales linearly with the number of non-zero features in the corpus. For example, a dense LSI corpus of 1 million documents and 200 topics will consume ~800MB. Querying is fairly fast if you have a fast BLAS library installed:"
     ]
    },
    {
     "cell_type": "code",
     "collapsed": false,
     "input": [
      "print(index)\n",
      "%timeit index[query_lsi]"
     ],
     "language": "python",
     "metadata": {},
     "outputs": [
      {
       "output_type": "stream",
       "stream": "stdout",
       "text": [
        "Similarity index with 48322 documents in 2 shards (stored under ./data/wiki_index)\n",
        "100 loops, best of 3: 8.83 ms per loop"
       ]
      },
      {
       "output_type": "stream",
       "stream": "stdout",
       "text": [
        "\n"
       ]
      }
     ],
     "prompt_number": 50
    },
    {
     "cell_type": "heading",
     "level": 2,
     "metadata": {},
     "source": [
      "LSI demo on the full Wikipedia"
     ]
    },
    {
     "cell_type": "markdown",
     "metadata": {},
     "source": [
      "I've recently benchmarked available Python libraries for similarity search in high-dimensional spaces. For the benchmark I used the full English Wikipedia (~3.5 million documents), using code very similar to what we've done in these tutorials.\n",
      "\n",
      "There's also a frontend web app for this index, which lets you find similar Wikipedia articles from your browser: http://radimrehurek.com/2014/01/performance-shootout-of-nearest-neighbours-querying/#wikisim\n",
      "\n",
      "You can see the exact pipeline, including the web server part, [at github](https://github.com/piskvorky/sim-shootout)."
     ]
    },
    {
     "cell_type": "heading",
     "level": 2,
     "metadata": {},
     "source": [
      "Summary"
     ]
    },
    {
     "cell_type": "markdown",
     "metadata": {},
     "source": [
      "In this notebook, we learned how to:\n",
      "\n",
      "* index arbitrary corpora\n",
      "* ask for top-N most similar documents, using the index\n",
      "* add new documents to a `Similarity` index\n",
      "* load and save indexes"
     ]
    },
    {
     "cell_type": "markdown",
     "metadata": {},
     "source": [
      "# Answers to exercises\n",
      "<a id='ans'/>\n",
      "\n",
      "```\n",
      "# step 1 tokenize and doc2bow to our indexed vocabulary\n",
      "doc = \"A blood cell, also called a hematocyte, is a cell produced by hematopoiesis and normally found in blood.\"\n",
      "bow = id2word_wiki.doc2bow(tokenize(doc))\n",
      "print(bow)\n",
      "\n",
      "# step 2  turn the bow of words into a bag of lsi_topics using our lsi_model\n",
      "# Actually we should first transform the bow to a TFIDF vector...\n",
      "bag_of_lsi_topics= lsi_model[bow]\n",
      "print(bag_of_lsi_topics)\n",
      "# Now add \n",
      "index.add_documents([bag_of_lsi_topics])\n",
      "print(index)\n",
      "```\n",
      " Print the 20 top words from the bag of words of the first document in this list. What do you say, is it a hit?\n",
      "```\n",
      "# get the document\n",
      "doc = tfidf_corpus[4025]\n",
      "doc\n",
      "# get the top 20 word_ids\n",
      "doctopwords = sorted([(tfidf,w) for w,tfidf in doc ], reverse=True)[:20]\n",
      "doctopwords\n",
      "# turn these id's into words\n",
      "[id2word_wiki.id2token[i] for _,i in doctopwords]\n",
      "```"
     ]
    },
    {
     "cell_type": "heading",
     "level": 2,
     "metadata": {},
     "source": [
      "Next"
     ]
    },
    {
     "cell_type": "markdown",
     "metadata": {},
     "source": [
      "That's the end of this tutorial! Congratulations :)\n",
      "\n",
      "We skipped some more advanced topics like parallelization / distributed computations, and some advanced models, but you should have a clear idea of how streamed input works in gensim.\n",
      "\n",
      "If you have questions, use the [gensim mailing list](https://groups.google.com/d/forum/gensim).\n",
      "\n",
      "Gensim resides on [github](https://github.com/piskvorky/gensim) and has a [homepage with API reference, tutorials, testimonials](http://radimrehurek.com/gensim/) etc. Happy coding!"
     ]
    }
   ],
   "metadata": {}
  }
 ]
}