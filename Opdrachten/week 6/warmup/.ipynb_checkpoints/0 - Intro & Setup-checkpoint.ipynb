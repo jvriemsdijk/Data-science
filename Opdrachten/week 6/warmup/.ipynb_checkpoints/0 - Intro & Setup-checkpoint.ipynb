{
 "metadata": {
  "name": "",
  "signature": "sha256:351034c7ce1d05f6e2f19ef2d9f68748aeae52dad8740f9f0fd22c20859c76d7"
 },
 "nbformat": 3,
 "nbformat_minor": 0,
 "worksheets": [
  {
   "cells": [
    {
     "cell_type": "heading",
     "level": 1,
     "metadata": {},
     "source": [
      "Topic Modeling for Fun and Profit"
     ]
    },
    {
     "cell_type": "markdown",
     "metadata": {},
     "source": [
      "In this notebook, you'll\n",
      "\n",
      "* check you have all dependencies installed correctly\n",
      "* check you have downloaded all necessary data\n",
      "* get up to speed with efficient Python data access patterns"
     ]
    },
    {
     "cell_type": "heading",
     "level": 2,
     "metadata": {},
     "source": [
      "Tutorial setup"
     ]
    },
    {
     "cell_type": "markdown",
     "metadata": {},
     "source": [
      "Check all dependencies are installed correctly (see the [README](https://github.com/piskvorky/topic_modeling_tutorial/)) (highlight each cell with your mouse and press `SHIFT`+`ENTER`):"
     ]
    },
    {
     "cell_type": "code",
     "collapsed": false,
     "input": [
      "import numpy"
     ],
     "language": "python",
     "metadata": {},
     "outputs": [],
     "prompt_number": 1
    },
    {
     "cell_type": "code",
     "collapsed": false,
     "input": [
      "import scipy"
     ],
     "language": "python",
     "metadata": {},
     "outputs": [],
     "prompt_number": 2
    },
    {
     "cell_type": "code",
     "collapsed": false,
     "input": [
      "import gensim\n",
      "gensim.utils.lemmatize(\"The quick brown fox jumps over the lazy dog!\")"
     ],
     "language": "python",
     "metadata": {},
     "outputs": [
      {
       "metadata": {},
       "output_type": "pyout",
       "prompt_number": 3,
       "text": [
        "['quick/JJ', 'brown/JJ', 'fox/NN', 'jump/NN', 'lazy/JJ', 'dog/NN']"
       ]
      }
     ],
     "prompt_number": 3
    },
    {
     "cell_type": "code",
     "collapsed": false,
     "input": [
      "import nltk\n",
      "nltk.download('brown')\n",
      "\n",
      "import textblob\n",
      "textblob.TextBlob(\"The quick brown fox jumps over the lazy dog!\").noun_phrases"
     ],
     "language": "python",
     "metadata": {},
     "outputs": [
      {
       "output_type": "stream",
       "stream": "stdout",
       "text": [
        "[nltk_data] Downloading package 'brown' to /Users/admin/nltk_data...\n",
        "[nltk_data]   Unzipping corpora/brown.zip."
       ]
      },
      {
       "output_type": "stream",
       "stream": "stdout",
       "text": [
        "\n"
       ]
      },
      {
       "metadata": {},
       "output_type": "pyout",
       "prompt_number": 5,
       "text": [
        "WordList([u'quick brown fox jumps', u'lazy dog'])"
       ]
      }
     ],
     "prompt_number": 5
    },
    {
     "cell_type": "markdown",
     "metadata": {},
     "source": [
      "If the above executes without errors, you'll see a number appear to the left of each of these cell prompts, and you're good to go!"
     ]
    },
    {
     "cell_type": "markdown",
     "metadata": {},
     "source": [
      "In case you're using [virtual evironments](http://docs.python-guide.org/en/latest/dev/virtualenvs/) (recommended), check that the right package/location was picked up by Python:"
     ]
    },
    {
     "cell_type": "code",
     "collapsed": false,
     "input": [
      "print(scipy.__version__, scipy.__file__)\n",
      "print(gensim.__version__, gensim.__file__)\n",
      "scipy.show_config()"
     ],
     "language": "python",
     "metadata": {},
     "outputs": [
      {
       "output_type": "stream",
       "stream": "stdout",
       "text": [
        "('0.12.0', '/Users/admin/Library/Enthought/Canopy_64bit/User/lib/python2.7/site-packages/scipy/__init__.pyc')\n",
        "('0.10.3', '/Users/admin/Library/Enthought/Canopy_64bit/User/lib/python2.7/site-packages/gensim/__init__.pyc')\n",
        "umfpack_info:\n",
        "  NOT AVAILABLE\n",
        "lapack_opt_info:\n",
        "    libraries = ['mkl_lapack95_lp64', 'mkl_intel_lp64', 'mkl_intel_thread', 'mkl_core', 'mkl_mc', 'mkl_mc3', 'pthread']\n",
        "    library_dirs = ['/Users/vagrant/src/master-env/lib']\n",
        "    define_macros = [('SCIPY_MKL_H', None)]\n",
        "    include_dirs = ['/Users/vagrant/src/master-env/include']\n",
        "blas_opt_info:\n",
        "    libraries = ['mkl_intel_lp64', 'mkl_intel_thread', 'mkl_core', 'mkl_mc', 'mkl_mc3', 'pthread']\n",
        "    library_dirs = ['/Users/vagrant/src/master-env/lib']\n",
        "    define_macros = [('SCIPY_MKL_H', None)]\n",
        "    include_dirs = ['/Users/vagrant/src/master-env/include']\n",
        "lapack_mkl_info:\n",
        "    libraries = ['mkl_lapack95_lp64', 'mkl_intel_lp64', 'mkl_intel_thread', 'mkl_core', 'mkl_mc', 'mkl_mc3', 'pthread']\n",
        "    library_dirs = ['/Users/vagrant/src/master-env/lib']\n",
        "    define_macros = [('SCIPY_MKL_H', None)]\n",
        "    include_dirs = ['/Users/vagrant/src/master-env/include']\n",
        "blas_mkl_info:\n",
        "    libraries = ['mkl_intel_lp64', 'mkl_intel_thread', 'mkl_core', 'mkl_mc', 'mkl_mc3', 'pthread']\n",
        "    library_dirs = ['/Users/vagrant/src/master-env/lib']\n",
        "    define_macros = [('SCIPY_MKL_H', None)]\n",
        "    include_dirs = ['/Users/vagrant/src/master-env/include']\n",
        "mkl_info:\n",
        "    libraries = ['mkl_intel_lp64', 'mkl_intel_thread', 'mkl_core', 'mkl_mc', 'mkl_mc3', 'pthread']\n",
        "    library_dirs = ['/Users/vagrant/src/master-env/lib']\n",
        "    define_macros = [('SCIPY_MKL_H', None)]\n",
        "    include_dirs = ['/Users/vagrant/src/master-env/include']\n"
       ]
      }
     ],
     "prompt_number": 6
    },
    {
     "cell_type": "heading",
     "level": 2,
     "metadata": {},
     "source": [
      "Check training data"
     ]
    },
    {
     "cell_type": "markdown",
     "metadata": {},
     "source": [
      "Make sure you have downloaded all necessary data files (again, see the [README](https://github.com/piskvorky/topic_modeling_tutorial/)):"
     ]
    },
    {
     "cell_type": "code",
     "collapsed": false,
     "input": [
      "!ls -lh ./data/"
     ],
     "language": "python",
     "metadata": {},
     "outputs": [
      {
       "output_type": "stream",
       "stream": "stdout",
       "text": [
        "total 1265824\r\n"
       ]
      },
      {
       "output_type": "stream",
       "stream": "stdout",
       "text": [
        "-rw-r--r--  1 admin  staff    14M Jan 22 17:27 20news-bydate.tar.gz\r\n",
        "-rw-r--r--  1 admin  staff   163B Jan 22 17:21 README.md\r\n",
        "-rw-r--r--  1 admin  staff   2.9M Jan 22 18:40 lda_wiki.model\r\n",
        "-rw-r--r--  1 admin  staff   2.0M Jan 22 18:40 lda_wiki.model.state\r\n",
        "-rw-r--r--  1 admin  staff   860K Jan 22 18:40 lsi_wiki.model\r\n",
        "-rw-r--r--  1 admin  staff    41M Jan 22 18:40 lsi_wiki.model.projection\r\n",
        "-rw-r--r--  1 admin  staff    95M Jan 22 17:31 simplewiki-20140623-pages-articles.xml.bz2\r\n",
        "-rw-r--r--  1 admin  staff   1.3M Jan 22 18:40 tfidf_wiki.model\r\n",
        "-rw-r--r--  1 admin  staff   860K Jan 22 18:40 wiki.dictionary\r\n",
        "-rw-r--r--  1 admin  staff    60M Jan 22 18:11 wiki_bow.mm\r\n",
        "-rw-r--r--  1 admin  staff   236K Jan 22 18:11 wiki_bow.mm.index\r\n",
        "-rw-r--r--  1 admin  staff    25M Jan 23 14:40 wiki_index.0\r\n",
        "-rw-r--r--  1 admin  staff    12M Jan 23 14:51 wiki_index.1\r\n",
        "-rw-r--r--  1 admin  staff   498B Jan 23 14:51 wiki_index.index\r\n",
        "-rw-r--r--  1 admin  staff   240M Jan 22 18:23 wiki_lsa.mm\r\n",
        "-rw-r--r--  1 admin  staff   236K Jan 22 18:23 wiki_lsa.mm.index\r\n",
        "-rw-r--r--  1 admin  staff   122M Jan 22 18:20 wiki_tfidf.mm\r\n",
        "-rw-r--r--  1 admin  staff   236K Jan 22 18:20 wiki_tfidf.mm.index\r\n"
       ]
      }
     ],
     "prompt_number": 7
    },
    {
     "cell_type": "markdown",
     "metadata": {},
     "source": [
      "You should see at least two entries there: `simplewiki-20140623-pages-articles.xml.bz2` and `20news-bydate.tar.gz`."
     ]
    },
    {
     "cell_type": "heading",
     "level": 2,
     "metadata": {},
     "source": [
      "Quick Python recap"
     ]
    },
    {
     "cell_type": "heading",
     "level": 4,
     "metadata": {},
     "source": [
      "Data streaming, generators, iterators"
     ]
    },
    {
     "cell_type": "markdown",
     "metadata": {},
     "source": [
      "Generators are a built-in way to iterate over a sequence **once**, without materializing all its elements at the same time:"
     ]
    },
    {
     "cell_type": "code",
     "collapsed": false,
     "input": [
      "def odd_numbers():\n",
      "    \"\"\"\n",
      "    Yield one odd number after another.\n",
      "    \n",
      "    Don't try to materialize its result in plain list, with `list(odd_numbers)`,\n",
      "    because the sequence is infinite and you'll run out of RAM!\n",
      "    \"\"\"\n",
      "    result = 1\n",
      "    while True:\n",
      "        yield result  # `yield` instead of `return`!\n",
      "        result += 2\n",
      "\n",
      "odd_numbers_generator = odd_numbers()\n",
      "\n",
      "for odd_number in odd_numbers_generator:\n",
      "    print(odd_number)\n",
      "    if odd_number > 10:\n",
      "        break"
     ],
     "language": "python",
     "metadata": {},
     "outputs": [
      {
       "output_type": "stream",
       "stream": "stdout",
       "text": [
        "1\n",
        "3\n",
        "5\n",
        "7\n",
        "9\n",
        "11\n"
       ]
      }
     ],
     "prompt_number": 11
    },
    {
     "cell_type": "markdown",
     "metadata": {},
     "source": [
      "We'll be using this pattern of \"generate a data point, process it, forget it\" often, because it allows us to bypass RAM limitations. With generators we can process huge text corpora in constant memory, using clever algorithms that don't mind operating one-data-point-at-a-time.\n",
      "\n",
      "This is in contrast to plain Python lists, Pandas frames or even NumPy and SciPy arrays, where the entire sequence must be known beforehand and mapped into (virtual) memory fully.\n",
      "\n",
      "Generators and iterators come at a cost: since we're only allowed to go one item after another, it's not possible to skip to the middle of the sequence. Unless we take care of it manually, there's no equivalent of randomly accessing an arbitrary element ala `list`s: `some_list[100]` will work, but `some_generator[100]` won't."
     ]
    },
    {
     "cell_type": "markdown",
     "metadata": {},
     "source": [
      "An iterable is like a generator (memory efficient), except it can be iterated over **multiple times**. To achieve that, we override the object's special `__iter__` method (which Python calls every time we loop over the object) to return a generator:"
     ]
    },
    {
     "cell_type": "code",
     "collapsed": false,
     "input": [
      "class OddNumbers(object):\n",
      "    def __iter__(self):\n",
      "        result = 1\n",
      "        while True:\n",
      "            yield result\n",
      "            result += 2\n",
      "\n",
      "odd_numbers_iterator = OddNumbers()\n",
      "\n",
      "for odd_number in odd_numbers_iterator:\n",
      "    print(odd_number)\n",
      "    if odd_number > 10:\n",
      "        break\n",
      "        \n"
     ],
     "language": "python",
     "metadata": {},
     "outputs": [
      {
       "output_type": "stream",
       "stream": "stdout",
       "text": [
        " 1\n",
        "3\n",
        "5\n",
        "7\n",
        "9\n",
        "11\n"
       ]
      }
     ],
     "prompt_number": 20
    },
    {
     "cell_type": "code",
     "collapsed": false,
     "input": [
      "# See the difference, by running this code again and again\n",
      "print odd_numbers_generator.next()\n",
      "for n in odd_numbers_iterator: \n",
      "    print n\n",
      "    break"
     ],
     "language": "python",
     "metadata": {},
     "outputs": [
      {
       "output_type": "stream",
       "stream": "stdout",
       "text": [
        "37\n",
        "1\n"
       ]
      }
     ],
     "prompt_number": 30
    },
    {
     "cell_type": "markdown",
     "metadata": {},
     "source": [
      "That's all we need to know for our purposes. For more info, read [Data streaming in Python: generators, iterators, iterables](http://radimrehurek.com/2014/03/data-streaming-in-python-generators-iterators-iterables/), or [Python's documentation for \"iterator types\"](https://docs.python.org/2/library/stdtypes.html#iterator-types)."
     ]
    },
    {
     "cell_type": "heading",
     "level": 4,
     "metadata": {},
     "source": [
      "NumPy & SciPy arrays"
     ]
    },
    {
     "cell_type": "markdown",
     "metadata": {},
     "source": [
      "NumPy is a 3rd party package (not built-in). **NumPy arrays are a concise and efficient way to represent a fixed-length list of numbers** (or, actually and uninterestingly for this tutorial, of any objects). Their power comes from pithy array slicing, even in multiple dimensions:"
     ]
    },
    {
     "cell_type": "code",
     "collapsed": false,
     "input": [
      "# create a 2D table of random numbers, with 10 rows and 5 columns\n",
      "x = numpy.random.rand(10, 5)\n",
      "\n",
      "print(x)"
     ],
     "language": "python",
     "metadata": {},
     "outputs": [
      {
       "output_type": "stream",
       "stream": "stdout",
       "text": [
        "[[ 0.63997183  0.93941413  0.155305    0.57044226  0.03879766]\n",
        " [ 0.60671301  0.84081736  0.7241001   0.14187499  0.66451102]\n",
        " [ 0.12377453  0.31768351  0.80228013  0.38227409  0.96133891]\n",
        " [ 0.5003798   0.98509038  0.87929863  0.65049364  0.13696849]\n",
        " [ 0.5925108   0.45598195  0.81025533  0.6795964   0.58354663]\n",
        " [ 0.54564866  0.22880631  0.15127325  0.82763474  0.67374951]\n",
        " [ 0.42777562  0.9953856   0.14139627  0.719424    0.28039013]\n",
        " [ 0.81137903  0.60753054  0.75019874  0.99149499  0.35924687]\n",
        " [ 0.75203169  0.95456598  0.32336276  0.9951474   0.78060373]\n",
        " [ 0.22731827  0.3353995   0.11144727  0.86953886  0.87335199]]\n"
       ]
      }
     ],
     "prompt_number": 31
    },
    {
     "cell_type": "code",
     "collapsed": false,
     "input": [
      "# print element in 3rd row and 2nd column\n",
      "print(x[2, 1])  "
     ],
     "language": "python",
     "metadata": {},
     "outputs": [
      {
       "output_type": "stream",
       "stream": "stdout",
       "text": [
        "0.31768350934\n"
       ]
      }
     ],
     "prompt_number": 32
    },
    {
     "cell_type": "code",
     "collapsed": false,
     "input": [
      "# print the entire 3rd row\n",
      "print(x[2])"
     ],
     "language": "python",
     "metadata": {},
     "outputs": [
      {
       "output_type": "stream",
       "stream": "stdout",
       "text": [
        "[ 0.12377453  0.31768351  0.80228013  0.38227409  0.96133891]\n"
       ]
      }
     ],
     "prompt_number": 33
    },
    {
     "cell_type": "code",
     "collapsed": false,
     "input": [
      "# print the entire 2nd column\n",
      "print(x[:, 1])"
     ],
     "language": "python",
     "metadata": {},
     "outputs": [
      {
       "output_type": "stream",
       "stream": "stdout",
       "text": [
        "[ 0.93941413  0.84081736  0.31768351  0.98509038  0.45598195  0.22880631\n",
        "  0.9953856   0.60753054  0.95456598  0.3353995 ]\n"
       ]
      }
     ],
     "prompt_number": 34
    },
    {
     "cell_type": "code",
     "collapsed": false,
     "input": [
      "# print a sub-table (rectangular region), starting at [0, 0] and ending at [4, 2] (exclusive)\n",
      "print(x[:4, :2])"
     ],
     "language": "python",
     "metadata": {},
     "outputs": [
      {
       "output_type": "stream",
       "stream": "stdout",
       "text": [
        "[[ 0.63997183  0.93941413]\n",
        " [ 0.60671301  0.84081736]\n",
        " [ 0.12377453  0.31768351]\n",
        " [ 0.5003798   0.98509038]]\n"
       ]
      }
     ],
     "prompt_number": 35
    },
    {
     "cell_type": "markdown",
     "metadata": {},
     "source": [
      "and the fact that the underlying implementation is written to be fast (in C, even plugging into fast BLAS where available)."
     ]
    },
    {
     "cell_type": "markdown",
     "metadata": {},
     "source": [
      "Similarly, the **3rd part SciPy package contains `scipy.sparse` arrays**, which are a way to represent vectors and matrices with assumed (implicit) zeros.\n",
      "\n",
      "`scipy.sparse` arrays are not as efficient as NumPy arrays, because they don't plug into BLAS and because their memory access patterns are more involved (cache misses). But not materializing the zeros explicitly can make a huge difference for very sparse arrays (lots of zeros). However, all non-zero values must still reside in memory, so ultimately, for large data, we still resort to generators and data streaming.\n",
      "\n",
      "A common pattern that we'll be using is **combining the efficiency of in-memory arrays** (numpy, scipy.sparse) with the **scalability of data streaming**. Instead of processing one document at a time (slow), or all documents at once (non-scalable), we'll be reading **a chunk of documents** into RAM (= as many documents as RAM allows), processing this chunk, then throwing it away and streaming a new chunk into RAM."
     ]
    },
    {
     "cell_type": "heading",
     "level": 3,
     "metadata": {},
     "source": [
      "Itertools"
     ]
    },
    {
     "cell_type": "markdown",
     "metadata": {},
     "source": [
      "A [built-in Python library](https://docs.python.org/2/library/itertools.html) for efficient work data streams (iterables, iterators, generators):"
     ]
    },
    {
     "cell_type": "code",
     "collapsed": false,
     "input": [
      "import itertools\n",
      "\n",
      "infinite_stream = OddNumbers()\n",
      "\n",
      "# compute the first 10 items (and no more) & print them\n",
      "print(list(itertools.islice(infinite_stream, 10)))\n",
      "\n",
      "# lazily concatenate streams; the result is also infinite\n",
      "concat_stream = itertools.chain('abcde', infinite_stream)\n",
      "print(list(itertools.islice(concat_stream, 15)))\n",
      "\n",
      "numbered_stream = enumerate(infinite_stream)  # also infinite\n",
      "print(list(itertools.islice(numbered_stream, 10)))\n",
      "\n",
      "# etc; see the itertools docs for more examples"
     ],
     "language": "python",
     "metadata": {},
     "outputs": [
      {
       "output_type": "stream",
       "stream": "stdout",
       "text": [
        "[1, 3, 5, 7, 9, 11, 13, 15, 17, 19]\n",
        "['a', 'b', 'c', 'd', 'e', 1, 3, 5, 7, 9, 11, 13, 15, 17, 19]\n",
        "[(0, 1), (1, 3), (2, 5), (3, 7), (4, 9), (5, 11), (6, 13), (7, 15), (8, 17), (9, 19)]\n"
       ]
      }
     ],
     "prompt_number": 37
    },
    {
     "cell_type": "markdown",
     "metadata": {},
     "source": [
      "The examples above show another useful pattern: take a small sample of the stream (e.g. the first ten elements) and convert them into plain Python list, with `list(islice(stream, 10))`. To convert an entire stream into list, simply `list(stream)` (watch out for RAM here though, especially with infinite streams!). Nothing beats the simplicity of `list(stream)` for debugging purposes."
     ]
    },
    {
     "cell_type": "heading",
     "level": 2,
     "metadata": {},
     "source": [
      "Notebooks"
     ]
    },
    {
     "cell_type": "markdown",
     "metadata": {},
     "source": [
      "At any point, you can save a notebook to disk by pressing `CTRL`+`s` (or `CMD`+`s`). This will **save all changes you've made to the notebook**, including cell outputs, locally to your disk.\n",
      "\n",
      "To discard your notebook changes, simply checkout the notebook file again from git (or extract it again from the repository ZIP archive). This will reset the notebook to its original state, **losing all your changes**."
     ]
    }
   ],
   "metadata": {}
  }
 ]
}