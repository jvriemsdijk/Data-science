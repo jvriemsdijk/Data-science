{
 "metadata": {
  "name": "",
  "signature": "sha256:5f072d0c394d3baa1e6c145a19709e2883aa15717657080979486798f6404c77"
 },
 "nbformat": 3,
 "nbformat_minor": 0,
 "worksheets": [
  {
   "cells": [
    {
     "cell_type": "markdown",
     "metadata": {},
     "source": [
      "# Topic modelling assignment\n",
      "\n",
      "\n",
      "## Introduction\n",
      "Let's use topic modelling to do classification. We will try to classify Reuters articles. See below how to get them and some first counts on the topics.\n",
      "\n",
      "<http://radimrehurek.com/2014/03/tutorial-on-mallet-in-python/> briefly describes how to run `gensim` on Reuters.\n",
      "\n",
      " \n",
      "\n",
      "Use the techniques you learned in the gensim tutorial to create good topic models. \n",
      "\n",
      "First we show how to get the corpus and inspect it. Then comes the assignment. "
     ]
    },
    {
     "cell_type": "markdown",
     "metadata": {},
     "source": [
      "## Import the Reuters corpus\n",
      "* And do some quick inspections"
     ]
    },
    {
     "cell_type": "code",
     "collapsed": false,
     "input": [
      "# imports and settings\n",
      "%matplotlib inline\n",
      "\n",
      "import re,pprint,nltk\n",
      "from __future__ import division\n",
      "from nltk.corpus import reuters\n",
      "import pandas as pd\n",
      "import matplotlib.pyplot as plt\n",
      "\n",
      "# sets the graphs to a larger size\n",
      "plt.rcParams['figure.figsize'] = (18, 8)"
     ],
     "language": "python",
     "metadata": {},
     "outputs": [],
     "prompt_number": 2
    },
    {
     "cell_type": "code",
     "collapsed": false,
     "input": [
      "# make a corpus of all words in the test files\n",
      "testIDs= [w for w in reuters.fileids() if w.startswith('test')]\n",
      "testWords=reuters.words(testIDs)\n",
      "testWords[:5]"
     ],
     "language": "python",
     "metadata": {},
     "outputs": [
      {
       "metadata": {},
       "output_type": "pyout",
       "prompt_number": 3,
       "text": [
        "[u'ASIAN', u'EXPORTERS', u'FEAR', u'DAMAGE', u'FROM']"
       ]
      }
     ],
     "prompt_number": 3
    },
    {
     "cell_type": "markdown",
     "metadata": {},
     "source": [
      "How many categories do we have in reuters?"
     ]
    },
    {
     "cell_type": "code",
     "collapsed": false,
     "input": [
      "len(reuters.categories())"
     ],
     "language": "python",
     "metadata": {},
     "outputs": [
      {
       "metadata": {},
       "output_type": "pyout",
       "prompt_number": 4,
       "text": [
        "90"
       ]
      }
     ],
     "prompt_number": 4
    },
    {
     "cell_type": "markdown",
     "metadata": {},
     "source": [
      "How to get the categories of a file?"
     ]
    },
    {
     "cell_type": "code",
     "collapsed": false,
     "input": [
      "testfile = reuters.fileids()[2]\n",
      "cats= reuters.categories(testfile)\n",
      "\n",
      "print \"%s has these categories: %s\" % (testfile, ', '.join(cats))"
     ],
     "language": "python",
     "metadata": {},
     "outputs": [
      {
       "output_type": "stream",
       "stream": "stdout",
       "text": [
        "test/14829 has these categories: crude, nat-gas\n"
       ]
      }
     ],
     "prompt_number": 5
    },
    {
     "cell_type": "markdown",
     "metadata": {},
     "source": [
      "How often does each category occur?"
     ]
    },
    {
     "cell_type": "code",
     "collapsed": false,
     "input": [
      "CatCounts = {cat:len(reuters.fileids(cat)) for cat in reuters.categories()}\n",
      "# test:\n",
      "#CatCounts.items()[:5]\n",
      "CatCountsPD = pd.Series(CatCounts)\n",
      "CatCountsPD.sort(ascending=False)\n",
      "CatCountsPD.head(20).plot()"
     ],
     "language": "python",
     "metadata": {},
     "outputs": [
      {
       "metadata": {},
       "output_type": "pyout",
       "prompt_number": 6,
       "text": [
        "<matplotlib.axes.AxesSubplot at 0x113c50950>"
       ]
      },
      {
       "metadata": {},
       "output_type": "display_data",
       "png": "[encoded data removed]",
       "text": [
        "<matplotlib.figure.Figure at 0x113c50510>"
       ]
      }
     ],
     "prompt_number": 6
    },
    {
     "cell_type": "markdown",
     "metadata": {},
     "source": [
      "## Assignment"
     ]
    },
    {
     "cell_type": "markdown",
     "metadata": {},
     "source": [
      "### Q1 How many topics are there for each Reuters article?\n",
      "Reuters articles can be assigned several topics. \n",
      "\n",
      "1. Count for each number _n_ how many articles have _n_ many topics assigned.\n",
      "2. Determine the top 10 most common combinations of topics, and show how many articles each combination has.\n",
      "3. Present your results also using a good graphic or plot.\n",
      "4. Summarize your results."
     ]
    },
    {
     "cell_type": "code",
     "collapsed": false,
     "input": [
      "# 1. Count for each number of topics how many articles have so many topics assigned.\n",
      "catDict = {}\n",
      "for fileid in reuters.fileids():\n",
      "    \n",
      "    if str(len(reuters.categories(fileid))) in catDict.keys():\n",
      "        catDict[str(len(reuters.categories(fileid)))] += 1\n",
      "    else:\n",
      "        catDict[str(len(reuters.categories(fileid)))] = 1\n",
      "    \n",
      "catDict"
     ],
     "language": "python",
     "metadata": {},
     "outputs": [
      {
       "metadata": {},
       "output_type": "pyout",
       "prompt_number": 7,
       "text": [
        "{'1': 9160,\n",
        " '10': 3,\n",
        " '11': 2,\n",
        " '12': 1,\n",
        " '14': 2,\n",
        " '15': 1,\n",
        " '2': 1173,\n",
        " '3': 255,\n",
        " '4': 91,\n",
        " '5': 52,\n",
        " '6': 27,\n",
        " '7': 9,\n",
        " '8': 7,\n",
        " '9': 5}"
       ]
      }
     ],
     "prompt_number": 7
    },
    {
     "cell_type": "code",
     "collapsed": false,
     "input": [
      "# 2. Determine the top 10 most common combinations of topics, and show how many articles each combination has."
     ],
     "language": "python",
     "metadata": {},
     "outputs": [],
     "prompt_number": 6
    },
    {
     "cell_type": "code",
     "collapsed": false,
     "input": [
      "# 3. Present your results also using a good graphic or plot."
     ],
     "language": "python",
     "metadata": {},
     "outputs": [],
     "prompt_number": 7
    },
    {
     "cell_type": "markdown",
     "metadata": {},
     "source": [
      "#### Summary"
     ]
    },
    {
     "cell_type": "markdown",
     "metadata": {},
     "source": [
      "### Q2 Topic modelling\n",
      "\n",
      "1. Create a function which builds a topic model from a part of  the Reuters collection. Give it good parameters (the number of topics, a list of fileids, $\\ldots$\n",
      "2. Create a function which assigns topics to a text, using a topic model.\n",
      "3. Show that your function works well. Do a \"sniff test\" too."
     ]
    },
    {
     "cell_type": "code",
     "collapsed": false,
     "input": [
      "# Q2"
     ],
     "language": "python",
     "metadata": {},
     "outputs": [],
     "prompt_number": 8
    },
    {
     "cell_type": "markdown",
     "metadata": {},
     "source": [
      "### Q3 Evaluation\n",
      "\n",
      "1. Run your topic model on all Reuters articles. Thus you do a dimensionality reduction. Each article is now represented as a probability distribution over topics. \n",
      "    * Load that dataset as a pandas dataframe in which each row is an article, and each column is a topic.\n",
      "    * Print some useful statistics, which show how the topics are distributed over the complete collection. **Explain** what your numbers say. You may compare them to similar measures done on the Reuters categories.\n",
      "1. As in Table 1 of <http://www.cs.gmu.edu/~carlotta/publications/ECML09_AlSumaitetal.pdf>, make a table in which you connect the topics that you found (represented by their top k words) to the Categories in Reuters. Do this for about 8 topics, having 5 \"good\" ones and the other \"bad\".\n",
      "    * Add two  columns in which you put the number of articles which are assigned this Category, and the number of articles for which this is the most probable topic.\n",
      "    * Make the table using a Python function. Make it in MarkDown syntax (see below for an example).\n",
      "1. Now for the 5 topics that you connected to a Reuters category, do for each topic, category pair (t,c)\n",
      "    * what percentage of articles which are in category c have t as their most probable topic? (recall, in Dutch:  _pakkans_)\n",
      "    * what percentage of articles which are **not** in category c have t as their most probable topic? (false hits, or miss rate)\n",
      "    * Show these results in an intuitive way.\n",
      "    * Compute the _mean recall and mean miss rate_, by averaging over all  (t,c) pairs that you consider. \n",
      "\n"
     ]
    },
    {
     "cell_type": "code",
     "collapsed": false,
     "input": [
      "#Q3.1"
     ],
     "language": "python",
     "metadata": {},
     "outputs": [],
     "prompt_number": 9
    },
    {
     "cell_type": "code",
     "collapsed": false,
     "input": [
      "#Q3.2"
     ],
     "language": "python",
     "metadata": {},
     "outputs": [],
     "prompt_number": 10
    },
    {
     "cell_type": "code",
     "collapsed": false,
     "input": [
      "#Q3.3"
     ],
     "language": "python",
     "metadata": {},
     "outputs": [],
     "prompt_number": 11
    },
    {
     "cell_type": "markdown",
     "metadata": {},
     "source": [
      "### Q4 Improve\n",
      "Now you want to improve your recall and precision. You do that by trying out the effect of several parameters and of linguistic processing and corpus selection.\n",
      "\n",
      "For each of the _\"tweaks\"_ below, clearly describe why you thought it would help, and then if it did. Always compare to your baseline from the previous question. You can present the results easily in a table like this:\n",
      "\n",
      "| **system** | **recall** | **miss rate** \n",
      "| :-------: | ------: | -----:|\n",
      "| baseline | .45 | .35 |\n",
      "| stemming | |\n",
      "| lemmatization | | \n",
      "\n",
      "While tweaking it is of course good to look at the means, but also it is good to compare the effect of your tweaks on the individual category-topic pairs. It is handy to have a function for that.\n",
      "\n",
      "1. Use linguistic processing (stemming, lemmatization, part-of-speech tagging and selecting only words of specific type(s)), and show the effect of that on your recall and precision scores. \n",
      "1. Take a subset of the Reuters corpus, explain why you think that would improve your results, and show the effect. \n",
      "    * You can train the model on a subset, and also evaluate on a subset.\n",
      "1. Think of another parameter that you may tweak and show the effect."
     ]
    },
    {
     "cell_type": "code",
     "collapsed": false,
     "input": [
      "#Q4"
     ],
     "language": "python",
     "metadata": {},
     "outputs": [],
     "prompt_number": 12
    }
   ],
   "metadata": {}
  }
 ]
}