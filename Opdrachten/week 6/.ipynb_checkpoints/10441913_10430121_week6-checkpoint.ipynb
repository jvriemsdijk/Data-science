{
 "metadata": {
  "name": "",
  "signature": "sha256:0973e22019c77ba99f59c64fad94e40026fe7e26ea326a3c4703cc247200b471"
 },
 "nbformat": 3,
 "nbformat_minor": 0,
 "worksheets": [
  {
   "cells": [
    {
     "cell_type": "markdown",
     "metadata": {},
     "source": [
      "# Topic modelling assignment\n",
      "\n",
      "\n",
      "## Introduction\n",
      "Let's use topic modelling to do classification. We will try to classify Reuters articles. See below how to get them and some first counts on the topics.\n",
      "\n",
      "<http://radimrehurek.com/2014/03/tutorial-on-mallet-in-python/> briefly describes how to run `gensim` on Reuters.\n",
      "\n",
      " \n",
      "\n",
      "Use the techniques you learned in the gensim tutorial to create good topic models. \n",
      "\n",
      "First we show how to get the corpus and inspect it. Then comes the assignment. "
     ]
    },
    {
     "cell_type": "markdown",
     "metadata": {},
     "source": [
      "## Import the Reuters corpus\n",
      "* And do some quick inspections"
     ]
    },
    {
     "cell_type": "code",
     "collapsed": false,
     "input": [
      "# imports and settings\n",
      "%matplotlib inline\n",
      "\n",
      "import re,pprint,nltk\n",
      "from __future__ import division\n",
      "from nltk.corpus import reuters, stopwords\n",
      "from nltk.tokenize import RegexpTokenizer, sent_tokenize\n",
      "import pandas as pd\n",
      "import matplotlib.pyplot as plt\n",
      "from gensim import corpora, models, similarities\n",
      "\n",
      "# sets the graphs to a larger size\n",
      "plt.rcParams['figure.figsize'] = (18, 8)"
     ],
     "language": "python",
     "metadata": {},
     "outputs": [
      {
       "ename": "ImportError",
       "evalue": "No module named gensim",
       "output_type": "pyerr",
       "traceback": [
        "\u001b[1;31m---------------------------------------------------------------------------\u001b[0m\n\u001b[1;31mImportError\u001b[0m                               Traceback (most recent call last)",
        "\u001b[1;32m<ipython-input-30-ad7fb86aa44c>\u001b[0m in \u001b[0;36m<module>\u001b[1;34m()\u001b[0m\n\u001b[0;32m      8\u001b[0m \u001b[1;32mimport\u001b[0m \u001b[0mpandas\u001b[0m \u001b[1;32mas\u001b[0m \u001b[0mpd\u001b[0m\u001b[1;33m\u001b[0m\u001b[0m\n\u001b[0;32m      9\u001b[0m \u001b[1;32mimport\u001b[0m \u001b[0mmatplotlib\u001b[0m\u001b[1;33m.\u001b[0m\u001b[0mpyplot\u001b[0m \u001b[1;32mas\u001b[0m \u001b[0mplt\u001b[0m\u001b[1;33m\u001b[0m\u001b[0m\n\u001b[1;32m---> 10\u001b[1;33m \u001b[1;32mfrom\u001b[0m \u001b[0mgensim\u001b[0m \u001b[1;32mimport\u001b[0m \u001b[0mcorpora\u001b[0m\u001b[1;33m,\u001b[0m \u001b[0mmodels\u001b[0m\u001b[1;33m,\u001b[0m \u001b[0msimilarities\u001b[0m\u001b[1;33m\u001b[0m\u001b[0m\n\u001b[0m\u001b[0;32m     11\u001b[0m \u001b[1;33m\u001b[0m\u001b[0m\n\u001b[0;32m     12\u001b[0m \u001b[1;31m# sets the graphs to a larger size\u001b[0m\u001b[1;33m\u001b[0m\u001b[1;33m\u001b[0m\u001b[0m\n",
        "\u001b[1;31mImportError\u001b[0m: No module named gensim"
       ]
      }
     ],
     "prompt_number": 30
    },
    {
     "cell_type": "code",
     "collapsed": false,
     "input": [
      "# make a corpus of all words in the test files\n",
      "testIDs= [w for w in reuters.fileids() if w.startswith('test')]\n",
      "testWords=reuters.words(testIDs)\n",
      "testWords[:5]"
     ],
     "language": "python",
     "metadata": {},
     "outputs": [
      {
       "metadata": {},
       "output_type": "pyout",
       "prompt_number": 17,
       "text": [
        "[u'ASIAN', u'EXPORTERS', u'FEAR', u'DAMAGE', u'FROM']"
       ]
      }
     ],
     "prompt_number": 17
    },
    {
     "cell_type": "markdown",
     "metadata": {},
     "source": [
      "How many categories do we have in reuters?"
     ]
    },
    {
     "cell_type": "code",
     "collapsed": false,
     "input": [
      "len(reuters.categories())"
     ],
     "language": "python",
     "metadata": {},
     "outputs": [
      {
       "metadata": {},
       "output_type": "pyout",
       "prompt_number": 18,
       "text": [
        "90"
       ]
      }
     ],
     "prompt_number": 18
    },
    {
     "cell_type": "markdown",
     "metadata": {},
     "source": [
      "How to get the categories of a file?"
     ]
    },
    {
     "cell_type": "code",
     "collapsed": false,
     "input": [
      "testfile = reuters.fileids()[2]\n",
      "cats= reuters.categories(testfile)\n",
      "\n",
      "print \"%s has these categories: %s\" % (testfile, ', '.join(cats))"
     ],
     "language": "python",
     "metadata": {},
     "outputs": [
      {
       "output_type": "stream",
       "stream": "stdout",
       "text": [
        "test/14829 has these categories: crude, nat-gas\n"
       ]
      }
     ],
     "prompt_number": 19
    },
    {
     "cell_type": "markdown",
     "metadata": {},
     "source": [
      "How often does each category occur?"
     ]
    },
    {
     "cell_type": "code",
     "collapsed": false,
     "input": [
      "CatCounts = {cat:len(reuters.fileids(cat)) for cat in reuters.categories()}\n",
      "# test:\n",
      "#CatCounts.items()[:5]\n",
      "CatCountsPD = pd.Series(CatCounts)\n",
      "CatCountsPD.sort(ascending=False)\n",
      "CatCountsPD.head(20).plot()"
     ],
     "language": "python",
     "metadata": {},
     "outputs": [
      {
       "metadata": {},
       "output_type": "pyout",
       "prompt_number": 20,
       "text": [
        "<matplotlib.axes._subplots.AxesSubplot at 0x14de9f98>"
       ]
      },
      {
       "metadata": {},
       "output_type": "display_data",
       "png": "[encoded data removed]",
       "text": [
        "<matplotlib.figure.Figure at 0x14de9be0>"
       ]
      }
     ],
     "prompt_number": 20
    },
    {
     "cell_type": "markdown",
     "metadata": {},
     "source": [
      "## Assignment"
     ]
    },
    {
     "cell_type": "markdown",
     "metadata": {},
     "source": [
      "### Q1 How many topics are there for each Reuters article?\n",
      "Reuters articles can be assigned several topics. \n",
      "\n",
      "1. Count for each number _n_ how many articles have _n_ many topics assigned.\n",
      "2. Determine the top 10 most common combinations of topics, and show how many articles each combination has.\n",
      "3. Present your results also using a good graphic or plot.\n",
      "4. Summarize your results."
     ]
    },
    {
     "cell_type": "code",
     "collapsed": false,
     "input": [
      "# 1. Count for each number of topics how many articles have so many topics assigned.\n",
      "nCatDict = {}\n",
      "for fileid in reuters.fileids():\n",
      "    \n",
      "    if len(reuters.categories(fileid)) in nCatDict.keys():\n",
      "        nCatDict[len(reuters.categories(fileid))] += 1\n",
      "    else:\n",
      "        nCatDict[(len(reuters.categories(fileid)))] = 1\n",
      "    \n",
      "nCatDF = pd.DataFrame.from_dict(nCatDict, orient='index')\n",
      "nCatDF.index.name = 'N'\n",
      "nCatDF.columns = ['Number of articles']\n",
      "nCatDF.sort_index()\n",
      "nCatDF"
     ],
     "language": "python",
     "metadata": {},
     "outputs": [
      {
       "html": [
        "<div style=\"max-height:1000px;max-width:1500px;overflow:auto;\">\n",
        "<table border=\"1\" class=\"dataframe\">\n",
        "  <thead>\n",
        "    <tr style=\"text-align: right;\">\n",
        "      <th></th>\n",
        "      <th>Number of articles</th>\n",
        "    </tr>\n",
        "    <tr>\n",
        "      <th>N</th>\n",
        "      <th></th>\n",
        "    </tr>\n",
        "  </thead>\n",
        "  <tbody>\n",
        "    <tr>\n",
        "      <th>1 </th>\n",
        "      <td> 9160</td>\n",
        "    </tr>\n",
        "    <tr>\n",
        "      <th>2 </th>\n",
        "      <td> 1173</td>\n",
        "    </tr>\n",
        "    <tr>\n",
        "      <th>3 </th>\n",
        "      <td>  255</td>\n",
        "    </tr>\n",
        "    <tr>\n",
        "      <th>4 </th>\n",
        "      <td>   91</td>\n",
        "    </tr>\n",
        "    <tr>\n",
        "      <th>5 </th>\n",
        "      <td>   52</td>\n",
        "    </tr>\n",
        "    <tr>\n",
        "      <th>6 </th>\n",
        "      <td>   27</td>\n",
        "    </tr>\n",
        "    <tr>\n",
        "      <th>7 </th>\n",
        "      <td>    9</td>\n",
        "    </tr>\n",
        "    <tr>\n",
        "      <th>8 </th>\n",
        "      <td>    7</td>\n",
        "    </tr>\n",
        "    <tr>\n",
        "      <th>9 </th>\n",
        "      <td>    5</td>\n",
        "    </tr>\n",
        "    <tr>\n",
        "      <th>10</th>\n",
        "      <td>    3</td>\n",
        "    </tr>\n",
        "    <tr>\n",
        "      <th>11</th>\n",
        "      <td>    2</td>\n",
        "    </tr>\n",
        "    <tr>\n",
        "      <th>12</th>\n",
        "      <td>    1</td>\n",
        "    </tr>\n",
        "    <tr>\n",
        "      <th>14</th>\n",
        "      <td>    2</td>\n",
        "    </tr>\n",
        "    <tr>\n",
        "      <th>15</th>\n",
        "      <td>    1</td>\n",
        "    </tr>\n",
        "  </tbody>\n",
        "</table>\n",
        "</div>"
       ],
       "metadata": {},
       "output_type": "pyout",
       "prompt_number": 21,
       "text": [
        "    Number of articles\n",
        "N                     \n",
        "1                 9160\n",
        "2                 1173\n",
        "3                  255\n",
        "4                   91\n",
        "5                   52\n",
        "6                   27\n",
        "7                    9\n",
        "8                    7\n",
        "9                    5\n",
        "10                   3\n",
        "11                   2\n",
        "12                   1\n",
        "14                   2\n",
        "15                   1"
       ]
      }
     ],
     "prompt_number": 21
    },
    {
     "cell_type": "code",
     "collapsed": false,
     "input": [
      "# 2. Determine the top 10 most common combinations of topics, and show how many articles each combination has.\n",
      "catDict = {}\n",
      "\n",
      "for fileid in reuters.fileids():\n",
      "    categories = sorted(reuters.categories(fileid))\n",
      "    key = ', '.join(map(str, categories))\n",
      "    \n",
      "    if key in catDict.keys():\n",
      "        catDict[key] += 1\n",
      "    else:\n",
      "        catDict[key] = 1\n",
      "\n",
      "\n",
      "catDF = pd.DataFrame.from_dict(catDict, orient='index')\n",
      "catDF.index.name = 'Categories'\n",
      "catDF.columns = ['Number of articles']\n",
      "catDF = catDF.sort(columns='Number of articles', ascending=False)\n",
      "\n",
      "top10catDF = catDF.head(10)\n",
      "top10catDF"
     ],
     "language": "python",
     "metadata": {},
     "outputs": [
      {
       "html": [
        "<div style=\"max-height:1000px;max-width:1500px;overflow:auto;\">\n",
        "<table border=\"1\" class=\"dataframe\">\n",
        "  <thead>\n",
        "    <tr style=\"text-align: right;\">\n",
        "      <th></th>\n",
        "      <th>Number of articles</th>\n",
        "    </tr>\n",
        "    <tr>\n",
        "      <th>Categories</th>\n",
        "      <th></th>\n",
        "    </tr>\n",
        "  </thead>\n",
        "  <tbody>\n",
        "    <tr>\n",
        "      <th>earn</th>\n",
        "      <td> 3923</td>\n",
        "    </tr>\n",
        "    <tr>\n",
        "      <th>acq</th>\n",
        "      <td> 2292</td>\n",
        "    </tr>\n",
        "    <tr>\n",
        "      <th>crude</th>\n",
        "      <td>  374</td>\n",
        "    </tr>\n",
        "    <tr>\n",
        "      <th>trade</th>\n",
        "      <td>  326</td>\n",
        "    </tr>\n",
        "    <tr>\n",
        "      <th>money-fx</th>\n",
        "      <td>  309</td>\n",
        "    </tr>\n",
        "    <tr>\n",
        "      <th>interest</th>\n",
        "      <td>  272</td>\n",
        "    </tr>\n",
        "    <tr>\n",
        "      <th>interest, money-fx</th>\n",
        "      <td>  167</td>\n",
        "    </tr>\n",
        "    <tr>\n",
        "      <th>money-supply</th>\n",
        "      <td>  151</td>\n",
        "    </tr>\n",
        "    <tr>\n",
        "      <th>grain, wheat</th>\n",
        "      <td>  150</td>\n",
        "    </tr>\n",
        "    <tr>\n",
        "      <th>ship</th>\n",
        "      <td>  144</td>\n",
        "    </tr>\n",
        "  </tbody>\n",
        "</table>\n",
        "</div>"
       ],
       "metadata": {},
       "output_type": "pyout",
       "prompt_number": 22,
       "text": [
        "                    Number of articles\n",
        "Categories                            \n",
        "earn                              3923\n",
        "acq                               2292\n",
        "crude                              374\n",
        "trade                              326\n",
        "money-fx                           309\n",
        "interest                           272\n",
        "interest, money-fx                 167\n",
        "money-supply                       151\n",
        "grain, wheat                       150\n",
        "ship                               144"
       ]
      }
     ],
     "prompt_number": 22
    },
    {
     "cell_type": "code",
     "collapsed": false,
     "input": [
      "# 3. Present your results also using a good graphic or plot.\n",
      "top10catDF.plot(kind='bar')"
     ],
     "language": "python",
     "metadata": {},
     "outputs": [
      {
       "metadata": {},
       "output_type": "pyout",
       "prompt_number": 23,
       "text": [
        "<matplotlib.axes._subplots.AxesSubplot at 0x14eee320>"
       ]
      },
      {
       "metadata": {},
       "output_type": "display_data",
       "png": "[encoded data removed]",
       "text": [
        "<matplotlib.figure.Figure at 0x150e7128>"
       ]
      }
     ],
     "prompt_number": 23
    },
    {
     "cell_type": "markdown",
     "metadata": {},
     "source": [
      "### Summary\n",
      "\n",
      "Through the use of a dataframe, we're able to draw conclusions from the data. For example, most articles are atleast partially linked to earning or aqcuiring. Earning is as much as ten times more used than the third topic, crude.\n",
      "\n",
      "A quick inspection shows us that most articles are related to trading and business.\n",
      "\n",
      "Another conclusion we can draw is that most articles have one, max two topics. There is only one article that has 15 different topics."
     ]
    },
    {
     "cell_type": "markdown",
     "metadata": {},
     "source": [
      "### Q2 Topic modelling\n",
      "\n",
      "1. Create a function which builds a topic model from a part of  the Reuters collection. Give it good parameters (the number of topics, a list of fileids, $\\ldots$\n",
      "2. Create a function which assigns topics to a text, using a topic model.\n",
      "3. Show that your function works well. Do a \"sniff test\" too."
     ]
    },
    {
     "cell_type": "code",
     "collapsed": false,
     "input": [
      "# Q2\n",
      "def tokenizeText(text):\n",
      "    \"\"\"\n",
      "    Simple helper method which tokenizes the given text, and removes stopwords & unique words.\n",
      "    \"\"\"\n",
      "\n",
      "    # create a tokenizer for punctuation and whitespaces\n",
      "    tokenizer = RegexpTokenizer(r'\\w+')\n",
      "    \n",
      "    # tokenizes the text and excludes stopwords\n",
      "    stopList = stopwords.words('english')\n",
      "    tokenList = []\n",
      "    for sent in sent_tokenize(text):\n",
      "        for word in tokenizer.tokenize(sent.lower()):\n",
      "            if word not in stopList:\n",
      "                tokenList.append(word)\n",
      "                \n",
      "                \n",
      "    # remove words that appear only once\n",
      "    tokensOnce = set(word for word in set(tokenList) if tokenList.count(word) == 1)\n",
      "    answer = [word for word in tokenList if word not in tokensOnce]\n",
      "                \n",
      "    return answer\n",
      "\n",
      "# test the tokenizer\n",
      "print tokenizeText('This is a test of the tokenizer. This should be able to deal with the correct usage of the tokenizer. Should also return some test values.')"
     ],
     "language": "python",
     "metadata": {},
     "outputs": [
      {
       "output_type": "stream",
       "stream": "stdout",
       "text": [
        "['test', 'tokenizer', 'tokenizer', 'test']\n"
       ]
      }
     ],
     "prompt_number": 25
    },
    {
     "cell_type": "code",
     "collapsed": false,
     "input": [
      "def createTopicModel(nTopics, fileIds):\n",
      "    \"\"\"\n",
      "    Method which builds a topic model with a number of topics equal to nTopics,\n",
      "    and for each reuters article of which the fileId is in fileIds.\n",
      "    \n",
      "    The tokenization of the articles is based on the way the gensim tutoral \n",
      "    does so for its \n",
      "    \"\"\"\n",
      "    \n",
      "    answer = {}\n",
      "    articleList =[]\n",
      "    \n",
      "    for fileId in fileIds:\n",
      "        \n",
      "        article = reuters.open(fileId)\n",
      "        article = article.read()\n",
      "        articleList.append(tokenizeText(article))\n",
      "    \n",
      "    dictionary = corpora.Dictionary(articleList)\n",
      "        \n",
      "    \n",
      "    return dictionary\n",
      "    # http://radimrehurek.com/gensim/tut1.html#from-strings-to-vectors\n",
      "    \n",
      "    # we moeten een lijst van alle woorden gaan maken => kan blijkbaar ook met gensim\n",
      "    # van deze lijst een dict maken welke ieder woord een id geeft => kan blijkbaar ook met gensim\n",
      "    # adhv de dict gaan we een bag of words maken van alle files waarvan we het fileid hebben => gensim\n",
      "    # met gensim een corpus uit je mouw schudden\n",
      "    # met gensim een model hiermee maken\n",
      "    # evt dimentie reductie\n",
      "    # ???\n",
      "    # profit aka return => een kansverdeling over alle topics per artikel\n",
      "test = createTopicModel(1, reuters.fileids()[:10])\n",
      "print test.token2id"
     ],
     "language": "python",
     "metadata": {},
     "outputs": [
      {
       "ename": "NameError",
       "evalue": "global name 'corpora' is not defined",
       "output_type": "pyerr",
       "traceback": [
        "\u001b[1;31m---------------------------------------------------------------------------\u001b[0m\n\u001b[1;31mNameError\u001b[0m                                 Traceback (most recent call last)",
        "\u001b[1;32m<ipython-input-29-21f65533ce4d>\u001b[0m in \u001b[0;36m<module>\u001b[1;34m()\u001b[0m\n\u001b[0;32m     31\u001b[0m     \u001b[1;31m# ???\u001b[0m\u001b[1;33m\u001b[0m\u001b[1;33m\u001b[0m\u001b[0m\n\u001b[0;32m     32\u001b[0m     \u001b[1;31m# profit aka return => een kansverdeling over alle topics per artikel\u001b[0m\u001b[1;33m\u001b[0m\u001b[1;33m\u001b[0m\u001b[0m\n\u001b[1;32m---> 33\u001b[1;33m \u001b[0mtest\u001b[0m \u001b[1;33m=\u001b[0m \u001b[0mcreateTopicModel\u001b[0m\u001b[1;33m(\u001b[0m\u001b[1;36m1\u001b[0m\u001b[1;33m,\u001b[0m \u001b[0mreuters\u001b[0m\u001b[1;33m.\u001b[0m\u001b[0mfileids\u001b[0m\u001b[1;33m(\u001b[0m\u001b[1;33m)\u001b[0m\u001b[1;33m[\u001b[0m\u001b[1;33m:\u001b[0m\u001b[1;36m10\u001b[0m\u001b[1;33m]\u001b[0m\u001b[1;33m)\u001b[0m\u001b[1;33m\u001b[0m\u001b[0m\n\u001b[0m\u001b[0;32m     34\u001b[0m \u001b[1;32mprint\u001b[0m \u001b[0mtest\u001b[0m\u001b[1;33m.\u001b[0m\u001b[0mtoken2id\u001b[0m\u001b[1;33m\u001b[0m\u001b[0m\n",
        "\u001b[1;32m<ipython-input-29-21f65533ce4d>\u001b[0m in \u001b[0;36mcreateTopicModel\u001b[1;34m(nTopics, fileIds)\u001b[0m\n\u001b[0;32m     17\u001b[0m         \u001b[0marticleList\u001b[0m\u001b[1;33m.\u001b[0m\u001b[0mappend\u001b[0m\u001b[1;33m(\u001b[0m\u001b[0mtokenizeText\u001b[0m\u001b[1;33m(\u001b[0m\u001b[0marticle\u001b[0m\u001b[1;33m)\u001b[0m\u001b[1;33m)\u001b[0m\u001b[1;33m\u001b[0m\u001b[0m\n\u001b[0;32m     18\u001b[0m \u001b[1;33m\u001b[0m\u001b[0m\n\u001b[1;32m---> 19\u001b[1;33m     \u001b[0mdictionary\u001b[0m \u001b[1;33m=\u001b[0m \u001b[0mcorpora\u001b[0m\u001b[1;33m.\u001b[0m\u001b[0mDictionary\u001b[0m\u001b[1;33m(\u001b[0m\u001b[0marticleList\u001b[0m\u001b[1;33m)\u001b[0m\u001b[1;33m\u001b[0m\u001b[0m\n\u001b[0m\u001b[0;32m     20\u001b[0m \u001b[1;33m\u001b[0m\u001b[0m\n\u001b[0;32m     21\u001b[0m \u001b[1;33m\u001b[0m\u001b[0m\n",
        "\u001b[1;31mNameError\u001b[0m: global name 'corpora' is not defined"
       ]
      }
     ],
     "prompt_number": 29
    },
    {
     "cell_type": "markdown",
     "metadata": {},
     "source": [
      "### Q3 Evaluation\n",
      "\n",
      "1. Run your topic model on all Reuters articles. Thus you do a dimensionality reduction. Each article is now represented as a probability distribution over topics. \n",
      "    * Load that dataset as a pandas dataframe in which each row is an article, and each column is a topic.\n",
      "    * Print some useful statistics, which show how the topics are distributed over the complete collection. **Explain** what your numbers say. You may compare them to similar measures done on the Reuters categories.\n",
      "1. As in Table 1 of <http://www.cs.gmu.edu/~carlotta/publications/ECML09_AlSumaitetal.pdf>, make a table in which you connect the topics that you found (represented by their top k words) to the Categories in Reuters. Do this for about 8 topics, having 5 \"good\" ones and the other \"bad\".\n",
      "    * Add two  columns in which you put the number of articles which are assigned this Category, and the number of articles for which this is the most probable topic.\n",
      "    * Make the table using a Python function. Make it in MarkDown syntax (see below for an example).\n",
      "1. Now for the 5 topics that you connected to a Reuters category, do for each topic, category pair (t,c)\n",
      "    * what percentage of articles which are in category c have t as their most probable topic? (recall, in Dutch:  _pakkans_)\n",
      "    * what percentage of articles which are **not** in category c have t as their most probable topic? (false hits, or miss rate)\n",
      "    * Show these results in an intuitive way.\n",
      "    * Compute the _mean recall and mean miss rate_, by averaging over all  (t,c) pairs that you consider. \n",
      "\n"
     ]
    },
    {
     "cell_type": "code",
     "collapsed": false,
     "input": [
      "#Q3.1"
     ],
     "language": "python",
     "metadata": {},
     "outputs": [],
     "prompt_number": 9
    },
    {
     "cell_type": "code",
     "collapsed": false,
     "input": [
      "#Q3.2"
     ],
     "language": "python",
     "metadata": {},
     "outputs": [],
     "prompt_number": 10
    },
    {
     "cell_type": "code",
     "collapsed": false,
     "input": [
      "#Q3.3"
     ],
     "language": "python",
     "metadata": {},
     "outputs": [],
     "prompt_number": 11
    },
    {
     "cell_type": "markdown",
     "metadata": {},
     "source": [
      "### Q4 Improve\n",
      "Now you want to improve your recall and precision. You do that by trying out the effect of several parameters and of linguistic processing and corpus selection.\n",
      "\n",
      "For each of the _\"tweaks\"_ below, clearly describe why you thought it would help, and then if it did. Always compare to your baseline from the previous question. You can present the results easily in a table like this:\n",
      "\n",
      "| **system** | **recall** | **miss rate** \n",
      "| :-------: | ------: | -----:|\n",
      "| baseline | .45 | .35 |\n",
      "| stemming | |\n",
      "| lemmatization | | \n",
      "\n",
      "While tweaking it is of course good to look at the means, but also it is good to compare the effect of your tweaks on the individual category-topic pairs. It is handy to have a function for that.\n",
      "\n",
      "1. Use linguistic processing (stemming, lemmatization, part-of-speech tagging and selecting only words of specific type(s)), and show the effect of that on your recall and precision scores. \n",
      "1. Take a subset of the Reuters corpus, explain why you think that would improve your results, and show the effect. \n",
      "    * You can train the model on a subset, and also evaluate on a subset.\n",
      "1. Think of another parameter that you may tweak and show the effect."
     ]
    },
    {
     "cell_type": "code",
     "collapsed": false,
     "input": [
      "#Q4"
     ],
     "language": "python",
     "metadata": {},
     "outputs": [],
     "prompt_number": 12
    }
   ],
   "metadata": {}
  }
 ]
}